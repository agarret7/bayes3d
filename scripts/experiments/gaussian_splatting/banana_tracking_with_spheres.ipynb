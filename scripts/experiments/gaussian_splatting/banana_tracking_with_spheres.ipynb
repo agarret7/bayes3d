{
 "cells": [
  {
   "cell_type": "code",
   "execution_count": 1,
   "id": "21c391b5-2db3-45c7-834a-5c849b11ec72",
   "metadata": {},
   "outputs": [],
   "source": [
    "import bayes3d as b\n",
    "import trimesh\n",
    "import numpy as np\n",
    "import jax.numpy as jnp\n",
    "import jax\n",
    "import matplotlib.pyplot as plt\n",
    "def open3d_mesh_to_trimesh(mesh):\n",
    "    return trimesh.Trimesh(\n",
    "        vertices=np.asarray(mesh.vertices),\n",
    "        faces=np.asarray(mesh.triangles)\n",
    "    )"
   ]
  },
  {
   "cell_type": "code",
   "execution_count": 2,
   "id": "016df717-01f7-409d-89fa-b2bc2ebaaafe",
   "metadata": {},
   "outputs": [],
   "source": [
    "from bayes3d.rendering.nvdiffrast_jax.jax_renderer import Renderer as JaxRenderer\n",
    "intrinsics = b.Intrinsics(\n",
    "    height=200,\n",
    "    width=200,\n",
    "    fx=200.0, fy=200.0,\n",
    "    cx=100.0, cy=100.0,\n",
    "    near=0.1, far=3.5\n",
    ")\n",
    "jax_renderer = JaxRenderer(intrinsics)"
   ]
  },
  {
   "cell_type": "code",
   "execution_count": 3,
   "id": "ab1a1c86-bcce-416d-8c00-7412bf99e7f6",
   "metadata": {},
   "outputs": [],
   "source": [
    "import os\n",
    "model_dir = os.path.join(b.utils.get_assets_dir(),\"bop/ycbv/models\")\n",
    "idx = 10\n",
    "mesh_path = os.path.join(model_dir,\"obj_\" + \"{}\".format(idx).rjust(6, '0') + \".ply\")\n",
    "m = b.utils.load_mesh(mesh_path)\n",
    "mesh = b.utils.scale_mesh(m, 1.0/100.0)"
   ]
  },
  {
   "cell_type": "code",
   "execution_count": 109,
   "id": "0171d7f4-1dc9-47ce-be98-170bf72f2f56",
   "metadata": {},
   "outputs": [],
   "source": [
    "def xfm_points(points, matrix):\n",
    "    points = jnp.concatenate([points, jnp.ones((*points.shape[:-1],1))], axis=-1)\n",
    "    return jnp.matmul(points, matrix.T)\n",
    "\n",
    "projection_matrix = b.camera._open_gl_projection_matrix(\n",
    "    intrinsics.height, intrinsics.width, \n",
    "    intrinsics.fx, intrinsics.fy, \n",
    "    intrinsics.cx, intrinsics.cy, \n",
    "    intrinsics.near, intrinsics.far\n",
    ")\n",
    "self = jax_renderer\n",
    "gt_z = 2.0\n",
    "\n",
    "pose = b.transform_from_pos(jnp.array([0.0, 0.0, gt_z]))\n",
    "object_pose = pose\n",
    "vertices = mesh.vertices\n",
    "faces = mesh.faces\n",
    "final_mtx_proj = projection_matrix @ object_pose\n",
    "posw = jnp.concatenate([vertices, jnp.ones((*vertices.shape[:-1],1))], axis=-1)\n",
    "pos_clip_ja = xfm_points(vertices, final_mtx_proj)\n",
    "\n",
    "\n",
    "def render(z):\n",
    "    object_pose = b.transform_from_pos(jnp.array([0.0, 0.0, z]))\n",
    "    final_mtx_proj = projection_matrix @ object_pose\n",
    "    posw = jnp.concatenate([vertices, jnp.ones((*vertices.shape[:-1],1))], axis=-1)\n",
    "    pos_clip_ja = xfm_points(vertices, final_mtx_proj)\n",
    "    rast_out, rast_out_db = jax_renderer.rasterize(pos_clip_ja[None,...], faces, jnp.array([intrinsics.height, intrinsics.width]))\n",
    "    # return rast_out[...,3],rast_out[...,3], rast_out.sum(), rast_out\n",
    "    gb_pos,_ = jax_renderer.interpolate(posw[None,...], rast_out, faces, rast_out_db, jnp.array([0,1,2,3]))\n",
    "    mask = rast_out[..., -1] > 0\n",
    "    shape_keep = gb_pos.shape\n",
    "    gb_pos = gb_pos.reshape(shape_keep[0], -1, shape_keep[-1])\n",
    "    gb_pos = gb_pos[..., :3]\n",
    "    depth = xfm_points(gb_pos, pose)\n",
    "    depth = depth.reshape(shape_keep)[..., 2] * -1\n",
    "    return depth, mask, mask.sum(), rast_out\n",
    "    \n",
    "jax.clear_caches()\n",
    "render_jit = jax.jit(render)\n",
    "\n",
    "def loss(z, gt_img):\n",
    "    a,b,c,d = render(z)\n",
    "    return jnp.abs(gt_img - a).mean()\n",
    "\n",
    "grad_func = jax.value_and_grad(loss, argnums=(0,))\n",
    "grad_func_jit = jax.jit(grad_func)"
   ]
  },
  {
   "cell_type": "code",
   "execution_count": 110,
   "id": "960c38d3-6fc0-475e-abf7-dd7021f1d6f5",
   "metadata": {},
   "outputs": [
    {
     "name": "stdout",
     "output_type": "stream",
     "text": [
      "1 10710 4\n",
      "1 200 200\n",
      "15728\n",
      "4\n",
      "1 10710 4\n",
      "1 200 200\n",
      "15728\n",
      "4\n",
      "loss  0.0\n",
      "Entering fwd\n",
      "COmpleted fwd\n",
      "abstract shape, dtype= (1, 10710, 4) float32\n",
      "lowering shape, dtype= tensor<1x10710x4xf32>\n",
      "loss  (Array(0., dtype=float32), (Array(0.01067336, dtype=float32, weak_type=True),))\n"
     ]
    },
    {
     "data": {
      "image/png": "[encoded data removed]",
      "text/plain": [
       "<PIL.Image.Image image mode=RGB size=410x200>"
      ]
     },
     "execution_count": 110,
     "metadata": {},
     "output_type": "execute_result"
    }
   ],
   "source": [
    "gt_z = 2.2\n",
    "z = 2.5\n",
    "gt_img,gt_mask,tmp,_ = render_jit(gt_z)\n",
    "print(\"loss \", loss(gt_z, gt_img))\n",
    "print(\"loss \", grad_func(gt_z, gt_img))\n",
    "img, mask, _, _ = render_jit(z)\n",
    "b.hstack_images([b.get_depth_image(gt_img[0,...]), b.get_depth_image(img[0,...]*1.0)])\n"
   ]
  },
  {
   "cell_type": "code",
   "execution_count": 111,
   "id": "dbd64634-45a2-42a9-a417-35391af77765",
   "metadata": {},
   "outputs": [
    {
     "name": "stdout",
     "output_type": "stream",
     "text": [
      "Entering fwd\n",
      "COmpleted fwd\n",
      "loss  (Array(0.00434917, dtype=float32), (Array(-0.0316381, dtype=float32, weak_type=True),))\n",
      "Entering fwd\n",
      "COmpleted fwd\n",
      "1 10710 4\n",
      "1 200 200\n",
      "15728\n",
      "4\n",
      "lowering shape, dtype= tensor<1x10710x4xf32>\n",
      "loss jit  (Array(0.00434917, dtype=float32), (Array(-0.0316381, dtype=float32, weak_type=True),))\n",
      "loss  0.004349175\n",
      "loss  0.004349175\n"
     ]
    }
   ],
   "source": [
    "z = 2.1\n",
    "print(\"loss \", grad_func(z, gt_img))\n",
    "print(\"loss jit \", grad_func_jit(z, gt_img))\n",
    "print(\"loss \", jnp.abs(gt_img - render(z)[0]).mean())\n",
    "print(\"loss \", jnp.abs(gt_img - render_jit(z)[0]).mean())"
   ]
  },
  {
   "cell_type": "code",
   "execution_count": 101,
   "id": "8a46eb4a-0ec8-42b8-bf40-6dd6b761a330",
   "metadata": {},
   "outputs": [
    {
     "name": "stdout",
     "output_type": "stream",
     "text": [
      "Entering fwd\n",
      "COmpleted fwd\n"
     ]
    },
    {
     "ename": "TypeError",
     "evalue": "tuple indices must be integers or slices, not tuple",
     "output_type": "error",
     "traceback": [
      "\u001b[0;31m---------------------------------------------------------------------------\u001b[0m",
      "\u001b[0;31mTypeError\u001b[0m                                 Traceback (most recent call last)",
      "Cell \u001b[0;32mIn[101], line 2\u001b[0m\n\u001b[1;32m      1\u001b[0m \u001b[38;5;66;03m# print(jnp.all(grad_func_no_jit(gt_z, gt_img) == grad_func(gt_z, gt_img)))\u001b[39;00m\n\u001b[0;32m----> 2\u001b[0m \u001b[38;5;28mprint\u001b[39m(\u001b[38;5;124m\"\u001b[39m\u001b[38;5;124mgrad_func \u001b[39m\u001b[38;5;124m\"\u001b[39m, \u001b[43mgrad_func\u001b[49m\u001b[43m(\u001b[49m\u001b[43mgt_z\u001b[49m\u001b[43m,\u001b[49m\u001b[43m \u001b[49m\u001b[43mgt_img\u001b[49m\u001b[43m)\u001b[49m\u001b[43m[\u001b[49m\u001b[38;5;241;43m1\u001b[39;49m\u001b[43m]\u001b[49m\u001b[43m[\u001b[49m\u001b[43m:\u001b[49m\u001b[38;5;241;43m10\u001b[39;49m\u001b[43m,\u001b[49m\u001b[43m:\u001b[49m\u001b[38;5;241;43m10\u001b[39;49m\u001b[43m]\u001b[49m)\n\u001b[1;32m      3\u001b[0m \u001b[38;5;28mprint\u001b[39m(\u001b[38;5;124m\"\u001b[39m\u001b[38;5;124mgrad_func_no_jit \u001b[39m\u001b[38;5;124m\"\u001b[39m, grad_func_no_jit(gt_z, gt_img)[\u001b[38;5;241m1\u001b[39m][:\u001b[38;5;241m10\u001b[39m,:\u001b[38;5;241m10\u001b[39m])\n\u001b[1;32m      4\u001b[0m \u001b[38;5;28mprint\u001b[39m(\u001b[38;5;124m\"\u001b[39m\u001b[38;5;124mgrad_func \u001b[39m\u001b[38;5;124m\"\u001b[39m, grad_func(gt_z, gt_img)[\u001b[38;5;241m1\u001b[39m][:\u001b[38;5;241m10\u001b[39m,:\u001b[38;5;241m10\u001b[39m])\n",
      "\u001b[0;31mTypeError\u001b[0m: tuple indices must be integers or slices, not tuple"
     ]
    }
   ],
   "source": [
    "# print(jnp.all(grad_func_no_jit(gt_z, gt_img) == grad_func(gt_z, gt_img)))\n",
    "print(\"grad_func \", grad_func(gt_z, gt_img)[1][:10,:10])\n",
    "print(\"grad_func_no_jit \", grad_func_no_jit(gt_z, gt_img)[1][:10,:10])\n",
    "print(\"grad_func \", grad_func(gt_z, gt_img)[1][:10,:10])\n",
    "img, mask = grad_func(gt_z, gt_img)"
   ]
  },
  {
   "cell_type": "code",
   "execution_count": 40,
   "id": "29e58915-c716-4eea-a17c-6788ac32a361",
   "metadata": {},
   "outputs": [
    {
     "name": "stdout",
     "output_type": "stream",
     "text": [
      "[[-3.1 -3.1 -3.1 -3.1 -3.1 -3.1 -3.1 -3.1 -3.1 -3.1]\n",
      " [-3.1 -3.1 -3.1 -3.1 -3.1 -3.1 -3.1 -3.1 -3.1 -3.1]\n",
      " [-3.1 -3.1 -3.1 -3.1 -3.1 -3.1 -3.1 -3.1 -3.1 -3.1]\n",
      " [-3.1 -3.1 -3.1 -3.1 -3.1 -3.1 -3.1 -3.1 -3.1 -3.1]\n",
      " [-3.1 -3.1 -3.1 -3.1 -3.1 -3.1 -3.1 -3.1 -3.1 -3.1]\n",
      " [-3.1 -3.1 -3.1 -3.1 -3.1 -3.1 -3.1 -3.1 -3.1 -3.1]\n",
      " [-3.1 -3.1 -3.1 -3.1 -3.1 -3.1 -3.1 -3.1 -3.1 -3.1]\n",
      " [-3.1 -3.1 -3.1 -3.1 -3.1 -3.1 -3.1 -3.1 -3.1 -3.1]\n",
      " [-3.1 -3.1 -3.1 -3.1 -3.1 -3.1 -3.1 -3.1 -3.1 -3.1]\n",
      " [-3.1 -3.1 -3.1 -3.1 -3.1 -3.1 -3.1 -3.1 -3.1 -3.1]]\n",
      "[[-3.1 -3.1 -3.1 -3.1 -3.1 -3.1 -3.1 -3.1 -3.1 -3.1]\n",
      " [-3.1 -3.1 -3.1 -3.1 -3.1 -3.1 -3.1 -3.1 -3.1 -3.1]\n",
      " [-3.1 -3.1 -3.1 -3.1 -3.1 -3.1 -3.1 -3.1 -3.1 -3.1]\n",
      " [-3.1 -3.1 -3.1 -3.1 -3.1 -3.1 -3.1 -3.1 -3.1 -3.1]\n",
      " [-3.1 -3.1 -3.1 -3.1 -3.1 -3.1 -3.1 -3.1 -3.1 -3.1]\n",
      " [-3.1 -3.1 -3.1 -3.1 -3.1 -3.1 -3.1 -3.1 -3.1 -3.1]\n",
      " [-3.1 -3.1 -3.1 -3.1 -3.1 -3.1 -3.1 -3.1 -3.1 -3.1]\n",
      " [-3.1 -3.1 -3.1 -3.1 -3.1 -3.1 -3.1 -3.1 -3.1 -3.1]\n",
      " [-3.1 -3.1 -3.1 -3.1 -3.1 -3.1 -3.1 -3.1 -3.1 -3.1]\n",
      " [-3.1 -3.1 -3.1 -3.1 -3.1 -3.1 -3.1 -3.1 -3.1 -3.1]]\n"
     ]
    }
   ],
   "source": [
    "print(img[0,:10,:10])\n",
    "print(gt_img[0,:10,:10])"
   ]
  },
  {
   "cell_type": "code",
   "execution_count": null,
   "id": "ea63416e-8981-4f89-bcd3-9b4b55a0abb4",
   "metadata": {},
   "outputs": [],
   "source": [
    "grad_func(gt_z, gt_img)"
   ]
  },
  {
   "cell_type": "code",
   "execution_count": 83,
   "id": "befb651e-f96c-43aa-8b21-274feacbf4a2",
   "metadata": {},
   "outputs": [
    {
     "name": "stdout",
     "output_type": "stream",
     "text": [
      "loss  0.0\n",
      "New Plugin\n",
      "New Plugin\n",
      "New Plugin\n",
      "New Plugin\n",
      "grad_func  (Array(0.7484363, dtype=float32), (Array(0.03921415, dtype=float32, weak_type=True),))\n",
      "grad_func_no_jit  (Array(0., dtype=float32), (Array(0.08212008, dtype=float32, weak_type=True),))\n"
     ]
    }
   ],
   "source": [
    "def loss(z, gt_img):\n",
    "    pose = b.transform_from_pos(jnp.array([0.0, 0.0, z]))\n",
    "    img,_ = render(mesh.vertices, mesh.faces, pose, intrinsics, None)\n",
    "    return jnp.abs(gt_img - img).mean()\n",
    "grad_func = jax.jit(jax.value_and_grad(loss, argnums=(0,)))\n",
    "grad_func_no_jit = jax.value_and_grad(loss, argnums=(0,))\n",
    "print(\"loss \", loss(gt_z, gt_img))\n",
    "print(\"grad_func \", grad_func(gt_z, gt_img))\n",
    "print(\"grad_func_no_jit \", grad_func_no_jit(gt_z, gt_img))"
   ]
  },
  {
   "cell_type": "code",
   "execution_count": 86,
   "id": "a230d32d-ac56-4e09-8586-a5364f99774c",
   "metadata": {},
   "outputs": [
    {
     "name": "stderr",
     "output_type": "stream",
     "text": [
      "0.25600025057792664 z: 2.6366376876831055: 100%|██████████████████████████████████████████████████████████████████████████| 100/100 [00:08<00:00, 12.01it/s]\n"
     ]
    }
   ],
   "source": [
    "from tqdm import tqdm\n",
    "z = 2.5\n",
    "pbar = tqdm(range(100))\n",
    "for _ in pbar:\n",
    "    loss,grad =  grad_func_no_jit(z, gt_img)\n",
    "    z = z - 0.1 * grad[0]\n",
    "    pbar.set_description(f\"{loss} z: {z}\")"
   ]
  },
  {
   "cell_type": "code",
   "execution_count": 87,
   "id": "4d671699-75bd-4764-94d1-d355fbc73c05",
   "metadata": {},
   "outputs": [
    {
     "name": "stdout",
     "output_type": "stream",
     "text": [
      "0.4528703\n"
     ]
    },
    {
     "data": {
      "image/png": "[encoded data removed]",
      "text/plain": [
       "<PIL.Image.Image image mode=RGB size=200x200>"
      ]
     },
     "execution_count": 87,
     "metadata": {},
     "output_type": "execute_result"
    }
   ],
   "source": [
    "pose = b.transform_from_pos(jnp.array([0.0, 0.0, z]))\n",
    "img = jax_renderer.render(mesh.vertices, mesh.faces, pose, intrinsics, None)\n",
    "print(\n",
    "    jnp.abs(gt_img - img).mean()\n",
    ")\n",
    "b.get_depth_image(img[0,...])\n"
   ]
  },
  {
   "cell_type": "code",
   "execution_count": 42,
   "id": "2902fa46-24f6-464d-8eb9-e9e588df5bb5",
   "metadata": {},
   "outputs": [
    {
     "data": {
      "text/plain": [
       "(Array(0.20323582, dtype=float32),\n",
       " (Array(-0.09783504, dtype=float32, weak_type=True),))"
      ]
     },
     "execution_count": 42,
     "metadata": {},
     "output_type": "execute_result"
    }
   ],
   "source": [
    "grad_func(z)"
   ]
  },
  {
   "cell_type": "code",
   "execution_count": 39,
   "id": "ad285a1d-162e-479b-97e5-f4b72c37f296",
   "metadata": {},
   "outputs": [
    {
     "data": {
      "text/plain": [
       "Array(0., dtype=float32)"
      ]
     },
     "execution_count": 39,
     "metadata": {},
     "output_type": "execute_result"
    }
   ],
   "source": [
    "jnp.abs(gt_img - img).mean()"
   ]
  },
  {
   "cell_type": "code",
   "execution_count": 37,
   "id": "e7d9054a-4e40-4731-a9d9-29b46b2de7c6",
   "metadata": {},
   "outputs": [
    {
     "data": {
      "text/plain": [
       "(Array(0.20323582, dtype=float32),\n",
       " (Array(-0.09783504, dtype=float32, weak_type=True),))"
      ]
     },
     "execution_count": 37,
     "metadata": {},
     "output_type": "execute_result"
    }
   ],
   "source": [
    "grad_func(2.5)"
   ]
  },
  {
   "cell_type": "code",
   "execution_count": 2,
   "id": "6091e538-dc03-409e-a25e-87f0d7ed322f",
   "metadata": {},
   "outputs": [
    {
     "name": "stdout",
     "output_type": "stream",
     "text": [
      "You can open the visualizer by visiting the following URL:\n",
      "http://127.0.0.1:7040/static/\n"
     ]
    }
   ],
   "source": [
    "b.setup_visualizer()"
   ]
  },
  {
   "cell_type": "code",
   "execution_count": 5,
   "id": "1b70ed6c-4412-4b2e-ae33-ead00e6374fa",
   "metadata": {},
   "outputs": [
    {
     "name": "stdout",
     "output_type": "stream",
     "text": [
      "['mus', 'covs', 'choleskys', 'mean_colors', 'nums']\n",
      "(50, 3, 3)\n"
     ]
    }
   ],
   "source": [
    "mesh = open3d_mesh_to_trimesh(o3d.geometry.TriangleMesh.create_sphere(resolution=2))\n",
    "b.show_trimesh(\"tetra\", mesh)\n",
    "base_vertices = jnp.array(mesh.vertices)\n",
    "base_faces = jnp.array(mesh.faces)\n",
    "\n",
    "b.clear()\n",
    "b.show_cloud(\"1\",mesh.vertices)\n",
    "\n",
    "data = jnp.load(\"gaussians_banana.npz\")\n",
    "print(data.files)\n",
    "means  = data[\"mus\"]\n",
    "covs = data[\"choleskys\"]\n",
    "print(covs.shape)"
   ]
  },
  {
   "cell_type": "code",
   "execution_count": 7,
   "id": "5dd2d659-44a9-4c63-a730-8c302597ce95",
   "metadata": {},
   "outputs": [
    {
     "name": "stdout",
     "output_type": "stream",
     "text": [
      "(50, 6, 3)\n",
      "(50, 8, 3)\n"
     ]
    }
   ],
   "source": [
    "def get_transformed_vertices(center, cov):\n",
    "    return base_vertices @ (3.0 * cov.T) + center\n",
    "all_vertices = jax.vmap(get_transformed_vertices, in_axes=(0,0))(means, covs)\n",
    "print(all_vertices.shape)\n",
    "all_faces = (jnp.arange(all_vertices.shape[0]) * base_vertices.shape[0])[:,None, None] + base_faces[None,...]\n",
    "print(all_faces.shape)\n",
    "\n",
    "# mesh = trimesh.Trimesh(vertices=base_vertices.reshape(-1,3), faces=base_faces.reshape(-1,3))\n",
    "mesh = trimesh.Trimesh(vertices=all_vertices.reshape(-1,3), faces=all_faces.reshape(-1,3))\n",
    "\n",
    "b.clear()\n",
    "b.show_trimesh(\"1\",mesh)"
   ]
  },
  {
   "cell_type": "code",
   "execution_count": 8,
   "id": "117ef343-1510-49ba-a3a9-5b251d4ce99c",
   "metadata": {},
   "outputs": [],
   "source": []
  },
  {
   "cell_type": "code",
   "execution_count": 9,
   "id": "e6e90839-1333-4d88-ba18-05dc8ca4230a",
   "metadata": {},
   "outputs": [
    {
     "name": "stdout",
     "output_type": "stream",
     "text": [
      "New Plugin\n"
     ]
    }
   ],
   "source": [
    "jax_renderer = JaxRenderer(intrinsics)"
   ]
  },
  {
   "cell_type": "code",
   "execution_count": null,
   "id": "61a216a3-a050-480c-98a9-3ae8259c559f",
   "metadata": {},
   "outputs": [],
   "source": []
  },
  {
   "cell_type": "code",
   "execution_count": null,
   "id": "f8278c3f-1fe3-4eb5-8308-f5f765e9478f",
   "metadata": {},
   "outputs": [],
   "source": [
    "b.setup_renderer(intrinsics)"
   ]
  },
  {
   "cell_type": "code",
   "execution_count": null,
   "id": "b80a9b14-42fd-4d7e-b0da-9b233001b7f9",
   "metadata": {},
   "outputs": [],
   "source": [
    "import os\n",
    "model_dir = os.path.join(b.utils.get_assets_dir(),\"bop/ycbv/models\")\n",
    "idx = 10\n",
    "mesh_path = os.path.join(model_dir,\"obj_\" + \"{}\".format(idx).rjust(6, '0') + \".ply\")\n",
    "m = b.utils.load_mesh(mesh_path)\n",
    "m = b.utils.scale_mesh(m, 1.0/100.0)"
   ]
  },
  {
   "cell_type": "code",
   "execution_count": null,
   "id": "2617f5c9-bb39-48d6-abd2-e28e4535c182",
   "metadata": {},
   "outputs": [],
   "source": [
    "b.RENDERER.add_mesh_from_file(mesh_path, scaling_factor=1.0/100.0)"
   ]
  },
  {
   "cell_type": "code",
   "execution_count": null,
   "id": "c6574934-9a7e-49ca-ac39-22733c337e72",
   "metadata": {},
   "outputs": [],
   "source": [
    "pose = b.transform_from_pos(jnp.array([0.0, 0.0, 0.5]))\n",
    "img = b.RENDERER.render(pose[None,...], jnp.array([0]))\n",
    "print(img[...,2])\n",
    "b.get_depth_image(img[...,2])"
   ]
  },
  {
   "cell_type": "code",
   "execution_count": 28,
   "id": "55b778e9-ee65-4151-9b71-705d880be163",
   "metadata": {},
   "outputs": [
    {
     "name": "stdout",
     "output_type": "stream",
     "text": [
      "New Plugin\n"
     ]
    }
   ],
   "source": [
    "jax_renderer = JaxRenderer(intrinsics)\n",
    "def xfm_points(points, matrix):\n",
    "    points = jnp.concatenate([points, jnp.ones((*points.shape[:-1],1))], axis=-1)\n",
    "    return jnp.matmul(points, matrix.T)\n",
    "\n",
    "def render(vertices, faces, object_pose, projection_matrix):\n",
    "    final_mtx_proj = projection_matrix @ pose\n",
    "    posw = jnp.concatenate([vertices, jnp.ones((*vertices.shape[:-1],1))], axis=-1)\n",
    "    pos_clip_ja = xfm_points(vertices, final_mtx_proj)\n",
    "\n",
    "    rast_out, rast_out_db = jax_renderer.rasterize(pos_clip_ja[None,...], faces, jnp.array([intrinsics.height, intrinsics.width]))\n",
    "    gb_pos,_ = jax_renderer.interpolate(posw[None,...], rast_out, faces, rast_out_db, jnp.array([0,1,2,3]))\n",
    "    mask = rast_out[..., -1] > 0\n",
    "    shape_keep = gb_pos.shape\n",
    "    gb_pos = gb_pos.reshape(shape_keep[0], -1, shape_keep[-1])\n",
    "    gb_pos = gb_pos[..., :3]\n",
    "    depth = xfm_points(gb_pos, pose)\n",
    "    depth = depth.reshape(shape_keep)[..., 2] * -1\n",
    "    return -depth * mask + intrinsics.far * (1.0 - mask)\n",
    "    # rast_out, _ = jax_renderer.rasterize(new_cloud[None,...], jnp.array(b.RENDERER.meshes[0].faces), jnp.array([intrinsics.height, intrinsics.width]))\n"
   ]
  },
  {
   "cell_type": "code",
   "execution_count": 10,
   "id": "39187545-c804-439a-83f8-ee2a53e526e0",
   "metadata": {},
   "outputs": [
    {
     "ename": "NameError",
     "evalue": "name 'intrinsics' is not defined",
     "output_type": "error",
     "traceback": [
      "\u001b[0;31m---------------------------------------------------------------------------\u001b[0m",
      "\u001b[0;31mNameError\u001b[0m                                 Traceback (most recent call last)",
      "Cell \u001b[0;32mIn[10], line 2\u001b[0m\n\u001b[1;32m      1\u001b[0m proj \u001b[38;5;241m=\u001b[39m b\u001b[38;5;241m.\u001b[39mcamera\u001b[38;5;241m.\u001b[39m_open_gl_projection_matrix(\n\u001b[0;32m----> 2\u001b[0m     \u001b[43mintrinsics\u001b[49m\u001b[38;5;241m.\u001b[39mheight, intrinsics\u001b[38;5;241m.\u001b[39mwidth, \n\u001b[1;32m      3\u001b[0m     intrinsics\u001b[38;5;241m.\u001b[39mfx, intrinsics\u001b[38;5;241m.\u001b[39mfy, \n\u001b[1;32m      4\u001b[0m     intrinsics\u001b[38;5;241m.\u001b[39mcx, intrinsics\u001b[38;5;241m.\u001b[39mcy, \n\u001b[1;32m      5\u001b[0m     intrinsics\u001b[38;5;241m.\u001b[39mnear, intrinsics\u001b[38;5;241m.\u001b[39mfar\n\u001b[1;32m      6\u001b[0m )\n\u001b[1;32m      7\u001b[0m get_ipython()\u001b[38;5;241m.\u001b[39mrun_line_magic(\u001b[38;5;124m'\u001b[39m\u001b[38;5;124m%\u001b[39m\u001b[38;5;124mtime\u001b[39m\u001b[38;5;124m'\u001b[39m, \u001b[38;5;124m'\u001b[39m\u001b[38;5;124m'\u001b[39m)\n\u001b[1;32m      8\u001b[0m img \u001b[38;5;241m=\u001b[39m render(b\u001b[38;5;241m.\u001b[39mRENDERER\u001b[38;5;241m.\u001b[39mmeshes[\u001b[38;5;241m0\u001b[39m]\u001b[38;5;241m.\u001b[39mvertices, b\u001b[38;5;241m.\u001b[39mRENDERER\u001b[38;5;241m.\u001b[39mmeshes[\u001b[38;5;241m0\u001b[39m]\u001b[38;5;241m.\u001b[39mfaces, pose, proj)\n",
      "\u001b[0;31mNameError\u001b[0m: name 'intrinsics' is not defined"
     ]
    }
   ],
   "source": [
    "proj = b.camera._open_gl_projection_matrix(\n",
    "    intrinsics.height, intrinsics.width, \n",
    "    intrinsics.fx, intrinsics.fy, \n",
    "    intrinsics.cx, intrinsics.cy, \n",
    "    intrinsics.near, intrinsics.far\n",
    ")\n",
    "%%time\n",
    "img = render(b.RENDERER.meshes[0].vertices, b.RENDERER.meshes[0].faces, pose, proj)\n",
    "b.get_depth_image(img[0,...])"
   ]
  },
  {
   "cell_type": "code",
   "execution_count": 36,
   "id": "a06d9fee-2cd0-4360-9f26-1912cad190a1",
   "metadata": {},
   "outputs": [
    {
     "name": "stdout",
     "output_type": "stream",
     "text": [
      "CPU times: user 43.8 ms, sys: 4.85 ms, total: 48.6 ms\n",
      "Wall time: 41 ms\n"
     ]
    }
   ],
   "source": [
    "%%time\n",
    "img = render(b.RENDERER.meshes[0].vertices, b.RENDERER.meshes[0].faces, pose, proj)"
   ]
  },
  {
   "cell_type": "code",
   "execution_count": 262,
   "id": "3f3eac28-cb19-4b80-88d7-61a6cfdb59b7",
   "metadata": {},
   "outputs": [
    {
     "name": "stdout",
     "output_type": "stream",
     "text": [
      "[[-0.47551    -0.60295     0.55166     1.        ]\n",
      " [-0.49817002 -0.05815     0.41496     1.        ]\n",
      " [-0.3009     -0.85954005  0.37413     1.        ]\n",
      " ...\n",
      " [ 0.09810001  0.80452     0.61273     1.        ]\n",
      " [ 0.07996     0.84863     0.59165     1.        ]\n",
      " [ 0.10651     0.83125     0.60057     1.        ]]\n"
     ]
    }
   ],
   "source": [
    "cloud =b.apply_transform_jit(b.RENDERER.meshes[0].vertices, pose)\n",
    "b.show_cloud(\"1\",cloud)\n",
    "cloudw = b.add_homogenous_ones(cloud)\n",
    "print(cloudw)"
   ]
  },
  {
   "cell_type": "code",
   "execution_count": 263,
   "id": "c7b7fab0-34a0-467c-820d-522fcf1e660c",
   "metadata": {},
   "outputs": [
    {
     "name": "stdout",
     "output_type": "stream",
     "text": [
      "(10710, 4)\n",
      "[[-0.9482617  -1.2031417   0.297355    0.55166   ]\n",
      " [-0.99426526 -0.1142252   0.17204665  0.41496   ]\n",
      " [-0.5999294  -1.7172095   0.13461916  0.37413   ]\n",
      " ...\n",
      " [ 0.19926366  1.6121037   0.35333586  0.61273   ]\n",
      " [ 0.16287825  1.7002183   0.3340125   0.59165   ]\n",
      " [ 0.21602285  1.6655029   0.3421892   0.60057   ]]\n"
     ]
    }
   ],
   "source": [
    "proj = b.camera.getProjectionMatrix(intrinsics)\n",
    "proj = b.camera._open_gl_projection_matrix(\n",
    "    intrinsics.height, intrinsics.width, \n",
    "    intrinsics.fx, intrinsics.fy, \n",
    "    intrinsics.cx, intrinsics.cy, \n",
    "    intrinsics.near, intrinsics.far\n",
    ")\n",
    "new_cloud = cloudw @ proj.T\n",
    "print(new_cloud.shape)\n",
    "print(new_cloud)\n",
    "b.show_cloud(\"2\",new_cloud[:,:3] / new_cloud[:,3][...,None],color=b.RED)"
   ]
  },
  {
   "cell_type": "code",
   "execution_count": 264,
   "id": "5d66d397-3c68-42fd-b37e-ee8b3d8cad87",
   "metadata": {},
   "outputs": [
    {
     "name": "stdout",
     "output_type": "stream",
     "text": [
      "New Plugin\n"
     ]
    }
   ],
   "source": [
    "jax_renderer = JaxRenderer(intrinsics)"
   ]
  },
  {
   "cell_type": "code",
   "execution_count": 267,
   "id": "2625cc61-6737-4286-986b-9b2e26e244a4",
   "metadata": {},
   "outputs": [
    {
     "data": {
      "text/plain": [
       "Array([[2040., 2040., 2040., ...,    0.,    0.,    0.],\n",
       "       [2045., 2045., 2045., ...,    0.,    0.,    0.],\n",
       "       [2045., 2045., 2045., ...,    0.,    0.,    0.],\n",
       "       ...,\n",
       "       [5749., 5287., 5287., ...,    0.,    0.,    0.],\n",
       "       [5749., 5287., 5287., ...,    0.,    0.,    0.],\n",
       "       [5287., 5287., 5287., ...,    0.,    0.,    0.]], dtype=float32)"
      ]
     },
     "execution_count": 267,
     "metadata": {},
     "output_type": "execute_result"
    }
   ],
   "source": [
    "rast_out[0,...,-1]"
   ]
  },
  {
   "cell_type": "code",
   "execution_count": 269,
   "id": "0fbe03eb-42bc-4c6e-84b6-3f34cad0724f",
   "metadata": {},
   "outputs": [
    {
     "name": "stdout",
     "output_type": "stream",
     "text": [
      "49054730.0\n",
      "[    0.  2040.  2045.  2048.  2050.  2055.  2062.  2072.  2079.  2085.\n",
      "  2090.  2093.  2095.  2101.  2110.  2115.  2130.  2132.  2136.  2140.\n",
      "  2143.  2149.  2155.  2159.  2166.  2168.  2185.  2191.  2194.  2205.\n",
      "  2207.  2218.  2227.  2238.  2245.  2247.  2341.  2343.  2346.  2353.\n",
      "  2357.  2367.  2432.  2439.  2442.  2446.  2455.  2459.  2469.  2476.\n",
      "  2477.  2479.  2488.  2499.  2511.  2522.  2525.  2528.  2530.  2542.\n",
      "  2547.  2556.  2562.  2566.  2567.  2569.  2582.  2583.  2595.  2622.\n",
      "  2639.  2646.  2651.  2652.  2659.  2663.  2668.  2674.  2681.  2687.\n",
      "  2715.  2717.  2721.  2722.  2731.  2733.  2748.  2751.  2758.  2759.\n",
      "  2760.  2771.  2779.  2782.  2783.  2787.  2790.  2797.  2806.  2811.\n",
      "  2820.  2827.  2830.  2834.  2842.  2843.  2848.  2853.  2855.  2859.\n",
      "  2864.  2867.  2869.  2871.  2874.  2875.  2887.  2888.  2889.  2891.\n",
      "  2893.  2901.  2902.  2903.  2909.  2910.  2912.  2913.  2916.  2919.\n",
      "  2920.  2923.  2924.  2926.  2927.  2929.  2932.  2933.  2936.  2939.\n",
      "  2941.  2942.  2944.  2945.  3229.  3238.  3240.  3241.  3242.  3243.\n",
      "  3244.  3246.  3248.  3249.  3250.  3252.  3253.  3274.  3275.  3276.\n",
      "  3277.  3279.  3280.  3281.  3282.  3283.  3285.  3286.  3287.  3288.\n",
      "  3290.  3291.  3292.  3293.  3294.  3295.  3296.  3297.  3298.  3299.\n",
      "  3300.  3301.  3303.  3305.  3307.  3313.  3321.  3322.  3323.  3327.\n",
      "  3328.  3329.  3331.  3332.  3335.  3337.  3338.  3339.  3340.  3341.\n",
      "  3342.  3351.  3362.  3363.  3364.  3366.  3371.  3375.  3377.  3380.\n",
      "  3382.  3383.  3385.  3387.  3391.  3393.  3394.  3397.  3398.  3402.\n",
      "  3404.  3408.  3410.  3412.  3413.  3414.  3415.  3417.  3418.  3419.\n",
      "  3420.  3421.  3425.  3426.  3429.  3433.  3434.  3438.  3439.  3441.\n",
      "  3442.  3448.  3450.  3452.  3458.  3459.  3464.  3465.  3467.  3469.\n",
      "  3471.  3475.  3476.  3479.  3480.  3481.  3482.  3483.  3484.  3485.\n",
      "  3489.  3490.  3491.  3492.  3493.  3496.  3498.  3500.  3505.  3508.\n",
      "  3509.  3512.  3519.  3523.  3524.  3526.  3528.  3530.  3532.  3533.\n",
      "  3534.  3536.  3537.  3538.  3539.  3540.  3541.  3542.  3543.  3544.\n",
      "  3545.  3546.  3547.  4941.  4942.  4944.  4946.  4949.  4952.  4956.\n",
      "  4977.  4978.  4983.  4984.  4998.  5053.  5055.  5064.  5071.  5073.\n",
      "  5077.  5086.  5087.  5092.  5096.  5099.  5100.  5101.  5107.  5109.\n",
      "  5112.  5114.  5119.  5120.  5126.  5127.  5130.  5131.  5136.  5137.\n",
      "  5139.  5143.  5152.  5155.  5156.  5162.  5166.  5170.  5171.  5173.\n",
      "  5174.  5175.  5177.  5181.  5182.  5186.  5189.  5192.  5198.  5200.\n",
      "  5201.  5204.  5211.  5214.  5215.  5216.  5220.  5222.  5231.  5234.\n",
      "  5250.  5257.  5258.  5261.  5263.  5269.  5272.  5278.  5281.  5287.\n",
      "  5289.  5290.  5293.  5294.  5309.  5313.  5317.  5323.  5327.  5329.\n",
      "  5331.  5332.  5333.  5336.  5338.  5341.  5345.  5347.  5349.  5352.\n",
      "  5353.  5365.  5389.  5393.  5402.  5403.  5404.  5416.  5420.  5445.\n",
      "  5450.  5453.  5456.  5463.  5465.  5467.  5473.  5479.  5489.  5491.\n",
      "  5496.  5573.  5588.  5749.  8304.  8421.  8425.  8438.  8440.  8441.\n",
      "  8447.  8449.  8450.  8456.  8701.  8703.  8705.  8707.  8708.  8711.\n",
      "  8713.  8714.  8718.  8719.  8720.  8722.  8725.  8727.  8728.  8730.\n",
      "  8733.  8734.  8736.  8737.  8738.  8758.  8762.  8764.  8776.  8778.\n",
      "  8779.  8780.  8782.  8783.  8793.  8797.  8798.  8799.  8802.  8804.\n",
      "  8806.  8808.  8812.  8813.  8814.  8817.  8819.  8820.  8821.  8823.\n",
      "  8824.  8827.  8842.  8843.  8844.  8846.  8847.  8849.  8850.  8854.\n",
      "  8855. 10845. 10846. 10851. 10854. 10858. 10859. 10860. 10863. 10870.\n",
      " 10873. 10878. 10886. 10887. 10896. 10903. 10905. 10913. 10916. 10918.\n",
      " 10924. 10928. 10937. 10942. 10943. 10944. 10945. 10950. 10951. 10959.\n",
      " 10960. 10961. 10967. 10968. 10975. 10976. 10980. 10983. 10987. 10990.\n",
      " 10993. 10999. 11004. 11005. 11014. 11016. 11020. 11026. 11031. 11036.\n",
      " 11039. 11044. 11049. 11050. 11055. 11059. 11068. 11069. 11075. 11080.\n",
      " 11085. 11090. 11094. 11096. 11101. 11102. 11103. 11107. 11110. 11118.\n",
      " 11121. 11136. 11140. 11141. 11143. 11167. 11168. 11169. 11254. 11256.\n",
      " 11262. 11264. 11268. 11276. 11288. 11290. 11293. 11294. 11297. 11300.\n",
      " 11301. 11403. 11468. 11489. 11491. 11658. 11659. 12957. 12958. 12964.\n",
      " 12967. 13056. 13063. 13064. 13065. 13066. 13069.]\n"
     ]
    },
    {
     "data": {
      "text/plain": [
       "<matplotlib.colorbar.Colorbar at 0x7effb82b7670>"
      ]
     },
     "execution_count": 269,
     "metadata": {},
     "output_type": "execute_result"
    },
    {
     "data": {
      "image/png": "[encoded data removed]",
      "text/plain": [
       "<Figure size 480x480 with 2 Axes>"
      ]
     },
     "metadata": {},
     "output_type": "display_data"
    }
   ],
   "source": [
    "rast_out, _ = jax_renderer.rasterize(new_cloud[None,...], jnp.array(b.RENDERER.meshes[0].faces), jnp.array([intrinsics.height, intrinsics.width]))\n",
    "print(rast_out.sum())\n",
    "plt.matshow(rast_out[0,...,-1])\n",
    "print(jnp.unique(rast_out[0,...,-1]))\n",
    "plt.colorbar()"
   ]
  },
  {
   "cell_type": "code",
   "execution_count": 244,
   "id": "0ed4fc00-cbfa-4542-9cdc-266a73caac66",
   "metadata": {},
   "outputs": [
    {
     "data": {
      "text/plain": [
       "Array([[4039,    1, 1769],\n",
       "       [1767,    1, 4039],\n",
       "       [  35, 1427, 1424],\n",
       "       ...,\n",
       "       [6504, 7864, 7863],\n",
       "       [6470, 7865, 7842],\n",
       "       [6470, 6483, 7865]], dtype=int32)"
      ]
     },
     "execution_count": 244,
     "metadata": {},
     "output_type": "execute_result"
    }
   ],
   "source": [
    "jnp.array(b.RENDERER.meshes[0].faces)"
   ]
  },
  {
   "cell_type": "code",
   "execution_count": 188,
   "id": "87423a9b-1188-4d5b-a6db-4bf35d199a66",
   "metadata": {},
   "outputs": [],
   "source": [
    "x=1.0\n",
    "n=0.01\n",
    "f=5.0\n",
    "proj = np.array([[n/x,    0,            0,              0],\n",
    "                 [  0,  n/x,            0,              0],\n",
    "                 [  0,    0, -(f+n)/(f-n), -(2*f*n)/(f-n)],\n",
    "                 [  0,    0,           -1,              0]])\n",
    "new_cloud = b.apply_transform_jit(-cloud, proj.T)\n",
    "b.show_cloud(\"2\",new_cloud,color=b.RED)"
   ]
  },
  {
   "cell_type": "code",
   "execution_count": 176,
   "id": "1eb80088-92ef-41cb-977c-fca4f7c6b9c5",
   "metadata": {},
   "outputs": [
    {
     "data": {
      "text/plain": [
       "Array([[-0.95102   , -1.2059    ,  2.0390978 ],\n",
       "       [-0.99634004, -0.1163    ,  1.9018998 ],\n",
       "       [-0.6018    , -1.7190801 ,  1.860921  ],\n",
       "       ...,\n",
       "       [ 0.19620001,  1.60904   ,  2.1003904 ],\n",
       "       [ 0.15991999,  1.69726   ,  2.0792334 ],\n",
       "       [ 0.21302   ,  1.6625    ,  2.088186  ]], dtype=float32)"
      ]
     },
     "execution_count": 176,
     "metadata": {},
     "output_type": "execute_result"
    }
   ],
   "source": [
    "new_cloud"
   ]
  },
  {
   "cell_type": "code",
   "execution_count": null,
   "id": "9f706fe7-c3a8-445b-ad18-048277c71ec9",
   "metadata": {},
   "outputs": [],
   "source": []
  }
 ],
 "metadata": {
  "kernelspec": {
   "display_name": "Python 3 (ipykernel)",
   "language": "python",
   "name": "python3"
  },
  "language_info": {
   "codemirror_mode": {
    "name": "ipython",
    "version": 3
   },
   "file_extension": ".py",
   "mimetype": "text/x-python",
   "name": "python",
   "nbconvert_exporter": "python",
   "pygments_lexer": "ipython3",
   "version": "3.9.18"
  }
 },
 "nbformat": 4,
 "nbformat_minor": 5
}
