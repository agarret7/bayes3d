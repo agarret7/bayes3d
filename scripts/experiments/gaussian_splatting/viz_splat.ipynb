{
 "cells": [
  {
   "cell_type": "code",
   "execution_count": null,
   "metadata": {},
   "outputs": [],
   "source": []
  },
  {
   "cell_type": "code",
   "execution_count": 1,
   "metadata": {},
   "outputs": [],
   "source": [
    "import diff_gaussian_rasterization as dgr\n",
    "from diff_gaussian_rasterization import GaussianRasterizationSettings, GaussianRasterizer\n",
    "import torch\n",
    "import os\n",
    "import numpy as np\n",
    "import matplotlib.pyplot as plt\n",
    "import math\n",
    "from tqdm import tqdm\n",
    "import bayes3d as b\n",
    "import jax.numpy as jnp\n",
    "from random import randint\n",
    "import pytorch3d.transforms"
   ]
  },
  {
   "cell_type": "code",
   "execution_count": 2,
   "metadata": {},
   "outputs": [
    {
     "name": "stdout",
     "output_type": "stream",
     "text": [
      "You can open the visualizer by visiting the following URL:\n",
      "http://127.0.0.1:7000/static/\n"
     ]
    }
   ],
   "source": [
    "b.setup_visualizer()"
   ]
  },
  {
   "cell_type": "code",
   "execution_count": 3,
   "metadata": {},
   "outputs": [],
   "source": [
    "import meshcat.geometry as mg"
   ]
  },
  {
   "cell_type": "code",
   "execution_count": 4,
   "metadata": {},
   "outputs": [],
   "source": [
    "class Ellipsoid2(mg.Sphere):\n",
    "    \"\"\"\n",
    "    An Ellipsoid is treated as a Sphere of unit radius, with an affine\n",
    "    transformation applied to distort it into the ellipsoidal shape\n",
    "    \"\"\"\n",
    "    def __init__(self, transform):\n",
    "        super(Ellipsoid2, self).__init__(1.0)\n",
    "        self.transform = np.array(transform)\n",
    "\n",
    "    def intrinsic_transform(self):\n",
    "        return self.transform\n"
   ]
  },
  {
   "cell_type": "code",
   "execution_count": 5,
   "metadata": {},
   "outputs": [],
   "source": [
    "VISUALIZER = b.get_visualizer()"
   ]
  },
  {
   "cell_type": "code",
   "execution_count": 7,
   "metadata": {},
   "outputs": [],
   "source": [
    "from plyfile import PlyData, PlyElement\n",
    "path = \"/home/nishadgothoskar/gaussian-splatting/output/93d9b62d-d/point_cloud/iteration_30000/point_cloud.ply\"\n",
    "plydata = PlyData.read(path)\n",
    "\n",
    "xyz = np.stack((np.asarray(plydata.elements[0][\"x\"]),\n",
    "                np.asarray(plydata.elements[0][\"y\"]),\n",
    "                np.asarray(plydata.elements[0][\"z\"])),  axis=1)\n",
    "opacities = np.asarray(plydata.elements[0][\"opacity\"])[..., np.newaxis]\n",
    "\n",
    "features_dc = np.zeros((xyz.shape[0], 3, 1))\n",
    "features_dc[:, 0, 0] = np.asarray(plydata.elements[0][\"f_dc_0\"])\n",
    "features_dc[:, 1, 0] = np.asarray(plydata.elements[0][\"f_dc_1\"])\n",
    "features_dc[:, 2, 0] = np.asarray(plydata.elements[0][\"f_dc_2\"])\n",
    "\n",
    "\n",
    "scale_names = [p.name for p in plydata.elements[0].properties if p.name.startswith(\"scale_\")]\n",
    "scale_names = sorted(scale_names, key = lambda x: int(x.split('_')[-1]))\n",
    "scales = np.zeros((xyz.shape[0], len(scale_names)))\n",
    "for idx, attr_name in enumerate(scale_names):\n",
    "    scales[:, idx] = np.asarray(plydata.elements[0][attr_name])\n",
    "\n",
    "rot_names = [p.name for p in plydata.elements[0].properties if p.name.startswith(\"rot\")]\n",
    "rot_names = sorted(rot_names, key = lambda x: int(x.split('_')[-1]))\n",
    "rots = np.zeros((xyz.shape[0], len(rot_names)))\n",
    "for idx, attr_name in enumerate(rot_names):\n",
    "    rots[:, idx] = np.asarray(plydata.elements[0][attr_name])"
   ]
  },
  {
   "cell_type": "code",
   "execution_count": 15,
   "metadata": {},
   "outputs": [],
   "source": [
    "b.show_cloud(\"xyz\", xyz/ 5.0)"
   ]
  },
  {
   "cell_type": "code",
   "execution_count": 10,
   "metadata": {},
   "outputs": [
    {
     "data": {
      "text/plain": [
       "array([[-5.312956  ,  4.309359  , 27.713703  ],\n",
       "       [-5.312956  ,  4.309359  , 27.713703  ],\n",
       "       [-5.2696996 ,  4.190924  , 27.747124  ],\n",
       "       ...,\n",
       "       [-5.1862426 , -0.27020842, 24.046867  ],\n",
       "       [-3.6047409 , -0.74231774, 24.905943  ],\n",
       "       [-5.16791   , -0.2717039 , 24.058065  ]], dtype=float32)"
      ]
     },
     "execution_count": 10,
     "metadata": {},
     "output_type": "execute_result"
    }
   ],
   "source": [
    "xyz"
   ]
  },
  {
   "cell_type": "code",
   "execution_count": 19,
   "metadata": {},
   "outputs": [
    {
     "name": "stdout",
     "output_type": "stream",
     "text": [
      "[[ 3.  0.  0. 13.]\n",
      " [ 1.  1.  0.  6.]\n",
      " [ 2.  0.  1.  5.]\n",
      " [ 0.  0.  0.  1.]]\n"
     ]
    }
   ],
   "source": [
    "x = np.array([3.0, 1.0, 2.0])\n",
    "y = np.array([0.0, 1.0, 0.0])\n",
    "z = np.array([0.0, 0.0, 1.0])\n",
    "rot = np.hstack([x[:, None], y[:, None], z[:, None]])\n",
    "mat = np.eye(4)\n",
    "mat[:3,:3] = rot\n",
    "mat[:3,3] = np.array([13.0, 6.0, 5.0])\n",
    "mat\n",
    "print(mat)\n",
    "shape = Ellipsoid2(mat)\n",
    "VISUALIZER[\"1\"].set_object(shape)"
   ]
  },
  {
   "cell_type": "code",
   "execution_count": 16,
   "metadata": {},
   "outputs": [],
   "source": [
    "b.show_cloud(\"1\", np.zeros((10,3)))"
   ]
  },
  {
   "cell_type": "code",
   "execution_count": null,
   "metadata": {},
   "outputs": [],
   "source": []
  }
 ],
 "metadata": {
  "kernelspec": {
   "display_name": "bayes3d",
   "language": "python",
   "name": "python3"
  },
  "language_info": {
   "codemirror_mode": {
    "name": "ipython",
    "version": 3
   },
   "file_extension": ".py",
   "mimetype": "text/x-python",
   "name": "python",
   "nbconvert_exporter": "python",
   "pygments_lexer": "ipython3",
   "version": "3.9.18"
  }
 },
 "nbformat": 4,
 "nbformat_minor": 2
}
