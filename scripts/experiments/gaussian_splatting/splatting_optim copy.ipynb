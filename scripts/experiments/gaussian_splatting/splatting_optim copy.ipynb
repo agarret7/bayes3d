{
 "cells": [
  {
   "cell_type": "code",
   "execution_count": 1,
   "metadata": {},
   "outputs": [
    {
     "data": {
      "text/plain": [
       "device(type='cuda')"
      ]
     },
     "execution_count": 1,
     "metadata": {},
     "output_type": "execute_result"
    }
   ],
   "source": [
    "import diff_gaussian_rasterization as dgr\n",
    "from diff_gaussian_rasterization import GaussianRasterizationSettings, GaussianRasterizer\n",
    "import torch\n",
    "import os\n",
    "import numpy as np\n",
    "import matplotlib.pyplot as plt\n",
    "import math\n",
    "from tqdm import tqdm\n",
    "import bayes3d as b\n",
    "import jax.numpy as jnp\n",
    "from random import randint\n",
    "import pytorch3d.transforms\n",
    "device = torch.device(\"cuda\" if torch.cuda.is_available() else \"cpu\")\n",
    "device"
   ]
  },
  {
   "cell_type": "code",
   "execution_count": 2,
   "metadata": {},
   "outputs": [
    {
     "name": "stdout",
     "output_type": "stream",
     "text": [
      "You can open the visualizer by visiting the following URL:\n",
      "http://127.0.0.1:7006/static/\n"
     ]
    }
   ],
   "source": [
    "b.setup_visualizer()"
   ]
  },
  {
   "cell_type": "code",
   "execution_count": 3,
   "metadata": {},
   "outputs": [],
   "source": [
    "model_dir = os.path.join(b.utils.get_assets_dir(),\"bop/ycbv/models\")\n",
    "mesh_path = os.path.join(model_dir,\"obj_\" + \"{}\".format(14).rjust(6, '0') + \".ply\")\n",
    "mesh = b.utils.load_mesh(mesh_path)\n",
    "vertices = torch.tensor(np.array(jnp.array(mesh.vertices) / 1000.0),device=device)"
   ]
  },
  {
   "cell_type": "code",
   "execution_count": 4,
   "metadata": {},
   "outputs": [
    {
     "name": "stderr",
     "output_type": "stream",
     "text": [
      "/var/tmp/ipykernel_391632/2926322865.py:33: UserWarning: To copy construct from a tensor, it is recommended to use sourceTensor.clone().detach() or sourceTensor.clone().detach().requires_grad_(True), rather than torch.tensor(sourceTensor).\n",
      "  proj_matrix = torch.tensor(getProjectionMatrix(intrinsics), device=device)\n"
     ]
    }
   ],
   "source": [
    "intrinsics = b.Intrinsics(\n",
    "    height=100,\n",
    "    width=100,\n",
    "    fx=100.0, fy=100.0,\n",
    "    cx=50.0, cy=50.0,\n",
    "    near=0.01, far=2.5\n",
    ")\n",
    "fovX = jnp.arctan(intrinsics.width / 2 / intrinsics.fx) * 2\n",
    "fovY = jnp.arctan(intrinsics.height / 2 / intrinsics.fy) * 2\n",
    "tan_fovx = math.tan(fovX)\n",
    "tan_fovy = math.tan(fovY)\n",
    "\n",
    "\n",
    "def getProjectionMatrix(intrinsics):\n",
    "    top = intrinsics.near / intrinsics.fy * intrinsics.height / 2.0\n",
    "    bottom = -top\n",
    "    right = intrinsics.near / intrinsics.fy * intrinsics.height / 2.0\n",
    "    left = -right\n",
    "\n",
    "    P = torch.zeros(4, 4)\n",
    "\n",
    "    z_sign = 1.0\n",
    "\n",
    "    P[0, 0] = 2.0 * intrinsics.near / (right - left)\n",
    "    P[1, 1] = 2.0 * intrinsics.near / (top - bottom)\n",
    "    P[0, 2] = (right + left) / (right - left)\n",
    "    P[1, 2] = (top + bottom) / (top - bottom)\n",
    "    P[2, 2] = z_sign * (intrinsics.far + intrinsics.near) / (intrinsics.far - intrinsics.near)\n",
    "    P[2, 3] = -2.0 * (intrinsics.far * intrinsics.near) / (intrinsics.far - intrinsics.near)\n",
    "    P[3, 2] = z_sign\n",
    "    return torch.transpose(P, 0, 1)\n",
    "\n",
    "proj_matrix = torch.tensor(getProjectionMatrix(intrinsics), device=device)"
   ]
  },
  {
   "cell_type": "code",
   "execution_count": 5,
   "metadata": {},
   "outputs": [
    {
     "name": "stdout",
     "output_type": "stream",
     "text": [
      "tensor([[0.0000, 0.1000, 0.2000],\n",
      "        [0.0000, 0.1000, 0.2000],\n",
      "        [0.0000, 0.1000, 0.2000],\n",
      "        [0.0000, 0.1000, 0.2000],\n",
      "        [0.0000, 0.1000, 0.2000]], device='cuda:0')\n"
     ]
    }
   ],
   "source": [
    "def posevec_to_matrix(position, quat):\n",
    "    return torch.cat(\n",
    "        (\n",
    "            torch.cat((pytorch3d.transforms.quaternion_to_matrix(quat), position.unsqueeze(1)), 1),\n",
    "            torch.tensor([[0.0, 0.0, 0.0, 1.0]],device=device),\n",
    "        ),\n",
    "        0,\n",
    "    )\n",
    "def apply_transform(points, transform):\n",
    "    rels_ = torch.cat(\n",
    "        (\n",
    "            points,\n",
    "            torch.ones((points.shape[0], 1),  device=device),\n",
    "        ),\n",
    "        1,\n",
    "    )\n",
    "    return torch.einsum(\"ij, aj -> ai\", transform, rels_)[...,:3]\n",
    "position = torch.tensor([0.0, 0.1, 0.2], device=device)\n",
    "quat = torch.tensor([1.0, 0.1, 0.2, 0.3],device=device)\n",
    "points = torch.zeros((5,3), device = device)\n",
    "print(apply_transform(points, posevec_to_matrix(position, quat)))"
   ]
  },
  {
   "cell_type": "code",
   "execution_count": 6,
   "metadata": {},
   "outputs": [],
   "source": [
    "camera_pose = jnp.eye(4)\n",
    "view_matrix = torch.transpose(torch.tensor(np.array(b.inverse_pose(camera_pose))),0,1).cuda()\n",
    "raster_settings = GaussianRasterizationSettings(\n",
    "    image_height=int(intrinsics.height),\n",
    "    image_width=int(intrinsics.width),\n",
    "    tanfovx=tan_fovx,\n",
    "    tanfovy=tan_fovy,\n",
    "    bg=torch.tensor([intrinsics.far, intrinsics.far, intrinsics.far]).cuda(),\n",
    "    scale_modifier=1.0,\n",
    "    viewmatrix=view_matrix,\n",
    "    projmatrix=view_matrix @ proj_matrix,\n",
    "    sh_degree=1,\n",
    "    campos=torch.zeros(3).cuda(),\n",
    "    prefiltered=False,\n",
    "    debug=None\n",
    ")\n",
    "rasterizer = GaussianRasterizer(raster_settings=raster_settings)\n"
   ]
  },
  {
   "cell_type": "code",
   "execution_count": 7,
   "metadata": {},
   "outputs": [
    {
     "data": {
      "text/plain": [
       "torch.Size([16763, 3])"
      ]
     },
     "execution_count": 7,
     "metadata": {},
     "output_type": "execute_result"
    }
   ],
   "source": [
    "vertices.shape"
   ]
  },
  {
   "cell_type": "code",
   "execution_count": 8,
   "metadata": {},
   "outputs": [],
   "source": [
    "def render(pos,quat):\n",
    "    means3D = apply_transform(vertices, posevec_to_matrix(pos, quat))\n",
    "    N = means3D.shape[0]\n",
    "    means2D = torch.ones((N, 3),requires_grad=True, device=device)\n",
    "    opacity = torch.rand((N, 1),requires_grad=True,device=device)\n",
    "    scales = torch.tensor( 0.0025 * torch.rand((N, 3)),requires_grad=True,device=device)\n",
    "    rotations = torch.rand((N, 4),requires_grad=True,device=device)\n",
    "\n",
    "    data = rasterizer(\n",
    "        means3D = means3D,\n",
    "        means2D = means2D,\n",
    "        shs = None,\n",
    "        colors_precomp = means3D[:,2:3].repeat(1,3),\n",
    "        opacities = opacity,\n",
    "        scales = scales,\n",
    "        rotations = rotations\n",
    "    )\n",
    "    return data"
   ]
  },
  {
   "cell_type": "code",
   "execution_count": 9,
   "metadata": {},
   "outputs": [
    {
     "name": "stderr",
     "output_type": "stream",
     "text": [
      "/var/tmp/ipykernel_391632/667617267.py:2: UserWarning: To copy construct from a tensor, it is recommended to use sourceTensor.clone().detach() or sourceTensor.clone().detach().requires_grad_(True), rather than torch.tensor(sourceTensor).\n",
      "  quat =  torch.tensor(torch.rand(4,device=device) - 0.5,device=device)\n",
      "/var/tmp/ipykernel_391632/2615716263.py:6: UserWarning: To copy construct from a tensor, it is recommended to use sourceTensor.clone().detach() or sourceTensor.clone().detach().requires_grad_(True), rather than torch.tensor(sourceTensor).\n",
      "  scales = torch.tensor( 0.0025 * torch.rand((N, 3)),requires_grad=True,device=device)\n"
     ]
    },
    {
     "data": {
      "image/png": "[encoded data removed]",
      "text/plain": [
       "<PIL.Image.Image image mode=RGB size=100x100>"
      ]
     },
     "execution_count": 9,
     "metadata": {},
     "output_type": "execute_result"
    }
   ],
   "source": [
    "pos = torch.tensor([0.0, 0.0, 0.5],device=device)\n",
    "quat =  torch.tensor(torch.rand(4,device=device) - 0.5,device=device)\n",
    "\n",
    "color, radii, num_rendered, tiles_depth_sorted,gaussian_sorted,alpha_tensor=  render(pos, quat)\n",
    "depth_image = np.moveaxis(color.detach().cpu().numpy(),0,-1)[...,2]\n",
    "b.show_cloud(\"1\", b.unproject_depth_jit(depth_image, intrinsics).reshape(-1,3))\n",
    "viz_gt = b.get_depth_image(depth_image)\n",
    "viz_gt"
   ]
  },
  {
   "cell_type": "code",
   "execution_count": 23,
   "metadata": {},
   "outputs": [
    {
     "name": "stdout",
     "output_type": "stream",
     "text": [
      "24835\n",
      "torch.Size([24835])\n",
      "torch.Size([24835])\n",
      "torch.Size([24835])\n"
     ]
    }
   ],
   "source": [
    "print(num_rendered)\n",
    "print(tiles_depth_sorted.shape)\n",
    "print(gaussian_sorted.shape)\n",
    "print(alpha_tensor.shape)"
   ]
  },
  {
   "cell_type": "code",
   "execution_count": 21,
   "metadata": {},
   "outputs": [
    {
     "data": {
      "text/plain": [
       "[<matplotlib.lines.Line2D at 0x7f956c4a5d60>]"
      ]
     },
     "execution_count": 21,
     "metadata": {},
     "output_type": "execute_result"
    },
    {
     "data": {
      "image/png": "[encoded data removed]",
      "text/plain": [
       "<Figure size 640x480 with 1 Axes>"
      ]
     },
     "metadata": {},
     "output_type": "display_data"
    }
   ],
   "source": [
    "fig = plt.figure()\n",
    "plt.plot(alpha_tensor.detach().cpu().numpy())"
   ]
  },
  {
   "cell_type": "code",
   "execution_count": 14,
   "metadata": {},
   "outputs": [
    {
     "data": {
      "text/plain": [
       "tensor([ 69774986716,  69774986716,  69774986716,  ..., 104137094613,\n",
       "        104137100257, 104137100257])"
      ]
     },
     "execution_count": 14,
     "metadata": {},
     "output_type": "execute_result"
    }
   ],
   "source": [
    "tiles_depth_sorted"
   ]
  },
  {
   "cell_type": "code",
   "execution_count": 13,
   "metadata": {},
   "outputs": [
    {
     "data": {
      "text/plain": [
       "tensor([ 2639, 11498, 11499,  ..., 14579,  5808, 14576], dtype=torch.int32)"
      ]
     },
     "execution_count": 13,
     "metadata": {},
     "output_type": "execute_result"
    }
   ],
   "source": [
    "gaussian_sorted"
   ]
  },
  {
   "cell_type": "code",
   "execution_count": 12,
   "metadata": {},
   "outputs": [
    {
     "data": {
      "text/plain": [
       "tensor(16762, dtype=torch.int32)"
      ]
     },
     "execution_count": 12,
     "metadata": {},
     "output_type": "execute_result"
    }
   ],
   "source": [
    "gaussian_sorted.max()"
   ]
  },
  {
   "cell_type": "code",
   "execution_count": 39,
   "metadata": {},
   "outputs": [
    {
     "data": {
      "text/plain": [
       "tensor([ 69774669731,  69774669731,  69774669846,  ..., 104137279267,\n",
       "        104137280558, 104137280558])"
      ]
     },
     "execution_count": 39,
     "metadata": {},
     "output_type": "execute_result"
    }
   ],
   "source": [
    "tiles_depth_sorted"
   ]
  },
  {
   "cell_type": "code",
   "execution_count": 1,
   "metadata": {},
   "outputs": [
    {
     "ename": "NameError",
     "evalue": "name 'gaussian_sorted' is not defined",
     "output_type": "error",
     "traceback": [
      "\u001b[0;31m---------------------------------------------------------------------------\u001b[0m",
      "\u001b[0;31mNameError\u001b[0m                                 Traceback (most recent call last)",
      "\u001b[1;32m/home/nishadgothoskar/bayes3d/scripts/experiments/gaussian_splatting/splatting_optim copy.ipynb Cell 13\u001b[0m line \u001b[0;36m1\n\u001b[0;32m----> <a href='vscode-notebook-cell://ssh-remote%2B34.70.144.22/home/nishadgothoskar/bayes3d/scripts/experiments/gaussian_splatting/splatting_optim%20copy.ipynb#X15sdnNjb2RlLXJlbW90ZQ%3D%3D?line=0'>1</a>\u001b[0m gaussian_sorted\n",
      "\u001b[0;31mNameError\u001b[0m: name 'gaussian_sorted' is not defined"
     ]
    }
   ],
   "source": [
    "gaussian_sorted"
   ]
  },
  {
   "cell_type": "code",
   "execution_count": 31,
   "metadata": {},
   "outputs": [
    {
     "data": {
      "text/plain": [
       "tensor([ 69774669731,  69774669731,  69774669846,  ..., 104137279267,\n",
       "        104137280558, 104137280558])"
      ]
     },
     "execution_count": 31,
     "metadata": {},
     "output_type": "execute_result"
    }
   ],
   "source": [
    "tiles_depth_sorted"
   ]
  },
  {
   "cell_type": "code",
   "execution_count": 35,
   "metadata": {},
   "outputs": [
    {
     "data": {
      "text/plain": [
       "torch.Size([12227])"
      ]
     },
     "execution_count": 35,
     "metadata": {},
     "output_type": "execute_result"
    }
   ],
   "source": [
    "torch.unique(tiles_depth_sorted).shape"
   ]
  },
  {
   "cell_type": "code",
   "execution_count": 36,
   "metadata": {},
   "outputs": [
    {
     "data": {
      "text/plain": [
       "256"
      ]
     },
     "execution_count": 36,
     "metadata": {},
     "output_type": "execute_result"
    }
   ],
   "source": [
    "16*16"
   ]
  },
  {
   "cell_type": "code",
   "execution_count": 23,
   "metadata": {},
   "outputs": [
    {
     "data": {
      "text/plain": [
       "tensor(16762, dtype=torch.int32)"
      ]
     },
     "execution_count": 23,
     "metadata": {},
     "output_type": "execute_result"
    }
   ],
   "source": [
    "gaussian_sorted.max()"
   ]
  },
  {
   "cell_type": "code",
   "execution_count": 17,
   "metadata": {},
   "outputs": [
    {
     "data": {
      "text/plain": [
       "tensor([ 69774977559,  69774982546,  69774982546,  ..., 104137019522,\n",
       "        104137020161, 104137020161])"
      ]
     },
     "execution_count": 17,
     "metadata": {},
     "output_type": "execute_result"
    }
   ],
   "source": [
    "tiles_depth_sorted"
   ]
  },
  {
   "cell_type": "code",
   "execution_count": 8,
   "metadata": {},
   "outputs": [
    {
     "name": "stderr",
     "output_type": "stream",
     "text": [
      "/var/tmp/ipykernel_282961/1411759165.py:2: UserWarning: To copy construct from a tensor, it is recommended to use sourceTensor.clone().detach() or sourceTensor.clone().detach().requires_grad_(True), rather than torch.tensor(sourceTensor).\n",
      "  quat =  torch.tensor(torch.rand(4,device=device) - 0.5,device=device)\n",
      "/var/tmp/ipykernel_282961/2915196021.py:6: UserWarning: To copy construct from a tensor, it is recommended to use sourceTensor.clone().detach() or sourceTensor.clone().detach().requires_grad_(True), rather than torch.tensor(sourceTensor).\n",
      "  scales = torch.tensor( 0.0025 * torch.rand((N, 3)),requires_grad=True,device=device)\n"
     ]
    },
    {
     "ename": "ValueError",
     "evalue": "too many values to unpack (expected 2)",
     "output_type": "error",
     "traceback": [
      "\u001b[0;31m---------------------------------------------------------------------------\u001b[0m",
      "\u001b[0;31mValueError\u001b[0m                                Traceback (most recent call last)",
      "\u001b[1;32m/home/nishadgothoskar/bayes3d/scripts/experiments/gaussian_splatting/splatting_optim copy.ipynb Cell 8\u001b[0m line \u001b[0;36m4\n\u001b[1;32m      <a href='vscode-notebook-cell://ssh-remote%2B34.70.144.22/home/nishadgothoskar/bayes3d/scripts/experiments/gaussian_splatting/splatting_optim%20copy.ipynb#X10sdnNjb2RlLXJlbW90ZQ%3D%3D?line=0'>1</a>\u001b[0m pos \u001b[39m=\u001b[39m torch\u001b[39m.\u001b[39mtensor([\u001b[39m0.0\u001b[39m, \u001b[39m0.0\u001b[39m, \u001b[39m0.5\u001b[39m],device\u001b[39m=\u001b[39mdevice)\n\u001b[1;32m      <a href='vscode-notebook-cell://ssh-remote%2B34.70.144.22/home/nishadgothoskar/bayes3d/scripts/experiments/gaussian_splatting/splatting_optim%20copy.ipynb#X10sdnNjb2RlLXJlbW90ZQ%3D%3D?line=1'>2</a>\u001b[0m quat \u001b[39m=\u001b[39m  torch\u001b[39m.\u001b[39mtensor(torch\u001b[39m.\u001b[39mrand(\u001b[39m4\u001b[39m,device\u001b[39m=\u001b[39mdevice) \u001b[39m-\u001b[39m \u001b[39m0.5\u001b[39m,device\u001b[39m=\u001b[39mdevice)\n\u001b[0;32m----> <a href='vscode-notebook-cell://ssh-remote%2B34.70.144.22/home/nishadgothoskar/bayes3d/scripts/experiments/gaussian_splatting/splatting_optim%20copy.ipynb#X10sdnNjb2RlLXJlbW90ZQ%3D%3D?line=3'>4</a>\u001b[0m gt_rendered_image \u001b[39m=\u001b[39m  render(pos, quat)\u001b[39m.\u001b[39mdetach()\n\u001b[1;32m      <a href='vscode-notebook-cell://ssh-remote%2B34.70.144.22/home/nishadgothoskar/bayes3d/scripts/experiments/gaussian_splatting/splatting_optim%20copy.ipynb#X10sdnNjb2RlLXJlbW90ZQ%3D%3D?line=4'>5</a>\u001b[0m depth_image \u001b[39m=\u001b[39m np\u001b[39m.\u001b[39mmoveaxis(gt_rendered_image\u001b[39m.\u001b[39mdetach()\u001b[39m.\u001b[39mcpu()\u001b[39m.\u001b[39mnumpy(),\u001b[39m0\u001b[39m,\u001b[39m-\u001b[39m\u001b[39m1\u001b[39m)[\u001b[39m.\u001b[39m\u001b[39m.\u001b[39m\u001b[39m.\u001b[39m,\u001b[39m2\u001b[39m]\n\u001b[1;32m      <a href='vscode-notebook-cell://ssh-remote%2B34.70.144.22/home/nishadgothoskar/bayes3d/scripts/experiments/gaussian_splatting/splatting_optim%20copy.ipynb#X10sdnNjb2RlLXJlbW90ZQ%3D%3D?line=5'>6</a>\u001b[0m b\u001b[39m.\u001b[39mshow_cloud(\u001b[39m\"\u001b[39m\u001b[39m1\u001b[39m\u001b[39m\"\u001b[39m, b\u001b[39m.\u001b[39munproject_depth_jit(depth_image, intrinsics)\u001b[39m.\u001b[39mreshape(\u001b[39m-\u001b[39m\u001b[39m1\u001b[39m,\u001b[39m3\u001b[39m))\n",
      "\u001b[1;32m/home/nishadgothoskar/bayes3d/scripts/experiments/gaussian_splatting/splatting_optim copy.ipynb Cell 8\u001b[0m line \u001b[0;36m9\n\u001b[1;32m      <a href='vscode-notebook-cell://ssh-remote%2B34.70.144.22/home/nishadgothoskar/bayes3d/scripts/experiments/gaussian_splatting/splatting_optim%20copy.ipynb#X10sdnNjb2RlLXJlbW90ZQ%3D%3D?line=5'>6</a>\u001b[0m scales \u001b[39m=\u001b[39m torch\u001b[39m.\u001b[39mtensor( \u001b[39m0.0025\u001b[39m \u001b[39m*\u001b[39m torch\u001b[39m.\u001b[39mrand((N, \u001b[39m3\u001b[39m)),requires_grad\u001b[39m=\u001b[39m\u001b[39mTrue\u001b[39;00m,device\u001b[39m=\u001b[39mdevice)\n\u001b[1;32m      <a href='vscode-notebook-cell://ssh-remote%2B34.70.144.22/home/nishadgothoskar/bayes3d/scripts/experiments/gaussian_splatting/splatting_optim%20copy.ipynb#X10sdnNjb2RlLXJlbW90ZQ%3D%3D?line=6'>7</a>\u001b[0m rotations \u001b[39m=\u001b[39m torch\u001b[39m.\u001b[39mrand((N, \u001b[39m4\u001b[39m),requires_grad\u001b[39m=\u001b[39m\u001b[39mTrue\u001b[39;00m,device\u001b[39m=\u001b[39mdevice)\n\u001b[0;32m----> <a href='vscode-notebook-cell://ssh-remote%2B34.70.144.22/home/nishadgothoskar/bayes3d/scripts/experiments/gaussian_splatting/splatting_optim%20copy.ipynb#X10sdnNjb2RlLXJlbW90ZQ%3D%3D?line=8'>9</a>\u001b[0m gt_rendered_image, radii \u001b[39m=\u001b[39m rasterizer(\n\u001b[1;32m     <a href='vscode-notebook-cell://ssh-remote%2B34.70.144.22/home/nishadgothoskar/bayes3d/scripts/experiments/gaussian_splatting/splatting_optim%20copy.ipynb#X10sdnNjb2RlLXJlbW90ZQ%3D%3D?line=9'>10</a>\u001b[0m     means3D \u001b[39m=\u001b[39m means3D,\n\u001b[1;32m     <a href='vscode-notebook-cell://ssh-remote%2B34.70.144.22/home/nishadgothoskar/bayes3d/scripts/experiments/gaussian_splatting/splatting_optim%20copy.ipynb#X10sdnNjb2RlLXJlbW90ZQ%3D%3D?line=10'>11</a>\u001b[0m     means2D \u001b[39m=\u001b[39m means2D,\n\u001b[1;32m     <a href='vscode-notebook-cell://ssh-remote%2B34.70.144.22/home/nishadgothoskar/bayes3d/scripts/experiments/gaussian_splatting/splatting_optim%20copy.ipynb#X10sdnNjb2RlLXJlbW90ZQ%3D%3D?line=11'>12</a>\u001b[0m     shs \u001b[39m=\u001b[39m \u001b[39mNone\u001b[39;00m,\n\u001b[1;32m     <a href='vscode-notebook-cell://ssh-remote%2B34.70.144.22/home/nishadgothoskar/bayes3d/scripts/experiments/gaussian_splatting/splatting_optim%20copy.ipynb#X10sdnNjb2RlLXJlbW90ZQ%3D%3D?line=12'>13</a>\u001b[0m     colors_precomp \u001b[39m=\u001b[39m means3D[:,\u001b[39m2\u001b[39m:\u001b[39m3\u001b[39m]\u001b[39m.\u001b[39mrepeat(\u001b[39m1\u001b[39m,\u001b[39m3\u001b[39m),\n\u001b[1;32m     <a href='vscode-notebook-cell://ssh-remote%2B34.70.144.22/home/nishadgothoskar/bayes3d/scripts/experiments/gaussian_splatting/splatting_optim%20copy.ipynb#X10sdnNjb2RlLXJlbW90ZQ%3D%3D?line=13'>14</a>\u001b[0m     opacities \u001b[39m=\u001b[39m opacity,\n\u001b[1;32m     <a href='vscode-notebook-cell://ssh-remote%2B34.70.144.22/home/nishadgothoskar/bayes3d/scripts/experiments/gaussian_splatting/splatting_optim%20copy.ipynb#X10sdnNjb2RlLXJlbW90ZQ%3D%3D?line=14'>15</a>\u001b[0m     scales \u001b[39m=\u001b[39m scales,\n\u001b[1;32m     <a href='vscode-notebook-cell://ssh-remote%2B34.70.144.22/home/nishadgothoskar/bayes3d/scripts/experiments/gaussian_splatting/splatting_optim%20copy.ipynb#X10sdnNjb2RlLXJlbW90ZQ%3D%3D?line=15'>16</a>\u001b[0m     rotations \u001b[39m=\u001b[39m rotations\n\u001b[1;32m     <a href='vscode-notebook-cell://ssh-remote%2B34.70.144.22/home/nishadgothoskar/bayes3d/scripts/experiments/gaussian_splatting/splatting_optim%20copy.ipynb#X10sdnNjb2RlLXJlbW90ZQ%3D%3D?line=16'>17</a>\u001b[0m )\n\u001b[1;32m     <a href='vscode-notebook-cell://ssh-remote%2B34.70.144.22/home/nishadgothoskar/bayes3d/scripts/experiments/gaussian_splatting/splatting_optim%20copy.ipynb#X10sdnNjb2RlLXJlbW90ZQ%3D%3D?line=17'>18</a>\u001b[0m \u001b[39mreturn\u001b[39;00m gt_rendered_image\n",
      "\u001b[0;31mValueError\u001b[0m: too many values to unpack (expected 2)"
     ]
    }
   ],
   "source": [
    "pos = torch.tensor([0.0, 0.0, 0.5],device=device)\n",
    "quat =  torch.tensor(torch.rand(4,device=device) - 0.5,device=device)\n",
    "\n",
    "data =  render(pos, quat).detach()\n",
    "depth_image = np.moveaxis(gt_rendered_image.detach().cpu().numpy(),0,-1)[...,2]\n",
    "b.show_cloud(\"1\", b.unproject_depth_jit(depth_image, intrinsics).reshape(-1,3))\n",
    "viz_gt = b.get_depth_image(depth_image)\n",
    "viz_gt\n"
   ]
  },
  {
   "cell_type": "code",
   "execution_count": 130,
   "metadata": {},
   "outputs": [
    {
     "name": "stderr",
     "output_type": "stream",
     "text": [
      "/var/tmp/ipykernel_577859/758192653.py:2: UserWarning: To copy construct from a tensor, it is recommended to use sourceTensor.clone().detach() or sourceTensor.clone().detach().requires_grad_(True), rather than torch.tensor(sourceTensor).\n",
      "  quat =  torch.tensor(quat + torch.rand(4,device=device)*0.1,device=device, requires_grad=True)\n",
      "/var/tmp/ipykernel_577859/2915196021.py:6: UserWarning: To copy construct from a tensor, it is recommended to use sourceTensor.clone().detach() or sourceTensor.clone().detach().requires_grad_(True), rather than torch.tensor(sourceTensor).\n",
      "  scales = torch.tensor( 0.0025 * torch.rand((N, 3)),requires_grad=True,device=device)\n"
     ]
    },
    {
     "data": {
      "image/png": "[encoded data removed]",
      "text/plain": [
       "<PIL.Image.Image image mode=RGB size=210x100>"
      ]
     },
     "execution_count": 130,
     "metadata": {},
     "output_type": "execute_result"
    }
   ],
   "source": [
    "pos = torch.tensor([0.0, 0.0, 0.5],device=device, requires_grad=True)\n",
    "quat =  torch.tensor(quat + torch.rand(4,device=device)*0.1,device=device, requires_grad=True)\n",
    "rendered_image =  render(pos, quat)\n",
    "depth_image = np.moveaxis(rendered_image.detach().cpu().numpy(),0,-1)[...,2]\n",
    "b.show_cloud(\"1\", b.unproject_depth_jit(depth_image, intrinsics).reshape(-1,3))\n",
    "viz = b.get_depth_image(depth_image)\n",
    "parameters_over_time = []\n",
    "losses_over_time = []\n",
    "b.hstack_images([viz, viz_gt])\n"
   ]
  },
  {
   "cell_type": "code",
   "execution_count": 141,
   "metadata": {},
   "outputs": [
    {
     "name": "stderr",
     "output_type": "stream",
     "text": [
      "  0%|          | 0/25 [00:00<?, ?it/s]/var/tmp/ipykernel_577859/2915196021.py:6: UserWarning: To copy construct from a tensor, it is recommended to use sourceTensor.clone().detach() or sourceTensor.clone().detach().requires_grad_(True), rather than torch.tensor(sourceTensor).\n",
      "  scales = torch.tensor( 0.0025 * torch.rand((N, 3)),requires_grad=True,device=device)\n",
      "0.004769056104123592: 100%|██████████| 25/25 [00:00<00:00, 140.70it/s]\n"
     ]
    },
    {
     "data": {
      "image/png": "[encoded data removed]",
      "text/plain": [
       "<PIL.Image.Image image mode=RGB size=210x100>"
      ]
     },
     "execution_count": 141,
     "metadata": {},
     "output_type": "execute_result"
    }
   ],
   "source": [
    "\n",
    "optimizer = torch.optim.Adam([\n",
    "    {'params': [pos], 'lr': 0.0001, \"name\": \"pos\"},\n",
    "    {'params': [quat], 'lr': 0.001, \"name\": \"quat\"},\n",
    "], lr=0.0, eps=1e-15)\n",
    "\n",
    "\n",
    "pbar = tqdm(range(25))\n",
    "for _ in pbar:\n",
    "    rendered_image =  render(pos, quat)\n",
    "    loss = torch.abs(gt_rendered_image - rendered_image).mean()\n",
    "    optimizer.zero_grad()\n",
    "    loss.backward()\n",
    "    optimizer.step()\n",
    "    parameters_over_time.append((pos.detach().clone(),quat.detach().clone()))\n",
    "    losses_over_time.append(loss.item())\n",
    "    pbar.set_description(f\"{loss.item()}\")\n",
    "\n",
    "depth_image = np.moveaxis(rendered_image.detach().cpu().numpy(),0,-1)[...,2]\n",
    "b.show_cloud(\"1\", b.unproject_depth_jit(depth_image, intrinsics).reshape(-1,3))\n",
    "viz = b.get_depth_image(depth_image)\n",
    "b.hstack_images([viz, viz_gt])\n",
    "\n"
   ]
  },
  {
   "cell_type": "code",
   "execution_count": null,
   "metadata": {},
   "outputs": [],
   "source": []
  },
  {
   "cell_type": "code",
   "execution_count": 142,
   "metadata": {},
   "outputs": [
    {
     "name": "stderr",
     "output_type": "stream",
     "text": [
      "/var/tmp/ipykernel_577859/2915196021.py:6: UserWarning: To copy construct from a tensor, it is recommended to use sourceTensor.clone().detach() or sourceTensor.clone().detach().requires_grad_(True), rather than torch.tensor(sourceTensor).\n",
      "  scales = torch.tensor( 0.0025 * torch.rand((N, 3)),requires_grad=True,device=device)\n",
      "100%|██████████| 92/92 [00:23<00:00,  3.84it/s]\n"
     ]
    },
    {
     "data": {
      "image/png": "[encoded data removed]",
      "text/plain": [
       "<PIL.Image.Image image mode=RGBA size=600x600>"
      ]
     },
     "execution_count": 142,
     "metadata": {},
     "output_type": "execute_result"
    },
    {
     "data": {
      "image/png": "[encoded data removed]",
      "text/plain": [
       "<Figure size 600x600 with 3 Axes>"
      ]
     },
     "metadata": {},
     "output_type": "display_data"
    }
   ],
   "source": [
    "T = 0\n",
    "fig = plt.figure(figsize=(6,6))\n",
    "ax = fig.add_subplot(2,2,1)\n",
    "ax.set_title(\"Target\")\n",
    "gt_image = np.moveaxis(gt_rendered_image.detach().cpu().numpy(),0,-1)[...,2]\n",
    "img1 = ax.imshow(b.preprocess_for_viz(gt_image),cmap=b.cmap)\n",
    "ax = fig.add_subplot(2,2,2)\n",
    "parameters = parameters_over_time[T]\n",
    "rendered_image = render(*parameters)\n",
    "rendered_image = np.moveaxis(rendered_image.detach().cpu().numpy(),0,-1)[...,2]\n",
    "img2 = ax.imshow(b.preprocess_for_viz(rendered_image),cmap=b.cmap)\n",
    "title = ax.set_title(f\"Reconstruction\")\n",
    "ax = fig.add_subplot(2,1,2)\n",
    "line = ax.plot(jnp.arange(T), losses_over_time[:T])\n",
    "# ax.set_yscale(\"log\")\n",
    "ax.set_title(\"Pixelwise MSE Loss\")\n",
    "# ax.set_ylim(0.01, 1000.0)\n",
    "ax.set_xlabel(\"Iteration\")\n",
    "ax.set_xlim(0,len(losses_over_time))\n",
    "fig.tight_layout()\n",
    "\n",
    "buffs = []\n",
    "for T in tqdm(range(0,len(losses_over_time),3)):\n",
    "    parameters = parameters_over_time[T]\n",
    "    rendered_image = render(*parameters)\n",
    "    rendered_image = np.moveaxis(rendered_image.detach().cpu().numpy(),0,-1)[...,2]\n",
    "    img2.set_array(b.preprocess_for_viz(rendered_image))\n",
    "    line[0].set_xdata(jnp.arange(T))\n",
    "    line[0].set_ydata(losses_over_time[:T])\n",
    "    fig.canvas.draw()\n",
    "    buffs.append(b.pil_image_from_matplotlib(fig))\n",
    "buffs[-1]"
   ]
  },
  {
   "cell_type": "code",
   "execution_count": 143,
   "metadata": {},
   "outputs": [],
   "source": [
    "b.make_gif_from_pil_images(buffs, \"optimization.gif\")"
   ]
  },
  {
   "cell_type": "code",
   "execution_count": null,
   "metadata": {},
   "outputs": [],
   "source": []
  },
  {
   "cell_type": "code",
   "execution_count": null,
   "metadata": {},
   "outputs": [],
   "source": []
  }
 ],
 "metadata": {
  "kernelspec": {
   "display_name": "bayes3d",
   "language": "python",
   "name": "python3"
  },
  "language_info": {
   "codemirror_mode": {
    "name": "ipython",
    "version": 3
   },
   "file_extension": ".py",
   "mimetype": "text/x-python",
   "name": "python",
   "nbconvert_exporter": "python",
   "pygments_lexer": "ipython3",
   "version": "3.9.18"
  }
 },
 "nbformat": 4,
 "nbformat_minor": 2
}
