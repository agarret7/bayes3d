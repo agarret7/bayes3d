{
 "cells": [
  {
   "cell_type": "code",
   "execution_count": 1,
   "metadata": {},
   "outputs": [],
   "source": [
    "import diff_gaussian_rasterization as dgr\n",
    "from diff_gaussian_rasterization import GaussianRasterizationSettings, GaussianRasterizer\n",
    "import torch\n",
    "import os\n",
    "import numpy as np\n",
    "import matplotlib.pyplot as plt\n",
    "import math\n",
    "from tqdm import tqdm\n",
    "import bayes3d as b\n",
    "import jax.numpy as jnp\n",
    "from random import randint\n",
    "import pytorch3d.transforms\n",
    "import jax\n",
    "device = torch.device(\"cuda\" if torch.cuda.is_available() else \"cpu\")"
   ]
  },
  {
   "cell_type": "code",
   "execution_count": 2,
   "metadata": {},
   "outputs": [
    {
     "name": "stdout",
     "output_type": "stream",
     "text": [
      "You can open the visualizer by visiting the following URL:\n",
      "http://127.0.0.1:7012/static/\n"
     ]
    }
   ],
   "source": [
    "b.setup_visualizer()"
   ]
  },
  {
   "cell_type": "code",
   "execution_count": 116,
   "metadata": {},
   "outputs": [],
   "source": [
    "intrinsics = b.Intrinsics(\n",
    "    height=100,\n",
    "    width=100,\n",
    "    fx=100.0, fy=100.0,\n",
    "    cx=50.0, cy=50.0,\n",
    "    near=0.01, far=1.75\n",
    ")\n",
    "fovX = jnp.arctan(intrinsics.width / 2 / intrinsics.fx) * 2\n",
    "fovY = jnp.arctan(intrinsics.height / 2 / intrinsics.fy) * 2\n",
    "tan_fovx = math.tan(fovX)\n",
    "tan_fovy = math.tan(fovY)\n",
    "\n",
    "def render_jax(means3D_jax, opacity_jax, scales_jax, rotations_jax, camera_pose_jax, obs_image_jax, intrinsics):\n",
    "    N = means3D_jax.shape[0]\n",
    "\n",
    "    means3D = torch.tensor(b.utils.jax_to_torch(means3D_jax), requires_grad=True)\n",
    "    scales = torch.tensor(b.utils.jax_to_torch(scales_jax), requires_grad=True)\n",
    "    rotations = torch.tensor(b.utils.jax_to_torch(rotations_jax), requires_grad=True)\n",
    "    opacity = torch.tensor(b.utils.jax_to_torch(opacity_jax), requires_grad=True)\n",
    "\n",
    "    means2D = torch.tensor(torch.rand((N, 3)),requires_grad=True,device=device)\n",
    "    \n",
    "    proj_matrix = b.utils.jax_to_torch(b.camera.getProjectionMatrix(intrinsics))\n",
    "    view_matrix = torch.transpose(torch.tensor(np.array(b.inverse_pose(camera_pose_jax))),0,1).cuda()\n",
    "    raster_settings = GaussianRasterizationSettings(\n",
    "        image_height=int(intrinsics.height),\n",
    "        image_width=int(intrinsics.width),\n",
    "        tanfovx=tan_fovx,\n",
    "        tanfovy=tan_fovy,\n",
    "        bg=torch.tensor([intrinsics.far, intrinsics.far, intrinsics.far]).cuda(),\n",
    "        scale_modifier=1.0,\n",
    "        viewmatrix=view_matrix,\n",
    "        projmatrix=view_matrix @ proj_matrix,\n",
    "        sh_degree=0,\n",
    "        campos=torch.zeros(3).cuda(),\n",
    "        prefiltered=False,\n",
    "        debug=None\n",
    "    )\n",
    "    rasterizer = GaussianRasterizer(raster_settings=raster_settings)\n",
    "\n",
    "    gt_rendered_image, radii = rasterizer(\n",
    "        means3D = means3D,\n",
    "        means2D = means2D,\n",
    "        shs = None,\n",
    "        colors_precomp = means3D[:,2:3].repeat(1,3),\n",
    "        opacities = torch.sigmoid(opacity),\n",
    "        scales = torch.exp(scales),\n",
    "        rotations = rotations\n",
    "    )\n",
    "    obs_image = b.utils.jax_to_torch(obs_image_jax)\n",
    "    loss = torch.abs(gt_rendered_image - obs_image).mean()\n",
    "    loss.backward()\n",
    "\n",
    "\n",
    "    return b.utils.torch_to_jax(gt_rendered_image[2,...]), b.utils.torch_to_jax(means3D.grad), b.utils.torch_to_jax(opacity.grad), loss\n",
    "\n"
   ]
  },
  {
   "cell_type": "code",
   "execution_count": 114,
   "metadata": {},
   "outputs": [
    {
     "name": "stdout",
     "output_type": "stream",
     "text": [
      "Increasing frame buffer size to (width, height, depth) = (128, 128, 1024)\n"
     ]
    },
    {
     "name": "stderr",
     "output_type": "stream",
     "text": [
      "[E rasterize_gl.cpp:121] OpenGL version reported as 4.6\n"
     ]
    }
   ],
   "source": [
    "b.setup_renderer(intrinsics)\n",
    "model_dir = os.path.join(b.utils.get_assets_dir(),\"bop/ycbv/models\")\n",
    "mesh_path = os.path.join(model_dir,\"obj_\" + \"{}\".format(17).rjust(6, '0') + \".ply\")\n",
    "b.RENDERER.add_mesh_from_file(mesh_path, scaling_factor=1.0/1000.0)"
   ]
  },
  {
   "cell_type": "code",
   "execution_count": 115,
   "metadata": {},
   "outputs": [
    {
     "data": {
      "image/png": "[encoded data removed]",
      "text/plain": [
       "<PIL.Image.Image image mode=RGB size=320x100>"
      ]
     },
     "execution_count": 115,
     "metadata": {},
     "output_type": "execute_result"
    }
   ],
   "source": [
    "object_pose = b.transform_from_pos(jnp.array([0.0, 0.0, 0.3]))\n",
    "camera_poses = [jnp.eye(4), b.transform_from_axis_angle(jnp.array([1.0, 0.0, 0.0]), jnp.pi/40), b.transform_from_axis_angle(jnp.array([1.0, 0.0, 0.0]), jnp.pi/20)]\n",
    "\n",
    "point_cloud_images = [b.RENDERER.render(b.inverse_pose(cp) @ object_pose[None,...], jnp.array([0])) for cp in camera_poses]\n",
    "gt_images = [torch.tensor(np.array(gt_img[...,2]),device=device).detach() for gt_img in point_cloud_images]\n",
    "gt_images_stacked = torch.stack(gt_images)\n",
    "b.hstack_images([b.get_depth_image(img[:,:,2]) for img in point_cloud_images])"
   ]
  },
  {
   "cell_type": "code",
   "execution_count": 126,
   "metadata": {},
   "outputs": [
    {
     "name": "stderr",
     "output_type": "stream",
     "text": [
      "/var/tmp/ipykernel_324201/3699069702.py:16: UserWarning: To copy construct from a tensor, it is recommended to use sourceTensor.clone().detach() or sourceTensor.clone().detach().requires_grad_(True), rather than torch.tensor(sourceTensor).\n",
      "  means3D = torch.tensor(b.utils.jax_to_torch(means3D_jax), requires_grad=True)\n",
      "/var/tmp/ipykernel_324201/3699069702.py:17: UserWarning: To copy construct from a tensor, it is recommended to use sourceTensor.clone().detach() or sourceTensor.clone().detach().requires_grad_(True), rather than torch.tensor(sourceTensor).\n",
      "  scales = torch.tensor(b.utils.jax_to_torch(scales_jax), requires_grad=True)\n",
      "/var/tmp/ipykernel_324201/3699069702.py:18: UserWarning: To copy construct from a tensor, it is recommended to use sourceTensor.clone().detach() or sourceTensor.clone().detach().requires_grad_(True), rather than torch.tensor(sourceTensor).\n",
      "  rotations = torch.tensor(b.utils.jax_to_torch(rotations_jax), requires_grad=True)\n",
      "/var/tmp/ipykernel_324201/3699069702.py:19: UserWarning: To copy construct from a tensor, it is recommended to use sourceTensor.clone().detach() or sourceTensor.clone().detach().requires_grad_(True), rather than torch.tensor(sourceTensor).\n",
      "  opacity = torch.tensor(b.utils.jax_to_torch(opacity_jax), requires_grad=True)\n",
      "/var/tmp/ipykernel_324201/3699069702.py:21: UserWarning: To copy construct from a tensor, it is recommended to use sourceTensor.clone().detach() or sourceTensor.clone().detach().requires_grad_(True), rather than torch.tensor(sourceTensor).\n",
      "  means2D = torch.tensor(torch.rand((N, 3)),requires_grad=True,device=device)\n"
     ]
    },
    {
     "data": {
      "image/png": "[encoded data removed]",
      "text/plain": [
       "<PIL.Image.Image image mode=RGB size=320x100>"
      ]
     },
     "execution_count": 126,
     "metadata": {},
     "output_type": "execute_result"
    }
   ],
   "source": [
    "point_cloud_image = point_cloud_images[0][...,:3]\n",
    "point_cloud = point_cloud_image.reshape(-1,3)\n",
    "point_cloud_not_far = point_cloud[point_cloud[:,2] < intrinsics.far, :]\n",
    "means3D = jnp.tile(point_cloud_not_far, (5,1))\n",
    "N = means3D.shape[0]\n",
    "opacity, scales, rotations = jnp.ones((N,1)), jnp.ones((N,3))  - 20.0, jnp.ones((N,4)) \n",
    "\n",
    "imgs = [render_jax(means3D, opacity, scales, rotations, camera_pose, point_cloud_images[0][...,2],intrinsics)[0] for camera_pose in camera_poses ]\n",
    "b.clear()\n",
    "b.show_cloud(\"gt\",b.unproject_depth_jit(point_cloud_images[0][...,2], intrinsics).reshape(-1,3)) \n",
    "b.show_cloud(\"reconstruction\",b.unproject_depth_jit(imgs[0], intrinsics).reshape(-1,3),color=b.BLUE) \n",
    "b.hstack_images([b.get_depth_image(d) for d in imgs])"
   ]
  },
  {
   "cell_type": "code",
   "execution_count": 128,
   "metadata": {},
   "outputs": [
    {
     "name": "stderr",
     "output_type": "stream",
     "text": [
      "/var/tmp/ipykernel_324201/3699069702.py:16: UserWarning: To copy construct from a tensor, it is recommended to use sourceTensor.clone().detach() or sourceTensor.clone().detach().requires_grad_(True), rather than torch.tensor(sourceTensor).\n",
      "  means3D = torch.tensor(b.utils.jax_to_torch(means3D_jax), requires_grad=True)\n",
      "/var/tmp/ipykernel_324201/3699069702.py:17: UserWarning: To copy construct from a tensor, it is recommended to use sourceTensor.clone().detach() or sourceTensor.clone().detach().requires_grad_(True), rather than torch.tensor(sourceTensor).\n",
      "  scales = torch.tensor(b.utils.jax_to_torch(scales_jax), requires_grad=True)\n",
      "/var/tmp/ipykernel_324201/3699069702.py:18: UserWarning: To copy construct from a tensor, it is recommended to use sourceTensor.clone().detach() or sourceTensor.clone().detach().requires_grad_(True), rather than torch.tensor(sourceTensor).\n",
      "  rotations = torch.tensor(b.utils.jax_to_torch(rotations_jax), requires_grad=True)\n",
      "/var/tmp/ipykernel_324201/3699069702.py:19: UserWarning: To copy construct from a tensor, it is recommended to use sourceTensor.clone().detach() or sourceTensor.clone().detach().requires_grad_(True), rather than torch.tensor(sourceTensor).\n",
      "  opacity = torch.tensor(b.utils.jax_to_torch(opacity_jax), requires_grad=True)\n",
      "/var/tmp/ipykernel_324201/3699069702.py:21: UserWarning: To copy construct from a tensor, it is recommended to use sourceTensor.clone().detach() or sourceTensor.clone().detach().requires_grad_(True), rather than torch.tensor(sourceTensor).\n",
      "  means2D = torch.tensor(torch.rand((N, 3)),requires_grad=True,device=device)\n"
     ]
    },
    {
     "name": "stdout",
     "output_type": "stream",
     "text": [
      "tensor(0.0210, device='cuda:0', grad_fn=<MeanBackward0>)\n",
      "tensor(0.0211, device='cuda:0', grad_fn=<MeanBackward0>)\n",
      "tensor(0.0214, device='cuda:0', grad_fn=<MeanBackward0>)\n",
      "tensor(0.0207, device='cuda:0', grad_fn=<MeanBackward0>)\n",
      "tensor(0.0210, device='cuda:0', grad_fn=<MeanBackward0>)\n",
      "tensor(0.0210, device='cuda:0', grad_fn=<MeanBackward0>)\n",
      "tensor(0.0212, device='cuda:0', grad_fn=<MeanBackward0>)\n",
      "tensor(0.0207, device='cuda:0', grad_fn=<MeanBackward0>)\n",
      "tensor(0.0210, device='cuda:0', grad_fn=<MeanBackward0>)\n",
      "tensor(0.0206, device='cuda:0', grad_fn=<MeanBackward0>)\n",
      "tensor(0.0209, device='cuda:0', grad_fn=<MeanBackward0>)\n",
      "tensor(0.0209, device='cuda:0', grad_fn=<MeanBackward0>)\n",
      "tensor(0.0208, device='cuda:0', grad_fn=<MeanBackward0>)\n",
      "tensor(0.0208, device='cuda:0', grad_fn=<MeanBackward0>)\n",
      "tensor(0.0210, device='cuda:0', grad_fn=<MeanBackward0>)\n",
      "tensor(0.0208, device='cuda:0', grad_fn=<MeanBackward0>)\n",
      "tensor(0.0205, device='cuda:0', grad_fn=<MeanBackward0>)\n",
      "tensor(0.0205, device='cuda:0', grad_fn=<MeanBackward0>)\n",
      "tensor(0.0209, device='cuda:0', grad_fn=<MeanBackward0>)\n",
      "tensor(0.0207, device='cuda:0', grad_fn=<MeanBackward0>)\n",
      "tensor(0.0207, device='cuda:0', grad_fn=<MeanBackward0>)\n",
      "tensor(0.0206, device='cuda:0', grad_fn=<MeanBackward0>)\n",
      "tensor(0.0208, device='cuda:0', grad_fn=<MeanBackward0>)\n",
      "tensor(0.0206, device='cuda:0', grad_fn=<MeanBackward0>)\n",
      "tensor(0.0207, device='cuda:0', grad_fn=<MeanBackward0>)\n",
      "tensor(0.0207, device='cuda:0', grad_fn=<MeanBackward0>)\n",
      "tensor(0.0208, device='cuda:0', grad_fn=<MeanBackward0>)\n",
      "tensor(0.0205, device='cuda:0', grad_fn=<MeanBackward0>)\n",
      "tensor(0.0210, device='cuda:0', grad_fn=<MeanBackward0>)\n",
      "tensor(0.0206, device='cuda:0', grad_fn=<MeanBackward0>)\n",
      "tensor(0.0211, device='cuda:0', grad_fn=<MeanBackward0>)\n",
      "tensor(0.0205, device='cuda:0', grad_fn=<MeanBackward0>)\n",
      "tensor(0.0207, device='cuda:0', grad_fn=<MeanBackward0>)\n",
      "tensor(0.0205, device='cuda:0', grad_fn=<MeanBackward0>)\n",
      "tensor(0.0207, device='cuda:0', grad_fn=<MeanBackward0>)\n",
      "tensor(0.0203, device='cuda:0', grad_fn=<MeanBackward0>)\n",
      "tensor(0.0207, device='cuda:0', grad_fn=<MeanBackward0>)\n",
      "tensor(0.0203, device='cuda:0', grad_fn=<MeanBackward0>)\n",
      "tensor(0.0206, device='cuda:0', grad_fn=<MeanBackward0>)\n",
      "tensor(0.0202, device='cuda:0', grad_fn=<MeanBackward0>)\n",
      "tensor(0.0203, device='cuda:0', grad_fn=<MeanBackward0>)\n",
      "tensor(0.0201, device='cuda:0', grad_fn=<MeanBackward0>)\n",
      "tensor(0.0202, device='cuda:0', grad_fn=<MeanBackward0>)\n",
      "tensor(0.0203, device='cuda:0', grad_fn=<MeanBackward0>)\n",
      "tensor(0.0204, device='cuda:0', grad_fn=<MeanBackward0>)\n",
      "tensor(0.0205, device='cuda:0', grad_fn=<MeanBackward0>)\n",
      "tensor(0.0207, device='cuda:0', grad_fn=<MeanBackward0>)\n",
      "tensor(0.0207, device='cuda:0', grad_fn=<MeanBackward0>)\n",
      "tensor(0.0203, device='cuda:0', grad_fn=<MeanBackward0>)\n",
      "tensor(0.0203, device='cuda:0', grad_fn=<MeanBackward0>)\n",
      "tensor(0.0203, device='cuda:0', grad_fn=<MeanBackward0>)\n",
      "tensor(0.0202, device='cuda:0', grad_fn=<MeanBackward0>)\n",
      "tensor(0.0203, device='cuda:0', grad_fn=<MeanBackward0>)\n",
      "tensor(0.0203, device='cuda:0', grad_fn=<MeanBackward0>)\n",
      "tensor(0.0203, device='cuda:0', grad_fn=<MeanBackward0>)\n",
      "tensor(0.0204, device='cuda:0', grad_fn=<MeanBackward0>)\n",
      "tensor(0.0204, device='cuda:0', grad_fn=<MeanBackward0>)\n",
      "tensor(0.0202, device='cuda:0', grad_fn=<MeanBackward0>)\n",
      "tensor(0.0203, device='cuda:0', grad_fn=<MeanBackward0>)\n",
      "tensor(0.0199, device='cuda:0', grad_fn=<MeanBackward0>)\n",
      "tensor(0.0202, device='cuda:0', grad_fn=<MeanBackward0>)\n",
      "tensor(0.0202, device='cuda:0', grad_fn=<MeanBackward0>)\n",
      "tensor(0.0203, device='cuda:0', grad_fn=<MeanBackward0>)\n",
      "tensor(0.0204, device='cuda:0', grad_fn=<MeanBackward0>)\n",
      "tensor(0.0207, device='cuda:0', grad_fn=<MeanBackward0>)\n",
      "tensor(0.0201, device='cuda:0', grad_fn=<MeanBackward0>)\n",
      "tensor(0.0199, device='cuda:0', grad_fn=<MeanBackward0>)\n",
      "tensor(0.0201, device='cuda:0', grad_fn=<MeanBackward0>)\n",
      "tensor(0.0203, device='cuda:0', grad_fn=<MeanBackward0>)\n",
      "tensor(0.0202, device='cuda:0', grad_fn=<MeanBackward0>)\n",
      "tensor(0.0202, device='cuda:0', grad_fn=<MeanBackward0>)\n",
      "tensor(0.0203, device='cuda:0', grad_fn=<MeanBackward0>)\n",
      "tensor(0.0204, device='cuda:0', grad_fn=<MeanBackward0>)\n",
      "tensor(0.0203, device='cuda:0', grad_fn=<MeanBackward0>)\n",
      "tensor(0.0201, device='cuda:0', grad_fn=<MeanBackward0>)\n",
      "tensor(0.0200, device='cuda:0', grad_fn=<MeanBackward0>)\n",
      "tensor(0.0203, device='cuda:0', grad_fn=<MeanBackward0>)\n",
      "tensor(0.0204, device='cuda:0', grad_fn=<MeanBackward0>)\n",
      "tensor(0.0202, device='cuda:0', grad_fn=<MeanBackward0>)\n",
      "tensor(0.0200, device='cuda:0', grad_fn=<MeanBackward0>)\n",
      "tensor(0.0202, device='cuda:0', grad_fn=<MeanBackward0>)\n",
      "tensor(0.0201, device='cuda:0', grad_fn=<MeanBackward0>)\n",
      "tensor(0.0203, device='cuda:0', grad_fn=<MeanBackward0>)\n",
      "tensor(0.0201, device='cuda:0', grad_fn=<MeanBackward0>)\n",
      "tensor(0.0205, device='cuda:0', grad_fn=<MeanBackward0>)\n",
      "tensor(0.0201, device='cuda:0', grad_fn=<MeanBackward0>)\n",
      "tensor(0.0202, device='cuda:0', grad_fn=<MeanBackward0>)\n",
      "tensor(0.0200, device='cuda:0', grad_fn=<MeanBackward0>)\n",
      "tensor(0.0203, device='cuda:0', grad_fn=<MeanBackward0>)\n",
      "tensor(0.0201, device='cuda:0', grad_fn=<MeanBackward0>)\n",
      "tensor(0.0201, device='cuda:0', grad_fn=<MeanBackward0>)\n",
      "tensor(0.0200, device='cuda:0', grad_fn=<MeanBackward0>)\n",
      "tensor(0.0200, device='cuda:0', grad_fn=<MeanBackward0>)\n",
      "tensor(0.0202, device='cuda:0', grad_fn=<MeanBackward0>)\n",
      "tensor(0.0203, device='cuda:0', grad_fn=<MeanBackward0>)\n",
      "tensor(0.0202, device='cuda:0', grad_fn=<MeanBackward0>)\n",
      "tensor(0.0202, device='cuda:0', grad_fn=<MeanBackward0>)\n",
      "tensor(0.0199, device='cuda:0', grad_fn=<MeanBackward0>)\n",
      "tensor(0.0200, device='cuda:0', grad_fn=<MeanBackward0>)\n",
      "tensor(0.0198, device='cuda:0', grad_fn=<MeanBackward0>)\n"
     ]
    }
   ],
   "source": [
    "camera_pose = camera_poses[0]\n",
    "gt_img = point_cloud_images[1][...,2]\n",
    "for _ in range(100):\n",
    "    img, grad_means, grad_opacity, loss = render_jax(means3D,opacity, scales, rotations, camera_pose, gt_img,intrinsics)\n",
    "    print(loss)\n",
    "    means3D = means3D - 0.1 * grad_means\n",
    "    opacity = opacity - 0.1 * grad_opacity\n",
    "b.show_cloud(\"gt\",b.unproject_depth_jit(gt_img, intrinsics).reshape(-1,3)) \n",
    "b.show_cloud(\"reconstruction\",b.unproject_depth_jit(img, intrinsics).reshape(-1,3),color=b.BLUE) "
   ]
  },
  {
   "cell_type": "code",
   "execution_count": 103,
   "metadata": {},
   "outputs": [],
   "source": []
  },
  {
   "cell_type": "code",
   "execution_count": 95,
   "metadata": {},
   "outputs": [
    {
     "data": {
      "text/plain": [
       "(2920, 3)"
      ]
     },
     "execution_count": 95,
     "metadata": {},
     "output_type": "execute_result"
    }
   ],
   "source": [
    "grads.shape"
   ]
  },
  {
   "cell_type": "code",
   "execution_count": null,
   "metadata": {},
   "outputs": [],
   "source": [
    "l = [\n",
    "    {'params': [means3D], 'lr': 0.01 ,\"name\": \"xyz\"},\n",
    "    {'params': [opacity], 'lr': 0.05, \"name\": \"opacity\"},\n",
    "    {'params': [scales], 'lr': 0.05, \"name\": \"scaling\"},\n",
    "    {'params': [rotations], 'lr': 0.01, \"name\": \"rotation\"}\n",
    "]\n",
    "optimizer = torch.optim.SGD(l, lr=0.0)\n",
    "\n",
    "pbar = tqdm(range(1000))\n",
    "for _ in pbar:\n",
    "    imgs = torch.stack([render(means3D, means2D, opacity, scales, rotations, camera_pose) for camera_pose in camera_poses])\n",
    "    loss = torch.abs(gt_images_stacked - imgs).mean()\n",
    "    optimizer.zero_grad()\n",
    "    loss.backward()\n",
    "    optimizer.step()\n",
    "    pbar.set_description(f\"{loss.item()}\")\n",
    "\n"
   ]
  },
  {
   "cell_type": "code",
   "execution_count": null,
   "metadata": {},
   "outputs": [],
   "source": [
    "b.clear()\n",
    "b.show_cloud(\"gt\",b.unproject_depth_jit(gt_images_stacked[0].detach().cpu().numpy(), intrinsics).reshape(-1,3)) \n",
    "# b.show_cloud(\"means\", means3D.detach().cpu().numpy(),color=b.RED)\n",
    "b.show_cloud(\"reconstruction\",b.unproject_depth_jit(convert_to_numpy(imgs[0]), intrinsics).reshape(-1,3),color=b.BLUE) \n",
    "\n",
    "b.get_depth_image(convert_to_numpy(imgs[0]))"
   ]
  },
  {
   "cell_type": "code",
   "execution_count": null,
   "metadata": {},
   "outputs": [],
   "source": [
    "img, radii = rasterizer(\n",
    "    means3D = means3D,\n",
    "    means2D = means2D,\n",
    "    shs = None,\n",
    "    colors_precomp = means3D[:,2:3].repeat(1,3),\n",
    "    opacities =  torch.tensor(torch.ones((N, 1)),requires_grad=True,device=device),\n",
    "    scales = torch.exp(scales),\n",
    "    rotations = rotations\n",
    ")\n",
    "depth_image = np.moveaxis(img.detach().cpu().numpy(),0,-1)[...,2]\n",
    "b.clear()\n",
    "# b.show_cloud(\"gt\",b.unproject_depth_jit(gt_img, intrinsics).reshape(-1,3)) \n",
    "# b.show_cloud(\"means\", means3D.detach().cpu().numpy(),color=b.RED)\n",
    "b.show_cloud(\"reconstruction\",b.unproject_depth_jit(depth_image, intrinsics).reshape(-1,3),color=b.BLUE) \n",
    "\n",
    "b.get_depth_image(depth_image)"
   ]
  },
  {
   "cell_type": "code",
   "execution_count": null,
   "metadata": {},
   "outputs": [],
   "source": [
    "plt.matshow(np.abs(depth_image - gt_img))\n",
    "plt.colorbar()"
   ]
  },
  {
   "cell_type": "code",
   "execution_count": null,
   "metadata": {},
   "outputs": [],
   "source": [
    "pos = torch.tensor([0.0, 0.0, 0.5],device=device)\n",
    "quat =  torch.tensor(torch.rand(4,device=device) - 0.5,device=device)\n",
    "\n",
    "gt_rendered_image =  render(pos, quat).detach()\n",
    "depth_image = np.moveaxis(gt_rendered_image.detach().cpu().numpy(),0,-1)[...,2]\n",
    "b.show_cloud(\"1\", b.unproject_depth_jit(depth_image, intrinsics).reshape(-1,3))\n",
    "viz_gt = b.get_depth_image(depth_image)\n",
    "viz_gt\n"
   ]
  },
  {
   "cell_type": "code",
   "execution_count": null,
   "metadata": {},
   "outputs": [],
   "source": [
    "pos = torch.tensor([0.0, 0.0, 0.5],device=device, requires_grad=True)\n",
    "quat =  torch.tensor(torch.rand(4,device=device) - 0.5,device=device, requires_grad=True)\n",
    "rendered_image =  render(pos, quat)\n",
    "depth_image = np.moveaxis(rendered_image.detach().cpu().numpy(),0,-1)[...,2]\n",
    "b.show_cloud(\"1\", b.unproject_depth_jit(depth_image, intrinsics).reshape(-1,3))\n",
    "viz = b.get_depth_image(depth_image)\n",
    "b.hstack_images([viz, viz_gt])"
   ]
  },
  {
   "cell_type": "code",
   "execution_count": null,
   "metadata": {},
   "outputs": [],
   "source": [
    "\n",
    "optimizer = torch.optim.Adam([\n",
    "    {'params': [pos], 'lr': 0.001, \"name\": \"pos\"},\n",
    "    {'params': [quat], 'lr': 0.001, \"name\": \"quat\"},\n",
    "], lr=0.0, eps=1e-15)\n",
    "\n",
    "pbar = tqdm(range(1000))\n",
    "for _ in pbar:\n",
    "    rendered_image =  render(pos, quat)\n",
    "    loss = torch.abs(gt_rendered_image - rendered_image).mean()\n",
    "    optimizer.zero_grad()\n",
    "    loss.backward()\n",
    "    optimizer.step()\n",
    "    pbar.set_description(f\"{loss.item()}\")\n"
   ]
  },
  {
   "cell_type": "code",
   "execution_count": null,
   "metadata": {},
   "outputs": [],
   "source": [
    "\n",
    "depth_image = np.moveaxis(rendered_image.detach().cpu().numpy(),0,-1)[...,2]\n",
    "b.show_cloud(\"1\", b.unproject_depth_jit(depth_image, intrinsics).reshape(-1,3))\n",
    "viz = b.get_depth_image(depth_image)\n",
    "b.hstack_images([viz, viz_gt])\n"
   ]
  },
  {
   "cell_type": "code",
   "execution_count": null,
   "metadata": {},
   "outputs": [],
   "source": []
  }
 ],
 "metadata": {
  "kernelspec": {
   "display_name": "bayes3d",
   "language": "python",
   "name": "python3"
  },
  "language_info": {
   "codemirror_mode": {
    "name": "ipython",
    "version": 3
   },
   "file_extension": ".py",
   "mimetype": "text/x-python",
   "name": "python",
   "nbconvert_exporter": "python",
   "pygments_lexer": "ipython3",
   "version": "3.9.18"
  }
 },
 "nbformat": 4,
 "nbformat_minor": 2
}
