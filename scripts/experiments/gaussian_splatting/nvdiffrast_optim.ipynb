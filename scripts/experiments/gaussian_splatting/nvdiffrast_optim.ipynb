{
 "cells": [
  {
   "cell_type": "code",
   "execution_count": 1,
   "id": "61fef143-f8d4-4078-9386-deeff2fd80c2",
   "metadata": {},
   "outputs": [
    {
     "name": "stderr",
     "output_type": "stream",
     "text": [
      "2023-10-25 05:38:28.459571: E external/xla/xla/stream_executor/cuda/cuda_driver.cc:1587] Failed to get stream capture info: out of memory\n",
      "2023-10-25 05:38:28.461562: E external/xla/xla/pjrt/pjrt_stream_executor_client.cc:2716] Execution of replica 0 failed: INVALID_ARGUMENT: stream is uninitialized or in an error state\n"
     ]
    },
    {
     "ename": "ValueError",
     "evalue": "INVALID_ARGUMENT: stream is uninitialized or in an error state",
     "output_type": "error",
     "traceback": [
      "\u001b[0;31m---------------------------------------------------------------------------\u001b[0m",
      "\u001b[0;31mValueError\u001b[0m                                Traceback (most recent call last)",
      "\u001b[1;32m/home/nishadgothoskar/bayes3d/scripts/experiments/gaussian_splatting/nvdiffrast_optim.ipynb Cell 1\u001b[0m line \u001b[0;36m8\n\u001b[1;32m      <a href='vscode-notebook-cell://ssh-remote%2B34.70.144.22/home/nishadgothoskar/bayes3d/scripts/experiments/gaussian_splatting/nvdiffrast_optim.ipynb#W0sdnNjb2RlLXJlbW90ZQ%3D%3D?line=5'>6</a>\u001b[0m \u001b[39mimport\u001b[39;00m \u001b[39mtorch\u001b[39;00m\n\u001b[1;32m      <a href='vscode-notebook-cell://ssh-remote%2B34.70.144.22/home/nishadgothoskar/bayes3d/scripts/experiments/gaussian_splatting/nvdiffrast_optim.ipynb#W0sdnNjb2RlLXJlbW90ZQ%3D%3D?line=6'>7</a>\u001b[0m \u001b[39mimport\u001b[39;00m \u001b[39mimageio\u001b[39;00m\n\u001b[0;32m----> <a href='vscode-notebook-cell://ssh-remote%2B34.70.144.22/home/nishadgothoskar/bayes3d/scripts/experiments/gaussian_splatting/nvdiffrast_optim.ipynb#W0sdnNjb2RlLXJlbW90ZQ%3D%3D?line=7'>8</a>\u001b[0m \u001b[39mimport\u001b[39;00m \u001b[39mbayes3d\u001b[39;00m \u001b[39mas\u001b[39;00m \u001b[39mb\u001b[39;00m\n\u001b[1;32m      <a href='vscode-notebook-cell://ssh-remote%2B34.70.144.22/home/nishadgothoskar/bayes3d/scripts/experiments/gaussian_splatting/nvdiffrast_optim.ipynb#W0sdnNjb2RlLXJlbW90ZQ%3D%3D?line=8'>9</a>\u001b[0m \u001b[39mfrom\u001b[39;00m \u001b[39mtqdm\u001b[39;00m \u001b[39mimport\u001b[39;00m tqdm\n\u001b[1;32m     <a href='vscode-notebook-cell://ssh-remote%2B34.70.144.22/home/nishadgothoskar/bayes3d/scripts/experiments/gaussian_splatting/nvdiffrast_optim.ipynb#W0sdnNjb2RlLXJlbW90ZQ%3D%3D?line=9'>10</a>\u001b[0m \u001b[39mimport\u001b[39;00m \u001b[39mpytorch3d\u001b[39;00m\u001b[39m.\u001b[39;00m\u001b[39mtransforms\u001b[39;00m\n",
      "File \u001b[0;32m~/bayes3d/bayes3d/__init__.py:16\u001b[0m\n\u001b[1;32m     13\u001b[0m \u001b[39mfrom\u001b[39;00m \u001b[39m.\u001b[39;00m \u001b[39mimport\u001b[39;00m colmap\n\u001b[1;32m     15\u001b[0m \u001b[39mtry\u001b[39;00m:\n\u001b[0;32m---> 16\u001b[0m     \u001b[39mimport\u001b[39;00m \u001b[39mgenjax\u001b[39;00m\n\u001b[1;32m     17\u001b[0m     \u001b[39mfrom\u001b[39;00m \u001b[39m.\u001b[39;00m\u001b[39mgenjax\u001b[39;00m \u001b[39mimport\u001b[39;00m \u001b[39m*\u001b[39m\n\u001b[1;32m     18\u001b[0m \u001b[39mexcept\u001b[39;00m \u001b[39mImportError\u001b[39;00m:\n",
      "File \u001b[0;32m/opt/conda/envs/bayes3d/lib/python3.9/site-packages/genjax/__init__.py:20\u001b[0m\n\u001b[1;32m     14\u001b[0m \u001b[39m\"\u001b[39m\u001b[39mGenJAX is a probabilistic programming system constructed by combining the concepts of Gen with the program transformation and hardware accelerator compilation capabilities of JAX.\u001b[39m\u001b[39m\"\u001b[39m\n\u001b[1;32m     16\u001b[0m \u001b[39m# This __init__ file exports GenJAX's public API.\u001b[39;00m\n\u001b[1;32m     17\u001b[0m \u001b[39m# For the internals, see _src.\u001b[39;00m\n\u001b[1;32m     18\u001b[0m \n\u001b[1;32m     19\u001b[0m \u001b[39m# Closed modules.\u001b[39;00m\n\u001b[0;32m---> 20\u001b[0m \u001b[39mfrom\u001b[39;00m \u001b[39mgenjax\u001b[39;00m \u001b[39mimport\u001b[39;00m inference\n\u001b[1;32m     21\u001b[0m \u001b[39mfrom\u001b[39;00m \u001b[39mgenjax\u001b[39;00m \u001b[39mimport\u001b[39;00m typing\n\u001b[1;32m     22\u001b[0m \u001b[39mfrom\u001b[39;00m \u001b[39mgenjax\u001b[39;00m\u001b[39m.\u001b[39;00m\u001b[39mcore\u001b[39;00m \u001b[39mimport\u001b[39;00m interpreters\n",
      "File \u001b[0;32m/opt/conda/envs/bayes3d/lib/python3.9/site-packages/genjax/inference/__init__.py:19\u001b[0m\n\u001b[1;32m     17\u001b[0m \u001b[39mfrom\u001b[39;00m \u001b[39mgenjax\u001b[39;00m\u001b[39m.\u001b[39;00m\u001b[39minference\u001b[39;00m \u001b[39mimport\u001b[39;00m mcmc\n\u001b[1;32m     18\u001b[0m \u001b[39mfrom\u001b[39;00m \u001b[39mgenjax\u001b[39;00m\u001b[39m.\u001b[39;00m\u001b[39minference\u001b[39;00m \u001b[39mimport\u001b[39;00m smc\n\u001b[0;32m---> 19\u001b[0m \u001b[39mfrom\u001b[39;00m \u001b[39mgenjax\u001b[39;00m\u001b[39m.\u001b[39;00m\u001b[39minference\u001b[39;00m \u001b[39mimport\u001b[39;00m testbed\n\u001b[1;32m     22\u001b[0m __all__ \u001b[39m=\u001b[39m [\n\u001b[1;32m     23\u001b[0m     \u001b[39m\"\u001b[39m\u001b[39mmcmc\u001b[39m\u001b[39m\"\u001b[39m,\n\u001b[1;32m     24\u001b[0m     \u001b[39m\"\u001b[39m\u001b[39mimportance_sampling\u001b[39m\u001b[39m\"\u001b[39m,\n\u001b[0;32m   (...)\u001b[0m\n\u001b[1;32m     27\u001b[0m     \u001b[39m\"\u001b[39m\u001b[39mtestbed\u001b[39m\u001b[39m\"\u001b[39m,\n\u001b[1;32m     28\u001b[0m ]\n",
      "File \u001b[0;32m/opt/conda/envs/bayes3d/lib/python3.9/site-packages/genjax/inference/testbed.py:15\u001b[0m\n\u001b[1;32m      1\u001b[0m \u001b[39m# Copyright 2022 MIT Probabilistic Computing Project\u001b[39;00m\n\u001b[1;32m      2\u001b[0m \u001b[39m#\u001b[39;00m\n\u001b[1;32m      3\u001b[0m \u001b[39m# Licensed under the Apache License, Version 2.0 (the \"License\");\u001b[39;00m\n\u001b[0;32m   (...)\u001b[0m\n\u001b[1;32m     12\u001b[0m \u001b[39m# See the License for the specific language governing permissions and\u001b[39;00m\n\u001b[1;32m     13\u001b[0m \u001b[39m# limitations under the License.\u001b[39;00m\n\u001b[0;32m---> 15\u001b[0m \u001b[39mfrom\u001b[39;00m \u001b[39mgenjax\u001b[39;00m\u001b[39m.\u001b[39;00m\u001b[39m_src\u001b[39;00m\u001b[39m.\u001b[39;00m\u001b[39minference\u001b[39;00m\u001b[39m.\u001b[39;00m\u001b[39mtestbed\u001b[39;00m \u001b[39mimport\u001b[39;00m build_inference_test_generator\n\u001b[1;32m     16\u001b[0m \u001b[39mfrom\u001b[39;00m \u001b[39mgenjax\u001b[39;00m\u001b[39m.\u001b[39;00m\u001b[39m_src\u001b[39;00m\u001b[39m.\u001b[39;00m\u001b[39minference\u001b[39;00m\u001b[39m.\u001b[39;00m\u001b[39mtestbed\u001b[39;00m \u001b[39mimport\u001b[39;00m default_problem_generator\n\u001b[1;32m     19\u001b[0m __all__ \u001b[39m=\u001b[39m [\n\u001b[1;32m     20\u001b[0m     \u001b[39m\"\u001b[39m\u001b[39mbuild_inference_test_generator\u001b[39m\u001b[39m\"\u001b[39m,\n\u001b[1;32m     21\u001b[0m     \u001b[39m\"\u001b[39m\u001b[39mdefault_problem_generator\u001b[39m\u001b[39m\"\u001b[39m,\n\u001b[1;32m     22\u001b[0m ]\n",
      "File \u001b[0;32m/opt/conda/envs/bayes3d/lib/python3.9/site-packages/genjax/_src/inference/testbed.py:127\u001b[0m\n\u001b[1;32m    123\u001b[0m     \u001b[39mreturn\u001b[39;00m inference_test_generator\n\u001b[1;32m    126\u001b[0m default_problem_config \u001b[39m=\u001b[39m (\u001b[39m10\u001b[39m, \u001b[39m10\u001b[39m, \u001b[39m1\u001b[39m, \u001b[39m1\u001b[39m, \u001b[39m0.3\u001b[39m, \u001b[39m0.3\u001b[39m)\n\u001b[0;32m--> 127\u001b[0m default_problem_generator \u001b[39m=\u001b[39m build_inference_test_generator(\n\u001b[1;32m    128\u001b[0m     \u001b[39m*\u001b[39;49mdefault_problem_config,\n\u001b[1;32m    129\u001b[0m )\n",
      "File \u001b[0;32m/opt/conda/envs/bayes3d/lib/python3.9/site-packages/genjax/_src/inference/testbed.py:84\u001b[0m, in \u001b[0;36mbuild_inference_test_generator\u001b[0;34m(max_length, state_space_size, transition_distance_truncation, observation_distance_truncation, transition_variance, observation_variance)\u001b[0m\n\u001b[1;32m     76\u001b[0m \u001b[39mdef\u001b[39;00m \u001b[39mbuild_inference_test_generator\u001b[39m(\n\u001b[1;32m     77\u001b[0m     max_length: IntArray,\n\u001b[1;32m     78\u001b[0m     state_space_size: IntArray,\n\u001b[0;32m   (...)\u001b[0m\n\u001b[1;32m     82\u001b[0m     observation_variance: FloatArray,\n\u001b[1;32m     83\u001b[0m ):\n\u001b[0;32m---> 84\u001b[0m     config \u001b[39m=\u001b[39m discrete_hmm_config(\n\u001b[1;32m     85\u001b[0m         state_space_size,\n\u001b[1;32m     86\u001b[0m         transition_distance_truncation,\n\u001b[1;32m     87\u001b[0m         observation_distance_truncation,\n\u001b[1;32m     88\u001b[0m         transition_variance,\n\u001b[1;32m     89\u001b[0m         observation_variance,\n\u001b[1;32m     90\u001b[0m     )\n\u001b[1;32m     92\u001b[0m     \u001b[39m@gen\u001b[39m(Unfold, max_length\u001b[39m=\u001b[39mmax_length)\n\u001b[1;32m     93\u001b[0m     \u001b[39mdef\u001b[39;00m \u001b[39mmarkov_chain\u001b[39m(state: IntArray, config: DiscreteHMMConfiguration):\n\u001b[1;32m     94\u001b[0m         transition \u001b[39m=\u001b[39m config\u001b[39m.\u001b[39mtransition_tensor\n",
      "File \u001b[0;32m/opt/conda/envs/bayes3d/lib/python3.9/site-packages/genjax/_src/generative_functions/distributions/custom/discrete_hmm.py:109\u001b[0m, in \u001b[0;36mDiscreteHMMConfiguration.new\u001b[0;34m(cls, linear_grid_dim, adjacency_distance_trans, adjacency_distance_obs, sigma_trans, sigma_obs)\u001b[0m\n\u001b[1;32m     89\u001b[0m transition_tensor \u001b[39m=\u001b[39m scaled_circulant(\n\u001b[1;32m     90\u001b[0m     linear_grid_dim,\n\u001b[1;32m     91\u001b[0m     adjacency_distance_trans,\n\u001b[1;32m     92\u001b[0m     sigma_trans \u001b[39mif\u001b[39;00m sigma_trans \u001b[39m>\u001b[39m \u001b[39m0.0\u001b[39m \u001b[39melse\u001b[39;00m \u001b[39m-\u001b[39mnp\u001b[39m.\u001b[39minf,\n\u001b[1;32m     93\u001b[0m     \u001b[39m1\u001b[39m \u001b[39m/\u001b[39m sigma_trans \u001b[39mif\u001b[39;00m sigma_trans \u001b[39m>\u001b[39m \u001b[39m0.0\u001b[39m \u001b[39melse\u001b[39;00m \u001b[39m-\u001b[39mnp\u001b[39m.\u001b[39minf,\n\u001b[1;32m     94\u001b[0m )\n\u001b[1;32m     96\u001b[0m observation_tensor \u001b[39m=\u001b[39m scaled_circulant(\n\u001b[1;32m     97\u001b[0m     linear_grid_dim,\n\u001b[1;32m     98\u001b[0m     adjacency_distance_obs,\n\u001b[1;32m     99\u001b[0m     sigma_obs \u001b[39mif\u001b[39;00m sigma_obs \u001b[39m>\u001b[39m \u001b[39m0.0\u001b[39m \u001b[39melse\u001b[39;00m \u001b[39m-\u001b[39mnp\u001b[39m.\u001b[39minf,\n\u001b[1;32m    100\u001b[0m     \u001b[39m1\u001b[39m \u001b[39m/\u001b[39m sigma_obs \u001b[39mif\u001b[39;00m sigma_obs \u001b[39m>\u001b[39m \u001b[39m0.0\u001b[39m \u001b[39melse\u001b[39;00m np\u001b[39m.\u001b[39minf,\n\u001b[1;32m    101\u001b[0m )\n\u001b[1;32m    102\u001b[0m \u001b[39mreturn\u001b[39;00m DiscreteHMMConfiguration(\n\u001b[1;32m    103\u001b[0m     linear_grid_dim,\n\u001b[1;32m    104\u001b[0m     adjacency_distance_trans,\n\u001b[1;32m    105\u001b[0m     adjacency_distance_obs,\n\u001b[1;32m    106\u001b[0m     sigma_trans,\n\u001b[1;32m    107\u001b[0m     sigma_obs,\n\u001b[1;32m    108\u001b[0m     jnp\u001b[39m.\u001b[39marray(transition_tensor),\n\u001b[0;32m--> 109\u001b[0m     jnp\u001b[39m.\u001b[39;49marray(observation_tensor),\n\u001b[1;32m    110\u001b[0m )\n",
      "File \u001b[0;32m/opt/conda/envs/bayes3d/lib/python3.9/site-packages/jax/_src/numpy/lax_numpy.py:2089\u001b[0m, in \u001b[0;36marray\u001b[0;34m(object, dtype, copy, order, ndmin)\u001b[0m\n\u001b[1;32m   2085\u001b[0m     \u001b[39mreturn\u001b[39;00m array(np\u001b[39m.\u001b[39masarray(view), dtype, copy, ndmin\u001b[39m=\u001b[39mndmin)\n\u001b[1;32m   2087\u001b[0m   \u001b[39mraise\u001b[39;00m \u001b[39mTypeError\u001b[39;00m(\u001b[39mf\u001b[39m\u001b[39m\"\u001b[39m\u001b[39mUnexpected input type for array: \u001b[39m\u001b[39m{\u001b[39;00m\u001b[39mtype\u001b[39m(\u001b[39mobject\u001b[39m)\u001b[39m}\u001b[39;00m\u001b[39m\"\u001b[39m)\n\u001b[0;32m-> 2089\u001b[0m out_array: Array \u001b[39m=\u001b[39m lax_internal\u001b[39m.\u001b[39;49m_convert_element_type(\n\u001b[1;32m   2090\u001b[0m     out, dtype, weak_type\u001b[39m=\u001b[39;49mweak_type)\n\u001b[1;32m   2091\u001b[0m \u001b[39mif\u001b[39;00m ndmin \u001b[39m>\u001b[39m ndim(out_array):\n\u001b[1;32m   2092\u001b[0m   out_array \u001b[39m=\u001b[39m lax\u001b[39m.\u001b[39mexpand_dims(out_array, \u001b[39mrange\u001b[39m(ndmin \u001b[39m-\u001b[39m ndim(out_array)))\n",
      "File \u001b[0;32m/opt/conda/envs/bayes3d/lib/python3.9/site-packages/jax/_src/lax/lax.py:555\u001b[0m, in \u001b[0;36m_convert_element_type\u001b[0;34m(operand, new_dtype, weak_type)\u001b[0m\n\u001b[1;32m    553\u001b[0m   \u001b[39mreturn\u001b[39;00m type_cast(Array, operand)\n\u001b[1;32m    554\u001b[0m \u001b[39melse\u001b[39;00m:\n\u001b[0;32m--> 555\u001b[0m   \u001b[39mreturn\u001b[39;00m convert_element_type_p\u001b[39m.\u001b[39;49mbind(operand, new_dtype\u001b[39m=\u001b[39;49mnew_dtype,\n\u001b[1;32m    556\u001b[0m                                      weak_type\u001b[39m=\u001b[39;49m\u001b[39mbool\u001b[39;49m(weak_type))\n",
      "File \u001b[0;32m/opt/conda/envs/bayes3d/lib/python3.9/site-packages/jax/_src/core.py:385\u001b[0m, in \u001b[0;36mPrimitive.bind\u001b[0;34m(self, *args, **params)\u001b[0m\n\u001b[1;32m    382\u001b[0m \u001b[39mdef\u001b[39;00m \u001b[39mbind\u001b[39m(\u001b[39mself\u001b[39m, \u001b[39m*\u001b[39margs, \u001b[39m*\u001b[39m\u001b[39m*\u001b[39mparams):\n\u001b[1;32m    383\u001b[0m   \u001b[39massert\u001b[39;00m (\u001b[39mnot\u001b[39;00m config\u001b[39m.\u001b[39menable_checks\u001b[39m.\u001b[39mvalue \u001b[39mor\u001b[39;00m\n\u001b[1;32m    384\u001b[0m           \u001b[39mall\u001b[39m(\u001b[39misinstance\u001b[39m(arg, Tracer) \u001b[39mor\u001b[39;00m valid_jaxtype(arg) \u001b[39mfor\u001b[39;00m arg \u001b[39min\u001b[39;00m args)), args\n\u001b[0;32m--> 385\u001b[0m   \u001b[39mreturn\u001b[39;00m \u001b[39mself\u001b[39;49m\u001b[39m.\u001b[39;49mbind_with_trace(find_top_trace(args), args, params)\n",
      "File \u001b[0;32m/opt/conda/envs/bayes3d/lib/python3.9/site-packages/jax/_src/core.py:388\u001b[0m, in \u001b[0;36mPrimitive.bind_with_trace\u001b[0;34m(self, trace, args, params)\u001b[0m\n\u001b[1;32m    387\u001b[0m \u001b[39mdef\u001b[39;00m \u001b[39mbind_with_trace\u001b[39m(\u001b[39mself\u001b[39m, trace, args, params):\n\u001b[0;32m--> 388\u001b[0m   out \u001b[39m=\u001b[39m trace\u001b[39m.\u001b[39;49mprocess_primitive(\u001b[39mself\u001b[39;49m, \u001b[39mmap\u001b[39;49m(trace\u001b[39m.\u001b[39;49mfull_raise, args), params)\n\u001b[1;32m    389\u001b[0m   \u001b[39mreturn\u001b[39;00m \u001b[39mmap\u001b[39m(full_lower, out) \u001b[39mif\u001b[39;00m \u001b[39mself\u001b[39m\u001b[39m.\u001b[39mmultiple_results \u001b[39melse\u001b[39;00m full_lower(out)\n",
      "File \u001b[0;32m/opt/conda/envs/bayes3d/lib/python3.9/site-packages/jax/_src/core.py:868\u001b[0m, in \u001b[0;36mEvalTrace.process_primitive\u001b[0;34m(self, primitive, tracers, params)\u001b[0m\n\u001b[1;32m    867\u001b[0m \u001b[39mdef\u001b[39;00m \u001b[39mprocess_primitive\u001b[39m(\u001b[39mself\u001b[39m, primitive, tracers, params):\n\u001b[0;32m--> 868\u001b[0m   \u001b[39mreturn\u001b[39;00m primitive\u001b[39m.\u001b[39;49mimpl(\u001b[39m*\u001b[39;49mtracers, \u001b[39m*\u001b[39;49m\u001b[39m*\u001b[39;49mparams)\n",
      "File \u001b[0;32m/opt/conda/envs/bayes3d/lib/python3.9/site-packages/jax/_src/dispatch.py:140\u001b[0m, in \u001b[0;36mapply_primitive\u001b[0;34m(prim, *args, **params)\u001b[0m\n\u001b[1;32m    136\u001b[0m   msg \u001b[39m=\u001b[39m pjit\u001b[39m.\u001b[39m_device_assignment_mismatch_error(\n\u001b[1;32m    137\u001b[0m       prim\u001b[39m.\u001b[39mname, fails, args, \u001b[39m'\u001b[39m\u001b[39mjit\u001b[39m\u001b[39m'\u001b[39m, arg_names)\n\u001b[1;32m    138\u001b[0m   \u001b[39mraise\u001b[39;00m \u001b[39mValueError\u001b[39;00m(msg) \u001b[39mfrom\u001b[39;00m \u001b[39mNone\u001b[39;00m\n\u001b[0;32m--> 140\u001b[0m \u001b[39mreturn\u001b[39;00m compiled_fun(\u001b[39m*\u001b[39;49margs)\n",
      "File \u001b[0;32m/opt/conda/envs/bayes3d/lib/python3.9/site-packages/jax/_src/dispatch.py:172\u001b[0m, in \u001b[0;36mxla_primitive_callable.<locals>.<lambda>\u001b[0;34m(*args, **kw)\u001b[0m\n\u001b[1;32m    170\u001b[0m   call \u001b[39m=\u001b[39m compiled\u001b[39m.\u001b[39munsafe_call\n\u001b[1;32m    171\u001b[0m \u001b[39mif\u001b[39;00m \u001b[39mnot\u001b[39;00m prim\u001b[39m.\u001b[39mmultiple_results:\n\u001b[0;32m--> 172\u001b[0m   \u001b[39mreturn\u001b[39;00m \u001b[39mlambda\u001b[39;00m \u001b[39m*\u001b[39margs, \u001b[39m*\u001b[39m\u001b[39m*\u001b[39mkw: call(\u001b[39m*\u001b[39;49margs, \u001b[39m*\u001b[39;49m\u001b[39m*\u001b[39;49mkw)[\u001b[39m0\u001b[39m]\n\u001b[1;32m    173\u001b[0m \u001b[39melse\u001b[39;00m:\n\u001b[1;32m    174\u001b[0m   \u001b[39mreturn\u001b[39;00m call\n",
      "\u001b[0;31mValueError\u001b[0m: INVALID_ARGUMENT: stream is uninitialized or in an error state"
     ]
    }
   ],
   "source": [
    "import argparse\n",
    "import os\n",
    "import pathlib\n",
    "import sys\n",
    "import numpy as np\n",
    "import torch\n",
    "import imageio\n",
    "import bayes3d as b\n",
    "from tqdm import tqdm\n",
    "import pytorch3d.transforms\n",
    "import jax.numpy as jnp\n",
    "import nvdiffrast.torch as dr\n",
    "device = torch.device(\"cuda\" if torch.cuda.is_available() else \"cpu\")\n",
    "device\n"
   ]
  },
  {
   "cell_type": "code",
   "execution_count": null,
   "id": "dae0d56a",
   "metadata": {},
   "outputs": [],
   "source": [
    "max_iter           = 10000\n",
    "repeats            = 1\n",
    "log_interval       = 10\n",
    "display_interval   = None\n",
    "display_res        = 512\n",
    "lr_base            = 1e-3\n",
    "lr_falloff         = 1.0\n",
    "nr_base            = 1.0\n",
    "nr_falloff         = 1e-4\n",
    "grad_phase_start   = 0.5\n",
    "resolution         = 128\n",
    "out_dir            = None\n",
    "log_fn             = None\n",
    "mp4save_interval   = None\n",
    "mp4save_fn         = None\n",
    "use_opengl         = False"
   ]
  },
  {
   "cell_type": "code",
   "execution_count": null,
   "id": "47ce3703-36df-4d82-bebc-751bb974c89e",
   "metadata": {},
   "outputs": [],
   "source": [
    "def projection(x=0.1, n=1.0, f=50.0):\n",
    "    return np.array([[n/x,    0,            0,              0],\n",
    "                     [  0,  n/x,            0,              0],\n",
    "                     [  0,    0, -(f+n)/(f-n), -(2*f*n)/(f-n)],\n",
    "                     [  0,    0,           -1,              0]]).astype(np.float32)\n",
    "def translate(x, y, z):\n",
    "    return np.array([[1, 0, 0, x],\n",
    "                     [0, 1, 0, y],\n",
    "                     [0, 0, 1, z],\n",
    "                     [0, 0, 0, 1]]).astype(np.float32)\n",
    "glctx = dr.RasterizeGLContext() #if use_opengl else dr.RasterizeCudaContext()\n",
    "mvp = torch.tensor(np.matmul(projection(x=0.4), translate(0, 0, 0.0)).astype(np.float32), device='cuda')"
   ]
  },
  {
   "cell_type": "code",
   "execution_count": null,
   "id": "62fdf559-094d-46e5-ae8b-b75122891ec8",
   "metadata": {},
   "outputs": [],
   "source": [
    "def quaternion_to_matrix(poses: torch.Tensor) -> torch.Tensor:\n",
    "    \"\"\"\n",
    "    Convert rotations given as quaternions to rotation matrices.\n",
    "\n",
    "    Args:\n",
    "        quaternions: quaternions with real part first,\n",
    "            as tensor of shape (..., 4).\n",
    "\n",
    "    Returns:\n",
    "        Rotation matrices as tensor of shape (..., 3, 3).\n",
    "    \"\"\"\n",
    "    positions = poses[...,:3]\n",
    "    quaternions = poses[...,3:]\n",
    "    r, i, j, k = torch.unbind(quaternions, -1)\n",
    "    x, y, z = torch.unbind(positions, -1)\n",
    "    # pyre-fixme[58]: `/` is not supported for operand types `float` and `Tensor`.\n",
    "    two_s = 2.0 / (quaternions * quaternions).sum(-1)\n",
    "\n",
    "    o = torch.stack(\n",
    "        (\n",
    "            1 - two_s * (j * j + k * k),\n",
    "            two_s * (i * j - k * r),\n",
    "            two_s * (i * k + j * r),\n",
    "            x,\n",
    "            two_s * (i * j + k * r),\n",
    "            1 - two_s * (i * i + k * k),\n",
    "            two_s * (j * k - i * r),\n",
    "            y,\n",
    "            two_s * (i * k - j * r),\n",
    "            two_s * (j * k + i * r),\n",
    "            1 - two_s * (i * i + j * j),\n",
    "            z,\n",
    "            0.0 * x,\n",
    "            0.0 * x,\n",
    "            0.0 * x,\n",
    "            0.0 * x + 1.0,\n",
    "        ),\n",
    "        -1,\n",
    "    )\n",
    "    rotation_matrices = o.reshape(quaternions.shape[:-1] + (4, 4))\n",
    "    return rotation_matrices\n",
    "\n",
    "# Transform vertex positions to clip space\n",
    "def transform_pos(mtx, pos):\n",
    "    t_mtx = torch.from_numpy(mtx).cuda() if isinstance(mtx, np.ndarray) else mtx\n",
    "    # (x,y,z) -> (x,y,z,1)\n",
    "    posw = torch.cat([pos, torch.ones([pos.shape[0], 1]).cuda()], axis=1)\n",
    "    return torch.matmul(posw, t_mtx.t())[None, ...]\n",
    "\n",
    "def render(glctx, mtx, pos, pos_idx, resolution: int):\n",
    "    # Setup TF graph for reference.\n",
    "    depth_ = pos[..., 2:3]\n",
    "    depth = torch.tensor([[[(z_val/1)] for z_val in depth_.squeeze()]], dtype=torch.float32).cuda()\n",
    "    pos_clip    = transform_pos(mtx, pos)\n",
    "    rast_out, _ = dr.rasterize(glctx, pos_clip, pos_idx, resolution=[resolution, resolution])\n",
    "    color   , _ = dr.interpolate(depth, rast_out, pos_idx)\n",
    "    # color       = dr.antialias(color, rast_out, pos_clip, pos_idx)\n",
    "    return color\n",
    "    # return rast_out[:,:,:,2:3]\n"
   ]
  },
  {
   "cell_type": "code",
   "execution_count": null,
   "id": "a1fc02ca",
   "metadata": {},
   "outputs": [],
   "source": [
    "def posevec_to_matrix(position, quat):\n",
    "    return torch.cat(\n",
    "        (\n",
    "            torch.cat((pytorch3d.transforms.quaternion_to_matrix(quat), position.unsqueeze(1)), 1),\n",
    "            torch.tensor([[0.0, 0.0, 0.0, 1.0]],device=device),\n",
    "        ),\n",
    "        0,\n",
    "    )\n",
    "def apply_transform(points, transform):\n",
    "    rels_ = torch.cat(\n",
    "        (\n",
    "            points,\n",
    "            torch.ones((points.shape[0], 1),  device=device),\n",
    "        ),\n",
    "        1,\n",
    "    )\n",
    "    return torch.einsum(\"ij, aj -> ai\", transform, rels_)[...,:3]\n",
    "position = torch.tensor([0.0, 0.1, 0.2], device=device)\n",
    "quat = torch.tensor([1.0, 0.1, 0.2, 0.3],device=device)\n",
    "points = torch.zeros((5,3), device = device)\n",
    "print(apply_transform(points, posevec_to_matrix(position, quat)))"
   ]
  },
  {
   "cell_type": "code",
   "execution_count": null,
   "id": "adf3aa14",
   "metadata": {},
   "outputs": [],
   "source": [
    "m.vertices"
   ]
  },
  {
   "cell_type": "code",
   "execution_count": null,
   "id": "1d9c2c03-8f55-4625-982d-32479eebfa64",
   "metadata": {},
   "outputs": [],
   "source": [
    "model_dir = os.path.join(b.utils.get_assets_dir(),\"bop/ycbv/models\")\n",
    "idx = 14\n",
    "mesh_path = os.path.join(model_dir,\"obj_\" + \"{}\".format(idx).rjust(6, '0') + \".ply\")\n",
    "m = b.utils.load_mesh(mesh_path)\n",
    "m = b.utils.scale_mesh(m, 1.0/100.0)\n",
    "\n",
    "m = b.utils.make_cuboid_mesh(jnp.array([0.5, 0.5, 0.2]))\n",
    "\n",
    "vtx_pos = torch.from_numpy(m.vertices.astype(np.float32)).cuda()\n",
    "pos_idx = torch.from_numpy(m.faces.astype(np.int32)).cuda()\n",
    "col_idx = torch.from_numpy(np.zeros((vtx_pos.shape[0],3)).astype(np.int32)).cuda()\n",
    "vtx_col = torch.from_numpy(np.ones((1,3)).astype(np.float32)).cuda()\n",
    "# print(\"Mesh has %d triangles and %d vertices.\" % (pos_idx.shape[0], pos.shape[0]))\n",
    "print(pos_idx.shape, vtx_pos.shape, col_idx.shape, vtx_col.shape)\n",
    "print(vtx_pos, vtx_col)"
   ]
  },
  {
   "cell_type": "code",
   "execution_count": null,
   "id": "acb5415b",
   "metadata": {},
   "outputs": [],
   "source": [
    "def render_wrapper(pos,quat):\n",
    "    rast_target = render(glctx, torch.matmul(mvp, posevec_to_matrix(pos, quat)), vtx_pos, pos_idx,  resolution)\n",
    "    return rast_target\n",
    "\n",
    "def get_viz(rast_target):\n",
    "    img_target  = rast_target[0].detach().cpu().numpy()\n",
    "    viz = b.get_depth_image(img_target[:,:,0]* 255.0)\n",
    "    return viz"
   ]
  },
  {
   "cell_type": "code",
   "execution_count": null,
   "id": "af6f93c7-f7e8-427f-8ea5-365370a9560d",
   "metadata": {},
   "outputs": [],
   "source": [
    "pos = torch.tensor([0.0, 0.0, -2.5],device=device)\n",
    "quat =  torch.tensor(torch.rand(4,device=device) - 0.5,device=device)\n",
    "\n",
    "ground_truth_image = render_wrapper(pos,quat)\n",
    "viz_gt = get_viz(ground_truth_image)\n",
    "viz_gt\n"
   ]
  },
  {
   "cell_type": "code",
   "execution_count": null,
   "id": "2793ed71",
   "metadata": {},
   "outputs": [],
   "source": [
    "pos = torch.tensor([0.0, 0.0, -2.2],device=device, requires_grad=True)\n",
    "quat =  torch.tensor(torch.rand(4,device=device) - 0.5,device=device, requires_grad=True)\n",
    "rendered_image = render_wrapper(pos,quat)\n",
    "viz = get_viz(rendered_image)\n",
    "b.hstack_images([viz, viz_gt])\n"
   ]
  },
  {
   "cell_type": "code",
   "execution_count": null,
   "id": "27c5a306-73ca-4981-aca2-1c041ae57f81",
   "metadata": {},
   "outputs": [],
   "source": [
    "optimizer = torch.optim.Adam([\n",
    "    {'params': [pos], 'lr': 0.001, \"name\": \"pos\"},\n",
    "    {'params': [quat], 'lr': 1.0, \"name\": \"quat\"},\n",
    "], lr=0.0, eps=1e-15)\n",
    "print(quat)\n",
    "\n",
    "pbar = tqdm(range(100))\n",
    "for _ in pbar:\n",
    "    rendered_image =  render_wrapper(pos, quat)\n",
    "    loss = torch.abs(ground_truth_image - rendered_image).mean()\n",
    "    optimizer.zero_grad()\n",
    "    loss.backward()\n",
    "    optimizer.step()\n",
    "    pbar.set_description(f\"{loss.item()}\")\n",
    "viz = get_viz(rendered_image)\n",
    "print(quat)\n",
    "\n",
    "b.hstack_images([viz, viz_gt])"
   ]
  },
  {
   "cell_type": "code",
   "execution_count": null,
   "id": "dc06f769",
   "metadata": {},
   "outputs": [],
   "source": [
    "diff = (rast_opt - rast_target)**2 # L2 norm.\n",
    "diff.sum()"
   ]
  },
  {
   "cell_type": "code",
   "execution_count": null,
   "id": "fb98ecb0-6e55-4280-af4f-6639e5d69f8c",
   "metadata": {},
   "outputs": [],
   "source": [
    "optimizer = torch.optim.Adam([pose_opt],  lr=0.00001)\n",
    "images = []\n",
    "\n",
    "for _ in tqdm(range(200)):    \n",
    "    rast_opt = render(glctx, torch.matmul(mvp, quaternion_to_matrix(pose_opt)), vtx_pos, pos_idx,  resolution)\n",
    "\n",
    "    diff = (rast_opt - rast_target)**2 # L2 norm.\n",
    "    loss = torch.mean(diff)\n",
    "    loss_val = float(loss)\n",
    "    \n",
    "    if (loss_val < loss_best) and (loss_val > 0.0):\n",
    "        loss_best = loss_val\n",
    "                \n",
    "    optimizer.zero_grad()\n",
    "    loss.backward()\n",
    "    optimizer.step()\n",
    "\n",
    "    print(loss)    \n",
    "    with torch.no_grad():\n",
    "        pose_opt /= torch.sum(pose_opt**2)**0.5\n",
    "    \n",
    "    img_opt  = rast_opt[0].detach().cpu().numpy()\n",
    "    images.append(\n",
    "        b.hstack_images([\n",
    "            b.get_depth_image(img_opt[:,:,0]* 255.0) ,\n",
    "            b.get_depth_image(img_target[:,:,0]* 255.0) ,\n",
    "        ])\n",
    "    )"
   ]
  },
  {
   "cell_type": "code",
   "execution_count": null,
   "id": "2651d8eb-75c3-4453-b58c-09e46ce2b1a7",
   "metadata": {},
   "outputs": [],
   "source": [
    "b.vstack_images([images[0],images[-1]])"
   ]
  },
  {
   "cell_type": "code",
   "execution_count": null,
   "id": "68e1f6dc-31e1-4c33-97c3-d13fa8e5f34a",
   "metadata": {},
   "outputs": [],
   "source": []
  },
  {
   "cell_type": "code",
   "execution_count": null,
   "id": "b921bcb5-4d8b-4b0f-8b9f-f3d70ca43522",
   "metadata": {},
   "outputs": [],
   "source": []
  },
  {
   "cell_type": "code",
   "execution_count": null,
   "id": "f0f58562-0672-4e28-810b-2e30e7c849e9",
   "metadata": {},
   "outputs": [],
   "source": []
  },
  {
   "cell_type": "code",
   "execution_count": null,
   "id": "f15dc7cd-0aef-44c7-a821-368b512c9fbd",
   "metadata": {},
   "outputs": [],
   "source": []
  }
 ],
 "metadata": {
  "kernelspec": {
   "display_name": "Python 3 (ipykernel)",
   "language": "python",
   "name": "python3"
  },
  "language_info": {
   "codemirror_mode": {
    "name": "ipython",
    "version": 3
   },
   "file_extension": ".py",
   "mimetype": "text/x-python",
   "name": "python",
   "nbconvert_exporter": "python",
   "pygments_lexer": "ipython3",
   "version": "3.9.18"
  }
 },
 "nbformat": 4,
 "nbformat_minor": 5
}
