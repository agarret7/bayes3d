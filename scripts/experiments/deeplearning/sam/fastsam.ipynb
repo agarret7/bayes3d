{
 "cells": [
  {
   "cell_type": "code",
   "execution_count": null,
   "metadata": {},
   "outputs": [],
   "source": [
    "import sys\n",
    "import bayes3d as b\n",
    "import os\n",
    "import numpy as np\n",
    "cnos_dir = os.path.dirname(b.utils.get_assets_dir())\n",
    "print(cnos_dir)\n",
    "sys.path.append(cnos_dir)"
   ]
  },
  {
   "cell_type": "code",
   "execution_count": null,
   "metadata": {},
   "outputs": [],
   "source": [
    "!pip install datadict"
   ]
  },
  {
   "cell_type": "code",
   "execution_count": null,
   "metadata": {},
   "outputs": [],
   "source": [
    "from cnos.src.model.fast_sam import FastSAM\n",
    "from datadict import dataclass\n",
    "\n",
    "@dataclass(order=True)\n",
    "class Config:\n",
    "    iou_threshold = 0.9\n",
    "    conf_threshold = 0.05\n",
    "    max_det =  200\n",
    "config = Config()"
   ]
  },
  {
   "cell_type": "code",
   "execution_count": null,
   "metadata": {},
   "outputs": [],
   "source": [
    "sam_model = FastSAM(\n",
    "    os.path.join(cnos_dir, \"cnos/datasets/bop23_challenge/pretrained/FastSAM/FastSAM-x.pt\"),\n",
    "    config,\n",
    "    640\n",
    ")"
   ]
  },
  {
   "cell_type": "code",
   "execution_count": null,
   "metadata": {},
   "outputs": [],
   "source": [
    "    bop_ycb_dir = os.path.join(b.utils.get_assets_dir(), \"bop/ycbv\")\n",
    "    rgbd, gt_ids, gt_poses, masks = b.utils.ycb_loader.get_test_img('52', '1', bop_ycb_dir)\n"
   ]
  },
  {
   "cell_type": "code",
   "execution_count": null,
   "metadata": {},
   "outputs": [],
   "source": [
    "type(rgbd.rgb)"
   ]
  },
  {
   "cell_type": "code",
   "execution_count": null,
   "metadata": {},
   "outputs": [],
   "source": []
  },
  {
   "cell_type": "code",
   "execution_count": null,
   "metadata": {},
   "outputs": [],
   "source": [
    "b.get_rgb_image(rgbd.rgb)"
   ]
  },
  {
   "cell_type": "code",
   "execution_count": null,
   "metadata": {},
   "outputs": [],
   "source": [
    "output = sam_model.generate_masks(np.array(rgbd.rgb))"
   ]
  },
  {
   "cell_type": "code",
   "execution_count": null,
   "metadata": {},
   "outputs": [],
   "source": [
    "b.hstack_images(\n",
    "    [b.get_depth_image(np.array(output[\"masks\"][i].cpu().numpy())) for i in range(len(output[\"masks\"]))]\n",
    ")"
   ]
  },
  {
   "cell_type": "code",
   "execution_count": null,
   "metadata": {},
   "outputs": [],
   "source": [
    "  _target_: src.model.dinov2.CustomDINOv2\n",
    "  model_name: dinov2_vitl14\n",
    "  model: \n",
    "    _target_: torch.hub.load\n",
    "    repo_or_dir: facebookresearch/dinov2\n",
    "    model: ${model.descriptor_model.model_name}\n",
    "  token_name: x_norm_clstoken\n",
    "  descriptor_width_size: ${model.descriptor_width_size}\n",
    "  image_size: 224\n",
    "  chunk_size: 16"
   ]
  }
 ],
 "metadata": {
  "kernelspec": {
   "display_name": "bayes3d",
   "language": "python",
   "name": "python3"
  },
  "language_info": {
   "codemirror_mode": {
    "name": "ipython",
    "version": 3
   },
   "file_extension": ".py",
   "mimetype": "text/x-python",
   "name": "python",
   "nbconvert_exporter": "python",
   "pygments_lexer": "ipython3",
   "version": "3.9.18"
  }
 },
 "nbformat": 4,
 "nbformat_minor": 2
}
