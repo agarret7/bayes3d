{
 "cells": [
  {
   "cell_type": "code",
   "execution_count": 25,
   "metadata": {},
   "outputs": [],
   "source": [
    "import bayes3d as b\n",
    "import jax.numpy as jnp\n",
    "import jax\n",
    "from tqdm import tqdm\n",
    "import matplotlib.pyplot as plt"
   ]
  },
  {
   "cell_type": "code",
   "execution_count": 2,
   "metadata": {},
   "outputs": [
    {
     "name": "stdout",
     "output_type": "stream",
     "text": [
      "You can open the visualizer by visiting the following URL:\n",
      "http://127.0.0.1:7049/static/\n"
     ]
    }
   ],
   "source": [
    "b.setup_visualizer()"
   ]
  },
  {
   "cell_type": "code",
   "execution_count": 3,
   "metadata": {},
   "outputs": [],
   "source": [
    "\n",
    "intrinsics = b.Intrinsics(\n",
    "    height=100,\n",
    "    width=100,\n",
    "    fx=50.0, fy=50.0,\n",
    "    cx=50.0, cy=50.0,\n",
    "    near=0.001, far=16.0\n",
    ")\n",
    "from bayes3d.rendering.nvdiffrast_jax.jax_renderer import Renderer as JaxRenderer\n",
    "jax_renderer = JaxRenderer(intrinsics)\n"
   ]
  },
  {
   "cell_type": "code",
   "execution_count": 11,
   "metadata": {},
   "outputs": [
    {
     "name": "stdout",
     "output_type": "stream",
     "text": [
      "(Array([5.190015, 3.000812, 8.171652], dtype=float32), Array([[ 1.        ,  0.        ,  0.        , -0.09099948],\n",
      "       [ 0.        ,  1.        ,  0.        , -0.49959397],\n",
      "       [ 0.        ,  0.        ,  1.        , -0.01582694],\n",
      "       [ 0.        ,  0.        ,  0.        ,  1.        ]],      dtype=float32))\n"
     ]
    }
   ],
   "source": [
    "\n",
    "import trimesh\n",
    "def as_mesh(scene_or_mesh):\n",
    "    \"\"\"\n",
    "    Convert a possible scene to a mesh.\n",
    "\n",
    "    If conversion occurs, the returned mesh has only vertex and face data.\n",
    "    \"\"\"\n",
    "    if isinstance(scene_or_mesh, trimesh.Scene):\n",
    "        if len(scene_or_mesh.geometry) == 0:\n",
    "            mesh = None  # empty scene\n",
    "        else:\n",
    "            # we lose texture information here\n",
    "            mesh = trimesh.util.concatenate(\n",
    "                tuple(trimesh.Trimesh(vertices=g.vertices, faces=g.faces)\n",
    "                    for g in scene_or_mesh.geometry.values()))\n",
    "    else:\n",
    "        assert(isinstance(mesh, trimesh.Trimesh))\n",
    "        mesh = scene_or_mesh\n",
    "    return mesh\n",
    "mesh  =as_mesh(trimesh.load('InteriorTest.obj'))\n",
    "mesh.vertices  = mesh.vertices * jnp.array([1.0, -1.0, 1.0]) + jnp.array([0.0, 1.0, 0.0])\n",
    "vertices = mesh.vertices\n",
    "faces = mesh.faces\n",
    "print(b.utils.aabb(mesh.vertices))\n",
    "b.show_trimesh(\"1\",mesh)"
   ]
  },
  {
   "cell_type": "code",
   "execution_count": 50,
   "metadata": {},
   "outputs": [],
   "source": [
    "def apply_move(pose, move):\n",
    "    if move == \"ahead\":\n",
    "        return pose @ b.transform_from_pos(jnp.array([0.0, 0.0, 0.1]))\n",
    "    elif move == \"right\":\n",
    "        return pose @ b.transform_from_pos(jnp.array([0.1, 0.0, 0.0]))\n",
    "    elif move == \"left\":\n",
    "        return pose @ b.transform_from_pos(jnp.array([-0.1, 0.0, 0.0]))\n",
    "    elif move == \"rotate_left\":\n",
    "        return pose @ b.transform_from_axis_angle(jnp.array([-0.0, 1.0, 0.0]), jnp.deg2rad(10.0) * -1.0)\n",
    "    elif move == \"rotate_right\":\n",
    "        return pose @ b.transform_from_axis_angle(jnp.array([-0.0, 1.0, 0.0]), jnp.deg2rad(10.0) * 1.0)\n",
    "moves = [*[\"ahead\" for _ in range(20)], *[\"rotate_left\" for _ in range(8)], *[\"ahead\" for _ in range(10)], *[\"rotate_right\" for _ in range(4)],*[\"ahead\" for _ in range(10)]]\n",
    "camera_poses = [jnp.eye(4)]\n",
    "for move in moves:\n",
    "    camera_poses.append(apply_move(camera_poses[-1], move))\n",
    "camera_poses = jnp.stack(camera_poses)"
   ]
  },
  {
   "cell_type": "code",
   "execution_count": 36,
   "metadata": {},
   "outputs": [],
   "source": [
    "gt_images = [\n",
    "    jax_renderer.render(vertices, faces, b.inverse_pose(p), intrinsics)[0][0,...]\n",
    "    for p in camera_poses\n",
    "]\n",
    "b.make_gif_from_pil_images([b.get_depth_image(img, min_val=0.0, max_val=5.0, remove_max=False) for img in gt_images], \"gt.gif\")"
   ]
  },
  {
   "cell_type": "code",
   "execution_count": 28,
   "metadata": {},
   "outputs": [],
   "source": [
    "def loss(trans, q, gt_img):\n",
    "    camera_pose = b.translation_and_quaternion_to_pose_matrix(trans, q)\n",
    "    img = jax_renderer.render(vertices, faces, b.inverse_pose(camera_pose), intrinsics)[0][0,...]\n",
    "    return (jnp.abs(img - gt_img)).mean()\n",
    "\n",
    "value_and_grad_jit = jax.jit(jax.value_and_grad(loss, argnums=(0,1,)))"
   ]
  },
  {
   "cell_type": "code",
   "execution_count": 29,
   "metadata": {},
   "outputs": [],
   "source": [
    "b.clear()\n",
    "b.show_pose(\"actual\", camera_poses[1])\n",
    "tr,q = b.pose_matrix_to_translation_and_quaternion(camera_poses[0])\n",
    "b.show_pose(\"inferred\", b.translation_and_quaternion_to_pose_matrix(tr,q), size=0.1)"
   ]
  },
  {
   "cell_type": "code",
   "execution_count": 30,
   "metadata": {},
   "outputs": [
    {
     "name": "stdout",
     "output_type": "stream",
     "text": [
      "start  (Array(0.3906966, dtype=float32), (Array([ 0.05876064, -0.19676153, -0.34958   ], dtype=float32), Array([0.       , 1.6928822, 0.2993236, 0.7067344], dtype=float32)))\n"
     ]
    },
    {
     "name": "stderr",
     "output_type": "stream",
     "text": [
      "0.3322584927082062: 100%|██████████| 200/200 [00:00<00:00, 371.03it/s]  \n"
     ]
    }
   ],
   "source": [
    "print(\"start \" , value_and_grad_jit(tr, q, gt_images[1]))\n",
    "poses = []\n",
    "pbar = tqdm(range(200))\n",
    "timestep = 1\n",
    "for _  in pbar:\n",
    "    loss, (g1, g2) = value_and_grad_jit(tr, q, gt_images[timestep])\n",
    "    tr -= g1 * 0.01\n",
    "    q -= g2 * 0.01\n",
    "    pbar.set_description(f\"{loss}\")\n",
    "    # poses.append(b.translation_and_quaternion_to_pose_matrix(tr,q))\n",
    "b.show_pose(\"inferred\", b.translation_and_quaternion_to_pose_matrix(tr,q), size=0.1)"
   ]
  },
  {
   "cell_type": "code",
   "execution_count": 31,
   "metadata": {},
   "outputs": [],
   "source": [
    "b.clear()\n",
    "b.show_pose(\"actual\", camera_poses[1])\n",
    "tr,q = b.pose_matrix_to_translation_and_quaternion(camera_poses[0])\n",
    "b.show_pose(\"inferred\", b.translation_and_quaternion_to_pose_matrix(tr,q), size=0.1)"
   ]
  },
  {
   "cell_type": "code",
   "execution_count": 32,
   "metadata": {},
   "outputs": [
    {
     "name": "stderr",
     "output_type": "stream",
     "text": [
      "0.3899867534637451: 100%|██████████| 200/200 [00:00<00:00, 278.87it/s]\n",
      "0.1487007588148117: 100%|██████████| 200/200 [00:00<00:00, 277.16it/s]\n",
      "0.08305474370718002: 100%|██████████| 200/200 [00:00<00:00, 283.44it/s]\n",
      "0.25310218334198: 100%|██████████| 200/200 [00:00<00:00, 269.80it/s]\n",
      "0.22072799503803253: 100%|██████████| 200/200 [00:00<00:00, 266.37it/s]\n",
      "0.23502352833747864: 100%|██████████| 200/200 [00:00<00:00, 282.34it/s]\n",
      "0.20844027400016785: 100%|██████████| 200/200 [00:00<00:00, 276.01it/s]\n",
      "0.05113470181822777: 100%|██████████| 200/200 [00:00<00:00, 278.08it/s]\n",
      "0.15919899940490723: 100%|██████████| 200/200 [00:00<00:00, 275.17it/s]\n",
      "0.02560882270336151: 100%|██████████| 200/200 [00:00<00:00, 275.10it/s]\n",
      "0.06541278213262558: 100%|██████████| 200/200 [00:00<00:00, 282.22it/s]\n",
      "0.06342763453722: 100%|██████████| 200/200 [00:00<00:00, 272.81it/s]\n",
      "0.00820655096322298: 100%|██████████| 200/200 [00:00<00:00, 292.68it/s]\n",
      "0.0583726242184639: 100%|██████████| 200/200 [00:00<00:00, 284.12it/s]\n",
      "0.028398849070072174: 100%|██████████| 200/200 [00:00<00:00, 283.12it/s]\n",
      "0.023260995745658875: 100%|██████████| 200/200 [00:00<00:00, 278.31it/s]\n",
      "0.023202678188681602: 100%|██████████| 200/200 [00:00<00:00, 272.97it/s]\n",
      "0.023970888927578926: 100%|██████████| 200/200 [00:00<00:00, 276.75it/s]\n",
      "0.020467113703489304: 100%|██████████| 200/200 [00:00<00:00, 278.20it/s]\n",
      "0.02279980666935444: 100%|██████████| 200/200 [00:00<00:00, 281.75it/s]\n",
      "0.017673157155513763: 100%|██████████| 200/200 [00:00<00:00, 274.36it/s]\n",
      "0.001841078163124621: 100%|██████████| 200/200 [00:00<00:00, 277.82it/s]\n",
      "0.010420640930533409: 100%|██████████| 200/200 [00:00<00:00, 287.37it/s]\n",
      "0.005757361650466919: 100%|██████████| 200/200 [00:00<00:00, 277.03it/s]\n",
      "0.00561095867305994: 100%|██████████| 200/200 [00:00<00:00, 276.01it/s]\n",
      "0.02194312959909439: 100%|██████████| 200/200 [00:00<00:00, 288.21it/s]\n",
      "0.020934540778398514: 100%|██████████| 200/200 [00:00<00:00, 286.92it/s]\n",
      "0.0010325174080207944: 100%|██████████| 200/200 [00:00<00:00, 285.16it/s]\n",
      "0.016784822568297386: 100%|██████████| 200/200 [00:00<00:00, 285.75it/s]\n",
      "0.00749386940151453: 100%|██████████| 200/200 [00:00<00:00, 283.81it/s]\n",
      "0.0241511519998312: 100%|██████████| 200/200 [00:00<00:00, 280.10it/s]\n",
      "0.02028077095746994: 100%|██████████| 200/200 [00:00<00:00, 277.32it/s]\n",
      "0.003584465244784951: 100%|██████████| 200/200 [00:00<00:00, 282.45it/s]\n",
      "0.006284941453486681: 100%|██████████| 200/200 [00:00<00:00, 282.33it/s]\n",
      "0.011691911146044731: 100%|██████████| 200/200 [00:00<00:00, 283.34it/s]\n",
      "0.00804691482335329: 100%|██████████| 200/200 [00:00<00:00, 283.89it/s]\n",
      "0.010971561074256897: 100%|██████████| 200/200 [00:00<00:00, 275.64it/s]\n",
      "0.011220780201256275: 100%|██████████| 200/200 [00:00<00:00, 279.55it/s]\n",
      "0.002726983977481723: 100%|██████████| 200/200 [00:00<00:00, 278.44it/s]\n",
      "100%|██████████| 39/39 [00:29<00:00,  1.31it/s]\n"
     ]
    }
   ],
   "source": [
    "inferred_poses = []\n",
    "pbar2 = tqdm(range(len(gt_images)))\n",
    "for timestep  in pbar2:\n",
    "    pbar = tqdm(range(200))\n",
    "    for _  in pbar:\n",
    "        loss, (g1, g2) = value_and_grad_jit(tr, q, gt_images[timestep])\n",
    "        tr -= g1 * 0.01\n",
    "        q -= g2 * 0.01\n",
    "        pbar.set_description(f\"{loss}\")\n",
    "    b.show_pose(\"actual\", camera_poses[timestep])\n",
    "    b.show_pose(\"inferred\", b.translation_and_quaternion_to_pose_matrix(tr,q), size=0.1)\n",
    "    inferred_poses.append(b.translation_and_quaternion_to_pose_matrix(tr,q))"
   ]
  },
  {
   "cell_type": "code",
   "execution_count": 37,
   "metadata": {},
   "outputs": [],
   "source": [
    "b.clear()\n",
    "b.show_cloud(\"1\", mesh.vertices)"
   ]
  },
  {
   "cell_type": "code",
   "execution_count": 55,
   "metadata": {},
   "outputs": [
    {
     "data": {
      "text/plain": [
       "Array([[ 0.93969256,  0.        , -0.34202012,  0.        ],\n",
       "       [ 0.        ,  1.        ,  0.        ,  0.        ],\n",
       "       [ 0.34202012,  0.        ,  0.93969256,  2.0000002 ],\n",
       "       [ 0.        ,  0.        ,  0.        ,  1.        ]],      dtype=float32)"
      ]
     },
     "execution_count": 55,
     "metadata": {},
     "output_type": "execute_result"
    }
   ],
   "source": [
    "camera_poses[22]"
   ]
  },
  {
   "cell_type": "code",
   "execution_count": 57,
   "metadata": {},
   "outputs": [
    {
     "data": {
      "text/plain": [
       "<matplotlib.quiver.Quiver at 0x7f8579887580>"
      ]
     },
     "execution_count": 57,
     "metadata": {},
     "output_type": "execute_result"
    },
    {
     "data": {
      "image/png": "[encoded data removed]",
      "text/plain": [
       "<Figure size 1000x1000 with 1 Axes>"
      ]
     },
     "metadata": {},
     "output_type": "display_data"
    }
   ],
   "source": [
    "fig = plt.figure(figsize=(10,10))\n",
    "ax = fig.add_subplot(1,1,1)\n",
    "ax.quiver(camera_poses[:,0,3], camera_poses[:,2,3], camera_poses[:,0,2], camera_poses[:,2,2])"
   ]
  },
  {
   "cell_type": "code",
   "execution_count": 80,
   "metadata": {},
   "outputs": [],
   "source": [
    "b.clear()\n",
    "for i in range(len(poses)):\n",
    "    b.show_pose(f\"{i}\", poses[i])\n",
    "    b.show_pose(f\"{i}_actual\", camera_poses[i])"
   ]
  },
  {
   "cell_type": "code",
   "execution_count": null,
   "metadata": {},
   "outputs": [],
   "source": [
    "b.show_pose(\"2\", b.translation_and_quaternion_to_pose_matrix(tr,q), size=0.1)\n"
   ]
  },
  {
   "cell_type": "code",
   "execution_count": 56,
   "metadata": {},
   "outputs": [],
   "source": [
    "\n",
    "# b.show_pose(\"2\", "
   ]
  },
  {
   "cell_type": "code",
   "execution_count": null,
   "metadata": {},
   "outputs": [],
   "source": []
  },
  {
   "cell_type": "code",
   "execution_count": 18,
   "metadata": {},
   "outputs": [
    {
     "data": {
      "text/plain": [
       "(Array(0.43455184, dtype=float32),\n",
       " (Array([-0.15023103, -0.33511856,  0.05152562], dtype=float32),\n",
       "  Array([ 0.        ,  1.6910034 , -0.15435895,  0.6346966 ], dtype=float32)))"
      ]
     },
     "execution_count": 18,
     "metadata": {},
     "output_type": "execute_result"
    }
   ],
   "source": [
    "value_and_grad_jit(*b.pose_matrix_to_translation_and_quaternion(camera_poses[0]), gt_images[1])"
   ]
  },
  {
   "cell_type": "code",
   "execution_count": 19,
   "metadata": {},
   "outputs": [],
   "source": []
  },
  {
   "cell_type": "code",
   "execution_count": 5,
   "metadata": {},
   "outputs": [],
   "source": [
    "translation_deltas = b.utils.make_translation_grid_enumeration(-0.2, -0.2, -0.2, 0.2, 0.2, 0.2, 25, 25, 25)\n",
    "rotation_deltas = jax.vmap(lambda key: b.distributions.gaussian_vmf_zero_mean(key, 0.0001, 800.0))(\n",
    "    jax.random.split(jax.random.PRNGKey(30), 100)\n",
    ")"
   ]
  },
  {
   "cell_type": "code",
   "execution_count": 6,
   "metadata": {},
   "outputs": [],
   "source": [
    "def grid_and_select(current_pose, diffs, obs_img, variance):\n",
    "    possible_poses = jnp.einsum(\"aij,jk->aik\", diffs, current_pose)\n",
    "    rendered_imgs = b.RENDERER.render_many(b.inverse_pose(possible_poses)[:,None,...], jnp.array([0]))[...,:3]\n",
    "    scores = jax.vmap(b.threedp3_likelihood, in_axes=(None, 0, None, None))(obs_img, rendered_imgs, variance, 0.0)\n",
    "    return possible_poses[jnp.argmax(scores)], scores.max()\n",
    "grid_and_select_jit = jax.jit(grid_and_select)"
   ]
  },
  {
   "cell_type": "code",
   "execution_count": 33,
   "metadata": {},
   "outputs": [],
   "source": [
    "T = 1\n",
    "current_pose = camera_poses[0]\n",
    "b.clear()\n",
    "b.show_pose(f\"current_pose\", current_pose)\n",
    "b.show_pose(f\"ground_truth\", camera_poses[T])"
   ]
  },
  {
   "cell_type": "code",
   "execution_count": 55,
   "metadata": {},
   "outputs": [],
   "source": [
    "translation_deltas = b.utils.make_translation_grid_enumeration(-0.1, -0.1, -0.1, 0.1, 0.1, 0.1, 25, 25, 25)"
   ]
  },
  {
   "cell_type": "code",
   "execution_count": 53,
   "metadata": {},
   "outputs": [],
   "source": [
    "translation_deltas = b.utils.make_translation_grid_enumeration(-0.05, -0.05, -0.05, 0.05, 0.05, 0.05, 25, 25, 25)"
   ]
  },
  {
   "cell_type": "code",
   "execution_count": 56,
   "metadata": {},
   "outputs": [
    {
     "name": "stdout",
     "output_type": "stream",
     "text": [
      "23.425\n"
     ]
    }
   ],
   "source": [
    "T = 1\n",
    "b.clear()\n",
    "current_pose,score = grid_and_select_jit(current_pose, translation_deltas, images[T], 0.02)\n",
    "# current_pose,score = grid_and_select_jit(current_pose, rotation_deltas, images[T], 0.02)\n",
    "print(score)\n",
    "b.show_pose(f\"current_pose\", current_pose)\n",
    "b.show_pose(f\"ground_truth\", camera_poses[T])"
   ]
  },
  {
   "cell_type": "code",
   "execution_count": 31,
   "metadata": {},
   "outputs": [
    {
     "name": "stdout",
     "output_type": "stream",
     "text": [
      "[[ 1.0000000e+00  0.0000000e+00  0.0000000e+00  6.6666678e-02]\n",
      " [ 0.0000000e+00  1.0000000e+00  0.0000000e+00  1.8626451e-08]\n",
      " [ 0.0000000e+00  0.0000000e+00  1.0000000e+00 -4.1666478e-03]\n",
      " [ 0.0000000e+00  0.0000000e+00  0.0000000e+00  1.0000000e+00]]\n",
      "[[ 0.99950653  0.         -0.03141076  0.1       ]\n",
      " [ 0.          1.          0.          0.        ]\n",
      " [ 0.03141076  0.          0.99950653  0.        ]\n",
      " [ 0.          0.          0.          1.        ]]\n"
     ]
    }
   ],
   "source": [
    "print(current_pose)\n",
    "print(camera_poses[T])"
   ]
  },
  {
   "cell_type": "code",
   "execution_count": 29,
   "metadata": {},
   "outputs": [
    {
     "data": {
      "text/plain": [
       "Array(50., dtype=float32)"
      ]
     },
     "execution_count": 29,
     "metadata": {},
     "output_type": "execute_result"
    }
   ],
   "source": [
    "b.threedp3_likelihood(images[T],images[T], 0.02, 0.0)"
   ]
  },
  {
   "cell_type": "code",
   "execution_count": 52,
   "metadata": {},
   "outputs": [],
   "source": [
    "b.make_gif_from_pil_images(viz_images, 'room.gif')\n"
   ]
  },
  {
   "cell_type": "code",
   "execution_count": 21,
   "metadata": {},
   "outputs": [],
   "source": [
    "b.show_trimesh(\"1\",b.RENDERER.meshes[0])"
   ]
  },
  {
   "cell_type": "code",
   "execution_count": 6,
   "metadata": {},
   "outputs": [
    {
     "data": {
      "text/plain": [
       "(11, 100, 100, 4)"
      ]
     },
     "execution_count": 6,
     "metadata": {},
     "output_type": "execute_result"
    }
   ],
   "source": []
  },
  {
   "cell_type": "code",
   "execution_count": null,
   "metadata": {},
   "outputs": [],
   "source": []
  }
 ],
 "metadata": {
  "kernelspec": {
   "display_name": "bayes3d",
   "language": "python",
   "name": "python3"
  },
  "language_info": {
   "codemirror_mode": {
    "name": "ipython",
    "version": 3
   },
   "file_extension": ".py",
   "mimetype": "text/x-python",
   "name": "python",
   "nbconvert_exporter": "python",
   "pygments_lexer": "ipython3",
   "version": "3.9.18"
  }
 },
 "nbformat": 4,
 "nbformat_minor": 2
}
