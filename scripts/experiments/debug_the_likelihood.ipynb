{
 "cells": [
  {
   "cell_type": "code",
   "execution_count": null,
   "id": "c272614f-9c91-45fa-a80c-c30387e64e39",
   "metadata": {},
   "outputs": [],
   "source": [
    "import jax.numpy as jnp\n",
    "import bayes3d as b\n",
    "import os\n",
    "import jax\n",
    "import functools\n",
    "from jax.scipy.special import logsumexp\n",
    "from functools import partial\n",
    "from tqdm import tqdm\n",
    "import matplotlib.pyplot as plt\n",
    "import bayes3d.genjax\n",
    "import genjax\n",
    "import pathlib"
   ]
  },
  {
   "cell_type": "code",
   "execution_count": null,
   "id": "365b409b-10be-4f2d-9dd3-bc30ac7483d0",
   "metadata": {},
   "outputs": [],
   "source": [
    "intrinsics = b.Intrinsics(\n",
    "    height=100,\n",
    "    width=100,\n",
    "    fx=200.0, fy=200.0,\n",
    "    cx=50.0, cy=50.0,\n",
    "    near=0.0001, far=5.0\n",
    ")"
   ]
  },
  {
   "cell_type": "code",
   "execution_count": null,
   "id": "ff88ebe5-6ae7-4671-a1c9-812a8f795427",
   "metadata": {},
   "outputs": [],
   "source": []
  },
  {
   "cell_type": "code",
   "execution_count": null,
   "id": "f6881c08-7bdd-48f1-8b54-4f8c0d4365c4",
   "metadata": {},
   "outputs": [],
   "source": [
    "FILTER_SIZE = 3\n",
    "\n",
    "\n",
    "@functools.partial(\n",
    "    jnp.vectorize,\n",
    "    signature='(m)->()',\n",
    "    excluded=(0,2,),\n",
    ")\n",
    "def compute_score_vectorize(observed_xyz, latent_filter_xyz, variance):\n",
    "    latent_filter_xyz\n",
    "\n",
    "    \n",
    "@functools.partial(\n",
    "    jnp.vectorize,\n",
    "    signature='(m)->(j,j)',\n",
    "    excluded=(1,2,3,),\n",
    ")\n",
    "def convolutional_filter_vectorize(\n",
    "    ij,\n",
    "    observed_xyz: jnp.ndarray,\n",
    "    rendered_xyz_padded: jnp.ndarray,\n",
    "    variance,\n",
    "):\n",
    "    latent_filter_xyz = jax.lax.dynamic_slice(\n",
    "        rendered_xyz_padded,\n",
    "        (ij[0], ij[1], 0),\n",
    "        (2*FILTER_SIZE + 1, 2*FILTER_SIZE + 1, 3)\n",
    "    )\n",
    "    scores = compute_score_vectorize(observed_xyz, latent_filter_xyz, variance)\n",
    "    return scores\n",
    "\n",
    "def likelihood(observed_xyz, rendered_xyz, variance):\n",
    "    rendered_xyz_padded = jax.lax.pad(rendered_xyz,  intrinsics.far, ((FILTER_SIZE,FILTER_SIZE,0,),(FILTER_SIZE,FILTER_SIZE,0,),(0,0,0,)))\n",
    "    jj, ii = jnp.meshgrid(jnp.arange(observed_xyz.shape[1]), jnp.arange(observed_xyz.shape[0]))\n",
    "    indices = jnp.stack([ii,jj],axis=-1)\n",
    "\n",
    "    log_probabilities = convolutional_filter_vectorize(\n",
    "        indices, observed_xyz,\n",
    "        rendered_xyz_padded,\n",
    "        focal_length,\n",
    "    )\n",
    "    return log_probabilities.min(-1).min(-1)"
   ]
  },
  {
   "cell_type": "code",
   "execution_count": null,
   "id": "ed73cb03-088f-4020-97d7-e38f500ff609",
   "metadata": {},
   "outputs": [],
   "source": [
    "center_1 = jnp.array([1.0, 1.0, 1.0])\n",
    "center_2 = center_1\n",
    "print(compute_score(center_1, center_2, 200.0))\n",
    "\n",
    "center_1 = jnp.array([1.0, 1.0, 1.0])\n",
    "center_2 = jnp.array([0.1, 0.1, 1.0])\n",
    "print(compute_score(center_1, center_2, 200.0))"
   ]
  },
  {
   "cell_type": "code",
   "execution_count": null,
   "id": "8b57df5d-5e32-4e18-b4ad-d41c8d7f1927",
   "metadata": {},
   "outputs": [],
   "source": [
    "cloud = (jax.random.uniform(jax.random.PRNGKey(10), shape=(100,3)) - 0.5) * 0.1\n",
    "def render_img(pose):\n",
    "    img = b.render_point_cloud(b.apply_transform(cloud, pose), intrinsics)\n",
    "    return b.unproject_depth(img[:,:,2], intrinsics)\n",
    "pose1 = b.transform_from_pos(jnp.array([0.0, 0.0, 3.0]))\n",
    "pose2 = b.transform_from_pos(jnp.array([0.0, 10.0, 3.0]))\n",
    "img1 = render_img(pose1)\n",
    "img2 = render_img(pose2)\n",
    "focal_length = intrinsics.fx\n",
    "b.viz.scale_image(b.get_depth_image(img1[...,2]),5.0)"
   ]
  },
  {
   "cell_type": "code",
   "execution_count": null,
   "id": "f3f10b6a-70b0-4159-b8ad-66b749a03372",
   "metadata": {},
   "outputs": [],
   "source": [
    "likelihoods1 = likelihood(img1, img1, 200.0) \n",
    "likelihoods2 = likelihood(img1, img2, 200.0)\n",
    "print(logsumexp(likelihoods1), logsumexp(likelihoods2))\n",
    "diff = likelihoods1 - likelihoods2\n",
    "print(jnp.abs(diff).sum())\n",
    "plt.matshow(jnp.hstack([likelihoods1, likelihoods2]))\n",
    "plt.colorbar()\n",
    "\n",
    "plt.matshow(diff)\n",
    "plt.colorbar()"
   ]
  },
  {
   "cell_type": "code",
   "execution_count": null,
   "id": "db0ac19d-fff6-4612-a51b-d81f0633248a",
   "metadata": {},
   "outputs": [],
   "source": [
    "i,j = jnp.unravel_index(diff.argmax(), diff.shape)\n",
    "print(img1[i,j])\n",
    "print(img2[i,j])\n",
    "print(likelihoods1[i,j])\n",
    "print(likelihoods2[i,j])"
   ]
  },
  {
   "cell_type": "code",
   "execution_count": null,
   "id": "9e5f5b9b-91aa-4986-82af-bd50c930e090",
   "metadata": {},
   "outputs": [],
   "source": [
    "print(convolutional_filter_vectorize(jnp.array([[i,j]]), img1, img1, 200.0).sum())"
   ]
  },
  {
   "cell_type": "code",
   "execution_count": null,
   "id": "0896dcde-c644-46d5-ac74-dafd3e4c44ec",
   "metadata": {},
   "outputs": [],
   "source": [
    "likelihoods1[i,j]"
   ]
  },
  {
   "cell_type": "code",
   "execution_count": null,
   "id": "5e7704ee-f9d5-4e3d-897e-8452df238033",
   "metadata": {},
   "outputs": [],
   "source": [
    "print(likelihoods1[i,j])\n",
    "print(likelihoods2[i,j])"
   ]
  },
  {
   "cell_type": "code",
   "execution_count": null,
   "id": "c2efa71c-03fc-4ec3-ac2f-b6129e4a5810",
   "metadata": {},
   "outputs": [],
   "source": [
    "filter1 = convolutional_filter(jnp.array([i,j]), img1, img1, 200.0)\n",
    "filter2 = convolutional_filter(jnp.array([i,j]), img1, img2, 200.0)\n",
    "\n",
    "print(filter1.sum(), filter2.sum())\n",
    "plt.matshow(filter1)"
   ]
  },
  {
   "cell_type": "code",
   "execution_count": null,
   "id": "e3be2d69-0c86-4949-94f3-cfad73958d56",
   "metadata": {},
   "outputs": [],
   "source": [
    "print(filter1.sum(), filter2.sum())"
   ]
  },
  {
   "cell_type": "code",
   "execution_count": null,
   "id": "0287854f-7a13-4b8f-ab49-71b8a16597b9",
   "metadata": {},
   "outputs": [],
   "source": [
    "filter1[3,3]"
   ]
  },
  {
   "cell_type": "code",
   "execution_count": null,
   "id": "6c052881-4ecb-47b2-a2b2-a154796e20d9",
   "metadata": {},
   "outputs": [],
   "source": [
    "filter2[3,3]"
   ]
  },
  {
   "cell_type": "code",
   "execution_count": null,
   "id": "bb2429fc-67dd-4417-8c52-5624b5fb7f40",
   "metadata": {},
   "outputs": [],
   "source": [
    "scores = likelihood(img1, img1, 200.0)\n",
    "plt.matshow(scores[10:-10,10:-10])\n",
    "plt.colorbar()"
   ]
  },
  {
   "cell_type": "code",
   "execution_count": null,
   "id": "adf13bcc-cfba-423c-9040-e4fbd4588d65",
   "metadata": {},
   "outputs": [],
   "source": [
    "print(logsumexp(likelihood(img1, img1, 200.0)))\n",
    "print(logsumexp(likelihood(img1, img2, 200.0)))"
   ]
  },
  {
   "cell_type": "code",
   "execution_count": null,
   "id": "4aba8430-78f4-4aec-977b-3c861e3c06d3",
   "metadata": {},
   "outputs": [],
   "source": [
    "likelihoods1 = likelihood(img1, img1, 200.0) \n",
    "likelihoods2 = likelihood(img1, img2, 200.0)\n",
    "diff = likelihoods1 - likelihoods2\n",
    "print(jnp.abs(diff).sum())"
   ]
  },
  {
   "cell_type": "code",
   "execution_count": null,
   "id": "74add99c-d16e-4ad9-af0a-ebdb895f194c",
   "metadata": {},
   "outputs": [],
   "source": [
    "plt.matshow(jnp.hstack([likelihoods1, likelihoods2]))\n",
    "plt.colorbar()"
   ]
  },
  {
   "cell_type": "code",
   "execution_count": null,
   "id": "4c252288-1264-4725-9e84-f2c1e5ef07c7",
   "metadata": {},
   "outputs": [],
   "source": [
    "diff = 0"
   ]
  },
  {
   "cell_type": "code",
   "execution_count": null,
   "id": "ff549fdd-2050-4d19-a3b5-8817b0cb05c5",
   "metadata": {},
   "outputs": [],
   "source": []
  }
 ],
 "metadata": {
  "kernelspec": {
   "display_name": "Python 3 (ipykernel)",
   "language": "python",
   "name": "python3"
  },
  "language_info": {
   "codemirror_mode": {
    "name": "ipython",
    "version": 3
   },
   "file_extension": ".py",
   "mimetype": "text/x-python",
   "name": "python",
   "nbconvert_exporter": "python",
   "pygments_lexer": "ipython3",
   "version": "3.9.18"
  }
 },
 "nbformat": 4,
 "nbformat_minor": 5
}
