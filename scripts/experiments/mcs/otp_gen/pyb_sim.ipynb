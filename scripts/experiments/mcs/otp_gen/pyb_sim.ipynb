{
 "cells": [
  {
   "attachments": {},
   "cell_type": "markdown",
   "metadata": {},
   "source": [
    "## Creating a scene with Ball and Plane (show plane, background, camera pose) "
   ]
  },
  {
   "cell_type": "code",
   "execution_count": null,
   "metadata": {},
   "outputs": [],
   "source": [
    "import bayes3d.pybullet_sim as pbs\n",
    "import numpy as np\n",
    "\n",
    "scene = pbs.Scene()\n",
    "position = np.array([0, -2, 2])\n",
    "sphere = pbs.create_sphere(position, [1,1,1]) \n",
    "scene.add_body(sphere)\n",
    "image,depth = scene.render(pbs.pybullet_render) \n",
    "image\n",
    "\n"
   ]
  },
  {
   "attachments": {},
   "cell_type": "markdown",
   "metadata": {},
   "source": [
    "## Creating a scene with custom mesh (custom mesh)"
   ]
  },
  {
   "cell_type": "code",
   "execution_count": null,
   "metadata": {},
   "outputs": [],
   "source": [
    "import bayes3d.pybullet_sim as pbs\n",
    "import numpy as np\n",
    "\n",
    "path_to_mesh = \"../assets/sample_objs/icosahedron.obj\"\n",
    "\n",
    "scene = pbs.Scene()\n",
    "\n",
    "d20_pose = np.eye(4)\n",
    "d20_rot = np.array([[0, 0, 1], [0, 1, 0], [-1, 0, 0]])\n",
    "d20_pos = np.array([0, 0, 1])\n",
    "d20_pose[:3,:3] = d20_rot\n",
    "d20_pose[:3,3] = d20_pos\n",
    "\n",
    "d20 = pbs.make_body_from_obj_pose(path_to_mesh, d20_pose, id = \"d20\")\n",
    "d20.set_color([1,0,1])\n",
    "scene.add_body(d20)\n",
    "image, depth = scene.render(pbs.pybullet_render)\n",
    "image"
   ]
  },
  {
   "attachments": {},
   "cell_type": "markdown",
   "metadata": {},
   "source": [
    "## Render Depth"
   ]
  },
  {
   "cell_type": "code",
   "execution_count": null,
   "metadata": {},
   "outputs": [],
   "source": [
    "depth"
   ]
  },
  {
   "attachments": {},
   "cell_type": "markdown",
   "metadata": {},
   "source": [
    "## Adjusting mesh scaling"
   ]
  },
  {
   "cell_type": "code",
   "execution_count": null,
   "metadata": {},
   "outputs": [],
   "source": [
    "import bayes3d.pybullet_sim as pbs\n",
    "import numpy as np\n",
    "\n",
    "scene = pbs.Scene()\n",
    "\n",
    "# default cube, length 1 at origin \n",
    "original_cube = pbs.create_box(np.array([0,0,0.5]), id=\"original_cube\")\n",
    "original_cube.set_color([0,1,0])\n",
    "\n",
    "# wide box, set scale after construction \n",
    "second_cube = pbs.create_box(np.array([-2,0,0.5]), id=\"second_cube\")\n",
    "second_cube.set_color([1,0,0])\n",
    "second_cube.set_scale(np.array([2,1,1]))\n",
    "\n",
    "# tall box, can set scale at construction\n",
    "third_cube = pbs.create_box(np.array([2,0,1]), np.array([1,1,2]), id=\"third_cube\")\n",
    "third_cube.set_color([0,0,1])\n",
    "\n",
    "# custom obj, large scale \n",
    "diamond = pbs.make_body_from_obj(\"../assets/sample_objs/pyramid.obj\", np.array([0,2,2]), id=\"diamond\")\n",
    "diamond.set_scale(np.array([6,3,1]))\n",
    "diamond.set_color([.5,.5,.5])\n",
    "\n",
    "scene.add_body(original_cube)\n",
    "scene.add_body(second_cube)\n",
    "scene.add_body(third_cube)\n",
    "scene.add_body(diamond)\n",
    "image, depth = scene.render(pbs.pybullet_render)\n",
    "image\n"
   ]
  },
  {
   "attachments": {},
   "cell_type": "markdown",
   "metadata": {},
   "source": [
    "## Adjusting Orientations "
   ]
  },
  {
   "cell_type": "code",
   "execution_count": null,
   "metadata": {},
   "outputs": [],
   "source": [
    "import bayes3d.pybullet_sim as pbs\n",
    "import numpy as np\n",
    "\n",
    "path_to_mesh = \"../assets/sample_objs/icosahedron.obj\"\n",
    "\n",
    "scene = pbs.Scene()\n",
    "d20_position = np.array([1, 0, 1.5])   \n",
    "rotated_position = np.array([-1, 0, 1.5]) \n",
    "d20 = pbs.make_body_from_obj(path_to_mesh, d20_position, id = \"d20\")\n",
    "\n",
    "rotated = pbs.make_body_from_obj(path_to_mesh, rotated_position, id = \"rotated\")\n",
    "\n",
    "sample_rotation = np.array([[0, 0, 1], [0, 1, 0], [-1, 0, 0]])\n",
    "rotated.set_orientation(sample_rotation)\n",
    "\n",
    "d20.set_color([1,0,1])\n",
    "scene.add_bodies([d20, rotated])\n",
    "image, depth = scene.render(pbs.pybullet_render)\n",
    "image\n"
   ]
  },
  {
   "cell_type": "code",
   "execution_count": null,
   "metadata": {},
   "outputs": [],
   "source": [
    "# new camera position\n",
    "camera_position = np.array([5, 5, 3])\n",
    "camera_target = np.array([0, 0, 0])\n",
    "scene.set_camera_position_target(camera_position, camera_target)\n",
    "image, depth = scene.render(pbs.pybullet_render)\n",
    "image"
   ]
  },
  {
   "cell_type": "code",
   "execution_count": null,
   "metadata": {},
   "outputs": [],
   "source": [
    "# New Camera Pose \n",
    "camera_pose = np.eye(4)\n",
    "\n",
    "#camera facing downwards \n",
    "camera_position = np.array([0, -10, 3])\n",
    "camera_pose[:3,3] = camera_position\n",
    "camera_orientation = np.array([[ -1.,0.,0.],\n",
    "                               [0.,0.28734789,0.95782629],\n",
    "                               [ 0.,-0.95782629,0.28734789]])\n",
    "camera_pose[:3,:3] = camera_orientation\n",
    "\n",
    "scene.set_camera_pose(camera_pose)\n",
    "image, depth = scene.render(pbs.pybullet_render)\n",
    "image"
   ]
  },
  {
   "attachments": {},
   "cell_type": "markdown",
   "metadata": {},
   "source": [
    "## Simple Simulation: Balls colliding (simulation, pybullet class, object poses)"
   ]
  },
  {
   "cell_type": "code",
   "execution_count": null,
   "metadata": {},
   "outputs": [],
   "source": [
    "import bayes3d.pybullet_sim as pbs\n",
    "import numpy as np\n",
    "\n",
    "scene = pbs.Scene()\n",
    "scene.set_gravity([0,0,-10])\n",
    "sphere_position1 = [-1, 0, 1]\n",
    "sphere_start_velocity1 = [5, 0, 0]\n",
    "sphere_position2 = [1, 0, 1]\n",
    "sphere_start_velocity2 = [-5, 0, 0]\n",
    "sphere1 = pbs.create_sphere(sphere_position1, 0.5,id = \"sphere1\")\n",
    "sphere1.set_velocity(sphere_start_velocity1)\n",
    "sphere1.set_color([0,1,1])\n",
    "sphere2 = pbs.create_sphere(sphere_position2, 0.5, \"sphere2\")\n",
    "sphere2.set_velocity(sphere_start_velocity2)\n",
    "\n",
    "scene.add_bodies([sphere1, sphere2])\n",
    "\n",
    "pyb_sim = scene.simulate(100) \n",
    "pyb_sim.create_gif(\"sphere_collision.gif\")"
   ]
  },
  {
   "attachments": {},
   "cell_type": "markdown",
   "metadata": {},
   "source": [
    "## Simple Simulation: Balls Bouncing (restitution, gravity) "
   ]
  },
  {
   "cell_type": "code",
   "execution_count": null,
   "metadata": {},
   "outputs": [],
   "source": [
    "import bayes3d.pybullet_sim as pbs\n",
    "import numpy as np\n",
    "\n",
    "scene = pbs.Scene()\n",
    "\n",
    "#create spheres of varying restitution\n",
    "sphere1 = pbs.create_sphere(np.array([0, 0, 3]), 0.5, id = \"regular_ball\")\n",
    "sphere1.set_color([1,0,0])\n",
    "sphere1.set_restitution(0.6)\n",
    "sphere1.set_velocity([0,0,-2])\n",
    "\n",
    "sphere2 = pbs.create_sphere(np.array([2, 0, 3]), 0.5, id = \"bouncy_ball\")\n",
    "sphere2.set_color([0,1,0])\n",
    "sphere2.set_restitution(1)\n",
    "sphere2.set_velocity([0,0,-2])\n",
    "\n",
    "sphere3 = pbs.create_sphere(np.array([-2, 0, 3]), 0.5, id = \"flat_ball\")\n",
    "sphere3.set_color([0,0,1])\n",
    "sphere3.set_restitution(0)\n",
    "sphere3.set_velocity([0,0,-2])\n",
    "\n",
    "scene.add_bodies([sphere1, sphere2, sphere3])\n",
    "\n",
    "# Can set scene gravity \n",
    "scene.set_gravity([0,0,-10])\n",
    "\n",
    "# Can set fps \n",
    "pyb_sim = scene.simulate(120)\n",
    "pyb_sim.create_gif(\"restitution.gif\", 30)"
   ]
  },
  {
   "attachments": {},
   "cell_type": "markdown",
   "metadata": {},
   "source": [
    "## Simple Simulation: Balls Rolling (friction, damping)"
   ]
  },
  {
   "cell_type": "code",
   "execution_count": null,
   "metadata": {},
   "outputs": [],
   "source": [
    "import bayes3d.pybullet_sim as pbs\n",
    "import numpy as np\n",
    "\n",
    "scene = pbs.Scene() \n",
    "path_to_d20 = \"../assets/sample_objs/icosahedron.obj\"\n",
    "sphere = pbs.create_sphere(np.array([-4,0,1]), scale = [1,1,1], id = \"regular_sphere\", friction = 1, velocity = [10,0,0])\n",
    "d20 = pbs.make_body_from_obj(path_to_d20, np.array([-4,1,1]), id = \"d20\", friction = 1, velocity = [10,0,0])\n",
    "d20.set_color([1,0,1])\n",
    "d20.set_scale = np.array([.6,.6,.6])\n",
    "scene.add_bodies([sphere, d20])\n",
    "\n",
    "scene.set_gravity([0,0,-10])\n",
    "\n",
    "pyb_sim = scene.simulate(120)\n",
    "pyb_sim.create_gif(\"rolling.gif\", 30)"
   ]
  },
  {
   "attachments": {},
   "cell_type": "markdown",
   "metadata": {},
   "source": [
    "## Simulations: Angular Velocity "
   ]
  },
  {
   "cell_type": "code",
   "execution_count": null,
   "metadata": {},
   "outputs": [],
   "source": [
    "import bayes3d.pybullet_sim as pbs\n",
    "import numpy as np\n",
    "\n",
    "scene = pbs.Scene()\n",
    "\n",
    "# d20 with angular velocity\n",
    "path_to_d20 = \"../assets/sample_objs/icosahedron.obj\"\n",
    "d20 = pbs.make_body_from_obj(path_to_d20, np.array([0,0,2]), id = \"d20\", friction = 1, velocity = [0,0,0], angular_velocity = [0,50,0])\n",
    "d20.set_color([1,0,1])\n",
    "d20.set_scale = np.array([.5,.5,.5])\n",
    "\n",
    "# sphere with angular velocity\n",
    "sphere = pbs.create_sphere(np.array([2,2,2]), scale = [1,1,1], id = \"regular_sphere\", friction = 1, velocity = [0,0,0])\n",
    "sphere.set_angular_velocity([50,50,0])   \n",
    "\n",
    "# low gravity\n",
    "scene.add_bodies([sphere, d20])\n",
    "scene.set_gravity([0,0,-5])\n",
    "scene.set_downsampling(2)\n",
    "\n",
    "pyb_sim = scene.simulate(60)\n",
    "pyb_sim.create_gif(\"ang_vel.gif\", 15)"
   ]
  },
  {
   "attachments": {},
   "cell_type": "markdown",
   "metadata": {},
   "source": [
    "## Downsampling, Timestep, and Sampling Frequency"
   ]
  },
  {
   "cell_type": "code",
   "execution_count": null,
   "metadata": {},
   "outputs": [],
   "source": [
    "import bayes3d.pybullet_sim as pbs\n",
    "import numpy as np\n",
    "\n",
    "# bouncing ball \n",
    "scene = pbs.Scene() \n",
    "ball = pbs.create_sphere(np.array([-3,-3,0]), scale = [1,1,1], id = \"ball\", friction = 0.1, velocity = [20,35,0])\n",
    "scene.set_camera_position_target([0,-10,10], [0,0,0])\n",
    "\n",
    "# boundaries \n",
    "wall1 = pbs.create_box(np.array([3,7,1]), scale = [10,.5,3], id = \"wall1\", friction = 0.1, velocity = [0,0,0])\n",
    "wall1.set_mass(0)\n",
    "wall1.set_color([1,1,0])\n",
    "\n",
    "wall2 = pbs.create_box(np.array([8,2,1]), scale = [.5,10,3], id=\"wall2\", friction = 0.1, velocity = [0,0,0])\n",
    "wall2.set_mass(0)\n",
    "wall2.set_color([1,1,0])\n",
    "\n",
    "wall3 = pbs.create_box(np.array([3,-3,1]), scale = [10,0.5,3], id=\"wall3\", friction = 0.1, velocity = [0,0,0])\n",
    "wall3.set_mass(0)\n",
    "wall3.set_color([1,1,0])\n",
    "\n",
    "scene.add_bodies([ball, wall1, wall2, wall3])\n",
    "scene.set_gravity([0,0,-10])\n",
    "\n",
    "# set pybullet to only record pose every 3rd timestep, useful for quickly rendering long simulations\n",
    "scene.set_downsampling(3) \n",
    "\n",
    "pyb_sim = scene.simulate(200)\n",
    "pyb_sim.create_gif(\"minigolf.gif\", 30)"
   ]
  },
  {
   "cell_type": "code",
   "execution_count": null,
   "metadata": {},
   "outputs": [],
   "source": [
    "# compare to no downsampling\n",
    "scene.set_downsampling(1)\n",
    "scene.set_timestep(1/60)\n",
    "pyb_sim = scene.simulate(200)\n",
    "pyb_sim.create_gif(\"minigolf_full.gif\", 30)"
   ]
  },
  {
   "cell_type": "code",
   "execution_count": null,
   "metadata": {},
   "outputs": [],
   "source": [
    "# can also adjust timestep of simulation. default is 1/60 or 60hz\n",
    "scene.set_downsampling(1)\n",
    "scene.set_timestep(1/120)\n",
    "pyb_sim = scene.simulate(200)\n",
    "pyb_sim.create_gif(\"minigolf_fine.gif\", 30)"
   ]
  }
 ],
 "metadata": {
  "kernelspec": {
   "display_name": "bayes3d",
   "language": "python",
   "name": "python3"
  },
  "language_info": {
   "codemirror_mode": {
    "name": "ipython",
    "version": 3
   },
   "file_extension": ".py",
   "mimetype": "text/x-python",
   "name": "python",
   "nbconvert_exporter": "python",
   "pygments_lexer": "ipython3",
   "version": "3.8.16"
  }
 },
 "nbformat": 4,
 "nbformat_minor": 2
}
