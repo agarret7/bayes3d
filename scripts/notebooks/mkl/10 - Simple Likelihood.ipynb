{
 "cells": [
  {
   "cell_type": "code",
   "execution_count": 1,
   "metadata": {},
   "outputs": [],
   "source": [
    "%load_ext autoreload\n",
    "%autoreload 2"
   ]
  },
  {
   "cell_type": "markdown",
   "metadata": {},
   "source": [
    "# Simple Likelihood"
   ]
  },
  {
   "cell_type": "code",
   "execution_count": 2,
   "metadata": {},
   "outputs": [],
   "source": [
    "#|default_exp simple_likelihood"
   ]
  },
  {
   "cell_type": "code",
   "execution_count": 3,
   "metadata": {},
   "outputs": [],
   "source": [
    "#|export\n",
    "import jax\n",
    "import jax.numpy as jnp\n",
    "from   jax import jit, vmap\n",
    "import genjax\n",
    "from   genjax import gen, choice_map, vector_choice_map\n",
    "import matplotlib.pyplot as plt\n",
    "import numpy as np\n",
    "import bayes3d\n",
    "from bayes3d._mkl.utils import *\n",
    "\n",
    "key = jax.random.PRNGKey(0)"
   ]
  },
  {
   "cell_type": "code",
   "execution_count": 4,
   "metadata": {},
   "outputs": [],
   "source": [
    "#|export\n",
    "import genjax._src.generative_functions.distributions.tensorflow_probability as gentfp\n",
    "import tensorflow_probability.substrates.jax as tfp\n",
    "tfd = tfp.distributions\n",
    "\n",
    "uniform = genjax.tfp_uniform\n",
    "\n",
    "truncnormal = gentfp.TFPDistribution(\n",
    "    lambda mu, sig, low, high: tfd.TruncatedNormal(mu, sig, low, high));\n",
    "\n",
    "normal = gentfp.TFPDistribution(\n",
    "    lambda mu, sig: tfd.Normal(mu, sig));\n",
    "\n",
    "diagnormal = gentfp.TFPDistribution(\n",
    "    lambda mus, sigs: tfd.MultivariateNormalDiag(mus, sigs));\n",
    "\n",
    "\n",
    "mixture_of_diagnormals = gentfp.TFPDistribution(\n",
    "    lambda ws, mus, sig: tfd.MixtureSameFamily(\n",
    "        tfd.Categorical(ws),\n",
    "        tfd.MultivariateNormalDiag(mus, sig * jnp.ones_like(mus))))\n",
    "\n",
    "mixture_of_normals = gentfp.TFPDistribution(\n",
    "    lambda ws, mus, sig: tfd.MixtureSameFamily(\n",
    "        tfd.Categorical(ws),\n",
    "        tfd.Normal(mus, sig * jnp.ones_like(mus))))\n",
    "\n",
    "\n",
    "mixture_of_truncnormals = gentfp.TFPDistribution(\n",
    "    lambda ws, mus, sigs, lows, highs: tfd.MixtureSameFamily(\n",
    "        tfd.Categorical(ws),\n",
    "        tfd.TruncatedNormal(mus, sigs, lows, highs)))"
   ]
  },
  {
   "cell_type": "code",
   "execution_count": 5,
   "metadata": {},
   "outputs": [],
   "source": [
    "#|export\n",
    "from scipy.stats import truncnorm as scipy_truncnormal\n",
    "\n",
    "normal_logpdf    = jax.scipy.stats.norm.logpdf\n",
    "truncnorm_logpdf = jax.scipy.stats.truncnorm.logpdf\n",
    "truncnorm_pdf    = jax.scipy.stats.truncnorm.pdf\n"
   ]
  },
  {
   "cell_type": "markdown",
   "metadata": {},
   "source": [
    "## Pixelwise Gaussian and uniform outlier"
   ]
  },
  {
   "cell_type": "code",
   "execution_count": 31,
   "metadata": {},
   "outputs": [],
   "source": [
    "# def cam_to_screen(x): return jnp.array([x[0]/x[2], x[1]/x[2], jnp.linalg.norm(x)])\n",
    "# def screen_to_cam(y): return y[2]*jnp.array([y[0], y[1], 1.0])"
   ]
  },
  {
   "cell_type": "code",
   "execution_count": 6,
   "metadata": {},
   "outputs": [],
   "source": [
    "#|export\n",
    "# TODO: The input Y should be an array only containing range measruements as well. \n",
    "#       For this to work we need to have the pixel vectors (the rays through each pixel)\n",
    "\n",
    "def make_simple_sensor_model(zmax):\n",
    "    \"\"\"Returns an simple sensor model marginalized over outliers.\"\"\"    \n",
    "\n",
    "    @genjax.drop_arguments\n",
    "    @genjax.gen\n",
    "    def _sensor_model(y, sig, outlier):\n",
    "        \n",
    "    \n",
    "        # Compute max range along ray ending at far plane\n",
    "        # and adding some wiggle room\n",
    "        z_ = jnp.linalg.norm(y)\n",
    "        zmax_ = z_/y[2]*zmax\n",
    "\n",
    "        inlier_outlier_mix = genjax.tfp_mixture(genjax.tfp_categorical, [truncnormal, genjax.tfp_uniform])\n",
    "        z = inlier_outlier_mix([jnp.log(1.0-outlier), jnp.log(outlier)], (\n",
    "                                    (z_, sig, 0.0, zmax_), \n",
    "                                    (0.0, zmax_ + 1e-6))) @ \"measurement\"\n",
    "\n",
    "        z = jnp.clip(z, 0.0, zmax_)\n",
    "\n",
    "        return z * y/z_\n",
    "\n",
    "        \n",
    "    @genjax.gen\n",
    "    def sensor_model(Y, sig, out):   \n",
    "        \"\"\"\n",
    "        Simplest sensor model that returns a vector of range measurements conditioned on \n",
    "        an image, noise level, and outlier probability.\n",
    "        \"\"\"\n",
    "                \n",
    "        X = genjax.Map(_sensor_model, (0,None,None))(Y[...,:3].reshape(-1,3), sig, out) @ \"X\"\n",
    "        X = X.reshape(Y.shape)\n",
    "\n",
    "        return X\n",
    "\n",
    "    return sensor_model"
   ]
  },
  {
   "cell_type": "code",
   "execution_count": 7,
   "metadata": {},
   "outputs": [
    {
     "data": {
      "text/plain": [
       "Array([[1, 2],\n",
       "       [3, 4]], dtype=int32)"
      ]
     },
     "execution_count": 7,
     "metadata": {},
     "output_type": "execute_result"
    }
   ],
   "source": [
    "model = make_simple_sensor_model(5.0)\n",
    "\n",
    "Y= jnp.array([\n",
    "    [\n",
    "            [0,0,1],\n",
    "            [0,1,2],\n",
    "    ],\n",
    "    [\n",
    "            [1,1,3],\n",
    "            [1,0,4]\n",
    "    ]\n",
    "])\n",
    "Y.shape\n",
    "Y[...,2]"
   ]
  },
  {
   "cell_type": "code",
   "execution_count": 8,
   "metadata": {},
   "outputs": [
    {
     "data": {
      "text/plain": [
       "Array([[[0.        , 0.        , 0.9474796 ],\n",
       "        [0.        , 0.95539385, 1.9107877 ]],\n",
       "\n",
       "       [[1.0142542 , 1.0142542 , 3.0427625 ],\n",
       "        [0.99212784, 0.        , 3.9685113 ]]], dtype=float32)"
      ]
     },
     "execution_count": 8,
     "metadata": {},
     "output_type": "execute_result"
    }
   ],
   "source": [
    "key = keysplit(key)\n",
    "model(Y,0.1,0.1)(key)"
   ]
  },
  {
   "cell_type": "markdown",
   "metadata": {},
   "source": [
    "## Pixelwise Step Function "
   ]
  },
  {
   "cell_type": "code",
   "execution_count": 27,
   "metadata": {},
   "outputs": [],
   "source": [
    "#|export\n",
    "def make_simple_step_sensor_model(far):\n",
    "    \"\"\"Returns an simple step function sensor model marginalized over outliers.\"\"\"    \n",
    "\n",
    "    @genjax.drop_arguments\n",
    "    @genjax.gen\n",
    "    def _sensor_model_pixel(y, sig, out):\n",
    "        \n",
    "\n",
    "        # Compute max range along ray ending at far plane\n",
    "        r_   = jnp.linalg.norm(y)\n",
    "        rmax = r_/y[2]*far \n",
    "\n",
    "        inlier_outlier_mix = genjax.tfp_mixture(\n",
    "                                genjax.tfp_categorical, \n",
    "                                [genjax.tfp_uniform, genjax.tfp_uniform])\n",
    "\n",
    "        # The `1e-4` term helps with numerical issues from computing rmax\n",
    "        # at least that's what I think\n",
    "        r = inlier_outlier_mix(\n",
    "                [jnp.log(1 - out), jnp.log(out)], \n",
    "                ((jnp.maximum(r_-sig, 0.0) , jnp.minimum(r_+sig, rmax)), (0.0, rmax + 1e-4))) @ \"measurement\"\n",
    "\n",
    "        r = jnp.clip(r, 0.0, rmax)\n",
    "\n",
    "        return r * y/r_\n",
    "\n",
    "        \n",
    "    @genjax.gen\n",
    "    def sensor_model(Y, sig, out):\n",
    "        \"\"\"\n",
    "        Simplest sensor model that returns a vector of range measurements conditioned on \n",
    "        an image, noise level, and outlier probability.\n",
    "        \"\"\"\n",
    "            \n",
    "        X = genjax.Map(_sensor_model_pixel, (0,None,None))(Y[...,:3].reshape(-1,3), sig, out) @ \"X\"\n",
    "        X = X.reshape(Y[...,:3].shape)\n",
    "\n",
    "        return X\n",
    "\n",
    "    return sensor_model"
   ]
  },
  {
   "cell_type": "code",
   "execution_count": 28,
   "metadata": {},
   "outputs": [
    {
     "data": {
      "text/plain": [
       "[<matplotlib.lines.Line2D at 0x7f06e7d2e740>]"
      ]
     },
     "execution_count": 28,
     "metadata": {},
     "output_type": "execute_result"
    },
    {
     "data": {
      "image/png": "[encoded data removed]",
      "text/plain": [
       "<Figure size 800x400 with 2 Axes>"
      ]
     },
     "metadata": {},
     "output_type": "display_data"
    }
   ],
   "source": [
    "zmax = 5.0\n",
    "model = make_simple_step_sensor_model(zmax)\n",
    "\n",
    "\n",
    "Y= jnp.array([\n",
    "    [\n",
    "            [0,0,1],\n",
    "            [0,1,2],\n",
    "    ],\n",
    "    [\n",
    "            [1,1,3],\n",
    "            [1,0,4]\n",
    "    ]\n",
    "])\n",
    "\n",
    "key = keysplit(key)\n",
    "X = model(Y, 0.1 , 0.2)(key)\n",
    "\n",
    "\n",
    "fig, axs = plt.subplots(1,2, figsize=(8,4))\n",
    "axs[0].plot(X[...,2].ravel(), marker=\"s\")\n",
    "axs[0].plot(Y[...,2].ravel(), marker=\"s\")"
   ]
  },
  {
   "cell_type": "markdown",
   "metadata": {},
   "source": [
    "## Score Wrapper"
   ]
  },
  {
   "cell_type": "code",
   "execution_count": 30,
   "metadata": {},
   "outputs": [],
   "source": [
    "#|export\n",
    "from genjax._src.generative_functions.distributions.distribution import ExactDensity\n",
    "\n",
    "def wrap_into_dist(score_func):\n",
    "    \"\"\"\n",
    "    Takes a scoring function \n",
    "\n",
    "        `score_func(observed, latent, ...)` \n",
    "\n",
    "    and wraps it into a genjax distribution.\n",
    "    \"\"\"\n",
    "    class WrappedScoreFunc(ExactDensity):\n",
    "        def sample(self, key, latent, *args): return latent\n",
    "        def logpdf(self, observed, latent, *args): return score_func(observed, latent, *args)\n",
    "\n",
    "    return WrappedScoreFunc()\n"
   ]
  },
  {
   "cell_type": "code",
   "execution_count": null,
   "metadata": {},
   "outputs": [],
   "source": []
  }
 ],
 "metadata": {
  "kernelspec": {
   "display_name": "bayes3d",
   "language": "python",
   "name": "python3"
  },
  "language_info": {
   "codemirror_mode": {
    "name": "ipython",
    "version": 3
   },
   "file_extension": ".py",
   "mimetype": "text/x-python",
   "name": "python",
   "nbconvert_exporter": "python",
   "pygments_lexer": "ipython3",
   "version": "3.10.13"
  },
  "orig_nbformat": 4
 },
 "nbformat": 4,
 "nbformat_minor": 2
}
