{
 "cells": [
  {
   "cell_type": "code",
   "execution_count": 1,
   "metadata": {},
   "outputs": [],
   "source": [
    "%load_ext autoreload\n",
    "%autoreload 2"
   ]
  },
  {
   "cell_type": "code",
   "execution_count": 2,
   "metadata": {},
   "outputs": [],
   "source": [
    "from bayes3d._mkl.table_scene_model import *\n",
    "from bayes3d._mkl.utils import *\n",
    "import matplotlib.pyplot as plt"
   ]
  },
  {
   "cell_type": "code",
   "execution_count": 3,
   "metadata": {},
   "outputs": [],
   "source": [
    "import jax\n",
    "from jax import jit, vmap\n",
    "import jax.numpy as jnp\n",
    "import os\n",
    "import bayes3d as b3d\n",
    "import trimesh\n",
    "\n",
    "key = jax.random.PRNGKey(0)"
   ]
  },
  {
   "cell_type": "code",
   "execution_count": 4,
   "metadata": {},
   "outputs": [],
   "source": [
    "import genjax"
   ]
  },
  {
   "cell_type": "markdown",
   "metadata": {},
   "source": [
    "## Renderer and meshes"
   ]
  },
  {
   "cell_type": "code",
   "execution_count": 5,
   "metadata": {},
   "outputs": [],
   "source": [
    "_scaling  = 1e-3\n",
    "model_dir = os.path.join(b3d.utils.get_assets_dir(),\"bop/ycbv/models\")\n",
    "\n",
    "meshes = []\n",
    "for idx in range(1,22):\n",
    "    mesh_path = os.path.join(model_dir,\"obj_\" + \"{}\".format(idx).rjust(6, '0') + \".ply\")\n",
    "    mesh = trimesh.load(mesh_path)\n",
    "    mesh.vertices *= _scaling \n",
    "    meshes.append(mesh)\n",
    "\n",
    "\n",
    "# Add invisible atomic table\n",
    "mesh_path = os.path.join(b3d.utils.get_assets_dir(), \"sample_objs/cube.obj\")\n",
    "mesh = trimesh.load(mesh_path)\n",
    "mesh.vertices *= 1e-9\n",
    "meshes.append(mesh)\n"
   ]
  },
  {
   "cell_type": "code",
   "execution_count": 6,
   "metadata": {},
   "outputs": [
    {
     "name": "stderr",
     "output_type": "stream",
     "text": [
      "[E rasterize_gl.cpp:121] OpenGL version reported as 4.6\n"
     ]
    },
    {
     "name": "stdout",
     "output_type": "stream",
     "text": [
      "Increasing frame buffer size to (width, height, depth) = (224, 224, 1024)\n"
     ]
    }
   ],
   "source": [
    "w = 200\n",
    "h = 200\n",
    "f = 300\n",
    "intr = b3d.Intrinsics(\n",
    "    width = w, height = h,\n",
    "    fx = f, fy = f,\n",
    "    cx = w/2 - 0.5, cy = h/2 - 0.5,\n",
    "    near = 1e-4, far = 5.0\n",
    ")\n",
    "b3d.setup_renderer(intr)\n",
    "for mesh in meshes: b3d.RENDERER.add_mesh(mesh, center_mesh=True)"
   ]
  },
  {
   "cell_type": "code",
   "execution_count": 7,
   "metadata": {},
   "outputs": [],
   "source": [
    "def prep_im(Y, far=5.0, eps=1e-6):\n",
    "    im = jnp.where(Y[:,:,2]>= far - eps, jnp.inf, Y[:,:,2])\n",
    "    return im"
   ]
  },
  {
   "cell_type": "code",
   "execution_count": 8,
   "metadata": {},
   "outputs": [],
   "source": [
    "table = jnp.eye(4)\n",
    "cam   = b3d.transform_from_pos_target_up(\n",
    "            jnp.array([0.0, -.5, -.75]), \n",
    "            jnp.zeros(3), \n",
    "            jnp.array([0.0,-1.0,0.0]))\n",
    "\n",
    "\n",
    "scene_ch = genjax.choice_map({\n",
    "        \"parent_0\": -1,\n",
    "        \"parent_1\":  0,\n",
    "        \"parent_2\":  0,\n",
    "        \"camera_pose\": cam,\n",
    "        \"root_pose_0\": table,\n",
    "        \"id_0\": jnp.int32(21), # Atomic Table\n",
    "        \"id_1\": jnp.int32(13), # Mug\n",
    "        \"id_2\": jnp.int32(2),  # Box\n",
    "        \"face_parent_1\": 1,  # That's the top face of the table\n",
    "        \"face_parent_2\": 1,  # ...\n",
    "        \"face_child_1\": 3,   # That's a bottom face of the mug\n",
    "        \"face_child_2\": 3,\n",
    "})\n",
    "\n",
    "scene_model_args = (\n",
    "    jnp.arange(3),\n",
    "    jnp.arange(22),\n",
    "    jnp.array([-jnp.ones(3)*100.0, jnp.ones(3)*100.0]),\n",
    "    jnp.array([jnp.array([-0.2, -0.2, -2*jnp.pi]), jnp.array([0.2, 0.2, 2*jnp.pi])])\n",
    ")"
   ]
  },
  {
   "cell_type": "code",
   "execution_count": null,
   "metadata": {},
   "outputs": [],
   "source": [
    "key = keysplit(key)"
   ]
  },
  {
   "cell_type": "code",
   "execution_count": 9,
   "metadata": {},
   "outputs": [
    {
     "name": "stdout",
     "output_type": "stream",
     "text": [
      "(200, 200, 4)\n"
     ]
    },
    {
     "data": {
      "text/plain": [
       "<matplotlib.image.AxesImage at 0x7fd00d330b20>"
      ]
     },
     "execution_count": 9,
     "metadata": {},
     "output_type": "execute_result"
    },
    {
     "data": {
      "image/png": "[encoded data removed]",
      "text/plain": [
       "<Figure size 640x480 with 1 Axes>"
      ]
     },
     "metadata": {},
     "output_type": "display_data"
    }
   ],
   "source": [
    "scene_model = make_table_scene_model()\n",
    "args = (*scene_model_args, b3d.RENDERER.model_box_dims)\n",
    "\n",
    "w, tr = scene_model.importance(key, scene_ch , args)\n",
    "cam, ps, inds = tr.retval\n",
    "# X = b3d.RENDERER.render(inv(cam) @ ps , inds)\n",
    "X = b3d.RENDERER.render_many_custom_intrinsics(inv(cam) @ ps[None] , inds, b3d.RENDERER.intrinsics)[0]\n",
    "\n",
    "scene_ch = tr.strip()\n",
    "\n",
    "print(X.shape)\n",
    "# =====================\n",
    "plt.imshow(prep_im(X))"
   ]
  },
  {
   "cell_type": "code",
   "execution_count": 27,
   "metadata": {},
   "outputs": [
    {
     "data": {
      "text/plain": [
       "<matplotlib.image.AxesImage at 0x7fcc4e509240>"
      ]
     },
     "execution_count": 27,
     "metadata": {},
     "output_type": "execute_result"
    },
    {
     "data": {
      "image/png": "[encoded data removed]",
      "text/plain": [
       "<Figure size 640x480 with 1 Axes>"
      ]
     },
     "metadata": {},
     "output_type": "display_data"
    }
   ],
   "source": [
    "\n",
    "att_w = 20\n",
    "att_h = 20\n",
    "att = jnp.array([90,70])\n",
    "\n",
    "# =====================\n",
    "# plt.imshow(prep_im(X))\n",
    "# plt.scatter(att[0],att[1])\n",
    "# plt.scatter(att[0] + att_w,att[1]+att_h)\n",
    "plt.imshow(prep_im(X[att[1]- att_h//2:att[1] + att_h//2, att[0]- att_w//2:att[0] + att_w//2]))\n"
   ]
  },
  {
   "cell_type": "code",
   "execution_count": 23,
   "metadata": {},
   "outputs": [],
   "source": [
    "from genjax import tfp_uniform as uniform\n",
    "\n",
    "\n",
    "def make_patch_model(meshes, intrinsics, w, h, scene_model_args):\n",
    "\n",
    "    \n",
    "    b3d.setup_renderer(intrinsics)\n",
    "    for mesh in meshes: b3d.RENDERER.add_mesh(mesh, center_mesh=True)\n",
    "    \n",
    "    scene_model = make_table_scene_model()\n",
    "\n",
    "\n",
    "    @genjax.gen\n",
    "    def patch_model():\n",
    "\n",
    "        cam, ps, inds = scene_model(*scene_model_args, b3d.RENDERER.model_box_dims) @ \"scene\"\n",
    "        center        = uniform(jnp.array([0.0,0.0]), jnp.array([w, h], dtype=jnp.float32)) @ \"center\"\n",
    "\n",
    "        intr = b3d.Intrinsics(\n",
    "            width = intrinsics.width, height = intrinsics.height,\n",
    "            fx    = intrinsics.fx,    fy     = intrinsics.fy,\n",
    "            cx    = w/2 - 0.5 + intrinsics.width/2 - center[0],  cy = h/2 - 0.5  + intrinsics.height/2 - center[1],\n",
    "            near = intrinsics.near, \n",
    "            far  = intrinsics.far\n",
    "        )\n",
    "\n",
    "        Y = b3d.RENDERER.render_many_custom_intrinsics(inv(cam) @ ps[None] , inds, intr)[0]\n",
    "\n",
    "        return Y\n",
    "\n",
    "    return patch_model\n"
   ]
  },
  {
   "cell_type": "code",
   "execution_count": 24,
   "metadata": {},
   "outputs": [],
   "source": [
    "w = 20\n",
    "h = 20\n",
    "f = 300\n",
    "intrinsics = b3d.Intrinsics(\n",
    "    width = w, height = h,\n",
    "    fx = f, fy = f,\n",
    "    cx = w/2 - 0.5, cy = h/2 - 0.5,\n",
    "    near = 1e-4, far = 5.0\n",
    ")"
   ]
  },
  {
   "cell_type": "code",
   "execution_count": 25,
   "metadata": {},
   "outputs": [
    {
     "name": "stderr",
     "output_type": "stream",
     "text": [
      "[E rasterize_gl.cpp:121] OpenGL version reported as 4.6\n"
     ]
    },
    {
     "name": "stdout",
     "output_type": "stream",
     "text": [
      "Increasing frame buffer size to (width, height, depth) = (32, 32, 1024)\n"
     ]
    }
   ],
   "source": [
    "model = make_patch_model(meshes, intrinsics, 200,200, scene_model_args)"
   ]
  },
  {
   "cell_type": "code",
   "execution_count": 42,
   "metadata": {},
   "outputs": [
    {
     "data": {
      "text/plain": [
       "<matplotlib.image.AxesImage at 0x7fcc4e7ad150>"
      ]
     },
     "execution_count": 42,
     "metadata": {},
     "output_type": "execute_result"
    },
    {
     "data": {
      "image/png": "[encoded data removed]",
      "text/plain": [
       "<Figure size 640x480 with 1 Axes>"
      ]
     },
     "metadata": {},
     "output_type": "display_data"
    }
   ],
   "source": [
    "ch = genjax.choice_map({\n",
    "    \"scene\": scene_ch,\n",
    "    \"center\": jnp.array([90., 70.])\n",
    "})\n",
    "\n",
    "\n",
    "key = keysplit(key)\n",
    "_,tr = model.importance(key, ch, ())\n",
    "\n",
    "Y = tr.retval\n",
    "\n",
    "plt.imshow(prep_im(Y))"
   ]
  },
  {
   "cell_type": "markdown",
   "metadata": {},
   "source": [
    "## Down sampling"
   ]
  },
  {
   "cell_type": "code",
   "execution_count": 66,
   "metadata": {},
   "outputs": [
    {
     "name": "stdout",
     "output_type": "stream",
     "text": [
      "\u001b[0;31mSignature:\u001b[0m\n",
      "\u001b[0mscale\u001b[0m\u001b[0;34m.\u001b[0m\u001b[0mresize\u001b[0m\u001b[0;34m(\u001b[0m\u001b[0;34m\u001b[0m\n",
      "\u001b[0;34m\u001b[0m    \u001b[0mimage\u001b[0m\u001b[0;34m,\u001b[0m\u001b[0;34m\u001b[0m\n",
      "\u001b[0;34m\u001b[0m    \u001b[0mshape\u001b[0m\u001b[0;34m:\u001b[0m \u001b[0mcollections\u001b[0m\u001b[0;34m.\u001b[0m\u001b[0mabc\u001b[0m\u001b[0;34m.\u001b[0m\u001b[0mSequence\u001b[0m\u001b[0;34m[\u001b[0m\u001b[0mtyping\u001b[0m\u001b[0;34m.\u001b[0m\u001b[0mUnion\u001b[0m\u001b[0;34m[\u001b[0m\u001b[0mint\u001b[0m\u001b[0;34m,\u001b[0m \u001b[0mtyping\u001b[0m\u001b[0;34m.\u001b[0m\u001b[0mAny\u001b[0m\u001b[0;34m]\u001b[0m\u001b[0;34m]\u001b[0m\u001b[0;34m,\u001b[0m\u001b[0;34m\u001b[0m\n",
      "\u001b[0;34m\u001b[0m    \u001b[0mmethod\u001b[0m\u001b[0;34m:\u001b[0m \u001b[0mUnion\u001b[0m\u001b[0;34m[\u001b[0m\u001b[0mstr\u001b[0m\u001b[0;34m,\u001b[0m \u001b[0mjax\u001b[0m\u001b[0;34m.\u001b[0m\u001b[0m_src\u001b[0m\u001b[0;34m.\u001b[0m\u001b[0mimage\u001b[0m\u001b[0;34m.\u001b[0m\u001b[0mscale\u001b[0m\u001b[0;34m.\u001b[0m\u001b[0mResizeMethod\u001b[0m\u001b[0;34m]\u001b[0m\u001b[0;34m,\u001b[0m\u001b[0;34m\u001b[0m\n",
      "\u001b[0;34m\u001b[0m    \u001b[0mantialias\u001b[0m\u001b[0;34m:\u001b[0m \u001b[0mbool\u001b[0m \u001b[0;34m=\u001b[0m \u001b[0;32mTrue\u001b[0m\u001b[0;34m,\u001b[0m\u001b[0;34m\u001b[0m\n",
      "\u001b[0;34m\u001b[0m    \u001b[0mprecision\u001b[0m\u001b[0;34m=\u001b[0m\u001b[0;34m<\u001b[0m\u001b[0mPrecision\u001b[0m\u001b[0;34m.\u001b[0m\u001b[0mHIGHEST\u001b[0m\u001b[0;34m:\u001b[0m \u001b[0;36m2\u001b[0m\u001b[0;34m>\u001b[0m\u001b[0;34m,\u001b[0m\u001b[0;34m\u001b[0m\n",
      "\u001b[0;34m\u001b[0m\u001b[0;34m)\u001b[0m\u001b[0;34m\u001b[0m\u001b[0;34m\u001b[0m\u001b[0m\n",
      "\u001b[0;31mDocstring:\u001b[0m\n",
      "Image resize.\n",
      "\n",
      "The ``method`` argument expects one of the following resize methods:\n",
      "\n",
      "``ResizeMethod.NEAREST``, ``\"nearest\"``\n",
      "  `Nearest neighbor interpolation`_. The values of ``antialias`` and\n",
      "  ``precision`` are ignored.\n",
      "\n",
      "``ResizeMethod.LINEAR``, ``\"linear\"``, ``\"bilinear\"``, ``\"trilinear\"``, ``\"triangle\"``\n",
      "  `Linear interpolation`_. If ``antialias`` is ``True``, uses a triangular\n",
      "  filter when downsampling.\n",
      "\n",
      "``ResizeMethod.CUBIC``, ``\"cubic\"``, ``\"bicubic\"``, ``\"tricubic\"``\n",
      "  `Cubic interpolation`_, using the Keys cubic kernel.\n",
      "\n",
      "``ResizeMethod.LANCZOS3``, ``\"lanczos3\"``\n",
      "  `Lanczos resampling`_, using a kernel of radius 3.\n",
      "\n",
      "``ResizeMethod.LANCZOS5``, ``\"lanczos5\"``\n",
      "  `Lanczos resampling`_, using a kernel of radius 5.\n",
      "\n",
      ".. _Nearest neighbor interpolation: https://en.wikipedia.org/wiki/Nearest-neighbor_interpolation\n",
      ".. _Linear interpolation: https://en.wikipedia.org/wiki/Bilinear_interpolation\n",
      ".. _Cubic interpolation: https://en.wikipedia.org/wiki/Bicubic_interpolation\n",
      ".. _Lanczos resampling: https://en.wikipedia.org/wiki/Lanczos_resampling\n",
      "\n",
      "Args:\n",
      "  image: a JAX array.\n",
      "  shape: the output shape, as a sequence of integers with length equal to\n",
      "    the number of dimensions of `image`. Note that :func:`resize` does not\n",
      "    distinguish spatial dimensions from batch or channel dimensions, so this\n",
      "    includes all dimensions of the image. To represent a batch or a channel\n",
      "    dimension, simply leave that element of the shape unchanged.\n",
      "  method: the resizing method to use; either a ``ResizeMethod`` instance or a\n",
      "    string. Available methods are: LINEAR, LANCZOS3, LANCZOS5, CUBIC.\n",
      "  antialias: should an antialiasing filter be used when downsampling? Defaults\n",
      "    to ``True``. Has no effect when upsampling.\n",
      "Returns:\n",
      "  The resized image.\n",
      "\u001b[0;31mFile:\u001b[0m      /opt/conda/envs/chi/lib/python3.10/site-packages/jax/_src/image/scale.py\n",
      "\u001b[0;31mType:\u001b[0m      function"
     ]
    }
   ],
   "source": [
    "from jax._src.image import scale\n",
    "\n",
    "scale.resize?"
   ]
  },
  {
   "cell_type": "code",
   "execution_count": 64,
   "metadata": {},
   "outputs": [
    {
     "data": {
      "text/plain": [
       "<matplotlib.image.AxesImage at 0x7fcc1492a8c0>"
      ]
     },
     "execution_count": 64,
     "metadata": {},
     "output_type": "execute_result"
    },
    {
     "data": {
      "image/png": "[encoded data removed]",
      "text/plain": [
       "<Figure size 1000x300 with 4 Axes>"
      ]
     },
     "metadata": {},
     "output_type": "display_data"
    }
   ],
   "source": [
    "method = [\"nearest\", \"bilinear\",\"trilinear\", \"triangle\", \"cubic\"][0]\n",
    "\n",
    "fig, axs = plt.subplots(1,4,figsize=(10,3))\n",
    "axs[0].imshow(Y[...,2], vmax=1.)\n",
    "\n",
    "Y_down  = scale.resize(Y[...,2], (10,10), method)\n",
    "Y_up = scale.resize(Y_down, (20,20), method)\n",
    "axs[1].imshow(Y_down, vmax=1.)\n",
    "axs[2].imshow(Y_up, vmax=1.)\n",
    "axs[3].imshow(Y[...,2] - Y_up, cmap=\"bwr\", vmin=-0.05,vmax=0.05)"
   ]
  },
  {
   "cell_type": "code",
   "execution_count": null,
   "metadata": {},
   "outputs": [],
   "source": []
  }
 ],
 "metadata": {
  "kernelspec": {
   "display_name": "bayes3d",
   "language": "python",
   "name": "python3"
  },
  "language_info": {
   "codemirror_mode": {
    "name": "ipython",
    "version": 3
   },
   "file_extension": ".py",
   "mimetype": "text/x-python",
   "name": "python",
   "nbconvert_exporter": "python",
   "pygments_lexer": "ipython3",
   "version": "3.10.13"
  },
  "orig_nbformat": 4
 },
 "nbformat": 4,
 "nbformat_minor": 2
}
