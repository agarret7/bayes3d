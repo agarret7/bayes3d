{
 "cells": [
  {
   "cell_type": "code",
   "execution_count": 1,
   "metadata": {},
   "outputs": [],
   "source": [
    "import traceviz.client\n",
    "import numpy as np\n",
    "from traceviz.proto import  viz_pb2\n",
    "\n",
    "\n",
    "num_frames = 100\n",
    "num_particles = 1_000\n",
    "np.random.seed(42)\n",
    "\n",
    "init_scale = .05\n",
    "init = np.array([1., 1., -1.]) + init_scale * np.random.uniform(-.5, .5, size=(num_particles, 3))\n",
    "dp_scale = .01\n",
    "dxs = np.random.normal(0., dp_scale, size=(num_frames, num_particles, 3))\n",
    "dxs[0] = 0.\n",
    "xs = init + np.cumsum(dxs, axis=0)\n",
    "\n",
    "msg = viz_pb2.Message()"
   ]
  },
  {
   "cell_type": "code",
   "execution_count": 2,
   "metadata": {},
   "outputs": [
    {
     "name": "stdout",
     "output_type": "stream",
     "text": [
      "response:  \n"
     ]
    }
   ],
   "source": [
    "msg.payload.json = \"{type: 'some_type'}\"\n",
    "msg.payload.data.MergeFrom(\n",
    "    traceviz.client.to_pytree_msg({'position': xs}))\n",
    "\n",
    "stub = traceviz.client.connect()\n",
    "print('response: ', stub.Broadcast(msg))\n"
   ]
  },
  {
   "cell_type": "code",
   "execution_count": null,
   "metadata": {},
   "outputs": [],
   "source": []
  },
  {
   "cell_type": "code",
   "execution_count": 12,
   "metadata": {},
   "outputs": [],
   "source": [
    "import json\n",
    "import numpy as np"
   ]
  },
  {
   "cell_type": "code",
   "execution_count": 49,
   "metadata": {},
   "outputs": [
    {
     "data": {
      "text/plain": [
       "(100, 1000, 3)"
      ]
     },
     "execution_count": 49,
     "metadata": {},
     "output_type": "execute_result"
    }
   ],
   "source": [
    "num_frames    = 100\n",
    "num_particles = 100\n",
    "np.random.seed(42)\n",
    "\n",
    "init_scale = .05\n",
    "init       = init_scale * np.random.uniform(-.5, .5, size=(num_particles, 3))\n",
    "dp_scale   = .01\n",
    "dxs = np.random.normal(0., dp_scale, size=(num_frames, num_particles, 3))\n",
    "xs  = init + np.cumsum(dxs, axis=0)\n",
    "\n",
    "xs[:, 0, 0] = 0.0\n",
    "xs[:, 0, 1] = 2.0\n",
    "xs[:, 0, 2] = 0.0\n",
    "xs.shape"
   ]
  },
  {
   "cell_type": "code",
   "execution_count": 50,
   "metadata": {},
   "outputs": [],
   "source": [
    "meta   = {\"what\": \"Gaussians\"}\n",
    "pytree = {\"xs\": xs}\n",
    "\n",
    "req = viz_pb2.Payload(\n",
    "    json   = json.dumps(meta), \n",
    "    pytree = vizserver.client.to_pytree_msg(pytree))"
   ]
  },
  {
   "cell_type": "code",
   "execution_count": 51,
   "metadata": {},
   "outputs": [
    {
     "data": {
      "text/plain": []
     },
     "execution_count": 51,
     "metadata": {},
     "output_type": "execute_result"
    }
   ],
   "source": [
    "stub = vizserver.client.connect()\n",
    "stub.Send(req)"
   ]
  },
  {
   "cell_type": "code",
   "execution_count": null,
   "metadata": {},
   "outputs": [],
   "source": []
  }
 ],
 "metadata": {
  "kernelspec": {
   "display_name": "dcolmap",
   "language": "python",
   "name": "python3"
  },
  "language_info": {
   "codemirror_mode": {
    "name": "ipython",
    "version": 3
   },
   "file_extension": ".py",
   "mimetype": "text/x-python",
   "name": "python",
   "nbconvert_exporter": "python",
   "pygments_lexer": "ipython3",
   "version": "3.11.6"
  }
 },
 "nbformat": 4,
 "nbformat_minor": 2
}
