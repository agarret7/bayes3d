{
 "cells": [
  {
   "cell_type": "code",
   "execution_count": 2,
   "metadata": {},
   "outputs": [
    {
     "name": "stderr",
     "output_type": "stream",
     "text": [
      "/usr/local/lib/python3.9/dist-packages/tqdm/auto.py:22: TqdmWarning: IProgress not found. Please update jupyter and ipywidgets. See https://ipywidgets.readthedocs.io/en/stable/user_install.html\n",
      "  from .autonotebook import tqdm as notebook_tqdm\n",
      "pybullet build time: Mar 26 2022 03:01:35\n"
     ]
    }
   ],
   "source": [
    "import logging\n",
    "import numpy as np\n",
    "import kubric as kb\n",
    "from kubric.renderer.blender import Blender as KubricBlender\n",
    "from kubric.simulator.pybullet import PyBullet as KubricSimulator\n",
    "\n",
    "logging.basicConfig(level=\"INFO\")  # < CRITICAL, ERROR, WARNING, INFO, DEBUG\n",
    "\n",
    "# --- create scene and attach a renderer and simulator\n",
    "scene = kb.Scene(resolution=(256, 256))\n",
    "scene.frame_end = 48   # < numbers of frames to render\n",
    "scene.frame_rate = 24  # < rendering framerate\n",
    "scene.step_rate = 240  # < simulation framerate\n",
    "renderer = KubricBlender(scene)\n",
    "simulator = KubricSimulator(scene)\n",
    "\n",
    "# --- populate the scene with objects, lights, cameras\n",
    "scene += kb.Cube(name=\"floor\", scale=(3, 3, 0.1), position=(0, 0, -0.1),\n",
    "                 static=True)\n",
    "scene += kb.DirectionalLight(name=\"sun\", position=(-1, -0.5, 3),\n",
    "                             look_at=(0, 0, 0), intensity=1.5)\n",
    "scene.camera = kb.PerspectiveCamera(name=\"camera\", position=(2, -0.5, 4),\n",
    "                                    look_at=(0, 0, 0))\n",
    "\n",
    "# --- generates spheres randomly within a spawn region\n",
    "spawn_region = [[-1, -1, 0], [1, 1, 1]]\n",
    "rng = np.random.default_rng()\n",
    "for i in range(8):\n",
    "  velocity = rng.uniform([-1, -1, 0], [1, 1, 0])\n",
    "  material = kb.PrincipledBSDFMaterial(color=kb.random_hue_color(rng=rng))\n",
    "  sphere = kb.Sphere(scale=0.1, velocity=velocity, material=material)\n",
    "  scene += sphere\n",
    "  kb.move_until_no_overlap(sphere, simulator, spawn_region=spawn_region)"
   ]
  },
  {
   "cell_type": "code",
   "execution_count": 3,
   "metadata": {},
   "outputs": [
    {
     "data": {
      "text/plain": [
       "[bpy.data.objects['floor'],\n",
       " bpy.data.objects['sun'],\n",
       " bpy.data.objects['camera'],\n",
       " bpy.data.objects['Sphere'],\n",
       " bpy.data.objects['Sphere.001'],\n",
       " bpy.data.objects['Sphere.002'],\n",
       " bpy.data.objects['Sphere.003'],\n",
       " bpy.data.objects['Sphere.004'],\n",
       " bpy.data.objects['Sphere.005'],\n",
       " bpy.data.objects['Sphere.006'],\n",
       " bpy.data.objects['Sphere.007']]"
      ]
     },
     "execution_count": 3,
     "metadata": {},
     "output_type": "execute_result"
    }
   ],
   "source": [
    "renderer.blender_scene.objects.values()"
   ]
  },
  {
   "cell_type": "code",
   "execution_count": 10,
   "metadata": {},
   "outputs": [
    {
     "data": {
      "text/plain": [
       "Matrix(((0.2425355762243271, -0.8623489141464233, 0.4444444477558136, 2.0),\n",
       "        (0.9701425433158875, 0.21558716893196106, -0.111111119389534, -0.5),\n",
       "        (1.9165913300867032e-08, 0.4581228494644165, 0.8888888955116272, 4.0),\n",
       "        (0.0, 0.0, 0.0, 1.0)))"
      ]
     },
     "execution_count": 10,
     "metadata": {},
     "output_type": "execute_result"
    }
   ],
   "source": [
    "cam = renderer.blender_scene.objects[\"camera\"]\n",
    "cam.matrix_world"
   ]
  },
  {
   "cell_type": "code",
   "execution_count": 4,
   "metadata": {},
   "outputs": [
    {
     "name": "stdout",
     "output_type": "stream",
     "text": [
      "<bpy_collection[2562], MeshVertices>\n",
      "<bpy_collection[5120], MeshPolygons>\n",
      "[ 0.  0. -1.] [ 0 27 26]\n"
     ]
    }
   ],
   "source": [
    "import numpy as np\n",
    "\n",
    "\n",
    "obj  = renderer.blender_scene.objects[5]\n",
    "mesh = obj.to_mesh()\n",
    "\n",
    "\n",
    "print(mesh.vertices)\n",
    "print(mesh.polygons)\n",
    "print(np.array(mesh.vertices[0].co), np.array(mesh.polygons[0].vertices))"
   ]
  },
  {
   "cell_type": "code",
   "execution_count": 7,
   "metadata": {},
   "outputs": [
    {
     "data": {
      "text/plain": [
       "Matrix(((-0.004497977439314127, -0.09926769137382507, -0.011211343109607697, 0.7945337891578674),\n",
       "        (0.08669250458478928, 0.001697947271168232, -0.04981493577361107, 0.09796486049890518),\n",
       "        (0.04964049905538559, -0.01196005567908287, 0.08598127216100693, 0.2595765292644501),\n",
       "        (0.0, 0.0, 0.0, 1.0)))"
      ]
     },
     "execution_count": 7,
     "metadata": {},
     "output_type": "execute_result"
    }
   ],
   "source": [
    "obj.matrix_world"
   ]
  },
  {
   "cell_type": "code",
   "execution_count": 90,
   "metadata": {},
   "outputs": [
    {
     "name": "stdout",
     "output_type": "stream",
     "text": [
      "<bpy_struct, Object(\"Sphere.002\") at 0x7a975c8>\n",
      "[('PrincipledBSDFMaterial.002', bpy.data.objects['Sphere.002'].material_slots[0])]\n"
     ]
    }
   ],
   "source": [
    "print(obj)\n",
    "print(obj.material_slots.items())"
   ]
  },
  {
   "cell_type": "code",
   "execution_count": 92,
   "metadata": {},
   "outputs": [
    {
     "name": "stdout",
     "output_type": "stream",
     "text": [
      "<Color (r=0.6080, g=0.6080, b=0.6080)>\n",
      "<Color (r=0.6080, g=0.6080, b=0.6080)>\n"
     ]
    }
   ],
   "source": [
    "material = mesh.materials[mesh.polygons[0].material_index]\n",
    "\n",
    "shader_node_tree = material.node_tree\n",
    "shader_node_tree.nodes.values()\n",
    "\n",
    "print(shader_node_tree.nodes.get('Principled BSDF').color)\n",
    "print(shader_node_tree.nodes.get('Material Output').color)\n"
   ]
  },
  {
   "cell_type": "code",
   "execution_count": 93,
   "metadata": {},
   "outputs": [
    {
     "data": {
      "text/plain": [
       "bpy.data.meshes['Icosphere.002'].uv_layers[\"UVMap\"]"
      ]
     },
     "execution_count": 93,
     "metadata": {},
     "output_type": "execute_result"
    }
   ],
   "source": [
    "uv_layer = mesh.uv_layers.active\n",
    "uv_layer"
   ]
  },
  {
   "cell_type": "code",
   "execution_count": 94,
   "metadata": {},
   "outputs": [
    {
     "data": {
      "text/plain": [
       "[]"
      ]
     },
     "execution_count": 94,
     "metadata": {},
     "output_type": "execute_result"
    }
   ],
   "source": [
    "obj.data.vertex_colors.items()"
   ]
  },
  {
   "cell_type": "code",
   "execution_count": 26,
   "metadata": {},
   "outputs": [
    {
     "name": "stdout",
     "output_type": "stream",
     "text": [
      "No vertex colors are defined on the mesh.\n"
     ]
    }
   ],
   "source": [
    "import bpy\n",
    "\n",
    "# Set the object and face index you want to sample\n",
    "# obj = bpy.context.object\n",
    "face_index = 0  # Replace with the desired face index\n",
    "\n",
    "# Ensure the object is in Object Mode\n",
    "bpy.context.view_layer.objects.active = obj\n",
    "bpy.ops.object.mode_set(mode='OBJECT')\n",
    "\n",
    "# Get the mesh data\n",
    "mesh = obj.data\n",
    "\n",
    "# Check if vertex colors are present\n",
    "if mesh.vertex_colors:\n",
    "    # Access the vertex color layer\n",
    "    vertex_color_layer = mesh.vertex_colors.active  # You can also specify the layer by name\n",
    "\n",
    "    # Access the color for the specified face\n",
    "    colors = vertex_color_layer.data[face_index].color\n",
    "\n",
    "    print(\"Vertex Color of Face:\", colors)\n",
    "else:\n",
    "    print(\"No vertex colors are defined on the mesh.\")"
   ]
  },
  {
   "cell_type": "code",
   "execution_count": 56,
   "metadata": {},
   "outputs": [
    {
     "name": "stdout",
     "output_type": "stream",
     "text": [
      "<bpy_struct, ShaderNodeTree(\"Shader Nodetree\") at 0x7471ba8>\n",
      "[bpy.data.materials['PrincipledBSDFMaterial.001'].node_tree.nodes[\"Principled BSDF\"], bpy.data.materials['PrincipledBSDFMaterial.001'].node_tree.nodes[\"Material Output\"]]\n",
      "<bpy_struct, ShaderNodeBsdfPrincipled(\"Principled BSDF\") at 0x748edb8>\n",
      "None\n",
      "No Texture Coordinate node found.\n"
     ]
    }
   ],
   "source": [
    "import bpy\n",
    "\n",
    "# Set the object and face index you want to sample\n",
    "# obj = bpy.context.object\n",
    "face_index = 0  # Replace with the desired face index\n",
    "uv_coordinates = (0.5, 0.5)  # Replace with the desired UV coordinates (ranged from 0.0 to 1.0)\n",
    "\n",
    "# Ensure the object is in Object Mode\n",
    "bpy.context.view_layer.objects.active = obj\n",
    "bpy.ops.object.mode_set(mode='OBJECT')\n",
    "\n",
    "# Get the mesh data\n",
    "mesh = obj.data\n",
    "\n",
    "# Access the active material slot\n",
    "material_index = 0  # Replace with the appropriate material slot index\n",
    "material = obj.data.materials[material_index]\n",
    "\n",
    "if material and material.use_nodes:\n",
    "    shader_node_tree = material.node_tree\n",
    "    shader_node = shader_node_tree.nodes.get('Principled BSDF')  # Assuming you're using the Principled BSDF shader\n",
    "    if shader_node:\n",
    "        # Get the texture coordinate node\n",
    "        tex_coord_node = shader_node_tree.nodes.get('Texture Coordinate')\n",
    "        print(shader_node_tree)\n",
    "        print(shader_node_tree.nodes.values())\n",
    "        print(shader_node)\n",
    "        print(tex_coord_node)\n",
    "        if tex_coord_node:\n",
    "            # Set the active UV map for the face\n",
    "            tex_coord_node.uv_map = \"UVMap\"  # Replace with the UV map name of your mesh\n",
    "\n",
    "            # Access the image texture node\n",
    "            image_texture_node = shader_node_tree.nodes.get('Image Texture')  # Replace with the name of your image texture node\n",
    "\n",
    "            if image_texture_node and image_texture_node.image:\n",
    "                # Get the color at the specified UV coordinates\n",
    "                color = image_texture_node.image.sample(uv_coordinates)\n",
    "\n",
    "                print(\"Color at UV Coordinates:\", color)\n",
    "            else:\n",
    "                print(\"No valid image texture node found.\")\n",
    "        else:\n",
    "            print(\"No Texture Coordinate node found.\")\n",
    "    else:\n",
    "        print(\"No Principled BSDF shader node found in the material.\")\n",
    "else:\n",
    "    print(\"No material applied to the object or material does not use nodes.\")\n"
   ]
  },
  {
   "cell_type": "code",
   "execution_count": 34,
   "metadata": {},
   "outputs": [
    {
     "name": "stdout",
     "output_type": "stream",
     "text": [
      "0.5\n"
     ]
    },
    {
     "ename": "AttributeError",
     "evalue": "'Mesh' object has no attribute 'textures'",
     "output_type": "error",
     "traceback": [
      "\u001b[0;31m---------------------------------------------------------------------------\u001b[0m",
      "\u001b[0;31mAttributeError\u001b[0m                            Traceback (most recent call last)",
      "\u001b[1;32m/workspaces/bayes3d/scripts/_mkl/notebooks/kubric/test copy.ipynb Cell 9\u001b[0m line \u001b[0;36m2\n\u001b[1;32m     <a href='vscode-notebook-cell://dev-container%2B7b22686f737450617468223a222f686f6d652f6d69726b6f2f776f726b73706163652f626179657333642f736372697074732f5f6d6b6c2f6e6f7465626f6f6b732f6b7562726963222c226c6f63616c446f636b6572223a66616c73652c22636f6e66696746696c65223a7b22246d6964223a312c2270617468223a222f686f6d652f6d69726b6f2f776f726b73706163652f626179657333642f736372697074732f5f6d6b6c2f6e6f7465626f6f6b732f6b75627269632f2e646576636f6e7461696e65722f646576636f6e7461696e65722e6a736f6e222c22736368656d65223a227673636f64652d66696c65486f7374227d7d@ssh-remote%2Bchi-sight-instance-1.us-west1-b.chi-sight-mkl/workspaces/bayes3d/scripts/_mkl/notebooks/kubric/test%20copy.ipynb#X11sdnNjb2RlLXJlbW90ZQ%3D%3D?line=25'>26</a>\u001b[0m \u001b[39mprint\u001b[39m(face_uv\u001b[39m.\u001b[39muv\u001b[39m.\u001b[39mx)\n\u001b[1;32m     <a href='vscode-notebook-cell://dev-container%2B7b22686f737450617468223a222f686f6d652f6d69726b6f2f776f726b73706163652f626179657333642f736372697074732f5f6d6b6c2f6e6f7465626f6f6b732f6b7562726963222c226c6f63616c446f636b6572223a66616c73652c22636f6e66696746696c65223a7b22246d6964223a312c2270617468223a222f686f6d652f6d69726b6f2f776f726b73706163652f626179657333642f736372697074732f5f6d6b6c2f6e6f7465626f6f6b732f6b75627269632f2e646576636f6e7461696e65722f646576636f6e7461696e65722e6a736f6e222c22736368656d65223a227673636f64652d66696c65486f7374227d7d@ssh-remote%2Bchi-sight-instance-1.us-west1-b.chi-sight-mkl/workspaces/bayes3d/scripts/_mkl/notebooks/kubric/test%20copy.ipynb#X11sdnNjb2RlLXJlbW90ZQ%3D%3D?line=27'>28</a>\u001b[0m \u001b[39m# Access the image texture\u001b[39;00m\n\u001b[0;32m---> <a href='vscode-notebook-cell://dev-container%2B7b22686f737450617468223a222f686f6d652f6d69726b6f2f776f726b73706163652f626179657333642f736372697074732f5f6d6b6c2f6e6f7465626f6f6b732f6b7562726963222c226c6f63616c446f636b6572223a66616c73652c22636f6e66696746696c65223a7b22246d6964223a312c2270617468223a222f686f6d652f6d69726b6f2f776f726b73706163652f626179657333642f736372697074732f5f6d6b6c2f6e6f7465626f6f6b732f6b75627269632f2e646576636f6e7461696e65722f646576636f6e7461696e65722e6a736f6e222c22736368656d65223a227673636f64652d66696c65486f7374227d7d@ssh-remote%2Bchi-sight-instance-1.us-west1-b.chi-sight-mkl/workspaces/bayes3d/scripts/_mkl/notebooks/kubric/test%20copy.ipynb#X11sdnNjb2RlLXJlbW90ZQ%3D%3D?line=28'>29</a>\u001b[0m image_texture \u001b[39m=\u001b[39m obj\u001b[39m.\u001b[39;49mdata\u001b[39m.\u001b[39;49mtextures[\u001b[39m0\u001b[39m]  \u001b[39m# Replace with the appropriate texture slot index\u001b[39;00m\n\u001b[1;32m     <a href='vscode-notebook-cell://dev-container%2B7b22686f737450617468223a222f686f6d652f6d69726b6f2f776f726b73706163652f626179657333642f736372697074732f5f6d6b6c2f6e6f7465626f6f6b732f6b7562726963222c226c6f63616c446f636b6572223a66616c73652c22636f6e66696746696c65223a7b22246d6964223a312c2270617468223a222f686f6d652f6d69726b6f2f776f726b73706163652f626179657333642f736372697074732f5f6d6b6c2f6e6f7465626f6f6b732f6b75627269632f2e646576636f6e7461696e65722f646576636f6e7461696e65722e6a736f6e222c22736368656d65223a227673636f64652d66696c65486f7374227d7d@ssh-remote%2Bchi-sight-instance-1.us-west1-b.chi-sight-mkl/workspaces/bayes3d/scripts/_mkl/notebooks/kubric/test%20copy.ipynb#X11sdnNjb2RlLXJlbW90ZQ%3D%3D?line=30'>31</a>\u001b[0m \u001b[39mif\u001b[39;00m image_texture \u001b[39mand\u001b[39;00m image_texture\u001b[39m.\u001b[39mimage:\n\u001b[1;32m     <a href='vscode-notebook-cell://dev-container%2B7b22686f737450617468223a222f686f6d652f6d69726b6f2f776f726b73706163652f626179657333642f736372697074732f5f6d6b6c2f6e6f7465626f6f6b732f6b7562726963222c226c6f63616c446f636b6572223a66616c73652c22636f6e66696746696c65223a7b22246d6964223a312c2270617468223a222f686f6d652f6d69726b6f2f776f726b73706163652f626179657333642f736372697074732f5f6d6b6c2f6e6f7465626f6f6b732f6b75627269632f2e646576636f6e7461696e65722f646576636f6e7461696e65722e6a736f6e222c22736368656d65223a227673636f64652d66696c65486f7374227d7d@ssh-remote%2Bchi-sight-instance-1.us-west1-b.chi-sight-mkl/workspaces/bayes3d/scripts/_mkl/notebooks/kubric/test%20copy.ipynb#X11sdnNjb2RlLXJlbW90ZQ%3D%3D?line=31'>32</a>\u001b[0m     \u001b[39m# Get the color at the specified UV coordinates\u001b[39;00m\n\u001b[1;32m     <a href='vscode-notebook-cell://dev-container%2B7b22686f737450617468223a222f686f6d652f6d69726b6f2f776f726b73706163652f626179657333642f736372697074732f5f6d6b6c2f6e6f7465626f6f6b732f6b7562726963222c226c6f63616c446f636b6572223a66616c73652c22636f6e66696746696c65223a7b22246d6964223a312c2270617468223a222f686f6d652f6d69726b6f2f776f726b73706163652f626179657333642f736372697074732f5f6d6b6c2f6e6f7465626f6f6b732f6b75627269632f2e646576636f6e7461696e65722f646576636f6e7461696e65722e6a736f6e222c22736368656d65223a227673636f64652d66696c65486f7374227d7d@ssh-remote%2Bchi-sight-instance-1.us-west1-b.chi-sight-mkl/workspaces/bayes3d/scripts/_mkl/notebooks/kubric/test%20copy.ipynb#X11sdnNjb2RlLXJlbW90ZQ%3D%3D?line=32'>33</a>\u001b[0m     color \u001b[39m=\u001b[39m image_texture\u001b[39m.\u001b[39mimage\u001b[39m.\u001b[39msample(face_uv\u001b[39m.\u001b[39muv\u001b[39m.\u001b[39mx, face_uv\u001b[39m.\u001b[39muv\u001b[39m.\u001b[39my)\n",
      "\u001b[0;31mAttributeError\u001b[0m: 'Mesh' object has no attribute 'textures'"
     ]
    }
   ],
   "source": [
    "import bpy\n",
    "\n",
    "# Set the object and face index you want to sample\n",
    "# obj = bpy.context.object\n",
    "face_index = 0  # Replace with the desired face index\n",
    "uv_coordinates = (0.5, 0.5)  # Replace with the desired UV coordinates (ranged from 0.0 to 1.0 in both dimensions)\n",
    "\n",
    "# Ensure the object is in Object Mode\n",
    "bpy.context.view_layer.objects.active = obj\n",
    "bpy.ops.object.mode_set(mode='OBJECT')\n",
    "\n",
    "# Get the mesh data\n",
    "mesh = obj.data\n",
    "\n",
    "# Check if there are UV coordinates defined\n",
    "if mesh.uv_layers:\n",
    "    # Access the UV map\n",
    "    uv_map = mesh.uv_layers.active.data\n",
    "\n",
    "    # Access the UV coordinates for the specified face\n",
    "    face_uv = uv_map[face_index]\n",
    "\n",
    "    # Use the specified UV coordinates\n",
    "    face_uv.uv = uv_coordinates\n",
    "    # face_uv.y = uv_coordinates[1]\n",
    "    print(face_uv.uv.x)\n",
    "\n",
    "    # Access the image texture\n",
    "    image_texture = obj.data.textures[0]  # Replace with the appropriate texture slot index\n",
    "\n",
    "    if image_texture and image_texture.image:\n",
    "        # Get the color at the specified UV coordinates\n",
    "        color = image_texture.image.sample(face_uv.uv.x, face_uv.uv.y)\n",
    "\n",
    "        print(\"Color at UV Coordinates:\", color)\n",
    "    else:\n",
    "        print(\"No valid image texture found.\")\n",
    "else:\n",
    "    print(\"No UV coordinates defined on the mesh.\")\n"
   ]
  },
  {
   "cell_type": "code",
   "execution_count": 113,
   "metadata": {},
   "outputs": [
    {
     "data": {
      "text/plain": [
       "(array([ 0.,  0., -1.]), array([ 0, 27, 26]))"
      ]
     },
     "execution_count": 113,
     "metadata": {},
     "output_type": "execute_result"
    }
   ],
   "source": []
  },
  {
   "cell_type": "code",
   "execution_count": 115,
   "metadata": {},
   "outputs": [
    {
     "data": {
      "text/plain": [
       "['__doc__',\n",
       " '__module__',\n",
       " '__slots__',\n",
       " 'animation_data',\n",
       " 'animation_data_clear',\n",
       " 'animation_data_create',\n",
       " 'asset_data',\n",
       " 'attributes',\n",
       " 'auto_smooth_angle',\n",
       " 'auto_texspace',\n",
       " 'bl_rna',\n",
       " 'calc_loop_triangles',\n",
       " 'calc_normals',\n",
       " 'calc_normals_split',\n",
       " 'calc_smooth_groups',\n",
       " 'calc_tangents',\n",
       " 'clear_geometry',\n",
       " 'copy',\n",
       " 'count_selected_items',\n",
       " 'create_normals_split',\n",
       " 'cycles',\n",
       " 'edge_keys',\n",
       " 'edges',\n",
       " 'evaluated_get',\n",
       " 'face_maps',\n",
       " 'flip_normals',\n",
       " 'free_normals_split',\n",
       " 'free_tangents',\n",
       " 'from_pydata',\n",
       " 'has_custom_normals',\n",
       " 'is_editmode',\n",
       " 'is_embedded_data',\n",
       " 'is_evaluated',\n",
       " 'is_library_indirect',\n",
       " 'library',\n",
       " 'loop_triangles',\n",
       " 'loops',\n",
       " 'make_local',\n",
       " 'materials',\n",
       " 'name',\n",
       " 'name_full',\n",
       " 'normals_split_custom_set',\n",
       " 'normals_split_custom_set_from_vertices',\n",
       " 'original',\n",
       " 'override_create',\n",
       " 'override_library',\n",
       " 'override_template_create',\n",
       " 'polygon_layers_float',\n",
       " 'polygon_layers_int',\n",
       " 'polygon_layers_string',\n",
       " 'polygons',\n",
       " 'preview',\n",
       " 'remesh_mode',\n",
       " 'remesh_voxel_adaptivity',\n",
       " 'remesh_voxel_size',\n",
       " 'rna_type',\n",
       " 'sculpt_vertex_colors',\n",
       " 'shape_keys',\n",
       " 'skin_vertices',\n",
       " 'split_faces',\n",
       " 'tag',\n",
       " 'texco_mesh',\n",
       " 'texspace_location',\n",
       " 'texspace_size',\n",
       " 'texture_mesh',\n",
       " 'total_edge_sel',\n",
       " 'total_face_sel',\n",
       " 'total_vert_sel',\n",
       " 'transform',\n",
       " 'unit_test_compare',\n",
       " 'update',\n",
       " 'update_gpu_tag',\n",
       " 'update_tag',\n",
       " 'use_auto_smooth',\n",
       " 'use_auto_texspace',\n",
       " 'use_customdata_edge_bevel',\n",
       " 'use_customdata_edge_crease',\n",
       " 'use_customdata_vertex_bevel',\n",
       " 'use_fake_user',\n",
       " 'use_mirror_topology',\n",
       " 'use_mirror_vertex_groups',\n",
       " 'use_mirror_x',\n",
       " 'use_mirror_y',\n",
       " 'use_mirror_z',\n",
       " 'use_paint_mask',\n",
       " 'use_paint_mask_vertex',\n",
       " 'use_remesh_fix_poles',\n",
       " 'use_remesh_preserve_paint_mask',\n",
       " 'use_remesh_preserve_sculpt_face_sets',\n",
       " 'use_remesh_preserve_vertex_colors',\n",
       " 'use_remesh_preserve_volume',\n",
       " 'use_remesh_smooth_normals',\n",
       " 'user_clear',\n",
       " 'user_of_id',\n",
       " 'user_remap',\n",
       " 'users',\n",
       " 'uv_layer_clone',\n",
       " 'uv_layer_clone_index',\n",
       " 'uv_layer_stencil',\n",
       " 'uv_layer_stencil_index',\n",
       " 'uv_layers',\n",
       " 'validate',\n",
       " 'validate_material_indices',\n",
       " 'vertex_colors',\n",
       " 'vertex_layers_float',\n",
       " 'vertex_layers_int',\n",
       " 'vertex_layers_string',\n",
       " 'vertex_paint_masks',\n",
       " 'vertices']"
      ]
     },
     "execution_count": 115,
     "metadata": {},
     "output_type": "execute_result"
    }
   ],
   "source": [
    "dir(mesh)"
   ]
  },
  {
   "cell_type": "code",
   "execution_count": null,
   "metadata": {},
   "outputs": [],
   "source": []
  }
 ],
 "metadata": {
  "kernelspec": {
   "display_name": "base",
   "language": "python",
   "name": "python3"
  },
  "language_info": {
   "codemirror_mode": {
    "name": "ipython",
    "version": 3
   },
   "file_extension": ".py",
   "mimetype": "text/x-python",
   "name": "python",
   "nbconvert_exporter": "python",
   "pygments_lexer": "ipython3",
   "version": "3.9.5"
  }
 },
 "nbformat": 4,
 "nbformat_minor": 2
}
