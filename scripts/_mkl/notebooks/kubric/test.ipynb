{
 "cells": [
  {
   "cell_type": "code",
   "execution_count": 155,
   "metadata": {},
   "outputs": [],
   "source": [
    "import logging\n",
    "import kubric as kb\n",
    "from kubric.renderer.blender import Blender as KubricRenderer\n",
    "import numpy as np\n",
    "\n",
    "logging.basicConfig(level=\"INFO\")\n",
    "\n",
    "# --- create scene and attach a renderer to it\n",
    "scene = kb.Scene(resolution=(256, 256))\n",
    "renderer = KubricRenderer(scene)\n",
    "\n",
    "# --- populate the scene with objects, lights, cameras\n",
    "scene += kb.Cube(name=\"floor\", scale=(10, 10, 0.1), position=(0, 0, -0.1))\n",
    "scene += kb.Sphere(name=\"ball\", scale=1, position=(0, 0, 1.))\n",
    "scene += kb.DirectionalLight(name=\"sun\", position=(-1, -0.5, 3),\n",
    "                             look_at=(0, 0, 0), intensity=1.5)\n",
    "scene += kb.PerspectiveCamera(name=\"camera\", position=(3, -1, 4),\n",
    "                              look_at=(0, 0, 1))\n",
    "\n",
    "# --- render (and save the blender file)\n",
    "renderer.save_state(\"output/helloworld.blend\")\n",
    "frame = renderer.render_still()\n",
    "\n",
    "# --- save the output as pngs\n",
    "kb.write_png(frame[\"rgba\"], \"output/helloworld.png\")\n",
    "kb.write_palette_png(frame[\"segmentation\"], \"output/helloworld_segmentation.png\")\n",
    "scale = kb.write_scaled_png(frame[\"depth\"], \"output/helloworld_depth.png\")\n",
    "logging.info(\"Depth scale: %s\", scale)"
   ]
  },
  {
   "cell_type": "code",
   "execution_count": 159,
   "metadata": {},
   "outputs": [
    {
     "data": {
      "text/plain": [
       "dict_keys(['rgba', 'backward_flow', 'forward_flow', 'depth', 'normal', 'object_coordinates', 'segmentation'])"
      ]
     },
     "execution_count": 159,
     "metadata": {},
     "output_type": "execute_result"
    }
   ],
   "source": [
    "frame.keys()"
   ]
  },
  {
   "cell_type": "code",
   "execution_count": 163,
   "metadata": {},
   "outputs": [
    {
     "name": "stdout",
     "output_type": "stream",
     "text": [
      "(256, 256, 4)\n",
      "(256, 256, 1)\n",
      "(256, 256, 3)\n"
     ]
    }
   ],
   "source": [
    "print(frame[\"rgba\"].shape)\n",
    "print(frame[\"depth\"].shape)\n",
    "print(frame[\"object_coordinates\"].shape)"
   ]
  },
  {
   "cell_type": "code",
   "execution_count": 145,
   "metadata": {},
   "outputs": [
    {
     "data": {
      "text/plain": [
       "[bpy.data.objects['floor.003'],\n",
       " bpy.data.objects['ball.001'],\n",
       " bpy.data.objects['sun.001'],\n",
       " bpy.data.objects['camera.001']]"
      ]
     },
     "execution_count": 145,
     "metadata": {},
     "output_type": "execute_result"
    }
   ],
   "source": [
    "renderer.blender_scene.objects.values()"
   ]
  },
  {
   "cell_type": "code",
   "execution_count": 118,
   "metadata": {},
   "outputs": [],
   "source": [
    "\n",
    "\n",
    "obj = renderer.blender_scene.objects[1]\n",
    "\n",
    "del mesh\n",
    "mesh = obj.to_mesh()"
   ]
  },
  {
   "cell_type": "code",
   "execution_count": 127,
   "metadata": {},
   "outputs": [
    {
     "data": {
      "text/plain": [
       "[]"
      ]
     },
     "execution_count": 127,
     "metadata": {},
     "output_type": "execute_result"
    }
   ],
   "source": [
    "obj.material_slots.items()"
   ]
  },
  {
   "cell_type": "code",
   "execution_count": 143,
   "metadata": {},
   "outputs": [
    {
     "data": {
      "text/plain": [
       "['__doc__',\n",
       " '__module__',\n",
       " '__slots__',\n",
       " 'animation_data',\n",
       " 'animation_data_clear',\n",
       " 'animation_data_create',\n",
       " 'asset_data',\n",
       " 'attributes',\n",
       " 'auto_smooth_angle',\n",
       " 'auto_texspace',\n",
       " 'bl_rna',\n",
       " 'calc_loop_triangles',\n",
       " 'calc_normals',\n",
       " 'calc_normals_split',\n",
       " 'calc_smooth_groups',\n",
       " 'calc_tangents',\n",
       " 'clear_geometry',\n",
       " 'copy',\n",
       " 'count_selected_items',\n",
       " 'create_normals_split',\n",
       " 'cycles',\n",
       " 'edge_keys',\n",
       " 'edges',\n",
       " 'evaluated_get',\n",
       " 'face_maps',\n",
       " 'flip_normals',\n",
       " 'free_normals_split',\n",
       " 'free_tangents',\n",
       " 'from_pydata',\n",
       " 'has_custom_normals',\n",
       " 'is_editmode',\n",
       " 'is_embedded_data',\n",
       " 'is_evaluated',\n",
       " 'is_library_indirect',\n",
       " 'library',\n",
       " 'loop_triangles',\n",
       " 'loops',\n",
       " 'make_local',\n",
       " 'materials',\n",
       " 'name',\n",
       " 'name_full',\n",
       " 'normals_split_custom_set',\n",
       " 'normals_split_custom_set_from_vertices',\n",
       " 'original',\n",
       " 'override_create',\n",
       " 'override_library',\n",
       " 'override_template_create',\n",
       " 'polygon_layers_float',\n",
       " 'polygon_layers_int',\n",
       " 'polygon_layers_string',\n",
       " 'polygons',\n",
       " 'preview',\n",
       " 'remesh_mode',\n",
       " 'remesh_voxel_adaptivity',\n",
       " 'remesh_voxel_size',\n",
       " 'rna_type',\n",
       " 'sculpt_vertex_colors',\n",
       " 'shape_keys',\n",
       " 'skin_vertices',\n",
       " 'split_faces',\n",
       " 'tag',\n",
       " 'texco_mesh',\n",
       " 'texspace_location',\n",
       " 'texspace_size',\n",
       " 'texture_mesh',\n",
       " 'total_edge_sel',\n",
       " 'total_face_sel',\n",
       " 'total_vert_sel',\n",
       " 'transform',\n",
       " 'unit_test_compare',\n",
       " 'update',\n",
       " 'update_gpu_tag',\n",
       " 'update_tag',\n",
       " 'use_auto_smooth',\n",
       " 'use_auto_texspace',\n",
       " 'use_customdata_edge_bevel',\n",
       " 'use_customdata_edge_crease',\n",
       " 'use_customdata_vertex_bevel',\n",
       " 'use_fake_user',\n",
       " 'use_mirror_topology',\n",
       " 'use_mirror_vertex_groups',\n",
       " 'use_mirror_x',\n",
       " 'use_mirror_y',\n",
       " 'use_mirror_z',\n",
       " 'use_paint_mask',\n",
       " 'use_paint_mask_vertex',\n",
       " 'use_remesh_fix_poles',\n",
       " 'use_remesh_preserve_paint_mask',\n",
       " 'use_remesh_preserve_sculpt_face_sets',\n",
       " 'use_remesh_preserve_vertex_colors',\n",
       " 'use_remesh_preserve_volume',\n",
       " 'use_remesh_smooth_normals',\n",
       " 'user_clear',\n",
       " 'user_of_id',\n",
       " 'user_remap',\n",
       " 'users',\n",
       " 'uv_layer_clone',\n",
       " 'uv_layer_clone_index',\n",
       " 'uv_layer_stencil',\n",
       " 'uv_layer_stencil_index',\n",
       " 'uv_layers',\n",
       " 'validate',\n",
       " 'validate_material_indices',\n",
       " 'vertex_colors',\n",
       " 'vertex_layers_float',\n",
       " 'vertex_layers_int',\n",
       " 'vertex_layers_string',\n",
       " 'vertex_paint_masks',\n",
       " 'vertices']"
      ]
     },
     "execution_count": 143,
     "metadata": {},
     "output_type": "execute_result"
    }
   ],
   "source": [
    "dir(obj.data)"
   ]
  },
  {
   "cell_type": "code",
   "execution_count": 142,
   "metadata": {},
   "outputs": [
    {
     "data": {
      "text/plain": [
       "[]"
      ]
     },
     "execution_count": 142,
     "metadata": {},
     "output_type": "execute_result"
    }
   ],
   "source": [
    "obj.data.vertex_colors.items()"
   ]
  },
  {
   "cell_type": "code",
   "execution_count": 138,
   "metadata": {},
   "outputs": [
    {
     "name": "stdout",
     "output_type": "stream",
     "text": [
      "No vertex colors are defined on the mesh.\n"
     ]
    }
   ],
   "source": [
    "import bpy\n",
    "\n",
    "# Set the object and face index you want to sample\n",
    "# obj = bpy.context.object\n",
    "face_index = 0  # Replace with the desired face index\n",
    "\n",
    "# Ensure the object is in Object Mode\n",
    "bpy.context.view_layer.objects.active = obj\n",
    "bpy.ops.object.mode_set(mode='OBJECT')\n",
    "\n",
    "# Get the mesh data\n",
    "mesh = obj.data\n",
    "\n",
    "# Check if vertex colors are present\n",
    "if mesh.vertex_colors:\n",
    "    # Access the vertex color layer\n",
    "    vertex_color_layer = mesh.vertex_colors.active  # You can also specify the layer by name\n",
    "\n",
    "    # Access the color for the specified face\n",
    "    colors = vertex_color_layer.data[face_index].color\n",
    "\n",
    "    print(\"Vertex Color of Face:\", colors)\n",
    "else:\n",
    "    print(\"No vertex colors are defined on the mesh.\")"
   ]
  },
  {
   "cell_type": "code",
   "execution_count": 128,
   "metadata": {},
   "outputs": [
    {
     "ename": "IndexError",
     "evalue": "bpy_prop_collection[index]: index 0 out of range, size 0",
     "output_type": "error",
     "traceback": [
      "\u001b[0;31m---------------------------------------------------------------------------\u001b[0m",
      "\u001b[0;31mIndexError\u001b[0m                                Traceback (most recent call last)",
      "\u001b[1;32m/workspaces/bayes3d/scripts/_mkl/notebooks/kubric/test.ipynb Cell 5\u001b[0m line \u001b[0;36m1\n\u001b[1;32m     <a href='vscode-notebook-cell://dev-container%2B7b22686f737450617468223a222f686f6d652f6d69726b6f2f776f726b73706163652f626179657333642f736372697074732f5f6d6b6c2f6e6f7465626f6f6b732f6b7562726963222c226c6f63616c446f636b6572223a66616c73652c22636f6e66696746696c65223a7b22246d6964223a312c2270617468223a222f686f6d652f6d69726b6f2f776f726b73706163652f626179657333642f736372697074732f5f6d6b6c2f6e6f7465626f6f6b732f6b75627269632f2e646576636f6e7461696e65722f646576636f6e7461696e65722e6a736f6e222c22736368656d65223a227673636f64652d66696c65486f7374227d7d@ssh-remote%2Bchi-sight-instance-1.us-west1-b.chi-sight-mkl/workspaces/bayes3d/scripts/_mkl/notebooks/kubric/test.ipynb#X25sdnNjb2RlLXJlbW90ZQ%3D%3D?line=14'>15</a>\u001b[0m \u001b[39m# Access the active material slot\u001b[39;00m\n\u001b[1;32m     <a href='vscode-notebook-cell://dev-container%2B7b22686f737450617468223a222f686f6d652f6d69726b6f2f776f726b73706163652f626179657333642f736372697074732f5f6d6b6c2f6e6f7465626f6f6b732f6b7562726963222c226c6f63616c446f636b6572223a66616c73652c22636f6e66696746696c65223a7b22246d6964223a312c2270617468223a222f686f6d652f6d69726b6f2f776f726b73706163652f626179657333642f736372697074732f5f6d6b6c2f6e6f7465626f6f6b732f6b75627269632f2e646576636f6e7461696e65722f646576636f6e7461696e65722e6a736f6e222c22736368656d65223a227673636f64652d66696c65486f7374227d7d@ssh-remote%2Bchi-sight-instance-1.us-west1-b.chi-sight-mkl/workspaces/bayes3d/scripts/_mkl/notebooks/kubric/test.ipynb#X25sdnNjb2RlLXJlbW90ZQ%3D%3D?line=15'>16</a>\u001b[0m material_index \u001b[39m=\u001b[39m \u001b[39m0\u001b[39m  \u001b[39m# Replace with the appropriate material slot index\u001b[39;00m\n\u001b[0;32m---> <a href='vscode-notebook-cell://dev-container%2B7b22686f737450617468223a222f686f6d652f6d69726b6f2f776f726b73706163652f626179657333642f736372697074732f5f6d6b6c2f6e6f7465626f6f6b732f6b7562726963222c226c6f63616c446f636b6572223a66616c73652c22636f6e66696746696c65223a7b22246d6964223a312c2270617468223a222f686f6d652f6d69726b6f2f776f726b73706163652f626179657333642f736372697074732f5f6d6b6c2f6e6f7465626f6f6b732f6b75627269632f2e646576636f6e7461696e65722f646576636f6e7461696e65722e6a736f6e222c22736368656d65223a227673636f64652d66696c65486f7374227d7d@ssh-remote%2Bchi-sight-instance-1.us-west1-b.chi-sight-mkl/workspaces/bayes3d/scripts/_mkl/notebooks/kubric/test.ipynb#X25sdnNjb2RlLXJlbW90ZQ%3D%3D?line=16'>17</a>\u001b[0m material \u001b[39m=\u001b[39m obj\u001b[39m.\u001b[39;49mdata\u001b[39m.\u001b[39;49mmaterials[material_index]\n\u001b[1;32m     <a href='vscode-notebook-cell://dev-container%2B7b22686f737450617468223a222f686f6d652f6d69726b6f2f776f726b73706163652f626179657333642f736372697074732f5f6d6b6c2f6e6f7465626f6f6b732f6b7562726963222c226c6f63616c446f636b6572223a66616c73652c22636f6e66696746696c65223a7b22246d6964223a312c2270617468223a222f686f6d652f6d69726b6f2f776f726b73706163652f626179657333642f736372697074732f5f6d6b6c2f6e6f7465626f6f6b732f6b75627269632f2e646576636f6e7461696e65722f646576636f6e7461696e65722e6a736f6e222c22736368656d65223a227673636f64652d66696c65486f7374227d7d@ssh-remote%2Bchi-sight-instance-1.us-west1-b.chi-sight-mkl/workspaces/bayes3d/scripts/_mkl/notebooks/kubric/test.ipynb#X25sdnNjb2RlLXJlbW90ZQ%3D%3D?line=18'>19</a>\u001b[0m \u001b[39mif\u001b[39;00m material \u001b[39mand\u001b[39;00m material\u001b[39m.\u001b[39muse_nodes:\n\u001b[1;32m     <a href='vscode-notebook-cell://dev-container%2B7b22686f737450617468223a222f686f6d652f6d69726b6f2f776f726b73706163652f626179657333642f736372697074732f5f6d6b6c2f6e6f7465626f6f6b732f6b7562726963222c226c6f63616c446f636b6572223a66616c73652c22636f6e66696746696c65223a7b22246d6964223a312c2270617468223a222f686f6d652f6d69726b6f2f776f726b73706163652f626179657333642f736372697074732f5f6d6b6c2f6e6f7465626f6f6b732f6b75627269632f2e646576636f6e7461696e65722f646576636f6e7461696e65722e6a736f6e222c22736368656d65223a227673636f64652d66696c65486f7374227d7d@ssh-remote%2Bchi-sight-instance-1.us-west1-b.chi-sight-mkl/workspaces/bayes3d/scripts/_mkl/notebooks/kubric/test.ipynb#X25sdnNjb2RlLXJlbW90ZQ%3D%3D?line=19'>20</a>\u001b[0m     shader_node_tree \u001b[39m=\u001b[39m material\u001b[39m.\u001b[39mnode_tree\n",
      "\u001b[0;31mIndexError\u001b[0m: bpy_prop_collection[index]: index 0 out of range, size 0"
     ]
    }
   ],
   "source": [
    "import bpy\n",
    "\n",
    "# Set the object and face index you want to sample\n",
    "# obj = bpy.context.object\n",
    "face_index = 0  # Replace with the desired face index\n",
    "uv_coordinates = (0.5, 0.5)  # Replace with the desired UV coordinates (ranged from 0.0 to 1.0)\n",
    "\n",
    "# Ensure the object is in Object Mode\n",
    "bpy.context.view_layer.objects.active = obj\n",
    "bpy.ops.object.mode_set(mode='OBJECT')\n",
    "\n",
    "# Get the mesh data\n",
    "mesh = obj.data\n",
    "\n",
    "# Access the active material slot\n",
    "material_index = 0  # Replace with the appropriate material slot index\n",
    "material = obj.data.materials[material_index]\n",
    "\n",
    "if material and material.use_nodes:\n",
    "    shader_node_tree = material.node_tree\n",
    "    shader_node = shader_node_tree.nodes.get('Principled BSDF')  # Assuming you're using the Principled BSDF shader\n",
    "    if shader_node:\n",
    "        # Get the texture coordinate node\n",
    "        tex_coord_node = shader_node_tree.nodes.get('Texture Coordinate')\n",
    "        \n",
    "        if tex_coord_node:\n",
    "            # Set the active UV map for the face\n",
    "            tex_coord_node.uv_map = \"UVMap\"  # Replace with the UV map name of your mesh\n",
    "\n",
    "            # Access the image texture node\n",
    "            image_texture_node = shader_node_tree.nodes.get('Image Texture')  # Replace with the name of your image texture node\n",
    "\n",
    "            if image_texture_node and image_texture_node.image:\n",
    "                # Get the color at the specified UV coordinates\n",
    "                color = image_texture_node.image.sample(uv_coordinates)\n",
    "\n",
    "                print(\"Color at UV Coordinates:\", color)\n",
    "            else:\n",
    "                print(\"No valid image texture node found.\")\n",
    "        else:\n",
    "            print(\"No Texture Coordinate node found.\")\n",
    "    else:\n",
    "        print(\"No Principled BSDF shader node found in the material.\")\n",
    "else:\n",
    "    print(\"No material applied to the object or material does not use nodes.\")\n"
   ]
  },
  {
   "cell_type": "code",
   "execution_count": 120,
   "metadata": {},
   "outputs": [
    {
     "data": {
      "text/plain": [
       "['__doc__',\n",
       " '__module__',\n",
       " '__slots__',\n",
       " 'active_material',\n",
       " 'active_material_index',\n",
       " 'active_shape_key',\n",
       " 'active_shape_key_index',\n",
       " 'animation_data',\n",
       " 'animation_data_clear',\n",
       " 'animation_data_create',\n",
       " 'animation_visualization',\n",
       " 'asset_data',\n",
       " 'bl_rna',\n",
       " 'bound_box',\n",
       " 'cache_release',\n",
       " 'calc_matrix_camera',\n",
       " 'camera_fit_coords',\n",
       " 'children',\n",
       " 'closest_point_on_mesh',\n",
       " 'collision',\n",
       " 'color',\n",
       " 'constraints',\n",
       " 'convert_space',\n",
       " 'copy',\n",
       " 'cycles',\n",
       " 'cycles_visibility',\n",
       " 'data',\n",
       " 'delta_location',\n",
       " 'delta_rotation_euler',\n",
       " 'delta_rotation_quaternion',\n",
       " 'delta_scale',\n",
       " 'dimensions',\n",
       " 'display',\n",
       " 'display_bounds_type',\n",
       " 'display_type',\n",
       " 'empty_display_size',\n",
       " 'empty_display_type',\n",
       " 'empty_image_depth',\n",
       " 'empty_image_offset',\n",
       " 'empty_image_side',\n",
       " 'evaluated_get',\n",
       " 'face_maps',\n",
       " 'field',\n",
       " 'find_armature',\n",
       " 'generate_gpencil_strokes',\n",
       " 'grease_pencil_modifiers',\n",
       " 'hide_get',\n",
       " 'hide_render',\n",
       " 'hide_select',\n",
       " 'hide_set',\n",
       " 'hide_viewport',\n",
       " 'holdout_get',\n",
       " 'image_user',\n",
       " 'indirect_only_get',\n",
       " 'instance_collection',\n",
       " 'instance_faces_scale',\n",
       " 'instance_type',\n",
       " 'is_deform_modified',\n",
       " 'is_embedded_data',\n",
       " 'is_evaluated',\n",
       " 'is_from_instancer',\n",
       " 'is_from_set',\n",
       " 'is_instancer',\n",
       " 'is_library_indirect',\n",
       " 'is_modified',\n",
       " 'library',\n",
       " 'lineart',\n",
       " 'local_view_get',\n",
       " 'local_view_set',\n",
       " 'location',\n",
       " 'lock_location',\n",
       " 'lock_rotation',\n",
       " 'lock_rotation_w',\n",
       " 'lock_rotations_4d',\n",
       " 'lock_scale',\n",
       " 'make_local',\n",
       " 'material_slots',\n",
       " 'matrix_basis',\n",
       " 'matrix_local',\n",
       " 'matrix_parent_inverse',\n",
       " 'matrix_world',\n",
       " 'mode',\n",
       " 'modifiers',\n",
       " 'motion_path',\n",
       " 'name',\n",
       " 'name_full',\n",
       " 'original',\n",
       " 'override_create',\n",
       " 'override_library',\n",
       " 'override_template_create',\n",
       " 'parent',\n",
       " 'parent_bone',\n",
       " 'parent_type',\n",
       " 'parent_vertices',\n",
       " 'particle_systems',\n",
       " 'pass_index',\n",
       " 'pose',\n",
       " 'pose_library',\n",
       " 'preview',\n",
       " 'proxy',\n",
       " 'proxy_collection',\n",
       " 'ray_cast',\n",
       " 'rigid_body',\n",
       " 'rigid_body_constraint',\n",
       " 'rna_type',\n",
       " 'rotation_axis_angle',\n",
       " 'rotation_euler',\n",
       " 'rotation_mode',\n",
       " 'rotation_quaternion',\n",
       " 'scale',\n",
       " 'select_get',\n",
       " 'select_set',\n",
       " 'shader_effects',\n",
       " 'shape_key_add',\n",
       " 'shape_key_clear',\n",
       " 'shape_key_remove',\n",
       " 'show_all_edges',\n",
       " 'show_axis',\n",
       " 'show_bounds',\n",
       " 'show_empty_image_only_axis_aligned',\n",
       " 'show_empty_image_orthographic',\n",
       " 'show_empty_image_perspective',\n",
       " 'show_in_front',\n",
       " 'show_instancer_for_render',\n",
       " 'show_instancer_for_viewport',\n",
       " 'show_name',\n",
       " 'show_only_shape_key',\n",
       " 'show_texture_space',\n",
       " 'show_transparent',\n",
       " 'show_wire',\n",
       " 'soft_body',\n",
       " 'tag',\n",
       " 'to_curve',\n",
       " 'to_curve_clear',\n",
       " 'to_mesh',\n",
       " 'to_mesh_clear',\n",
       " 'track_axis',\n",
       " 'type',\n",
       " 'up_axis',\n",
       " 'update_from_editmode',\n",
       " 'update_tag',\n",
       " 'use_camera_lock_parent',\n",
       " 'use_dynamic_topology_sculpting',\n",
       " 'use_empty_image_alpha',\n",
       " 'use_fake_user',\n",
       " 'use_grease_pencil_lights',\n",
       " 'use_instance_faces_scale',\n",
       " 'use_instance_vertices_rotation',\n",
       " 'use_mesh_mirror_x',\n",
       " 'use_mesh_mirror_y',\n",
       " 'use_mesh_mirror_z',\n",
       " 'use_shape_key_edit_mode',\n",
       " 'user_clear',\n",
       " 'user_of_id',\n",
       " 'user_remap',\n",
       " 'users',\n",
       " 'users_collection',\n",
       " 'users_scene',\n",
       " 'vertex_groups',\n",
       " 'visible_get',\n",
       " 'visible_in_viewport_get']"
      ]
     },
     "execution_count": 120,
     "metadata": {},
     "output_type": "execute_result"
    }
   ],
   "source": [
    "dir(obj)"
   ]
  },
  {
   "cell_type": "code",
   "execution_count": 113,
   "metadata": {},
   "outputs": [
    {
     "data": {
      "text/plain": [
       "(array([ 0.,  0., -1.]), array([ 0, 27, 26]))"
      ]
     },
     "execution_count": 113,
     "metadata": {},
     "output_type": "execute_result"
    }
   ],
   "source": [
    "np.array(mesh.vertices[0].co), np.array(mesh.polygons[0].vertices)"
   ]
  },
  {
   "cell_type": "code",
   "execution_count": 115,
   "metadata": {},
   "outputs": [
    {
     "data": {
      "text/plain": [
       "['__doc__',\n",
       " '__module__',\n",
       " '__slots__',\n",
       " 'animation_data',\n",
       " 'animation_data_clear',\n",
       " 'animation_data_create',\n",
       " 'asset_data',\n",
       " 'attributes',\n",
       " 'auto_smooth_angle',\n",
       " 'auto_texspace',\n",
       " 'bl_rna',\n",
       " 'calc_loop_triangles',\n",
       " 'calc_normals',\n",
       " 'calc_normals_split',\n",
       " 'calc_smooth_groups',\n",
       " 'calc_tangents',\n",
       " 'clear_geometry',\n",
       " 'copy',\n",
       " 'count_selected_items',\n",
       " 'create_normals_split',\n",
       " 'cycles',\n",
       " 'edge_keys',\n",
       " 'edges',\n",
       " 'evaluated_get',\n",
       " 'face_maps',\n",
       " 'flip_normals',\n",
       " 'free_normals_split',\n",
       " 'free_tangents',\n",
       " 'from_pydata',\n",
       " 'has_custom_normals',\n",
       " 'is_editmode',\n",
       " 'is_embedded_data',\n",
       " 'is_evaluated',\n",
       " 'is_library_indirect',\n",
       " 'library',\n",
       " 'loop_triangles',\n",
       " 'loops',\n",
       " 'make_local',\n",
       " 'materials',\n",
       " 'name',\n",
       " 'name_full',\n",
       " 'normals_split_custom_set',\n",
       " 'normals_split_custom_set_from_vertices',\n",
       " 'original',\n",
       " 'override_create',\n",
       " 'override_library',\n",
       " 'override_template_create',\n",
       " 'polygon_layers_float',\n",
       " 'polygon_layers_int',\n",
       " 'polygon_layers_string',\n",
       " 'polygons',\n",
       " 'preview',\n",
       " 'remesh_mode',\n",
       " 'remesh_voxel_adaptivity',\n",
       " 'remesh_voxel_size',\n",
       " 'rna_type',\n",
       " 'sculpt_vertex_colors',\n",
       " 'shape_keys',\n",
       " 'skin_vertices',\n",
       " 'split_faces',\n",
       " 'tag',\n",
       " 'texco_mesh',\n",
       " 'texspace_location',\n",
       " 'texspace_size',\n",
       " 'texture_mesh',\n",
       " 'total_edge_sel',\n",
       " 'total_face_sel',\n",
       " 'total_vert_sel',\n",
       " 'transform',\n",
       " 'unit_test_compare',\n",
       " 'update',\n",
       " 'update_gpu_tag',\n",
       " 'update_tag',\n",
       " 'use_auto_smooth',\n",
       " 'use_auto_texspace',\n",
       " 'use_customdata_edge_bevel',\n",
       " 'use_customdata_edge_crease',\n",
       " 'use_customdata_vertex_bevel',\n",
       " 'use_fake_user',\n",
       " 'use_mirror_topology',\n",
       " 'use_mirror_vertex_groups',\n",
       " 'use_mirror_x',\n",
       " 'use_mirror_y',\n",
       " 'use_mirror_z',\n",
       " 'use_paint_mask',\n",
       " 'use_paint_mask_vertex',\n",
       " 'use_remesh_fix_poles',\n",
       " 'use_remesh_preserve_paint_mask',\n",
       " 'use_remesh_preserve_sculpt_face_sets',\n",
       " 'use_remesh_preserve_vertex_colors',\n",
       " 'use_remesh_preserve_volume',\n",
       " 'use_remesh_smooth_normals',\n",
       " 'user_clear',\n",
       " 'user_of_id',\n",
       " 'user_remap',\n",
       " 'users',\n",
       " 'uv_layer_clone',\n",
       " 'uv_layer_clone_index',\n",
       " 'uv_layer_stencil',\n",
       " 'uv_layer_stencil_index',\n",
       " 'uv_layers',\n",
       " 'validate',\n",
       " 'validate_material_indices',\n",
       " 'vertex_colors',\n",
       " 'vertex_layers_float',\n",
       " 'vertex_layers_int',\n",
       " 'vertex_layers_string',\n",
       " 'vertex_paint_masks',\n",
       " 'vertices']"
      ]
     },
     "execution_count": 115,
     "metadata": {},
     "output_type": "execute_result"
    }
   ],
   "source": [
    "dir(mesh)"
   ]
  },
  {
   "cell_type": "code",
   "execution_count": null,
   "metadata": {},
   "outputs": [],
   "source": []
  }
 ],
 "metadata": {
  "kernelspec": {
   "display_name": "base",
   "language": "python",
   "name": "python3"
  },
  "language_info": {
   "codemirror_mode": {
    "name": "ipython",
    "version": 3
   },
   "file_extension": ".py",
   "mimetype": "text/x-python",
   "name": "python",
   "nbconvert_exporter": "python",
   "pygments_lexer": "ipython3",
   "version": "3.9.5"
  }
 },
 "nbformat": 4,
 "nbformat_minor": 2
}
