{
 "cells": [
  {
   "cell_type": "code",
   "execution_count": 1,
   "metadata": {},
   "outputs": [],
   "source": [
    "# Copyright 2023 The Kubric Authors.\n",
    "#\n",
    "# Licensed under the Apache License, Version 2.0 (the \"License\");\n",
    "# you may not use this file except in compliance with the License.\n",
    "# You may obtain a copy of the License at\n",
    "#\n",
    "#     http://www.apache.org/licenses/LICENSE-2.0\n",
    "#\n",
    "# Unless required by applicable law or agreed to in writing, software\n",
    "# distributed under the License is distributed on an \"AS IS\" BASIS,\n",
    "# WITHOUT WARRANTIES OR CONDITIONS OF ANY KIND, either express or implied.\n",
    "# See the License for the specific language governing permissions and\n",
    "# limitations under the License."
   ]
  },
  {
   "cell_type": "code",
   "execution_count": 2,
   "metadata": {},
   "outputs": [
    {
     "name": "stderr",
     "output_type": "stream",
     "text": [
      "pybullet build time: Mar 26 2022 03:01:35\n",
      "/usr/local/lib/python3.9/dist-packages/tqdm/auto.py:22: TqdmWarning: IProgress not found. Please update jupyter and ipywidgets. See https://ipywidgets.readthedocs.io/en/stable/user_install.html\n",
      "  from .autonotebook import tqdm as notebook_tqdm\n"
     ]
    }
   ],
   "source": [
    "\"\"\"\n",
    "Worker file for the Multi-Object Video (MOVi) C (and CC) datasets.\n",
    "  * The number of objects is randomly chosen between\n",
    "    --min_num_objects (3) and --max_num_objects (10)\n",
    "  * The objects are randomly chosen from the Google Scanned Objects dataset\n",
    "\n",
    "  * Background is an random HDRI from the HDRI Haven dataset,\n",
    "    projected onto a Dome (half-sphere).\n",
    "    The HDRI is also used for lighting the scene.\n",
    "\"\"\"\n",
    "import logging\n",
    "\n",
    "import bpy\n",
    "import kubric as kb\n",
    "from kubric.simulator import PyBullet\n",
    "from kubric.renderer import Blender\n",
    "import numpy as np\n",
    "from kubric import ArgumentParser\n",
    "from argparse import Namespace\n",
    "\n",
    "# local file\n",
    "from kubric_helper import *\n"
   ]
  },
  {
   "cell_type": "code",
   "execution_count": 72,
   "metadata": {},
   "outputs": [],
   "source": [
    "# --- Some configuration values\n",
    "# the region in which to place objects [(min), (max)]\n",
    "SPAWN_REGION   = [(-5, -5, 1), (5, 5, 5)]\n",
    "VELOCITY_RANGE = [(-4., -4., 0.), (4., 4., 0.)]\n",
    "\n",
    "FLAGS = Namespace(\n",
    "    resolution  = 256, \n",
    "    frame_rate  = 12, \n",
    "    step_rate   = 240, \n",
    "    frame_start = 20, \n",
    "    frame_end   = 24, #24 \n",
    "    logging_level = 'INFO', \n",
    "    seed = None, \n",
    "    scratch_dir = '/tmp/tmp82v1zpil', \n",
    "    job_dir     = 'output', \n",
    "    objects_split = 'train', \n",
    "    min_num_objects = 3, \n",
    "    max_num_objects = 10, \n",
    "    floor_friction    = 0.3, \n",
    "    floor_restitution = 0.5, \n",
    "    backgrounds_split = 'train', \n",
    "    camera = 'fixed_random', \n",
    "    max_camera_movement = 4.0, \n",
    "    kubasic_assets = 'gs://kubric-public/assets/KuBasic/KuBasic.json', \n",
    "    hdri_assets    = 'gs://kubric-public/assets/HDRI_haven/HDRI_haven.json', \n",
    "    gso_assets     = 'gs://kubric-public/assets/GSO/GSO.json', \n",
    "    save_state=False,\n",
    ")"
   ]
  },
  {
   "cell_type": "markdown",
   "metadata": {},
   "source": [
    "Resources:\n",
    "- https://polyhaven.com/hdris\n",
    "- https://hdri-haven.com/category/indoor?page=2\n",
    "- https://app.gazebosim.org/GoogleResearch"
   ]
  },
  {
   "cell_type": "code",
   "execution_count": 73,
   "metadata": {},
   "outputs": [
    {
     "name": "stderr",
     "output_type": "stream",
     "text": [
      "INFO:kubric.utils:{ 'backgrounds_split': 'train',\n",
      "  'camera': 'fixed_random',\n",
      "  'floor_friction': 0.3,\n",
      "  'floor_restitution': 0.5,\n",
      "  'frame_end': 24,\n",
      "  'frame_rate': 12,\n",
      "  'frame_start': 20,\n",
      "  'gso_assets': 'gs://kubric-public/assets/GSO/GSO.json',\n",
      "  'hdri_assets': 'gs://kubric-public/assets/HDRI_haven/HDRI_haven.json',\n",
      "  'job_dir': 'output',\n",
      "  'kubasic_assets': 'gs://kubric-public/assets/KuBasic/KuBasic.json',\n",
      "  'logging_level': 'INFO',\n",
      "  'max_camera_movement': 4.0,\n",
      "  'max_num_objects': 10,\n",
      "  'min_num_objects': 3,\n",
      "  'objects_split': 'train',\n",
      "  'resolution': 256,\n",
      "  'save_state': False,\n",
      "  'scratch_dir': '/tmp/tmp82v1zpil',\n",
      "  'seed': None,\n",
      "  'step_rate': 240}\n",
      "INFO:root:Deleting content of old scratch-dir: /tmp/tmp82v1zpil\n",
      "INFO:root:Using scratch directory: /tmp/tmp82v1zpil\n",
      "INFO:root:Using output directory: output\n",
      "INFO:root:Created AssetSource 'KuBasic' with '15' assets at URI='gs://kubric-public/assets/KuBasic'\n",
      "INFO:root:Created AssetSource 'GSO' with '1033' assets at URI='gs://kubric-public/assets/GSO'\n",
      "INFO:root:Created AssetSource 'HDRI_haven' with '509' assets at URI='gs://kubric-public/assets/HDRI_haven'\n"
     ]
    }
   ],
   "source": [
    "# --- Common setups & resources\n",
    "scene, rng, output_dir, scratch_dir = kb.setup(FLAGS)\n",
    "\n",
    "simulator = PyBullet(scene, scratch_dir)\n",
    "renderer  = Blender(scene, scratch_dir, samples_per_pixel=64)\n",
    "\n",
    "kubasic     = kb.AssetSource.from_manifest(FLAGS.kubasic_assets)\n",
    "gso         = kb.AssetSource.from_manifest(FLAGS.gso_assets)\n",
    "hdri_source = kb.AssetSource.from_manifest(FLAGS.hdri_assets)"
   ]
  },
  {
   "cell_type": "markdown",
   "metadata": {},
   "source": [
    "### Background"
   ]
  },
  {
   "cell_type": "code",
   "execution_count": 74,
   "metadata": {},
   "outputs": [
    {
     "name": "stderr",
     "output_type": "stream",
     "text": [
      "INFO:root:Using background small_cathedral\n"
     ]
    }
   ],
   "source": [
    "# --- Populate the scene\n",
    "# background HDRI\n",
    "hdri_id = \"small_cathedral\"\n",
    "\n",
    "# train_backgrounds, test_backgrounds = hdri_source.get_test_split(fraction=0.1)\n",
    "# if FLAGS.backgrounds_split == \"train\":\n",
    "#   logging.info(\"Choosing one of the %d training backgrounds...\", len(train_backgrounds))\n",
    "#   # RDM CHOICE\n",
    "#   hdri_id = rng.choice(train_backgrounds)\n",
    "# else:\n",
    "#   logging.info(\"Choosing one of the %d held-out backgrounds...\", len(test_backgrounds))\n",
    "#   # RDM CHOICE\n",
    "#   hdri_id = rng.choice(test_backgrounds)\n",
    "\n",
    "\n",
    "\n",
    "background_hdri = hdri_source.create(asset_id=hdri_id)\n",
    "assert isinstance(background_hdri, kb.Texture)\n",
    "logging.info(\"Using background %s\", hdri_id)\n",
    "scene.metadata[\"background\"] = hdri_id\n",
    "renderer._set_ambient_light_hdri(background_hdri.filename)\n",
    "\n",
    "# Dome\n",
    "dome = kubasic.create(asset_id=\"dome\", name=\"dome\",\n",
    "                      friction=FLAGS.floor_friction,\n",
    "                      restitution=FLAGS.floor_restitution,\n",
    "                      static=True, background=True)\n",
    "assert isinstance(dome, kb.FileBasedObject)\n",
    "\n",
    "scene += dome\n",
    "\n",
    "dome_blender = dome.linked_objects[renderer]\n",
    "texture_node = dome_blender.data.materials[0].node_tree.nodes[\"Image Texture\"]\n",
    "texture_node.image = bpy.data.images.load(background_hdri.filename)"
   ]
  },
  {
   "cell_type": "code",
   "execution_count": 75,
   "metadata": {},
   "outputs": [
    {
     "name": "stdout",
     "output_type": "stream",
     "text": [
      "dome\n"
     ]
    }
   ],
   "source": [
    "for a in scene.assets:\n",
    "    print(a.name)"
   ]
  },
  {
   "cell_type": "code",
   "execution_count": null,
   "metadata": {},
   "outputs": [],
   "source": []
  },
  {
   "cell_type": "code",
   "execution_count": 76,
   "metadata": {},
   "outputs": [
    {
     "name": "stderr",
     "output_type": "stream",
     "text": [
      "INFO:root:Setting up the Camera...\n"
     ]
    }
   ],
   "source": [
    "# Camera\n",
    "logging.info(\"Setting up the Camera...\")\n",
    "\n",
    "scene.camera = kb.PerspectiveCamera(focal_length=35., sensor_width=32)\n",
    "\n",
    "\n",
    "if FLAGS.camera == \"fixed_random\":\n",
    "  # RDM CHOICE\n",
    "  scene.camera.position = kb.sample_point_in_half_sphere_shell(\n",
    "      inner_radius=7., outer_radius=9., offset=0.1)\n",
    "  scene.camera.look_at((0, 0, 0))\n",
    "elif FLAGS.camera == \"linear_movement\":\n",
    "  # RDM CHOICE\n",
    "  camera_start, camera_end = get_linear_camera_motion_start_end(\n",
    "      movement_speed=rng.uniform(low=0., high=FLAGS.max_camera_movement)\n",
    "  )\n",
    "\n",
    "  # linearly interpolate the camera position between these two points\n",
    "  # while keeping it focused on the center of the scene\n",
    "  # we start one frame early and end one frame late to ensure that\n",
    "  # forward and backward flow are still consistent for the last and first frames\n",
    "  for frame in range(FLAGS.frame_start - 1, FLAGS.frame_end + 2):\n",
    "    interp = ((frame - FLAGS.frame_start + 1) /\n",
    "              (FLAGS.frame_end - FLAGS.frame_start + 3))\n",
    "    scene.camera.position = (interp * np.array(camera_start) +\n",
    "                             (1 - interp) * np.array(camera_end))\n",
    "    scene.camera.look_at((0, 0, 0))\n",
    "    scene.camera.keyframe_insert(\"position\", frame)\n",
    "    scene.camera.keyframe_insert(\"quaternion\", frame)\n"
   ]
  },
  {
   "cell_type": "code",
   "execution_count": 77,
   "metadata": {},
   "outputs": [
    {
     "data": {
      "text/plain": [
       "1.09375"
      ]
     },
     "execution_count": 77,
     "metadata": {},
     "output_type": "execute_result"
    }
   ],
   "source": [
    "35/32"
   ]
  },
  {
   "cell_type": "code",
   "execution_count": 78,
   "metadata": {},
   "outputs": [
    {
     "data": {
      "text/plain": [
       "array([[ 1.09375,  0.     , -0.5    ],\n",
       "       [ 0.     , -1.09375, -0.5    ],\n",
       "       [ 0.     ,  0.     , -1.     ]])"
      ]
     },
     "execution_count": 78,
     "metadata": {},
     "output_type": "execute_result"
    }
   ],
   "source": [
    "scene.camera.intrinsics"
   ]
  },
  {
   "cell_type": "markdown",
   "metadata": {},
   "source": [
    "### Objects"
   ]
  },
  {
   "cell_type": "code",
   "execution_count": 79,
   "metadata": {},
   "outputs": [
    {
     "name": "stderr",
     "output_type": "stream",
     "text": [
      "INFO:root:Randomly placing 3 objects:\n",
      "INFO:root:Choosing one of the 930 training objects...\n",
      "INFO:root:    Added Reebok_ZIGSTORM at [1.2226142 3.1157935 4.010092 ]\n",
      "INFO:root:    Added Canon_225226_Ink_Cartridges_BlackColor_Cyan_Magenta_Yellow_6_count at [ 2.9570248 -0.7571986  2.312225 ]\n",
      "INFO:root:    Added Canon_225226_Ink_Cartridges_BlackColor_Cyan_Magenta_Yellow_6_count at [-1.8443091  3.3268826  3.5359342]\n"
     ]
    }
   ],
   "source": [
    "obj_ids = ['Reebok_ZIGSTORM', 'Canon_225226_Ink_Cartridges_BlackColor_Cyan_Magenta_Yellow_6_count', 'Canon_225226_Ink_Cartridges_BlackColor_Cyan_Magenta_Yellow_6_count']\n",
    "num_objects = len(obj_ids)\n",
    "\n",
    "# RDM CHOICE\n",
    "# num_objects = rng.randint(FLAGS.min_num_objects,\n",
    "                          # FLAGS.max_num_objects+1)\n",
    "logging.info(\"Randomly placing %d objects:\", num_objects)\n",
    "\n",
    "\n",
    "\n",
    "\n",
    "# Add random objects\n",
    "train_split, test_split = gso.get_test_split(fraction=0.1)\n",
    "if FLAGS.objects_split == \"train\":\n",
    "  logging.info(\"Choosing one of the %d training objects...\", len(train_split))\n",
    "  active_split = train_split\n",
    "else:\n",
    "  logging.info(\"Choosing one of the %d held-out objects...\", len(test_split))\n",
    "  active_split = test_split\n",
    "\n",
    "\n",
    "for i in range(num_objects):\n",
    "  # RDM CHOICE\n",
    "\n",
    "  obj = gso.create(asset_id = obj_ids[i])\n",
    "  \n",
    "  assert isinstance(obj, kb.FileBasedObject)\n",
    "\n",
    "  # RDM CHOICE\n",
    "  scale = rng.uniform(0.75, 3.0)\n",
    "  obj.scale = scale / np.max(obj.bounds[1] - obj.bounds[0])\n",
    "  obj.metadata[\"scale\"] = scale\n",
    "  scene += obj\n",
    "\n",
    "  # RDM CHOICE???\n",
    "  kb.move_until_no_overlap(obj, simulator, spawn_region=SPAWN_REGION, rng=rng)\n",
    "  # initialize velocity randomly but biased towards center\n",
    "  # RDM CHOICE\n",
    "  obj.velocity = (rng.uniform(*VELOCITY_RANGE) -\n",
    "                  [obj.position[0], obj.position[1], 0])\n",
    "  logging.info(\"    Added %s at %s\", obj.asset_id, obj.position)\n",
    "\n"
   ]
  },
  {
   "cell_type": "code",
   "execution_count": 80,
   "metadata": {},
   "outputs": [
    {
     "name": "stdout",
     "output_type": "stream",
     "text": [
      "dome\n",
      "PerspectiveCamera\n",
      "FileBasedObject\n",
      "FileBasedObject\n",
      "FileBasedObject\n"
     ]
    }
   ],
   "source": [
    "for a in scene.assets:\n",
    "    print(a.name)"
   ]
  },
  {
   "cell_type": "code",
   "execution_count": 81,
   "metadata": {},
   "outputs": [
    {
     "name": "stderr",
     "output_type": "stream",
     "text": [
      "INFO:root:Running the simulation ...\n"
     ]
    }
   ],
   "source": [
    "if FLAGS.save_state:\n",
    "  logging.info(\"Saving the simulator state to '%s' prior to the simulation.\",\n",
    "               output_dir / \"scene.bullet\")\n",
    "  simulator.save_state(output_dir / \"scene.bullet\")\n",
    "\n",
    "# Run dynamic objects simulation\n",
    "logging.info(\"Running the simulation ...\")\n",
    "animation, collisions = simulator.run(frame_start=0,\n",
    "                                      frame_end=scene.frame_end+1)"
   ]
  },
  {
   "cell_type": "code",
   "execution_count": 82,
   "metadata": {},
   "outputs": [
    {
     "name": "stderr",
     "output_type": "stream",
     "text": [
      "INFO:root:Rendering the scene ...\n",
      "INFO:kubric.renderer.blender:Using scratch rendering folder: '/tmp/tmp82v1zpil'\n"
     ]
    },
    {
     "name": "stdout",
     "output_type": "stream",
     "text": [
      "Fra:20 Mem:48.02M (Peak 496.06M) | Time:00:00.00 | Mem:0.00M, Peak:0.00M | Scene, View Layer | Synchronizing object | FileBasedObject.003\n",
      "Fra:20 Mem:49.02M (Peak 496.06M) | Time:00:00.00 | Mem:0.00M, Peak:0.00M | Scene, View Layer | Synchronizing object | FileBasedObject.005\n",
      "Fra:20 Mem:55.91M (Peak 496.06M) | Time:00:00.03 | Mem:0.00M, Peak:0.00M | Scene, View Layer | Initializing\n",
      "Fra:20 Mem:45.45M (Peak 496.06M) | Time:00:00.03 | Mem:0.00M, Peak:0.00M | Scene, View Layer | Waiting for render to start\n",
      "Fra:20 Mem:45.45M (Peak 496.06M) | Time:00:00.03 | Mem:0.00M, Peak:0.00M | Scene, View Layer | Loading render kernels (may take a few minutes the first time)\n",
      "Fra:20 Mem:45.45M (Peak 496.06M) | Time:00:00.03 | Mem:0.00M, Peak:0.00M | Scene, View Layer | Updating Scene\n",
      "Fra:20 Mem:45.45M (Peak 496.06M) | Time:00:00.03 | Mem:0.00M, Peak:0.00M | Scene, View Layer | Updating Shaders\n",
      "Fra:20 Mem:45.70M (Peak 496.06M) | Time:00:00.03 | Mem:0.00M, Peak:0.00M | Scene, View Layer | Updating Procedurals\n",
      "Fra:20 Mem:45.70M (Peak 496.06M) | Time:00:00.03 | Mem:0.00M, Peak:0.00M | Scene, View Layer | Updating Background\n",
      "Fra:20 Mem:45.70M (Peak 496.06M) | Time:00:00.03 | Mem:0.00M, Peak:0.00M | Scene, View Layer | Updating Camera\n",
      "Fra:20 Mem:45.70M (Peak 496.06M) | Time:00:00.03 | Mem:0.00M, Peak:0.00M | Scene, View Layer | Updating Meshes Flags\n",
      "Fra:20 Mem:45.70M (Peak 496.06M) | Time:00:00.03 | Mem:0.00M, Peak:0.00M | Scene, View Layer | Updating Objects\n",
      "Fra:20 Mem:45.70M (Peak 496.06M) | Time:00:00.03 | Mem:0.00M, Peak:0.00M | Scene, View Layer | Updating Objects | Copying Transformations to device\n",
      "Fra:20 Mem:45.70M (Peak 496.06M) | Time:00:00.03 | Mem:0.00M, Peak:0.00M | Scene, View Layer | Updating Objects | Applying Static Transformations\n",
      "Fra:20 Mem:45.70M (Peak 496.06M) | Time:00:00.03 | Mem:0.00M, Peak:0.00M | Scene, View Layer | Updating Particle Systems\n",
      "Fra:20 Mem:45.70M (Peak 496.06M) | Time:00:00.03 | Mem:0.00M, Peak:0.00M | Scene, View Layer | Updating Particle Systems | Copying Particles to device\n",
      "Fra:20 Mem:45.70M (Peak 496.06M) | Time:00:00.03 | Mem:0.00M, Peak:0.00M | Scene, View Layer | Updating Meshes\n",
      "Fra:20 Mem:47.24M (Peak 496.06M) | Time:00:00.03 | Mem:0.00M, Peak:0.00M | Scene, View Layer | Updating Mesh | Computing attributes\n",
      "Fra:20 Mem:50.35M (Peak 496.06M) | Time:00:00.03 | Mem:0.00M, Peak:0.00M | Scene, View Layer | Updating Mesh | Copying Attributes to device\n",
      "Fra:20 Mem:50.35M (Peak 496.06M) | Time:00:00.03 | Mem:3.11M, Peak:3.11M | Scene, View Layer | Updating Scene BVH | Building\n",
      "Fra:20 Mem:50.35M (Peak 496.06M) | Time:00:00.03 | Mem:3.11M, Peak:3.11M | Scene, View Layer | Updating Scene BVH | Building BVH\n",
      "Fra:20 Mem:50.35M (Peak 496.06M) | Time:00:00.03 | Mem:8.87M, Peak:8.87M | Scene, View Layer | Updating Scene BVH | Building BVH 0%\n",
      "Fra:20 Mem:50.35M (Peak 496.06M) | Time:00:00.05 | Mem:8.34M, Peak:12.34M | Scene, View Layer | Updating Scene BVH | Packing BVH primitives\n",
      "Fra:20 Mem:56.87M (Peak 496.06M) | Time:00:00.05 | Mem:8.34M, Peak:12.34M | Scene, View Layer | Updating Scene BVH | Copying BVH to device\n",
      "Fra:20 Mem:57.26M (Peak 496.06M) | Time:00:00.05 | Mem:14.86M, Peak:14.86M | Scene, View Layer | Updating Mesh | Computing normals\n",
      "Fra:20 Mem:60.77M (Peak 496.06M) | Time:00:00.05 | Mem:14.86M, Peak:14.86M | Scene, View Layer | Updating Mesh | Copying Mesh to device\n",
      "Fra:20 Mem:60.38M (Peak 496.06M) | Time:00:00.05 | Mem:18.37M, Peak:18.37M | Scene, View Layer | Updating Objects Flags\n",
      "Fra:20 Mem:60.38M (Peak 496.06M) | Time:00:00.05 | Mem:18.37M, Peak:18.37M | Scene, View Layer | Updating Images\n",
      "Fra:20 Mem:60.38M (Peak 496.06M) | Time:00:00.05 | Mem:18.37M, Peak:18.37M | Scene, View Layer | Updating Images | Loading environment_4k.hdr\n",
      "Fra:20 Mem:60.38M (Peak 496.06M) | Time:00:00.05 | Mem:18.37M, Peak:18.37M | Scene, View Layer | Updating Images | Loading texture.png\n",
      "Fra:20 Mem:316.40M (Peak 496.06M) | Time:00:00.39 | Mem:274.37M, Peak:274.37M | Scene, View Layer | Updating Camera Volume\n",
      "Fra:20 Mem:316.40M (Peak 496.06M) | Time:00:00.39 | Mem:274.37M, Peak:274.37M | Scene, View Layer | Updating Lookup Tables\n",
      "Fra:20 Mem:316.40M (Peak 496.06M) | Time:00:00.40 | Mem:274.62M, Peak:274.62M | Scene, View Layer | Updating Lights\n",
      "Fra:20 Mem:316.40M (Peak 496.06M) | Time:00:00.40 | Mem:274.62M, Peak:274.62M | Scene, View Layer | Updating Lights | Computing distribution\n",
      "Fra:20 Mem:317.39M (Peak 496.06M) | Time:00:00.40 | Mem:275.61M, Peak:275.61M | Scene, View Layer | Updating Lights | Importance map\n",
      "Fra:20 Mem:381.42M (Peak 573.39M) | Time:00:01.15 | Mem:339.66M, Peak:531.63M | Scene, View Layer | Updating Integrator\n",
      "Fra:20 Mem:382.69M (Peak 573.39M) | Time:00:01.16 | Mem:340.93M, Peak:531.63M | Scene, View Layer | Updating Film\n",
      "Fra:20 Mem:382.70M (Peak 573.39M) | Time:00:01.16 | Mem:340.68M, Peak:531.63M | Scene, View Layer | Updating Lookup Tables\n",
      "Fra:20 Mem:382.70M (Peak 573.39M) | Time:00:01.16 | Mem:340.93M, Peak:531.63M | Scene, View Layer | Updating Baking\n",
      "Fra:20 Mem:382.70M (Peak 573.39M) | Time:00:01.16 | Mem:340.93M, Peak:531.63M | Scene, View Layer | Updating Device | Writing constant memory\n",
      "Fra:20 Mem:382.70M (Peak 573.39M) | Time:00:01.16 | Mem:340.93M, Peak:531.63M | Scene, View Layer | Updating Device | Writing constant memory | Compiling render kernels\n",
      "Fra:20 Mem:382.70M (Peak 573.39M) | Time:00:01.16 | Mem:340.93M, Peak:531.63M | Scene, View Layer | Updating Device | Writing constant memory\n",
      "Fra:20 Mem:382.70M (Peak 573.39M) | Time:00:01.16 | Mem:340.93M, Peak:531.63M | Scene, View Layer | Rendered 0/16 Tiles, Denoised 0 tiles\n",
      "Fra:20 Mem:386.72M (Peak 573.39M) | Time:00:02.83 | Remaining:00:01.85 | Mem:344.95M, Peak:531.63M | Scene, View Layer | Rendered 1/16 Tiles, Denoised 0 tiles\n",
      "Fra:20 Mem:387.22M (Peak 573.39M) | Time:00:02.83 | Remaining:00:01.82 | Mem:345.45M, Peak:531.63M | Scene, View Layer | Rendered 2/16 Tiles, Denoised 0 tiles\n",
      "Fra:20 Mem:387.72M (Peak 573.39M) | Time:00:02.86 | Remaining:00:01.83 | Mem:345.95M, Peak:531.63M | Scene, View Layer | Rendered 3/16 Tiles, Denoised 0 tiles\n",
      "Fra:20 Mem:388.22M (Peak 573.39M) | Time:00:02.86 | Remaining:00:01.82 | Mem:346.45M, Peak:531.63M | Scene, View Layer | Rendered 4/16 Tiles, Denoised 0 tiles\n",
      "Fra:20 Mem:388.72M (Peak 573.39M) | Time:00:02.90 | Remaining:00:01.78 | Mem:346.95M, Peak:531.63M | Scene, View Layer | Rendered 5/16 Tiles, Denoised 0 tiles\n",
      "Fra:20 Mem:389.22M (Peak 573.39M) | Time:00:02.92 | Remaining:00:01.77 | Mem:347.45M, Peak:531.63M | Scene, View Layer | Rendered 6/16 Tiles, Denoised 0 tiles\n",
      "Fra:20 Mem:389.72M (Peak 573.39M) | Time:00:02.92 | Remaining:00:01.77 | Mem:347.95M, Peak:531.63M | Scene, View Layer | Rendered 7/16 Tiles, Denoised 0 tiles\n",
      "Fra:20 Mem:390.06M (Peak 573.39M) | Time:00:02.93 | Remaining:00:01.76 | Mem:348.29M, Peak:531.63M | Scene, View Layer | Rendered 8/16 Tiles, Denoised 0 tiles\n",
      "Fra:20 Mem:398.14M (Peak 573.39M) | Time:00:03.33 | Remaining:00:01.48 | Mem:356.38M, Peak:531.63M | Scene, View Layer | Rendered 8/16 Tiles, Denoised 1 tiles\n",
      "Fra:20 Mem:398.18M (Peak 573.39M) | Time:00:03.34 | Remaining:00:01.48 | Mem:356.41M, Peak:531.63M | Scene, View Layer | Rendered 8/16 Tiles, Denoised 2 tiles\n",
      "Fra:20 Mem:398.22M (Peak 573.39M) | Time:00:03.75 | Remaining:00:01.14 | Mem:356.45M, Peak:531.63M | Scene, View Layer | Rendered 8/16 Tiles, Denoised 3 tiles\n",
      "Fra:20 Mem:398.72M (Peak 573.39M) | Time:00:03.76 | Remaining:00:01.13 | Mem:356.95M, Peak:531.63M | Scene, View Layer | Rendered 8/16 Tiles, Denoised 4 tiles\n",
      "Fra:20 Mem:399.22M (Peak 573.39M) | Time:00:04.15 | Remaining:00:00.64 | Mem:357.45M, Peak:531.63M | Scene, View Layer | Rendered 9/16 Tiles, Denoised 4 tiles\n",
      "Fra:20 Mem:399.22M (Peak 573.39M) | Time:00:04.15 | Remaining:00:00.63 | Mem:357.45M, Peak:531.63M | Scene, View Layer | Rendered 10/16 Tiles, Denoised 4 tiles\n",
      "Fra:20 Mem:399.22M (Peak 573.39M) | Time:00:04.54 | Remaining:00:00.28 | Mem:357.45M, Peak:531.63M | Scene, View Layer | Rendered 11/16 Tiles, Denoised 4 tiles\n",
      "Fra:20 Mem:399.22M (Peak 573.39M) | Time:00:04.73 | Remaining:00:00.12 | Mem:357.45M, Peak:531.63M | Scene, View Layer | Rendered 12/16 Tiles, Denoised 4 tiles\n",
      "Fra:20 Mem:400.30M (Peak 573.39M) | Time:00:04.74 | Remaining:00:00.11 | Mem:358.54M, Peak:531.63M | Scene, View Layer | Rendered 13/16 Tiles, Denoised 4 tiles\n",
      "Fra:20 Mem:400.30M (Peak 573.39M) | Time:00:04.80 | Remaining:00:00.08 | Mem:358.54M, Peak:531.63M | Scene, View Layer | Rendered 14/16 Tiles, Denoised 4 tiles\n",
      "Fra:20 Mem:400.30M (Peak 573.39M) | Time:00:04.80 | Remaining:00:00.07 | Mem:358.54M, Peak:531.63M | Scene, View Layer | Rendered 15/16 Tiles, Sample 64/64, Denoised 4 tiles\n",
      "Fra:20 Mem:418.89M (Peak 573.39M) | Time:00:04.99 | Remaining:00:00.04 | Mem:377.13M, Peak:531.63M | Scene, View Layer | Rendered 16/16 Tiles, Denoised 4 tiles\n",
      "Fra:20 Mem:422.83M (Peak 573.39M) | Time:00:05.05 | Remaining:00:00.04 | Mem:381.06M, Peak:531.63M | Scene, View Layer | Rendered 16/16 Tiles, Denoised 5 tiles\n",
      "Fra:20 Mem:424.88M (Peak 573.39M) | Time:00:05.15 | Remaining:00:00.03 | Mem:383.11M, Peak:531.63M | Scene, View Layer | Rendered 16/16 Tiles, Denoised 6 tiles\n",
      "Fra:20 Mem:424.88M (Peak 573.39M) | Time:00:05.18 | Remaining:00:00.03 | Mem:383.11M, Peak:531.63M | Scene, View Layer | Rendered 16/16 Tiles, Denoised 7 tiles\n",
      "Fra:20 Mem:425.01M (Peak 573.39M) | Time:00:05.24 | Remaining:00:00.03 | Mem:383.24M, Peak:531.63M | Scene, View Layer | Rendered 16/16 Tiles, Denoised 8 tiles\n",
      "Fra:20 Mem:424.37M (Peak 573.39M) | Time:00:05.27 | Remaining:00:00.02 | Mem:382.60M, Peak:531.63M | Scene, View Layer | Rendered 16/16 Tiles, Denoised 9 tiles\n",
      "Fra:20 Mem:424.37M (Peak 573.39M) | Time:00:05.28 | Remaining:00:00.02 | Mem:382.60M, Peak:531.63M | Scene, View Layer | Rendered 16/16 Tiles, Denoised 10 tiles\n",
      "Fra:20 Mem:422.87M (Peak 573.39M) | Time:00:05.29 | Remaining:00:00.01 | Mem:381.10M, Peak:531.63M | Scene, View Layer | Rendered 16/16 Tiles, Denoised 11 tiles\n",
      "Fra:20 Mem:421.37M (Peak 573.39M) | Time:00:05.30 | Remaining:00:00.01 | Mem:379.60M, Peak:531.63M | Scene, View Layer | Rendered 16/16 Tiles, Denoised 12 tiles\n",
      "Fra:20 Mem:420.87M (Peak 573.39M) | Time:00:05.42 | Remaining:00:00.01 | Mem:379.10M, Peak:531.63M | Scene, View Layer | Rendered 16/16 Tiles, Denoised 13 tiles\n",
      "Fra:20 Mem:419.87M (Peak 573.39M) | Time:00:05.43 | Remaining:00:00.00 | Mem:378.10M, Peak:531.63M | Scene, View Layer | Rendered 16/16 Tiles, Denoised 14 tiles\n",
      "Fra:20 Mem:419.87M (Peak 573.39M) | Time:00:05.47 | Remaining:00:00.00 | Mem:378.10M, Peak:531.63M | Scene, View Layer | Rendered 16/16 Tiles, Denoised 15 tiles\n",
      "Fra:20 Mem:416.87M (Peak 573.39M) | Time:00:05.48 | Mem:375.10M, Peak:531.63M | Scene, View Layer | Rendered 16/16 Tiles, Denoised 16 tiles\n",
      "Fra:20 Mem:382.70M (Peak 573.39M) | Time:00:05.48 | Mem:340.93M, Peak:531.63M | Scene, View Layer | Finished\n",
      "Fra:20 Mem:50.05M (Peak 573.39M) | Time:00:05.49 | Mem:0.00M, Peak:0.00M | Scene, AuxOutputs | Synchronizing object | dome.001\n",
      "Fra:20 Mem:51.04M (Peak 573.39M) | Time:00:05.49 | Mem:0.00M, Peak:0.00M | Scene, AuxOutputs | Synchronizing object | FileBasedObject.005\n",
      "Fra:20 Mem:57.93M (Peak 573.39M) | Time:00:05.51 | Mem:0.00M, Peak:0.00M | Scene, AuxOutputs | Initializing\n",
      "Fra:20 Mem:47.46M (Peak 573.39M) | Time:00:05.52 | Mem:0.00M, Peak:0.00M | Scene, AuxOutputs | Waiting for render to start\n",
      "Fra:20 Mem:47.46M (Peak 573.39M) | Time:00:05.52 | Mem:0.00M, Peak:0.00M | Scene, AuxOutputs | Loading render kernels (may take a few minutes the first time)\n",
      "Fra:20 Mem:47.46M (Peak 573.39M) | Time:00:05.52 | Mem:0.00M, Peak:0.00M | Scene, AuxOutputs | Updating Scene\n",
      "Fra:20 Mem:47.46M (Peak 573.39M) | Time:00:05.52 | Mem:0.00M, Peak:0.00M | Scene, AuxOutputs | Updating Shaders\n",
      "Fra:20 Mem:47.71M (Peak 573.39M) | Time:00:05.52 | Mem:0.00M, Peak:0.00M | Scene, AuxOutputs | Updating Procedurals\n",
      "Fra:20 Mem:47.71M (Peak 573.39M) | Time:00:05.52 | Mem:0.00M, Peak:0.00M | Scene, AuxOutputs | Updating Background\n",
      "Fra:20 Mem:47.71M (Peak 573.39M) | Time:00:05.52 | Mem:0.00M, Peak:0.00M | Scene, AuxOutputs | Updating Camera\n",
      "Fra:20 Mem:47.71M (Peak 573.39M) | Time:00:05.52 | Mem:0.00M, Peak:0.00M | Scene, AuxOutputs | Updating Meshes Flags\n",
      "Fra:20 Mem:47.71M (Peak 573.39M) | Time:00:05.52 | Mem:0.00M, Peak:0.00M | Scene, AuxOutputs | Updating Objects\n",
      "Fra:20 Mem:47.71M (Peak 573.39M) | Time:00:05.52 | Mem:0.00M, Peak:0.00M | Scene, AuxOutputs | Updating Objects | Copying Transformations to device\n",
      "Fra:20 Mem:47.71M (Peak 573.39M) | Time:00:05.52 | Mem:0.00M, Peak:0.00M | Scene, AuxOutputs | Updating Objects | Applying Static Transformations\n",
      "Fra:20 Mem:47.71M (Peak 573.39M) | Time:00:05.52 | Mem:0.00M, Peak:0.00M | Scene, AuxOutputs | Updating Particle Systems\n",
      "Fra:20 Mem:47.71M (Peak 573.39M) | Time:00:05.52 | Mem:0.00M, Peak:0.00M | Scene, AuxOutputs | Updating Particle Systems | Copying Particles to device\n",
      "Fra:20 Mem:47.71M (Peak 573.39M) | Time:00:05.52 | Mem:0.00M, Peak:0.00M | Scene, AuxOutputs | Updating Meshes\n",
      "Fra:20 Mem:49.25M (Peak 573.39M) | Time:00:05.52 | Mem:0.00M, Peak:0.00M | Scene, AuxOutputs | Updating Mesh | Computing attributes\n",
      "Fra:20 Mem:52.36M (Peak 573.39M) | Time:00:05.52 | Mem:0.00M, Peak:0.00M | Scene, AuxOutputs | Updating Mesh | Copying Attributes to device\n",
      "Fra:20 Mem:52.36M (Peak 573.39M) | Time:00:05.52 | Mem:3.11M, Peak:3.11M | Scene, AuxOutputs | Updating Scene BVH | Building\n",
      "Fra:20 Mem:52.36M (Peak 573.39M) | Time:00:05.52 | Mem:3.11M, Peak:3.11M | Scene, AuxOutputs | Updating Scene BVH | Building BVH\n",
      "Fra:20 Mem:52.36M (Peak 573.39M) | Time:00:05.52 | Mem:8.87M, Peak:8.87M | Scene, AuxOutputs | Updating Scene BVH | Building BVH 0%\n",
      "Fra:20 Mem:52.36M (Peak 573.39M) | Time:00:05.53 | Mem:8.33M, Peak:12.33M | Scene, AuxOutputs | Updating Scene BVH | Packing BVH primitives\n",
      "Fra:20 Mem:58.88M (Peak 573.39M) | Time:00:05.53 | Mem:8.33M, Peak:12.33M | Scene, AuxOutputs | Updating Scene BVH | Copying BVH to device\n",
      "Fra:20 Mem:59.27M (Peak 573.39M) | Time:00:05.53 | Mem:14.86M, Peak:14.86M | Scene, AuxOutputs | Updating Mesh | Computing normals\n",
      "Fra:20 Mem:62.78M (Peak 573.39M) | Time:00:05.53 | Mem:14.86M, Peak:14.86M | Scene, AuxOutputs | Updating Mesh | Copying Mesh to device\n",
      "Fra:20 Mem:62.39M (Peak 573.39M) | Time:00:05.53 | Mem:18.37M, Peak:18.37M | Scene, AuxOutputs | Updating Objects Flags\n",
      "Fra:20 Mem:62.39M (Peak 573.39M) | Time:00:05.53 | Mem:18.37M, Peak:18.37M | Scene, AuxOutputs | Updating Images\n",
      "Fra:20 Mem:62.39M (Peak 573.39M) | Time:00:05.53 | Mem:18.37M, Peak:18.37M | Scene, AuxOutputs | Updating Images | Loading environment_4k.hdr\n",
      "Fra:20 Mem:190.40M (Peak 573.39M) | Time:00:05.75 | Mem:146.37M, Peak:146.37M | Scene, AuxOutputs | Updating Camera Volume\n",
      "Fra:20 Mem:190.40M (Peak 573.39M) | Time:00:05.75 | Mem:146.37M, Peak:146.37M | Scene, AuxOutputs | Updating Lookup Tables\n",
      "Fra:20 Mem:190.40M (Peak 573.39M) | Time:00:05.75 | Mem:146.62M, Peak:146.62M | Scene, AuxOutputs | Updating Lights\n",
      "Fra:20 Mem:190.40M (Peak 573.39M) | Time:00:05.75 | Mem:146.62M, Peak:146.62M | Scene, AuxOutputs | Updating Lights | Computing distribution\n",
      "Fra:20 Mem:191.94M (Peak 573.39M) | Time:00:05.76 | Mem:148.15M, Peak:148.15M | Scene, AuxOutputs | Updating Lights | Importance map\n"
     ]
    },
    {
     "name": "stderr",
     "output_type": "stream",
     "text": [
      "INFO:kubric.renderer.blender:Rendered frame '/tmp/tmp82v1zpil/images/frame_0020.png'\n"
     ]
    },
    {
     "name": "stdout",
     "output_type": "stream",
     "text": [
      "Fra:20 Mem:255.97M (Peak 573.39M) | Time:00:06.49 | Mem:212.20M, Peak:404.17M | Scene, AuxOutputs | Updating Integrator\n",
      "Fra:20 Mem:257.24M (Peak 573.39M) | Time:00:06.49 | Mem:213.47M, Peak:404.17M | Scene, AuxOutputs | Updating Film\n",
      "Fra:20 Mem:257.25M (Peak 573.39M) | Time:00:06.49 | Mem:213.22M, Peak:404.17M | Scene, AuxOutputs | Updating Lookup Tables\n",
      "Fra:20 Mem:257.25M (Peak 573.39M) | Time:00:06.49 | Mem:213.48M, Peak:404.17M | Scene, AuxOutputs | Updating Baking\n",
      "Fra:20 Mem:257.25M (Peak 573.39M) | Time:00:06.49 | Mem:213.48M, Peak:404.17M | Scene, AuxOutputs | Updating Device | Writing constant memory\n",
      "Fra:20 Mem:257.25M (Peak 573.39M) | Time:00:06.49 | Mem:213.48M, Peak:404.17M | Scene, AuxOutputs | Updating Device | Writing constant memory | Compiling render kernels\n",
      "Fra:20 Mem:257.25M (Peak 573.39M) | Time:00:06.49 | Mem:213.48M, Peak:404.17M | Scene, AuxOutputs | Updating Device | Writing constant memory\n",
      "Fra:20 Mem:257.25M (Peak 573.39M) | Time:00:06.49 | Mem:213.48M, Peak:404.17M | Scene, AuxOutputs | Rendered 0/16 Tiles\n",
      "Fra:20 Mem:261.43M (Peak 573.39M) | Time:00:06.51 | Remaining:00:00.01 | Mem:216.56M, Peak:404.17M | Scene, AuxOutputs | Rendered 1/16 Tiles\n",
      "Fra:20 Mem:260.99M (Peak 573.39M) | Time:00:06.51 | Remaining:00:00.01 | Mem:216.56M, Peak:404.17M | Scene, AuxOutputs | Rendered 2/16 Tiles\n",
      "Fra:20 Mem:260.34M (Peak 573.39M) | Time:00:06.51 | Remaining:00:00.01 | Mem:216.56M, Peak:404.17M | Scene, AuxOutputs | Rendered 3/16 Tiles\n",
      "Fra:20 Mem:260.34M (Peak 573.39M) | Time:00:06.51 | Remaining:00:00.01 | Mem:216.56M, Peak:404.17M | Scene, AuxOutputs | Rendered 4/16 Tiles\n",
      "Fra:20 Mem:260.34M (Peak 573.39M) | Time:00:06.51 | Remaining:00:00.01 | Mem:216.56M, Peak:404.17M | Scene, AuxOutputs | Rendered 5/16 Tiles\n",
      "Fra:20 Mem:260.34M (Peak 573.39M) | Time:00:06.51 | Remaining:00:00.01 | Mem:216.56M, Peak:404.17M | Scene, AuxOutputs | Rendered 6/16 Tiles\n",
      "Fra:20 Mem:260.77M (Peak 573.39M) | Time:00:06.51 | Remaining:00:00.01 | Mem:216.56M, Peak:404.17M | Scene, AuxOutputs | Rendered 7/16 Tiles\n",
      "Fra:20 Mem:261.65M (Peak 573.39M) | Time:00:06.51 | Remaining:00:00.01 | Mem:216.56M, Peak:404.17M | Scene, AuxOutputs | Rendered 8/16 Tiles\n",
      "Fra:20 Mem:261.87M (Peak 573.39M) | Time:00:06.52 | Remaining:00:00.01 | Mem:216.56M, Peak:404.17M | Scene, AuxOutputs | Rendered 9/16 Tiles\n",
      "Fra:20 Mem:260.77M (Peak 573.39M) | Time:00:06.52 | Mem:216.12M, Peak:404.17M | Scene, AuxOutputs | Rendered 10/16 Tiles\n",
      "Fra:20 Mem:260.33M (Peak 573.39M) | Time:00:06.52 | Mem:215.68M, Peak:404.17M | Scene, AuxOutputs | Rendered 11/16 Tiles\n",
      "Fra:20 Mem:259.45M (Peak 573.39M) | Time:00:06.52 | Mem:215.24M, Peak:404.17M | Scene, AuxOutputs | Rendered 12/16 Tiles\n",
      "Fra:20 Mem:258.57M (Peak 573.39M) | Time:00:06.52 | Mem:214.80M, Peak:404.17M | Scene, AuxOutputs | Rendered 13/16 Tiles\n",
      "Fra:20 Mem:258.13M (Peak 573.39M) | Time:00:06.52 | Mem:214.36M, Peak:404.17M | Scene, AuxOutputs | Rendered 14/16 Tiles\n",
      "Fra:20 Mem:257.69M (Peak 573.39M) | Time:00:06.52 | Mem:213.92M, Peak:404.17M | Scene, AuxOutputs | Rendered 15/16 Tiles, Sample 1/1\n",
      "Fra:20 Mem:257.25M (Peak 573.39M) | Time:00:06.52 | Mem:213.48M, Peak:404.17M | Scene, AuxOutputs | Rendered 16/16 Tiles\n",
      "Fra:20 Mem:257.25M (Peak 573.39M) | Time:00:06.52 | Mem:213.48M, Peak:404.17M | Scene, AuxOutputs | Finished\n",
      "Fra:20 Mem:41.10M (Peak 573.39M) | Time:00:06.52 | Compositing\n",
      "Fra:20 Mem:41.10M (Peak 573.39M) | Time:00:06.52 | Compositing | Determining resolution\n",
      "Fra:20 Mem:41.10M (Peak 573.39M) | Time:00:06.52 | Compositing | Initializing execution\n",
      "Fra:20 Mem:46.92M (Peak 573.39M) | Time:00:06.53 | Compositing | Tile 1-1\n",
      "Fra:20 Mem:46.85M (Peak 573.39M) | Time:00:06.53 | Compositing | De-initializing execution\n",
      "Saved: '/tmp/tmp82v1zpil/images/frame_0020.png'\n",
      " Time: 00:06.58 (Saving: 00:00.01)\n",
      "\n",
      "Fra:21 Mem:48.02M (Peak 48.02M) | Time:00:00.00 | Mem:0.00M, Peak:0.00M | Scene, View Layer | Synchronizing object | dome.001\n",
      "Fra:21 Mem:49.02M (Peak 49.02M) | Time:00:00.00 | Mem:0.00M, Peak:0.00M | Scene, View Layer | Synchronizing object | FileBasedObject.005\n",
      "Fra:21 Mem:55.91M (Peak 57.40M) | Time:00:00.03 | Mem:0.00M, Peak:0.00M | Scene, View Layer | Initializing\n",
      "Fra:21 Mem:45.45M (Peak 57.40M) | Time:00:00.03 | Mem:0.00M, Peak:0.00M | Scene, View Layer | Waiting for render to start\n",
      "Fra:21 Mem:45.45M (Peak 57.40M) | Time:00:00.03 | Mem:0.00M, Peak:0.00M | Scene, View Layer | Loading render kernels (may take a few minutes the first time)\n",
      "Fra:21 Mem:45.45M (Peak 57.40M) | Time:00:00.03 | Mem:0.00M, Peak:0.00M | Scene, View Layer | Updating Scene\n",
      "Fra:21 Mem:45.45M (Peak 57.40M) | Time:00:00.03 | Mem:0.00M, Peak:0.00M | Scene, View Layer | Updating Shaders\n",
      "Fra:21 Mem:45.70M (Peak 57.40M) | Time:00:00.03 | Mem:0.00M, Peak:0.00M | Scene, View Layer | Updating Procedurals\n",
      "Fra:21 Mem:45.70M (Peak 57.40M) | Time:00:00.03 | Mem:0.00M, Peak:0.00M | Scene, View Layer | Updating Background\n",
      "Fra:21 Mem:45.70M (Peak 57.40M) | Time:00:00.03 | Mem:0.00M, Peak:0.00M | Scene, View Layer | Updating Camera\n",
      "Fra:21 Mem:45.70M (Peak 57.40M) | Time:00:00.03 | Mem:0.00M, Peak:0.00M | Scene, View Layer | Updating Meshes Flags\n",
      "Fra:21 Mem:45.70M (Peak 57.40M) | Time:00:00.03 | Mem:0.00M, Peak:0.00M | Scene, View Layer | Updating Objects\n",
      "Fra:21 Mem:45.70M (Peak 57.40M) | Time:00:00.03 | Mem:0.00M, Peak:0.00M | Scene, View Layer | Updating Objects | Copying Transformations to device\n",
      "Fra:21 Mem:45.70M (Peak 57.40M) | Time:00:00.03 | Mem:0.00M, Peak:0.00M | Scene, View Layer | Updating Objects | Applying Static Transformations\n",
      "Fra:21 Mem:45.70M (Peak 57.40M) | Time:00:00.03 | Mem:0.00M, Peak:0.00M | Scene, View Layer | Updating Particle Systems\n",
      "Fra:21 Mem:45.70M (Peak 57.40M) | Time:00:00.03 | Mem:0.00M, Peak:0.00M | Scene, View Layer | Updating Particle Systems | Copying Particles to device\n",
      "Fra:21 Mem:45.70M (Peak 57.40M) | Time:00:00.03 | Mem:0.00M, Peak:0.00M | Scene, View Layer | Updating Meshes\n",
      "Fra:21 Mem:47.24M (Peak 57.40M) | Time:00:00.03 | Mem:0.00M, Peak:0.00M | Scene, View Layer | Updating Mesh | Computing attributes\n",
      "Fra:21 Mem:50.35M (Peak 57.40M) | Time:00:00.03 | Mem:0.00M, Peak:0.00M | Scene, View Layer | Updating Mesh | Copying Attributes to device\n",
      "Fra:21 Mem:50.35M (Peak 57.40M) | Time:00:00.03 | Mem:3.11M, Peak:3.11M | Scene, View Layer | Updating Scene BVH | Building\n",
      "Fra:21 Mem:50.35M (Peak 57.40M) | Time:00:00.03 | Mem:3.11M, Peak:3.11M | Scene, View Layer | Updating Scene BVH | Building BVH\n",
      "Fra:21 Mem:50.35M (Peak 57.40M) | Time:00:00.03 | Mem:8.87M, Peak:8.87M | Scene, View Layer | Updating Scene BVH | Building BVH 0%\n",
      "Fra:21 Mem:50.35M (Peak 57.40M) | Time:00:00.04 | Mem:8.34M, Peak:12.34M | Scene, View Layer | Updating Scene BVH | Packing BVH primitives\n",
      "Fra:21 Mem:56.87M (Peak 57.40M) | Time:00:00.05 | Mem:8.34M, Peak:12.34M | Scene, View Layer | Updating Scene BVH | Copying BVH to device\n",
      "Fra:21 Mem:57.26M (Peak 57.40M) | Time:00:00.05 | Mem:14.86M, Peak:14.86M | Scene, View Layer | Updating Mesh | Computing normals\n",
      "Fra:21 Mem:60.77M (Peak 60.77M) | Time:00:00.05 | Mem:14.86M, Peak:14.86M | Scene, View Layer | Updating Mesh | Copying Mesh to device\n",
      "Fra:21 Mem:60.38M (Peak 60.77M) | Time:00:00.05 | Mem:18.37M, Peak:18.37M | Scene, View Layer | Updating Objects Flags\n",
      "Fra:21 Mem:60.38M (Peak 60.77M) | Time:00:00.05 | Mem:18.37M, Peak:18.37M | Scene, View Layer | Updating Images\n",
      "Fra:21 Mem:60.38M (Peak 60.77M) | Time:00:00.05 | Mem:18.37M, Peak:18.37M | Scene, View Layer | Updating Images | Loading environment_4k.hdr\n",
      "Fra:21 Mem:60.38M (Peak 60.77M) | Time:00:00.05 | Mem:18.37M, Peak:18.37M | Scene, View Layer | Updating Images | Loading texture.png\n",
      "Fra:21 Mem:316.40M (Peak 316.40M) | Time:00:00.38 | Mem:274.37M, Peak:274.37M | Scene, View Layer | Updating Camera Volume\n",
      "Fra:21 Mem:316.40M (Peak 316.40M) | Time:00:00.38 | Mem:274.37M, Peak:274.37M | Scene, View Layer | Updating Lookup Tables\n",
      "Fra:21 Mem:316.40M (Peak 316.40M) | Time:00:00.38 | Mem:274.62M, Peak:274.62M | Scene, View Layer | Updating Lights\n",
      "Fra:21 Mem:316.40M (Peak 316.40M) | Time:00:00.38 | Mem:274.62M, Peak:274.62M | Scene, View Layer | Updating Lights | Computing distribution\n",
      "Fra:21 Mem:317.39M (Peak 317.39M) | Time:00:00.38 | Mem:275.61M, Peak:275.61M | Scene, View Layer | Updating Lights | Importance map\n",
      "Fra:21 Mem:381.42M (Peak 573.39M) | Time:00:01.13 | Mem:339.66M, Peak:531.63M | Scene, View Layer | Updating Integrator\n",
      "Fra:21 Mem:382.69M (Peak 573.39M) | Time:00:01.13 | Mem:340.93M, Peak:531.63M | Scene, View Layer | Updating Film\n",
      "Fra:21 Mem:382.70M (Peak 573.39M) | Time:00:01.13 | Mem:340.68M, Peak:531.63M | Scene, View Layer | Updating Lookup Tables\n",
      "Fra:21 Mem:382.70M (Peak 573.39M) | Time:00:01.13 | Mem:340.93M, Peak:531.63M | Scene, View Layer | Updating Baking\n",
      "Fra:21 Mem:382.70M (Peak 573.39M) | Time:00:01.13 | Mem:340.93M, Peak:531.63M | Scene, View Layer | Updating Device | Writing constant memory\n",
      "Fra:21 Mem:382.70M (Peak 573.39M) | Time:00:01.13 | Mem:340.93M, Peak:531.63M | Scene, View Layer | Updating Device | Writing constant memory | Compiling render kernels\n",
      "Fra:21 Mem:382.70M (Peak 573.39M) | Time:00:01.13 | Mem:340.93M, Peak:531.63M | Scene, View Layer | Updating Device | Writing constant memory\n",
      "Fra:21 Mem:382.70M (Peak 573.39M) | Time:00:01.13 | Mem:340.93M, Peak:531.63M | Scene, View Layer | Rendered 0/16 Tiles, Denoised 0 tiles\n",
      "Fra:21 Mem:386.72M (Peak 573.39M) | Time:00:02.79 | Remaining:00:01.85 | Mem:344.95M, Peak:531.63M | Scene, View Layer | Rendered 1/16 Tiles, Denoised 0 tiles\n",
      "Fra:21 Mem:387.22M (Peak 573.39M) | Time:00:02.81 | Remaining:00:01.83 | Mem:345.45M, Peak:531.63M | Scene, View Layer | Rendered 2/16 Tiles, Denoised 0 tiles\n",
      "Fra:21 Mem:387.72M (Peak 573.39M) | Time:00:02.83 | Remaining:00:01.81 | Mem:345.95M, Peak:531.63M | Scene, View Layer | Rendered 3/16 Tiles, Denoised 0 tiles\n",
      "Fra:21 Mem:388.22M (Peak 573.39M) | Time:00:02.84 | Remaining:00:01.80 | Mem:346.45M, Peak:531.63M | Scene, View Layer | Rendered 4/16 Tiles, Denoised 0 tiles\n",
      "Fra:21 Mem:388.72M (Peak 573.39M) | Time:00:02.85 | Remaining:00:01.79 | Mem:346.95M, Peak:531.63M | Scene, View Layer | Rendered 5/16 Tiles, Denoised 0 tiles\n",
      "Fra:21 Mem:389.22M (Peak 573.39M) | Time:00:02.88 | Remaining:00:01.76 | Mem:347.45M, Peak:531.63M | Scene, View Layer | Rendered 6/16 Tiles, Denoised 0 tiles\n",
      "Fra:21 Mem:389.72M (Peak 573.39M) | Time:00:02.89 | Remaining:00:01.75 | Mem:347.95M, Peak:531.63M | Scene, View Layer | Rendered 7/16 Tiles, Denoised 0 tiles\n",
      "Fra:21 Mem:390.06M (Peak 573.39M) | Time:00:02.90 | Remaining:00:01.73 | Mem:348.29M, Peak:531.63M | Scene, View Layer | Rendered 8/16 Tiles, Denoised 0 tiles\n",
      "Fra:21 Mem:398.14M (Peak 573.39M) | Time:00:03.30 | Remaining:00:01.46 | Mem:356.38M, Peak:531.63M | Scene, View Layer | Rendered 8/16 Tiles, Denoised 1 tiles\n",
      "Fra:21 Mem:398.18M (Peak 573.39M) | Time:00:03.31 | Remaining:00:01.45 | Mem:356.41M, Peak:531.63M | Scene, View Layer | Rendered 8/16 Tiles, Denoised 2 tiles\n",
      "Fra:21 Mem:398.22M (Peak 573.39M) | Time:00:03.73 | Remaining:00:01.12 | Mem:356.45M, Peak:531.63M | Scene, View Layer | Rendered 8/16 Tiles, Denoised 3 tiles\n",
      "Fra:21 Mem:398.72M (Peak 573.39M) | Time:00:03.73 | Remaining:00:01.11 | Mem:356.95M, Peak:531.63M | Scene, View Layer | Rendered 8/16 Tiles, Denoised 4 tiles\n",
      "Fra:21 Mem:399.22M (Peak 573.39M) | Time:00:04.09 | Remaining:00:00.66 | Mem:357.45M, Peak:531.63M | Scene, View Layer | Rendered 9/16 Tiles, Denoised 4 tiles\n",
      "Fra:21 Mem:399.22M (Peak 573.39M) | Time:00:04.14 | Remaining:00:00.62 | Mem:357.45M, Peak:531.63M | Scene, View Layer | Rendered 10/16 Tiles, Denoised 4 tiles\n",
      "Fra:21 Mem:399.22M (Peak 573.39M) | Time:00:04.60 | Remaining:00:00.24 | Mem:357.45M, Peak:531.63M | Scene, View Layer | Rendered 11/16 Tiles, Denoised 4 tiles\n",
      "Fra:21 Mem:399.22M (Peak 573.39M) | Time:00:04.62 | Remaining:00:00.23 | Mem:357.45M, Peak:531.63M | Scene, View Layer | Rendered 12/16 Tiles, Denoised 4 tiles\n",
      "Fra:21 Mem:399.22M (Peak 573.39M) | Time:00:04.67 | Remaining:00:00.19 | Mem:357.45M, Peak:531.63M | Scene, View Layer | Rendered 13/16 Tiles, Denoised 4 tiles\n",
      "Fra:21 Mem:416.22M (Peak 573.39M) | Time:00:04.90 | Remaining:00:00.09 | Mem:374.45M, Peak:531.63M | Scene, View Layer | Rendered 14/16 Tiles, Denoised 4 tiles\n",
      "Fra:21 Mem:417.14M (Peak 573.39M) | Time:00:05.01 | Remaining:00:00.05 | Mem:375.37M, Peak:531.63M | Scene, View Layer | Rendered 14/16 Tiles, Denoised 5 tiles\n",
      "Fra:21 Mem:420.82M (Peak 573.39M) | Time:00:05.05 | Remaining:00:00.04 | Mem:379.05M, Peak:531.63M | Scene, View Layer | Rendered 15/16 Tiles, Sample 64/64, Denoised 5 tiles\n",
      "Fra:21 Mem:420.82M (Peak 573.39M) | Time:00:05.05 | Remaining:00:00.04 | Mem:379.05M, Peak:531.63M | Scene, View Layer | Rendered 16/16 Tiles, Denoised 5 tiles\n",
      "Fra:21 Mem:420.94M (Peak 573.39M) | Time:00:05.10 | Remaining:00:00.03 | Mem:379.17M, Peak:531.63M | Scene, View Layer | Rendered 16/16 Tiles, Denoised 6 tiles\n",
      "Fra:21 Mem:422.41M (Peak 573.39M) | Time:00:05.13 | Remaining:00:00.03 | Mem:380.64M, Peak:531.63M | Scene, View Layer | Rendered 16/16 Tiles, Denoised 7 tiles\n",
      "Fra:21 Mem:422.40M (Peak 573.39M) | Time:00:05.13 | Remaining:00:00.03 | Mem:380.63M, Peak:531.63M | Scene, View Layer | Rendered 16/16 Tiles, Denoised 8 tiles\n",
      "Fra:21 Mem:424.36M (Peak 573.39M) | Time:00:05.35 | Remaining:00:00.02 | Mem:382.60M, Peak:531.63M | Scene, View Layer | Rendered 16/16 Tiles, Denoised 9 tiles\n",
      "Fra:21 Mem:424.36M (Peak 573.39M) | Time:00:05.40 | Remaining:00:00.02 | Mem:382.60M, Peak:531.63M | Scene, View Layer | Rendered 16/16 Tiles, Denoised 10 tiles\n",
      "Fra:21 Mem:422.86M (Peak 573.39M) | Time:00:05.44 | Remaining:00:00.02 | Mem:381.10M, Peak:531.63M | Scene, View Layer | Rendered 16/16 Tiles, Denoised 11 tiles\n",
      "Fra:21 Mem:422.86M (Peak 573.39M) | Time:00:05.46 | Remaining:00:00.01 | Mem:381.10M, Peak:531.63M | Scene, View Layer | Rendered 16/16 Tiles, Denoised 12 tiles\n",
      "Fra:21 Mem:422.86M (Peak 573.39M) | Time:00:05.48 | Remaining:00:00.01 | Mem:381.10M, Peak:531.63M | Scene, View Layer | Rendered 16/16 Tiles, Denoised 13 tiles\n",
      "Fra:21 Mem:421.36M (Peak 573.39M) | Time:00:05.48 | Remaining:00:00.00 | Mem:379.60M, Peak:531.63M | Scene, View Layer | Rendered 16/16 Tiles, Denoised 14 tiles\n",
      "Fra:21 Mem:419.86M (Peak 573.39M) | Time:00:05.55 | Remaining:00:00.00 | Mem:378.10M, Peak:531.63M | Scene, View Layer | Rendered 16/16 Tiles, Denoised 15 tiles\n",
      "Fra:21 Mem:416.86M (Peak 573.39M) | Time:00:05.55 | Mem:375.10M, Peak:531.63M | Scene, View Layer | Rendered 16/16 Tiles, Denoised 16 tiles\n",
      "Fra:21 Mem:382.70M (Peak 573.39M) | Time:00:05.55 | Mem:340.93M, Peak:531.63M | Scene, View Layer | Finished\n",
      "Fra:21 Mem:50.05M (Peak 573.39M) | Time:00:05.56 | Mem:0.00M, Peak:0.00M | Scene, AuxOutputs | Synchronizing object | FileBasedObject.003\n",
      "Fra:21 Mem:51.04M (Peak 573.39M) | Time:00:05.56 | Mem:0.00M, Peak:0.00M | Scene, AuxOutputs | Synchronizing object | FileBasedObject.005\n",
      "Fra:21 Mem:57.93M (Peak 573.39M) | Time:00:05.58 | Mem:0.00M, Peak:0.00M | Scene, AuxOutputs | Initializing\n",
      "Fra:21 Mem:47.46M (Peak 573.39M) | Time:00:05.59 | Mem:0.00M, Peak:0.00M | Scene, AuxOutputs | Waiting for render to start\n",
      "Fra:21 Mem:47.46M (Peak 573.39M) | Time:00:05.59 | Mem:0.00M, Peak:0.00M | Scene, AuxOutputs | Loading render kernels (may take a few minutes the first time)\n",
      "Fra:21 Mem:47.46M (Peak 573.39M) | Time:00:05.59 | Mem:0.00M, Peak:0.00M | Scene, AuxOutputs | Updating Scene\n",
      "Fra:21 Mem:47.46M (Peak 573.39M) | Time:00:05.59 | Mem:0.00M, Peak:0.00M | Scene, AuxOutputs | Updating Shaders\n",
      "Fra:21 Mem:47.71M (Peak 573.39M) | Time:00:05.59 | Mem:0.00M, Peak:0.00M | Scene, AuxOutputs | Updating Procedurals\n",
      "Fra:21 Mem:47.71M (Peak 573.39M) | Time:00:05.59 | Mem:0.00M, Peak:0.00M | Scene, AuxOutputs | Updating Background\n",
      "Fra:21 Mem:47.71M (Peak 573.39M) | Time:00:05.59 | Mem:0.00M, Peak:0.00M | Scene, AuxOutputs | Updating Camera\n",
      "Fra:21 Mem:47.71M (Peak 573.39M) | Time:00:05.59 | Mem:0.00M, Peak:0.00M | Scene, AuxOutputs | Updating Meshes Flags\n",
      "Fra:21 Mem:47.71M (Peak 573.39M) | Time:00:05.59 | Mem:0.00M, Peak:0.00M | Scene, AuxOutputs | Updating Objects\n",
      "Fra:21 Mem:47.71M (Peak 573.39M) | Time:00:05.59 | Mem:0.00M, Peak:0.00M | Scene, AuxOutputs | Updating Objects | Copying Transformations to device\n",
      "Fra:21 Mem:47.71M (Peak 573.39M) | Time:00:05.59 | Mem:0.00M, Peak:0.00M | Scene, AuxOutputs | Updating Objects | Applying Static Transformations\n",
      "Fra:21 Mem:47.71M (Peak 573.39M) | Time:00:05.59 | Mem:0.00M, Peak:0.00M | Scene, AuxOutputs | Updating Particle Systems\n",
      "Fra:21 Mem:47.71M (Peak 573.39M) | Time:00:05.59 | Mem:0.00M, Peak:0.00M | Scene, AuxOutputs | Updating Particle Systems | Copying Particles to device\n",
      "Fra:21 Mem:47.71M (Peak 573.39M) | Time:00:05.59 | Mem:0.00M, Peak:0.00M | Scene, AuxOutputs | Updating Meshes\n",
      "Fra:21 Mem:49.25M (Peak 573.39M) | Time:00:05.59 | Mem:0.00M, Peak:0.00M | Scene, AuxOutputs | Updating Mesh | Computing attributes\n",
      "Fra:21 Mem:52.36M (Peak 573.39M) | Time:00:05.59 | Mem:0.00M, Peak:0.00M | Scene, AuxOutputs | Updating Mesh | Copying Attributes to device\n",
      "Fra:21 Mem:52.36M (Peak 573.39M) | Time:00:05.59 | Mem:3.11M, Peak:3.11M | Scene, AuxOutputs | Updating Scene BVH | Building\n",
      "Fra:21 Mem:52.36M (Peak 573.39M) | Time:00:05.59 | Mem:3.11M, Peak:3.11M | Scene, AuxOutputs | Updating Scene BVH | Building BVH\n",
      "Fra:21 Mem:52.36M (Peak 573.39M) | Time:00:05.59 | Mem:8.87M, Peak:8.87M | Scene, AuxOutputs | Updating Scene BVH | Building BVH 0%\n",
      "Fra:21 Mem:52.36M (Peak 573.39M) | Time:00:05.60 | Mem:8.33M, Peak:12.33M | Scene, AuxOutputs | Updating Scene BVH | Packing BVH primitives\n",
      "Fra:21 Mem:58.88M (Peak 573.39M) | Time:00:05.60 | Mem:8.33M, Peak:12.33M | Scene, AuxOutputs | Updating Scene BVH | Copying BVH to device\n",
      "Fra:21 Mem:59.27M (Peak 573.39M) | Time:00:05.60 | Mem:14.86M, Peak:14.86M | Scene, AuxOutputs | Updating Mesh | Computing normals\n",
      "Fra:21 Mem:62.78M (Peak 573.39M) | Time:00:05.60 | Mem:14.86M, Peak:14.86M | Scene, AuxOutputs | Updating Mesh | Copying Mesh to device\n",
      "Fra:21 Mem:62.39M (Peak 573.39M) | Time:00:05.60 | Mem:18.37M, Peak:18.37M | Scene, AuxOutputs | Updating Objects Flags\n",
      "Fra:21 Mem:62.39M (Peak 573.39M) | Time:00:05.60 | Mem:18.37M, Peak:18.37M | Scene, AuxOutputs | Updating Images\n",
      "Fra:21 Mem:62.39M (Peak 573.39M) | Time:00:05.60 | Mem:18.37M, Peak:18.37M | Scene, AuxOutputs | Updating Images | Loading environment_4k.hdr\n",
      "Fra:21 Mem:190.40M (Peak 573.39M) | Time:00:05.82 | Mem:146.37M, Peak:146.37M | Scene, AuxOutputs | Updating Camera Volume\n",
      "Fra:21 Mem:190.40M (Peak 573.39M) | Time:00:05.82 | Mem:146.37M, Peak:146.37M | Scene, AuxOutputs | Updating Lookup Tables\n",
      "Fra:21 Mem:190.40M (Peak 573.39M) | Time:00:05.82 | Mem:146.62M, Peak:146.62M | Scene, AuxOutputs | Updating Lights\n",
      "Fra:21 Mem:190.40M (Peak 573.39M) | Time:00:05.82 | Mem:146.62M, Peak:146.62M | Scene, AuxOutputs | Updating Lights | Computing distribution\n",
      "Fra:21 Mem:191.94M (Peak 573.39M) | Time:00:05.83 | Mem:148.15M, Peak:148.15M | Scene, AuxOutputs | Updating Lights | Importance map\n"
     ]
    },
    {
     "name": "stderr",
     "output_type": "stream",
     "text": [
      "INFO:kubric.renderer.blender:Rendered frame '/tmp/tmp82v1zpil/images/frame_0021.png'\n"
     ]
    },
    {
     "name": "stdout",
     "output_type": "stream",
     "text": [
      "Fra:21 Mem:255.97M (Peak 573.39M) | Time:00:06.65 | Mem:212.20M, Peak:404.17M | Scene, AuxOutputs | Updating Integrator\n",
      "Fra:21 Mem:257.24M (Peak 573.39M) | Time:00:06.65 | Mem:213.47M, Peak:404.17M | Scene, AuxOutputs | Updating Film\n",
      "Fra:21 Mem:257.25M (Peak 573.39M) | Time:00:06.65 | Mem:213.22M, Peak:404.17M | Scene, AuxOutputs | Updating Lookup Tables\n",
      "Fra:21 Mem:257.25M (Peak 573.39M) | Time:00:06.65 | Mem:213.48M, Peak:404.17M | Scene, AuxOutputs | Updating Baking\n",
      "Fra:21 Mem:257.25M (Peak 573.39M) | Time:00:06.65 | Mem:213.48M, Peak:404.17M | Scene, AuxOutputs | Updating Device | Writing constant memory\n",
      "Fra:21 Mem:257.25M (Peak 573.39M) | Time:00:06.65 | Mem:213.48M, Peak:404.17M | Scene, AuxOutputs | Updating Device | Writing constant memory | Compiling render kernels\n",
      "Fra:21 Mem:257.25M (Peak 573.39M) | Time:00:06.65 | Mem:213.48M, Peak:404.17M | Scene, AuxOutputs | Updating Device | Writing constant memory\n",
      "Fra:21 Mem:257.25M (Peak 573.39M) | Time:00:06.65 | Mem:213.48M, Peak:404.17M | Scene, AuxOutputs | Rendered 0/16 Tiles\n",
      "Fra:21 Mem:261.65M (Peak 573.39M) | Time:00:06.66 | Remaining:00:00.01 | Mem:216.56M, Peak:404.17M | Scene, AuxOutputs | Rendered 1/16 Tiles\n",
      "Fra:21 Mem:261.21M (Peak 573.39M) | Time:00:06.66 | Remaining:00:00.01 | Mem:216.56M, Peak:404.17M | Scene, AuxOutputs | Rendered 2/16 Tiles\n",
      "Fra:21 Mem:260.55M (Peak 573.39M) | Time:00:06.67 | Remaining:00:00.01 | Mem:216.12M, Peak:404.17M | Scene, AuxOutputs | Rendered 3/16 Tiles\n",
      "Fra:21 Mem:260.77M (Peak 573.39M) | Time:00:06.67 | Remaining:00:00.01 | Mem:216.56M, Peak:404.17M | Scene, AuxOutputs | Rendered 4/16 Tiles\n",
      "Fra:21 Mem:260.77M (Peak 573.39M) | Time:00:06.67 | Remaining:00:00.01 | Mem:216.56M, Peak:404.17M | Scene, AuxOutputs | Rendered 5/16 Tiles\n",
      "Fra:21 Mem:261.21M (Peak 573.39M) | Time:00:06.67 | Remaining:00:00.01 | Mem:216.56M, Peak:404.17M | Scene, AuxOutputs | Rendered 6/16 Tiles\n",
      "Fra:21 Mem:261.43M (Peak 573.39M) | Time:00:06.67 | Remaining:00:00.01 | Mem:216.56M, Peak:404.17M | Scene, AuxOutputs | Rendered 7/16 Tiles\n",
      "Fra:21 Mem:261.43M (Peak 573.39M) | Time:00:06.67 | Remaining:00:00.00 | Mem:216.56M, Peak:404.17M | Scene, AuxOutputs | Rendered 8/16 Tiles\n",
      "Fra:21 Mem:261.43M (Peak 573.39M) | Time:00:06.67 | Remaining:00:00.00 | Mem:216.56M, Peak:404.17M | Scene, AuxOutputs | Rendered 9/16 Tiles\n",
      "Fra:21 Mem:260.99M (Peak 573.39M) | Time:00:06.68 | Remaining:00:00.00 | Mem:216.12M, Peak:404.17M | Scene, AuxOutputs | Rendered 10/16 Tiles\n",
      "Fra:21 Mem:260.11M (Peak 573.39M) | Time:00:06.68 | Remaining:00:00.00 | Mem:215.68M, Peak:404.17M | Scene, AuxOutputs | Rendered 11/16 Tiles\n",
      "Fra:21 Mem:259.67M (Peak 573.39M) | Time:00:06.68 | Remaining:00:00.00 | Mem:215.24M, Peak:404.17M | Scene, AuxOutputs | Rendered 12/16 Tiles\n",
      "Fra:21 Mem:259.23M (Peak 573.39M) | Time:00:06.68 | Remaining:00:00.00 | Mem:214.80M, Peak:404.17M | Scene, AuxOutputs | Rendered 13/16 Tiles\n",
      "Fra:21 Mem:258.57M (Peak 573.39M) | Time:00:06.68 | Remaining:00:00.00 | Mem:214.36M, Peak:404.17M | Scene, AuxOutputs | Rendered 14/16 Tiles\n",
      "Fra:21 Mem:257.91M (Peak 573.39M) | Time:00:06.68 | Remaining:00:00.00 | Mem:213.92M, Peak:404.17M | Scene, AuxOutputs | Rendered 15/16 Tiles, Sample 1/1\n",
      "Fra:21 Mem:257.25M (Peak 573.39M) | Time:00:06.68 | Mem:213.48M, Peak:404.17M | Scene, AuxOutputs | Rendered 16/16 Tiles\n",
      "Fra:21 Mem:257.25M (Peak 573.39M) | Time:00:06.68 | Mem:213.48M, Peak:404.17M | Scene, AuxOutputs | Finished\n",
      "Fra:21 Mem:41.10M (Peak 573.39M) | Time:00:06.68 | Compositing\n",
      "Fra:21 Mem:41.10M (Peak 573.39M) | Time:00:06.68 | Compositing | Determining resolution\n",
      "Fra:21 Mem:41.10M (Peak 573.39M) | Time:00:06.68 | Compositing | Initializing execution\n",
      "Fra:21 Mem:46.92M (Peak 573.39M) | Time:00:06.70 | Compositing | Tile 1-1\n",
      "Fra:21 Mem:46.85M (Peak 573.39M) | Time:00:06.70 | Compositing | De-initializing execution\n",
      "Saved: '/tmp/tmp82v1zpil/images/frame_0021.png'\n",
      " Time: 00:06.76 (Saving: 00:00.01)\n",
      "\n",
      "Fra:22 Mem:48.02M (Peak 48.02M) | Time:00:00.00 | Mem:0.00M, Peak:0.00M | Scene, View Layer | Synchronizing object | FileBasedObject.005\n",
      "Fra:22 Mem:48.12M (Peak 48.12M) | Time:00:00.00 | Mem:0.00M, Peak:0.00M | Scene, View Layer | Synchronizing object | FileBasedObject.004\n",
      "Fra:22 Mem:55.91M (Peak 57.40M) | Time:00:00.03 | Mem:0.00M, Peak:0.00M | Scene, View Layer | Initializing\n",
      "Fra:22 Mem:45.45M (Peak 57.40M) | Time:00:00.03 | Mem:0.00M, Peak:0.00M | Scene, View Layer | Waiting for render to start\n",
      "Fra:22 Mem:45.45M (Peak 57.40M) | Time:00:00.03 | Mem:0.00M, Peak:0.00M | Scene, View Layer | Loading render kernels (may take a few minutes the first time)\n",
      "Fra:22 Mem:45.45M (Peak 57.40M) | Time:00:00.03 | Mem:0.00M, Peak:0.00M | Scene, View Layer | Updating Scene\n",
      "Fra:22 Mem:45.45M (Peak 57.40M) | Time:00:00.03 | Mem:0.00M, Peak:0.00M | Scene, View Layer | Updating Shaders\n",
      "Fra:22 Mem:45.70M (Peak 57.40M) | Time:00:00.03 | Mem:0.00M, Peak:0.00M | Scene, View Layer | Updating Procedurals\n",
      "Fra:22 Mem:45.70M (Peak 57.40M) | Time:00:00.03 | Mem:0.00M, Peak:0.00M | Scene, View Layer | Updating Background\n",
      "Fra:22 Mem:45.70M (Peak 57.40M) | Time:00:00.03 | Mem:0.00M, Peak:0.00M | Scene, View Layer | Updating Camera\n",
      "Fra:22 Mem:45.70M (Peak 57.40M) | Time:00:00.03 | Mem:0.00M, Peak:0.00M | Scene, View Layer | Updating Meshes Flags\n",
      "Fra:22 Mem:45.70M (Peak 57.40M) | Time:00:00.03 | Mem:0.00M, Peak:0.00M | Scene, View Layer | Updating Objects\n",
      "Fra:22 Mem:45.70M (Peak 57.40M) | Time:00:00.03 | Mem:0.00M, Peak:0.00M | Scene, View Layer | Updating Objects | Copying Transformations to device\n",
      "Fra:22 Mem:45.70M (Peak 57.40M) | Time:00:00.03 | Mem:0.00M, Peak:0.00M | Scene, View Layer | Updating Objects | Applying Static Transformations\n",
      "Fra:22 Mem:45.70M (Peak 57.40M) | Time:00:00.03 | Mem:0.00M, Peak:0.00M | Scene, View Layer | Updating Particle Systems\n",
      "Fra:22 Mem:45.70M (Peak 57.40M) | Time:00:00.04 | Mem:0.00M, Peak:0.00M | Scene, View Layer | Updating Particle Systems | Copying Particles to device\n",
      "Fra:22 Mem:45.70M (Peak 57.40M) | Time:00:00.04 | Mem:0.00M, Peak:0.00M | Scene, View Layer | Updating Meshes\n",
      "Fra:22 Mem:47.24M (Peak 57.40M) | Time:00:00.04 | Mem:0.00M, Peak:0.00M | Scene, View Layer | Updating Mesh | Computing attributes\n",
      "Fra:22 Mem:50.35M (Peak 57.40M) | Time:00:00.04 | Mem:0.00M, Peak:0.00M | Scene, View Layer | Updating Mesh | Copying Attributes to device\n",
      "Fra:22 Mem:50.35M (Peak 57.40M) | Time:00:00.04 | Mem:3.11M, Peak:3.11M | Scene, View Layer | Updating Scene BVH | Building\n",
      "Fra:22 Mem:50.35M (Peak 57.40M) | Time:00:00.04 | Mem:3.11M, Peak:3.11M | Scene, View Layer | Updating Scene BVH | Building BVH\n",
      "Fra:22 Mem:50.35M (Peak 57.40M) | Time:00:00.04 | Mem:8.87M, Peak:8.87M | Scene, View Layer | Updating Scene BVH | Building BVH 0%\n",
      "Fra:22 Mem:50.35M (Peak 57.40M) | Time:00:00.05 | Mem:8.34M, Peak:12.34M | Scene, View Layer | Updating Scene BVH | Packing BVH primitives\n",
      "Fra:22 Mem:56.87M (Peak 57.40M) | Time:00:00.05 | Mem:8.34M, Peak:12.34M | Scene, View Layer | Updating Scene BVH | Copying BVH to device\n",
      "Fra:22 Mem:57.26M (Peak 57.40M) | Time:00:00.05 | Mem:14.86M, Peak:14.86M | Scene, View Layer | Updating Mesh | Computing normals\n",
      "Fra:22 Mem:60.77M (Peak 60.77M) | Time:00:00.05 | Mem:14.86M, Peak:14.86M | Scene, View Layer | Updating Mesh | Copying Mesh to device\n",
      "Fra:22 Mem:60.38M (Peak 60.77M) | Time:00:00.05 | Mem:18.37M, Peak:18.37M | Scene, View Layer | Updating Objects Flags\n",
      "Fra:22 Mem:60.38M (Peak 60.77M) | Time:00:00.05 | Mem:18.37M, Peak:18.37M | Scene, View Layer | Updating Images\n",
      "Fra:22 Mem:60.38M (Peak 60.77M) | Time:00:00.05 | Mem:18.37M, Peak:18.37M | Scene, View Layer | Updating Images | Loading environment_4k.hdr\n",
      "Fra:22 Mem:188.38M (Peak 188.38M) | Time:00:00.05 | Mem:18.37M, Peak:18.37M | Scene, View Layer | Updating Images | Loading texture.png\n",
      "Fra:22 Mem:316.40M (Peak 316.40M) | Time:00:00.41 | Mem:274.37M, Peak:274.37M | Scene, View Layer | Updating Camera Volume\n",
      "Fra:22 Mem:316.40M (Peak 316.40M) | Time:00:00.41 | Mem:274.37M, Peak:274.37M | Scene, View Layer | Updating Lookup Tables\n",
      "Fra:22 Mem:316.40M (Peak 316.40M) | Time:00:00.41 | Mem:274.62M, Peak:274.62M | Scene, View Layer | Updating Lights\n",
      "Fra:22 Mem:316.40M (Peak 316.40M) | Time:00:00.41 | Mem:274.62M, Peak:274.62M | Scene, View Layer | Updating Lights | Computing distribution\n",
      "Fra:22 Mem:317.39M (Peak 317.39M) | Time:00:00.41 | Mem:275.61M, Peak:275.61M | Scene, View Layer | Updating Lights | Importance map\n",
      "Fra:22 Mem:381.42M (Peak 573.39M) | Time:00:01.16 | Mem:339.66M, Peak:531.63M | Scene, View Layer | Updating Integrator\n",
      "Fra:22 Mem:382.69M (Peak 573.39M) | Time:00:01.17 | Mem:340.93M, Peak:531.63M | Scene, View Layer | Updating Film\n",
      "Fra:22 Mem:382.70M (Peak 573.39M) | Time:00:01.17 | Mem:340.68M, Peak:531.63M | Scene, View Layer | Updating Lookup Tables\n",
      "Fra:22 Mem:382.70M (Peak 573.39M) | Time:00:01.17 | Mem:340.93M, Peak:531.63M | Scene, View Layer | Updating Baking\n",
      "Fra:22 Mem:382.70M (Peak 573.39M) | Time:00:01.17 | Mem:340.93M, Peak:531.63M | Scene, View Layer | Updating Device | Writing constant memory\n",
      "Fra:22 Mem:382.70M (Peak 573.39M) | Time:00:01.17 | Mem:340.93M, Peak:531.63M | Scene, View Layer | Updating Device | Writing constant memory | Compiling render kernels\n",
      "Fra:22 Mem:382.70M (Peak 573.39M) | Time:00:01.17 | Mem:340.93M, Peak:531.63M | Scene, View Layer | Updating Device | Writing constant memory\n",
      "Fra:22 Mem:382.70M (Peak 573.39M) | Time:00:01.17 | Mem:340.93M, Peak:531.63M | Scene, View Layer | Rendered 0/16 Tiles, Denoised 0 tiles\n",
      "Fra:22 Mem:386.72M (Peak 573.39M) | Time:00:02.81 | Remaining:00:01.81 | Mem:344.95M, Peak:531.63M | Scene, View Layer | Rendered 1/16 Tiles, Denoised 0 tiles\n",
      "Fra:22 Mem:387.22M (Peak 573.39M) | Time:00:02.81 | Remaining:00:01.81 | Mem:345.45M, Peak:531.63M | Scene, View Layer | Rendered 2/16 Tiles, Denoised 0 tiles\n",
      "Fra:22 Mem:387.72M (Peak 573.39M) | Time:00:02.81 | Remaining:00:01.81 | Mem:345.95M, Peak:531.63M | Scene, View Layer | Rendered 3/16 Tiles, Denoised 0 tiles\n",
      "Fra:22 Mem:388.22M (Peak 573.39M) | Time:00:02.84 | Remaining:00:01.78 | Mem:346.45M, Peak:531.63M | Scene, View Layer | Rendered 4/16 Tiles, Denoised 0 tiles\n",
      "Fra:22 Mem:388.72M (Peak 573.39M) | Time:00:02.85 | Remaining:00:01.76 | Mem:346.95M, Peak:531.63M | Scene, View Layer | Rendered 5/16 Tiles, Denoised 0 tiles\n",
      "Fra:22 Mem:389.22M (Peak 573.39M) | Time:00:02.89 | Remaining:00:01.72 | Mem:347.45M, Peak:531.63M | Scene, View Layer | Rendered 6/16 Tiles, Denoised 0 tiles\n",
      "Fra:22 Mem:389.72M (Peak 573.39M) | Time:00:02.89 | Remaining:00:01.71 | Mem:347.95M, Peak:531.63M | Scene, View Layer | Rendered 7/16 Tiles, Denoised 0 tiles\n",
      "Fra:22 Mem:390.06M (Peak 573.39M) | Time:00:02.94 | Remaining:00:01.68 | Mem:348.29M, Peak:531.63M | Scene, View Layer | Rendered 8/16 Tiles, Denoised 0 tiles\n",
      "Fra:22 Mem:398.14M (Peak 573.39M) | Time:00:03.30 | Remaining:00:01.41 | Mem:356.38M, Peak:531.63M | Scene, View Layer | Rendered 8/16 Tiles, Denoised 1 tiles\n",
      "Fra:22 Mem:398.18M (Peak 573.39M) | Time:00:03.34 | Remaining:00:01.37 | Mem:356.41M, Peak:531.63M | Scene, View Layer | Rendered 8/16 Tiles, Denoised 2 tiles\n",
      "Fra:22 Mem:398.22M (Peak 573.39M) | Time:00:03.73 | Remaining:00:01.07 | Mem:356.45M, Peak:531.63M | Scene, View Layer | Rendered 8/16 Tiles, Denoised 3 tiles\n",
      "Fra:22 Mem:398.72M (Peak 573.39M) | Time:00:03.76 | Remaining:00:01.03 | Mem:356.95M, Peak:531.63M | Scene, View Layer | Rendered 8/16 Tiles, Denoised 4 tiles\n",
      "Fra:22 Mem:399.22M (Peak 573.39M) | Time:00:04.05 | Remaining:00:00.65 | Mem:357.45M, Peak:531.63M | Scene, View Layer | Rendered 9/16 Tiles, Denoised 4 tiles\n",
      "Fra:22 Mem:399.22M (Peak 573.39M) | Time:00:04.09 | Remaining:00:00.61 | Mem:357.45M, Peak:531.63M | Scene, View Layer | Rendered 10/16 Tiles, Denoised 4 tiles\n",
      "Fra:22 Mem:399.22M (Peak 573.39M) | Time:00:04.47 | Remaining:00:00.26 | Mem:357.45M, Peak:531.63M | Scene, View Layer | Rendered 11/16 Tiles, Denoised 4 tiles\n",
      "Fra:22 Mem:399.22M (Peak 573.39M) | Time:00:04.53 | Remaining:00:00.20 | Mem:357.45M, Peak:531.63M | Scene, View Layer | Rendered 12/16 Tiles, Denoised 4 tiles\n",
      "Fra:22 Mem:402.34M (Peak 573.39M) | Time:00:04.62 | Remaining:00:00.14 | Mem:360.57M, Peak:531.63M | Scene, View Layer | Rendered 13/16 Tiles, Denoised 4 tiles\n",
      "Fra:22 Mem:406.44M (Peak 573.39M) | Time:00:04.72 | Remaining:00:00.10 | Mem:364.67M, Peak:531.63M | Scene, View Layer | Rendered 14/16 Tiles, Denoised 4 tiles\n",
      "Fra:22 Mem:415.04M (Peak 573.39M) | Time:00:04.78 | Remaining:00:00.07 | Mem:373.27M, Peak:531.63M | Scene, View Layer | Rendered 15/16 Tiles, Sample 64/64, Denoised 4 tiles\n",
      "Fra:22 Mem:420.82M (Peak 573.39M) | Time:00:04.84 | Remaining:00:00.06 | Mem:379.05M, Peak:531.63M | Scene, View Layer | Rendered 15/16 Tiles, Sample 64/64, Denoised 5 tiles\n",
      "Fra:22 Mem:422.79M (Peak 573.39M) | Time:00:04.91 | Remaining:00:00.04 | Mem:381.02M, Peak:531.63M | Scene, View Layer | Rendered 15/16 Tiles, Sample 64/64, Denoised 6 tiles\n",
      "Fra:22 Mem:424.76M (Peak 573.39M) | Time:00:04.94 | Remaining:00:00.03 | Mem:382.99M, Peak:531.63M | Scene, View Layer | Rendered 15/16 Tiles, Sample 64/64, Denoised 7 tiles\n",
      "Fra:22 Mem:424.76M (Peak 573.39M) | Time:00:04.96 | Remaining:00:00.03 | Mem:382.99M, Peak:531.63M | Scene, View Layer | Rendered 16/16 Tiles, Denoised 7 tiles\n",
      "Fra:22 Mem:424.88M (Peak 573.39M) | Time:00:05.02 | Remaining:00:00.02 | Mem:383.11M, Peak:531.63M | Scene, View Layer | Rendered 16/16 Tiles, Denoised 8 tiles\n",
      "Fra:22 Mem:424.77M (Peak 573.39M) | Time:00:05.05 | Remaining:00:00.02 | Mem:383.00M, Peak:531.63M | Scene, View Layer | Rendered 16/16 Tiles, Denoised 9 tiles\n",
      "Fra:22 Mem:422.87M (Peak 573.39M) | Time:00:05.16 | Remaining:00:00.02 | Mem:381.10M, Peak:531.63M | Scene, View Layer | Rendered 16/16 Tiles, Denoised 10 tiles\n",
      "Fra:22 Mem:422.87M (Peak 573.39M) | Time:00:05.25 | Remaining:00:00.01 | Mem:381.10M, Peak:531.63M | Scene, View Layer | Rendered 16/16 Tiles, Denoised 11 tiles\n",
      "Fra:22 Mem:422.87M (Peak 573.39M) | Time:00:05.27 | Remaining:00:00.01 | Mem:381.10M, Peak:531.63M | Scene, View Layer | Rendered 16/16 Tiles, Denoised 12 tiles\n",
      "Fra:22 Mem:422.87M (Peak 573.39M) | Time:00:05.28 | Remaining:00:00.01 | Mem:381.10M, Peak:531.63M | Scene, View Layer | Rendered 16/16 Tiles, Denoised 13 tiles\n",
      "Fra:22 Mem:419.87M (Peak 573.39M) | Time:00:05.31 | Remaining:00:00.00 | Mem:378.10M, Peak:531.63M | Scene, View Layer | Rendered 16/16 Tiles, Denoised 14 tiles\n",
      "Fra:22 Mem:419.87M (Peak 573.39M) | Time:00:05.32 | Remaining:00:00.00 | Mem:378.10M, Peak:531.63M | Scene, View Layer | Rendered 16/16 Tiles, Denoised 15 tiles\n",
      "Fra:22 Mem:416.87M (Peak 573.39M) | Time:00:05.37 | Mem:375.10M, Peak:531.63M | Scene, View Layer | Rendered 16/16 Tiles, Denoised 16 tiles\n",
      "Fra:22 Mem:382.70M (Peak 573.39M) | Time:00:05.37 | Mem:340.93M, Peak:531.63M | Scene, View Layer | Finished\n",
      "Fra:22 Mem:50.05M (Peak 573.39M) | Time:00:05.38 | Mem:0.00M, Peak:0.00M | Scene, AuxOutputs | Synchronizing object | dome.001\n",
      "Fra:22 Mem:51.04M (Peak 573.39M) | Time:00:05.38 | Mem:0.00M, Peak:0.00M | Scene, AuxOutputs | Synchronizing object | FileBasedObject.005\n",
      "Fra:22 Mem:57.93M (Peak 573.39M) | Time:00:05.41 | Mem:0.00M, Peak:0.00M | Scene, AuxOutputs | Initializing\n",
      "Fra:22 Mem:47.46M (Peak 573.39M) | Time:00:05.41 | Mem:0.00M, Peak:0.00M | Scene, AuxOutputs | Waiting for render to start\n",
      "Fra:22 Mem:47.46M (Peak 573.39M) | Time:00:05.41 | Mem:0.00M, Peak:0.00M | Scene, AuxOutputs | Loading render kernels (may take a few minutes the first time)\n",
      "Fra:22 Mem:47.46M (Peak 573.39M) | Time:00:05.41 | Mem:0.00M, Peak:0.00M | Scene, AuxOutputs | Updating Scene\n",
      "Fra:22 Mem:47.46M (Peak 573.39M) | Time:00:05.41 | Mem:0.00M, Peak:0.00M | Scene, AuxOutputs | Updating Shaders\n",
      "Fra:22 Mem:47.71M (Peak 573.39M) | Time:00:05.41 | Mem:0.00M, Peak:0.00M | Scene, AuxOutputs | Updating Procedurals\n",
      "Fra:22 Mem:47.71M (Peak 573.39M) | Time:00:05.41 | Mem:0.00M, Peak:0.00M | Scene, AuxOutputs | Updating Background\n",
      "Fra:22 Mem:47.71M (Peak 573.39M) | Time:00:05.41 | Mem:0.00M, Peak:0.00M | Scene, AuxOutputs | Updating Camera\n",
      "Fra:22 Mem:47.71M (Peak 573.39M) | Time:00:05.41 | Mem:0.00M, Peak:0.00M | Scene, AuxOutputs | Updating Meshes Flags\n",
      "Fra:22 Mem:47.71M (Peak 573.39M) | Time:00:05.41 | Mem:0.00M, Peak:0.00M | Scene, AuxOutputs | Updating Objects\n",
      "Fra:22 Mem:47.71M (Peak 573.39M) | Time:00:05.41 | Mem:0.00M, Peak:0.00M | Scene, AuxOutputs | Updating Objects | Copying Transformations to device\n",
      "Fra:22 Mem:47.71M (Peak 573.39M) | Time:00:05.41 | Mem:0.00M, Peak:0.00M | Scene, AuxOutputs | Updating Objects | Applying Static Transformations\n",
      "Fra:22 Mem:47.71M (Peak 573.39M) | Time:00:05.41 | Mem:0.00M, Peak:0.00M | Scene, AuxOutputs | Updating Particle Systems\n",
      "Fra:22 Mem:47.71M (Peak 573.39M) | Time:00:05.41 | Mem:0.00M, Peak:0.00M | Scene, AuxOutputs | Updating Particle Systems | Copying Particles to device\n",
      "Fra:22 Mem:47.71M (Peak 573.39M) | Time:00:05.41 | Mem:0.00M, Peak:0.00M | Scene, AuxOutputs | Updating Meshes\n",
      "Fra:22 Mem:49.25M (Peak 573.39M) | Time:00:05.41 | Mem:0.00M, Peak:0.00M | Scene, AuxOutputs | Updating Mesh | Computing attributes\n",
      "Fra:22 Mem:52.36M (Peak 573.39M) | Time:00:05.41 | Mem:0.00M, Peak:0.00M | Scene, AuxOutputs | Updating Mesh | Copying Attributes to device\n",
      "Fra:22 Mem:52.36M (Peak 573.39M) | Time:00:05.41 | Mem:3.11M, Peak:3.11M | Scene, AuxOutputs | Updating Scene BVH | Building\n",
      "Fra:22 Mem:52.36M (Peak 573.39M) | Time:00:05.41 | Mem:3.11M, Peak:3.11M | Scene, AuxOutputs | Updating Scene BVH | Building BVH\n",
      "Fra:22 Mem:52.36M (Peak 573.39M) | Time:00:05.41 | Mem:8.87M, Peak:8.87M | Scene, AuxOutputs | Updating Scene BVH | Building BVH 0%\n",
      "Fra:22 Mem:52.36M (Peak 573.39M) | Time:00:05.42 | Mem:8.33M, Peak:12.33M | Scene, AuxOutputs | Updating Scene BVH | Packing BVH primitives\n",
      "Fra:22 Mem:58.88M (Peak 573.39M) | Time:00:05.42 | Mem:8.33M, Peak:12.33M | Scene, AuxOutputs | Updating Scene BVH | Copying BVH to device\n",
      "Fra:22 Mem:59.27M (Peak 573.39M) | Time:00:05.42 | Mem:14.86M, Peak:14.86M | Scene, AuxOutputs | Updating Mesh | Computing normals\n",
      "Fra:22 Mem:62.78M (Peak 573.39M) | Time:00:05.43 | Mem:14.86M, Peak:14.86M | Scene, AuxOutputs | Updating Mesh | Copying Mesh to device\n",
      "Fra:22 Mem:62.39M (Peak 573.39M) | Time:00:05.43 | Mem:18.37M, Peak:18.37M | Scene, AuxOutputs | Updating Objects Flags\n",
      "Fra:22 Mem:62.39M (Peak 573.39M) | Time:00:05.43 | Mem:18.37M, Peak:18.37M | Scene, AuxOutputs | Updating Images\n",
      "Fra:22 Mem:62.39M (Peak 573.39M) | Time:00:05.43 | Mem:18.37M, Peak:18.37M | Scene, AuxOutputs | Updating Images | Loading environment_4k.hdr\n",
      "Fra:22 Mem:190.40M (Peak 573.39M) | Time:00:05.65 | Mem:146.37M, Peak:146.37M | Scene, AuxOutputs | Updating Camera Volume\n",
      "Fra:22 Mem:190.40M (Peak 573.39M) | Time:00:05.65 | Mem:146.37M, Peak:146.37M | Scene, AuxOutputs | Updating Lookup Tables\n",
      "Fra:22 Mem:190.40M (Peak 573.39M) | Time:00:05.65 | Mem:146.62M, Peak:146.62M | Scene, AuxOutputs | Updating Lights\n",
      "Fra:22 Mem:190.40M (Peak 573.39M) | Time:00:05.65 | Mem:146.62M, Peak:146.62M | Scene, AuxOutputs | Updating Lights | Computing distribution\n",
      "Fra:22 Mem:191.94M (Peak 573.39M) | Time:00:05.65 | Mem:148.15M, Peak:148.15M | Scene, AuxOutputs | Updating Lights | Importance map\n"
     ]
    },
    {
     "name": "stderr",
     "output_type": "stream",
     "text": [
      "INFO:kubric.renderer.blender:Rendered frame '/tmp/tmp82v1zpil/images/frame_0022.png'\n"
     ]
    },
    {
     "name": "stdout",
     "output_type": "stream",
     "text": [
      "Fra:22 Mem:255.97M (Peak 573.39M) | Time:00:06.41 | Mem:212.20M, Peak:404.17M | Scene, AuxOutputs | Updating Integrator\n",
      "Fra:22 Mem:257.24M (Peak 573.39M) | Time:00:06.41 | Mem:213.47M, Peak:404.17M | Scene, AuxOutputs | Updating Film\n",
      "Fra:22 Mem:257.25M (Peak 573.39M) | Time:00:06.41 | Mem:213.22M, Peak:404.17M | Scene, AuxOutputs | Updating Lookup Tables\n",
      "Fra:22 Mem:257.25M (Peak 573.39M) | Time:00:06.41 | Mem:213.48M, Peak:404.17M | Scene, AuxOutputs | Updating Baking\n",
      "Fra:22 Mem:257.25M (Peak 573.39M) | Time:00:06.41 | Mem:213.48M, Peak:404.17M | Scene, AuxOutputs | Updating Device | Writing constant memory\n",
      "Fra:22 Mem:257.25M (Peak 573.39M) | Time:00:06.41 | Mem:213.48M, Peak:404.17M | Scene, AuxOutputs | Updating Device | Writing constant memory | Compiling render kernels\n",
      "Fra:22 Mem:257.25M (Peak 573.39M) | Time:00:06.41 | Mem:213.48M, Peak:404.17M | Scene, AuxOutputs | Updating Device | Writing constant memory\n",
      "Fra:22 Mem:257.25M (Peak 573.39M) | Time:00:06.41 | Mem:213.48M, Peak:404.17M | Scene, AuxOutputs | Rendered 0/16 Tiles\n",
      "Fra:22 Mem:261.87M (Peak 573.39M) | Time:00:06.42 | Remaining:00:00.00 | Mem:216.56M, Peak:404.17M | Scene, AuxOutputs | Rendered 1/16 Tiles\n",
      "Fra:22 Mem:261.43M (Peak 573.39M) | Time:00:06.43 | Remaining:00:00.01 | Mem:216.56M, Peak:404.17M | Scene, AuxOutputs | Rendered 2/16 Tiles\n",
      "Fra:22 Mem:261.21M (Peak 573.39M) | Time:00:06.43 | Remaining:00:00.01 | Mem:216.56M, Peak:404.17M | Scene, AuxOutputs | Rendered 3/16 Tiles\n",
      "Fra:22 Mem:260.99M (Peak 573.39M) | Time:00:06.43 | Remaining:00:00.01 | Mem:216.56M, Peak:404.17M | Scene, AuxOutputs | Rendered 4/16 Tiles\n",
      "Fra:22 Mem:261.21M (Peak 573.39M) | Time:00:06.43 | Remaining:00:00.01 | Mem:216.56M, Peak:404.17M | Scene, AuxOutputs | Rendered 5/16 Tiles\n",
      "Fra:22 Mem:261.43M (Peak 573.39M) | Time:00:06.43 | Remaining:00:00.01 | Mem:216.56M, Peak:404.17M | Scene, AuxOutputs | Rendered 6/16 Tiles\n",
      "Fra:22 Mem:261.43M (Peak 573.39M) | Time:00:06.43 | Remaining:00:00.01 | Mem:216.56M, Peak:404.17M | Scene, AuxOutputs | Rendered 7/16 Tiles\n",
      "Fra:22 Mem:261.43M (Peak 573.39M) | Time:00:06.43 | Remaining:00:00.01 | Mem:216.56M, Peak:404.17M | Scene, AuxOutputs | Rendered 8/16 Tiles\n",
      "Fra:22 Mem:261.87M (Peak 573.39M) | Time:00:06.43 | Remaining:00:00.01 | Mem:216.56M, Peak:404.17M | Scene, AuxOutputs | Rendered 9/16 Tiles\n",
      "Fra:22 Mem:261.21M (Peak 573.39M) | Time:00:06.43 | Mem:216.12M, Peak:404.17M | Scene, AuxOutputs | Rendered 10/16 Tiles\n",
      "Fra:22 Mem:260.55M (Peak 573.39M) | Time:00:06.44 | Mem:215.68M, Peak:404.17M | Scene, AuxOutputs | Rendered 11/16 Tiles\n",
      "Fra:22 Mem:259.89M (Peak 573.39M) | Time:00:06.44 | Mem:215.24M, Peak:404.17M | Scene, AuxOutputs | Rendered 12/16 Tiles\n",
      "Fra:22 Mem:259.01M (Peak 573.39M) | Time:00:06.44 | Mem:214.80M, Peak:404.17M | Scene, AuxOutputs | Rendered 13/16 Tiles\n",
      "Fra:22 Mem:258.35M (Peak 573.39M) | Time:00:06.44 | Mem:214.36M, Peak:404.17M | Scene, AuxOutputs | Rendered 14/16 Tiles\n",
      "Fra:22 Mem:257.69M (Peak 573.39M) | Time:00:06.44 | Mem:213.92M, Peak:404.17M | Scene, AuxOutputs | Rendered 15/16 Tiles, Sample 1/1\n",
      "Fra:22 Mem:257.25M (Peak 573.39M) | Time:00:06.44 | Mem:213.48M, Peak:404.17M | Scene, AuxOutputs | Rendered 16/16 Tiles\n",
      "Fra:22 Mem:257.25M (Peak 573.39M) | Time:00:06.44 | Mem:213.48M, Peak:404.17M | Scene, AuxOutputs | Finished\n",
      "Fra:22 Mem:41.10M (Peak 573.39M) | Time:00:06.44 | Compositing\n",
      "Fra:22 Mem:41.10M (Peak 573.39M) | Time:00:06.44 | Compositing | Determining resolution\n",
      "Fra:22 Mem:41.10M (Peak 573.39M) | Time:00:06.44 | Compositing | Initializing execution\n",
      "Fra:22 Mem:46.92M (Peak 573.39M) | Time:00:06.45 | Compositing | Tile 1-1\n",
      "Fra:22 Mem:46.85M (Peak 573.39M) | Time:00:06.45 | Compositing | De-initializing execution\n",
      "Saved: '/tmp/tmp82v1zpil/images/frame_0022.png'\n",
      " Time: 00:06.50 (Saving: 00:00.01)\n",
      "\n",
      "Fra:23 Mem:48.02M (Peak 48.02M) | Time:00:00.00 | Mem:0.00M, Peak:0.00M | Scene, View Layer | Synchronizing object | dome.001\n",
      "Fra:23 Mem:49.02M (Peak 49.02M) | Time:00:00.00 | Mem:0.00M, Peak:0.00M | Scene, View Layer | Synchronizing object | FileBasedObject.004\n",
      "Fra:23 Mem:55.91M (Peak 57.40M) | Time:00:00.03 | Mem:0.00M, Peak:0.00M | Scene, View Layer | Initializing\n",
      "Fra:23 Mem:45.45M (Peak 57.40M) | Time:00:00.03 | Mem:0.00M, Peak:0.00M | Scene, View Layer | Waiting for render to start\n",
      "Fra:23 Mem:45.45M (Peak 57.40M) | Time:00:00.03 | Mem:0.00M, Peak:0.00M | Scene, View Layer | Loading render kernels (may take a few minutes the first time)\n",
      "Fra:23 Mem:45.45M (Peak 57.40M) | Time:00:00.03 | Mem:0.00M, Peak:0.00M | Scene, View Layer | Updating Scene\n",
      "Fra:23 Mem:45.45M (Peak 57.40M) | Time:00:00.03 | Mem:0.00M, Peak:0.00M | Scene, View Layer | Updating Shaders\n",
      "Fra:23 Mem:45.70M (Peak 57.40M) | Time:00:00.03 | Mem:0.00M, Peak:0.00M | Scene, View Layer | Updating Procedurals\n",
      "Fra:23 Mem:45.70M (Peak 57.40M) | Time:00:00.03 | Mem:0.00M, Peak:0.00M | Scene, View Layer | Updating Background\n",
      "Fra:23 Mem:45.70M (Peak 57.40M) | Time:00:00.03 | Mem:0.00M, Peak:0.00M | Scene, View Layer | Updating Camera\n",
      "Fra:23 Mem:45.70M (Peak 57.40M) | Time:00:00.03 | Mem:0.00M, Peak:0.00M | Scene, View Layer | Updating Meshes Flags\n",
      "Fra:23 Mem:45.70M (Peak 57.40M) | Time:00:00.03 | Mem:0.00M, Peak:0.00M | Scene, View Layer | Updating Objects\n",
      "Fra:23 Mem:45.70M (Peak 57.40M) | Time:00:00.03 | Mem:0.00M, Peak:0.00M | Scene, View Layer | Updating Objects | Copying Transformations to device\n",
      "Fra:23 Mem:45.70M (Peak 57.40M) | Time:00:00.03 | Mem:0.00M, Peak:0.00M | Scene, View Layer | Updating Objects | Applying Static Transformations\n",
      "Fra:23 Mem:45.70M (Peak 57.40M) | Time:00:00.03 | Mem:0.00M, Peak:0.00M | Scene, View Layer | Updating Particle Systems\n",
      "Fra:23 Mem:45.70M (Peak 57.40M) | Time:00:00.03 | Mem:0.00M, Peak:0.00M | Scene, View Layer | Updating Particle Systems | Copying Particles to device\n",
      "Fra:23 Mem:45.70M (Peak 57.40M) | Time:00:00.03 | Mem:0.00M, Peak:0.00M | Scene, View Layer | Updating Meshes\n",
      "Fra:23 Mem:47.24M (Peak 57.40M) | Time:00:00.03 | Mem:0.00M, Peak:0.00M | Scene, View Layer | Updating Mesh | Computing attributes\n",
      "Fra:23 Mem:50.35M (Peak 57.40M) | Time:00:00.03 | Mem:0.00M, Peak:0.00M | Scene, View Layer | Updating Mesh | Copying Attributes to device\n",
      "Fra:23 Mem:50.35M (Peak 57.40M) | Time:00:00.03 | Mem:3.11M, Peak:3.11M | Scene, View Layer | Updating Scene BVH | Building\n",
      "Fra:23 Mem:50.35M (Peak 57.40M) | Time:00:00.03 | Mem:3.11M, Peak:3.11M | Scene, View Layer | Updating Scene BVH | Building BVH\n",
      "Fra:23 Mem:50.35M (Peak 57.40M) | Time:00:00.03 | Mem:8.87M, Peak:8.87M | Scene, View Layer | Updating Scene BVH | Building BVH 0%\n",
      "Fra:23 Mem:50.35M (Peak 57.40M) | Time:00:00.04 | Mem:8.34M, Peak:12.34M | Scene, View Layer | Updating Scene BVH | Packing BVH primitives\n",
      "Fra:23 Mem:56.87M (Peak 57.40M) | Time:00:00.04 | Mem:8.34M, Peak:12.34M | Scene, View Layer | Updating Scene BVH | Copying BVH to device\n",
      "Fra:23 Mem:57.26M (Peak 57.40M) | Time:00:00.04 | Mem:14.86M, Peak:14.86M | Scene, View Layer | Updating Mesh | Computing normals\n",
      "Fra:23 Mem:60.77M (Peak 60.77M) | Time:00:00.05 | Mem:14.86M, Peak:14.86M | Scene, View Layer | Updating Mesh | Copying Mesh to device\n",
      "Fra:23 Mem:60.38M (Peak 60.77M) | Time:00:00.05 | Mem:18.37M, Peak:18.37M | Scene, View Layer | Updating Objects Flags\n",
      "Fra:23 Mem:60.38M (Peak 60.77M) | Time:00:00.05 | Mem:18.37M, Peak:18.37M | Scene, View Layer | Updating Images\n",
      "Fra:23 Mem:60.38M (Peak 60.77M) | Time:00:00.05 | Mem:18.37M, Peak:18.37M | Scene, View Layer | Updating Images | Loading environment_4k.hdr\n",
      "Fra:23 Mem:188.38M (Peak 188.38M) | Time:00:00.05 | Mem:18.37M, Peak:18.37M | Scene, View Layer | Updating Images | Loading texture.png\n",
      "Fra:23 Mem:316.40M (Peak 316.40M) | Time:00:00.39 | Mem:274.37M, Peak:274.37M | Scene, View Layer | Updating Camera Volume\n",
      "Fra:23 Mem:316.40M (Peak 316.40M) | Time:00:00.39 | Mem:274.37M, Peak:274.37M | Scene, View Layer | Updating Lookup Tables\n",
      "Fra:23 Mem:316.40M (Peak 316.40M) | Time:00:00.39 | Mem:274.62M, Peak:274.62M | Scene, View Layer | Updating Lights\n",
      "Fra:23 Mem:316.40M (Peak 316.40M) | Time:00:00.39 | Mem:274.62M, Peak:274.62M | Scene, View Layer | Updating Lights | Computing distribution\n",
      "Fra:23 Mem:317.39M (Peak 317.39M) | Time:00:00.39 | Mem:275.61M, Peak:275.61M | Scene, View Layer | Updating Lights | Importance map\n",
      "Fra:23 Mem:381.42M (Peak 573.39M) | Time:00:01.13 | Mem:339.66M, Peak:531.63M | Scene, View Layer | Updating Integrator\n",
      "Fra:23 Mem:382.69M (Peak 573.39M) | Time:00:01.14 | Mem:340.93M, Peak:531.63M | Scene, View Layer | Updating Film\n",
      "Fra:23 Mem:382.70M (Peak 573.39M) | Time:00:01.14 | Mem:340.68M, Peak:531.63M | Scene, View Layer | Updating Lookup Tables\n",
      "Fra:23 Mem:382.70M (Peak 573.39M) | Time:00:01.14 | Mem:340.93M, Peak:531.63M | Scene, View Layer | Updating Baking\n",
      "Fra:23 Mem:382.70M (Peak 573.39M) | Time:00:01.14 | Mem:340.93M, Peak:531.63M | Scene, View Layer | Updating Device | Writing constant memory\n",
      "Fra:23 Mem:382.70M (Peak 573.39M) | Time:00:01.14 | Mem:340.93M, Peak:531.63M | Scene, View Layer | Updating Device | Writing constant memory | Compiling render kernels\n",
      "Fra:23 Mem:382.70M (Peak 573.39M) | Time:00:01.14 | Mem:340.93M, Peak:531.63M | Scene, View Layer | Updating Device | Writing constant memory\n",
      "Fra:23 Mem:382.70M (Peak 573.39M) | Time:00:01.14 | Mem:340.93M, Peak:531.63M | Scene, View Layer | Rendered 0/16 Tiles, Denoised 0 tiles\n",
      "Fra:23 Mem:386.72M (Peak 573.39M) | Time:00:02.81 | Remaining:00:01.84 | Mem:344.95M, Peak:531.63M | Scene, View Layer | Rendered 1/16 Tiles, Denoised 0 tiles\n",
      "Fra:23 Mem:387.22M (Peak 573.39M) | Time:00:02.83 | Remaining:00:01.82 | Mem:345.45M, Peak:531.63M | Scene, View Layer | Rendered 2/16 Tiles, Denoised 0 tiles\n",
      "Fra:23 Mem:387.72M (Peak 573.39M) | Time:00:02.83 | Remaining:00:01.82 | Mem:345.95M, Peak:531.63M | Scene, View Layer | Rendered 3/16 Tiles, Denoised 0 tiles\n",
      "Fra:23 Mem:388.22M (Peak 573.39M) | Time:00:02.84 | Remaining:00:01.82 | Mem:346.45M, Peak:531.63M | Scene, View Layer | Rendered 4/16 Tiles, Denoised 0 tiles\n",
      "Fra:23 Mem:388.72M (Peak 573.39M) | Time:00:02.87 | Remaining:00:01.78 | Mem:346.95M, Peak:531.63M | Scene, View Layer | Rendered 5/16 Tiles, Denoised 0 tiles\n",
      "Fra:23 Mem:389.22M (Peak 573.39M) | Time:00:02.88 | Remaining:00:01.77 | Mem:347.45M, Peak:531.63M | Scene, View Layer | Rendered 6/16 Tiles, Denoised 0 tiles\n",
      "Fra:23 Mem:389.72M (Peak 573.39M) | Time:00:02.90 | Remaining:00:01.74 | Mem:347.95M, Peak:531.63M | Scene, View Layer | Rendered 7/16 Tiles, Denoised 0 tiles\n",
      "Fra:23 Mem:390.06M (Peak 573.39M) | Time:00:02.91 | Remaining:00:01.74 | Mem:348.29M, Peak:531.63M | Scene, View Layer | Rendered 8/16 Tiles, Denoised 0 tiles\n",
      "Fra:23 Mem:398.14M (Peak 573.39M) | Time:00:03.30 | Remaining:00:01.46 | Mem:356.38M, Peak:531.63M | Scene, View Layer | Rendered 8/16 Tiles, Denoised 1 tiles\n",
      "Fra:23 Mem:398.18M (Peak 573.39M) | Time:00:03.31 | Remaining:00:01.45 | Mem:356.41M, Peak:531.63M | Scene, View Layer | Rendered 8/16 Tiles, Denoised 2 tiles\n",
      "Fra:23 Mem:398.22M (Peak 573.39M) | Time:00:03.73 | Remaining:00:01.12 | Mem:356.45M, Peak:531.63M | Scene, View Layer | Rendered 8/16 Tiles, Denoised 3 tiles\n",
      "Fra:23 Mem:398.72M (Peak 573.39M) | Time:00:03.74 | Remaining:00:01.12 | Mem:356.95M, Peak:531.63M | Scene, View Layer | Rendered 8/16 Tiles, Denoised 4 tiles\n",
      "Fra:23 Mem:399.22M (Peak 573.39M) | Time:00:04.12 | Remaining:00:00.67 | Mem:357.45M, Peak:531.63M | Scene, View Layer | Rendered 9/16 Tiles, Denoised 4 tiles\n",
      "Fra:23 Mem:399.22M (Peak 573.39M) | Time:00:04.19 | Remaining:00:00.59 | Mem:357.45M, Peak:531.63M | Scene, View Layer | Rendered 10/16 Tiles, Denoised 4 tiles\n",
      "Fra:23 Mem:399.22M (Peak 573.39M) | Time:00:04.48 | Remaining:00:00.32 | Mem:357.45M, Peak:531.63M | Scene, View Layer | Rendered 11/16 Tiles, Denoised 4 tiles\n",
      "Fra:23 Mem:399.22M (Peak 573.39M) | Time:00:04.62 | Remaining:00:00.20 | Mem:357.45M, Peak:531.63M | Scene, View Layer | Rendered 12/16 Tiles, Denoised 4 tiles\n",
      "Fra:23 Mem:399.22M (Peak 573.39M) | Time:00:04.65 | Remaining:00:00.18 | Mem:357.45M, Peak:531.63M | Scene, View Layer | Rendered 13/16 Tiles, Denoised 4 tiles\n",
      "Fra:23 Mem:408.34M (Peak 573.39M) | Time:00:04.77 | Remaining:00:00.12 | Mem:366.58M, Peak:531.63M | Scene, View Layer | Rendered 14/16 Tiles, Denoised 4 tiles\n",
      "Fra:23 Mem:420.82M (Peak 573.39M) | Time:00:04.88 | Remaining:00:00.08 | Mem:379.05M, Peak:531.63M | Scene, View Layer | Rendered 14/16 Tiles, Denoised 5 tiles\n",
      "Fra:23 Mem:422.79M (Peak 573.39M) | Time:00:04.98 | Remaining:00:00.04 | Mem:381.02M, Peak:531.63M | Scene, View Layer | Rendered 15/16 Tiles, Sample 64/64, Denoised 5 tiles\n",
      "Fra:23 Mem:424.76M (Peak 573.39M) | Time:00:04.99 | Remaining:00:00.04 | Mem:382.99M, Peak:531.63M | Scene, View Layer | Rendered 16/16 Tiles, Denoised 5 tiles\n",
      "Fra:23 Mem:424.88M (Peak 573.39M) | Time:00:05.08 | Remaining:00:00.03 | Mem:383.11M, Peak:531.63M | Scene, View Layer | Rendered 16/16 Tiles, Denoised 6 tiles\n",
      "Fra:23 Mem:424.88M (Peak 573.39M) | Time:00:05.08 | Remaining:00:00.03 | Mem:383.11M, Peak:531.63M | Scene, View Layer | Rendered 16/16 Tiles, Denoised 7 tiles\n",
      "Fra:23 Mem:424.67M (Peak 573.39M) | Time:00:05.10 | Remaining:00:00.03 | Mem:382.90M, Peak:531.63M | Scene, View Layer | Rendered 16/16 Tiles, Denoised 8 tiles\n",
      "Fra:23 Mem:424.36M (Peak 573.39M) | Time:00:05.14 | Remaining:00:00.02 | Mem:382.60M, Peak:531.63M | Scene, View Layer | Rendered 16/16 Tiles, Denoised 9 tiles\n",
      "Fra:23 Mem:422.86M (Peak 573.39M) | Time:00:05.22 | Remaining:00:00.02 | Mem:381.10M, Peak:531.63M | Scene, View Layer | Rendered 16/16 Tiles, Denoised 10 tiles\n",
      "Fra:23 Mem:422.86M (Peak 573.39M) | Time:00:05.33 | Remaining:00:00.02 | Mem:381.10M, Peak:531.63M | Scene, View Layer | Rendered 16/16 Tiles, Denoised 11 tiles\n",
      "Fra:23 Mem:422.36M (Peak 573.39M) | Time:00:05.35 | Remaining:00:00.01 | Mem:380.60M, Peak:531.63M | Scene, View Layer | Rendered 16/16 Tiles, Denoised 12 tiles\n",
      "Fra:23 Mem:421.36M (Peak 573.39M) | Time:00:05.36 | Remaining:00:00.01 | Mem:379.60M, Peak:531.63M | Scene, View Layer | Rendered 16/16 Tiles, Denoised 13 tiles\n",
      "Fra:23 Mem:421.36M (Peak 573.39M) | Time:00:05.39 | Remaining:00:00.00 | Mem:379.60M, Peak:531.63M | Scene, View Layer | Rendered 16/16 Tiles, Denoised 14 tiles\n",
      "Fra:23 Mem:421.36M (Peak 573.39M) | Time:00:05.41 | Remaining:00:00.00 | Mem:379.60M, Peak:531.63M | Scene, View Layer | Rendered 16/16 Tiles, Denoised 15 tiles\n",
      "Fra:23 Mem:416.86M (Peak 573.39M) | Time:00:05.43 | Mem:375.10M, Peak:531.63M | Scene, View Layer | Rendered 16/16 Tiles, Denoised 16 tiles\n",
      "Fra:23 Mem:382.70M (Peak 573.39M) | Time:00:05.43 | Mem:340.93M, Peak:531.63M | Scene, View Layer | Finished\n",
      "Fra:23 Mem:50.05M (Peak 573.39M) | Time:00:05.44 | Mem:0.00M, Peak:0.00M | Scene, AuxOutputs | Synchronizing object | dome.001\n",
      "Fra:23 Mem:51.04M (Peak 573.39M) | Time:00:05.44 | Mem:0.00M, Peak:0.00M | Scene, AuxOutputs | Synchronizing object | FileBasedObject.005\n",
      "Fra:23 Mem:57.93M (Peak 573.39M) | Time:00:05.46 | Mem:0.00M, Peak:0.00M | Scene, AuxOutputs | Initializing\n",
      "Fra:23 Mem:47.46M (Peak 573.39M) | Time:00:05.47 | Mem:0.00M, Peak:0.00M | Scene, AuxOutputs | Waiting for render to start\n",
      "Fra:23 Mem:47.46M (Peak 573.39M) | Time:00:05.47 | Mem:0.00M, Peak:0.00M | Scene, AuxOutputs | Loading render kernels (may take a few minutes the first time)\n",
      "Fra:23 Mem:47.46M (Peak 573.39M) | Time:00:05.47 | Mem:0.00M, Peak:0.00M | Scene, AuxOutputs | Updating Scene\n",
      "Fra:23 Mem:47.46M (Peak 573.39M) | Time:00:05.47 | Mem:0.00M, Peak:0.00M | Scene, AuxOutputs | Updating Shaders\n",
      "Fra:23 Mem:47.71M (Peak 573.39M) | Time:00:05.47 | Mem:0.00M, Peak:0.00M | Scene, AuxOutputs | Updating Procedurals\n",
      "Fra:23 Mem:47.71M (Peak 573.39M) | Time:00:05.47 | Mem:0.00M, Peak:0.00M | Scene, AuxOutputs | Updating Background\n",
      "Fra:23 Mem:47.71M (Peak 573.39M) | Time:00:05.47 | Mem:0.00M, Peak:0.00M | Scene, AuxOutputs | Updating Camera\n",
      "Fra:23 Mem:47.71M (Peak 573.39M) | Time:00:05.47 | Mem:0.00M, Peak:0.00M | Scene, AuxOutputs | Updating Meshes Flags\n",
      "Fra:23 Mem:47.71M (Peak 573.39M) | Time:00:05.47 | Mem:0.00M, Peak:0.00M | Scene, AuxOutputs | Updating Objects\n",
      "Fra:23 Mem:47.71M (Peak 573.39M) | Time:00:05.47 | Mem:0.00M, Peak:0.00M | Scene, AuxOutputs | Updating Objects | Copying Transformations to device\n",
      "Fra:23 Mem:47.71M (Peak 573.39M) | Time:00:05.47 | Mem:0.00M, Peak:0.00M | Scene, AuxOutputs | Updating Objects | Applying Static Transformations\n",
      "Fra:23 Mem:47.71M (Peak 573.39M) | Time:00:05.47 | Mem:0.00M, Peak:0.00M | Scene, AuxOutputs | Updating Particle Systems\n",
      "Fra:23 Mem:47.71M (Peak 573.39M) | Time:00:05.47 | Mem:0.00M, Peak:0.00M | Scene, AuxOutputs | Updating Particle Systems | Copying Particles to device\n",
      "Fra:23 Mem:47.71M (Peak 573.39M) | Time:00:05.47 | Mem:0.00M, Peak:0.00M | Scene, AuxOutputs | Updating Meshes\n",
      "Fra:23 Mem:49.25M (Peak 573.39M) | Time:00:05.47 | Mem:0.00M, Peak:0.00M | Scene, AuxOutputs | Updating Mesh | Computing attributes\n",
      "Fra:23 Mem:52.36M (Peak 573.39M) | Time:00:05.47 | Mem:0.00M, Peak:0.00M | Scene, AuxOutputs | Updating Mesh | Copying Attributes to device\n",
      "Fra:23 Mem:52.36M (Peak 573.39M) | Time:00:05.47 | Mem:3.11M, Peak:3.11M | Scene, AuxOutputs | Updating Scene BVH | Building\n",
      "Fra:23 Mem:52.36M (Peak 573.39M) | Time:00:05.47 | Mem:3.11M, Peak:3.11M | Scene, AuxOutputs | Updating Scene BVH | Building BVH\n",
      "Fra:23 Mem:52.36M (Peak 573.39M) | Time:00:05.47 | Mem:8.87M, Peak:8.87M | Scene, AuxOutputs | Updating Scene BVH | Building BVH 0%\n",
      "Fra:23 Mem:52.36M (Peak 573.39M) | Time:00:05.48 | Mem:8.33M, Peak:12.33M | Scene, AuxOutputs | Updating Scene BVH | Packing BVH primitives\n",
      "Fra:23 Mem:58.88M (Peak 573.39M) | Time:00:05.48 | Mem:8.33M, Peak:12.33M | Scene, AuxOutputs | Updating Scene BVH | Copying BVH to device\n",
      "Fra:23 Mem:59.27M (Peak 573.39M) | Time:00:05.48 | Mem:14.86M, Peak:14.86M | Scene, AuxOutputs | Updating Mesh | Computing normals\n",
      "Fra:23 Mem:62.78M (Peak 573.39M) | Time:00:05.48 | Mem:14.86M, Peak:14.86M | Scene, AuxOutputs | Updating Mesh | Copying Mesh to device\n",
      "Fra:23 Mem:62.39M (Peak 573.39M) | Time:00:05.48 | Mem:18.37M, Peak:18.37M | Scene, AuxOutputs | Updating Objects Flags\n",
      "Fra:23 Mem:62.39M (Peak 573.39M) | Time:00:05.48 | Mem:18.37M, Peak:18.37M | Scene, AuxOutputs | Updating Images\n",
      "Fra:23 Mem:62.39M (Peak 573.39M) | Time:00:05.48 | Mem:18.37M, Peak:18.37M | Scene, AuxOutputs | Updating Images | Loading environment_4k.hdr\n",
      "Fra:23 Mem:190.40M (Peak 573.39M) | Time:00:05.71 | Mem:146.37M, Peak:146.37M | Scene, AuxOutputs | Updating Camera Volume\n",
      "Fra:23 Mem:190.40M (Peak 573.39M) | Time:00:05.71 | Mem:146.37M, Peak:146.37M | Scene, AuxOutputs | Updating Lookup Tables\n",
      "Fra:23 Mem:190.40M (Peak 573.39M) | Time:00:05.71 | Mem:146.62M, Peak:146.62M | Scene, AuxOutputs | Updating Lights\n",
      "Fra:23 Mem:190.40M (Peak 573.39M) | Time:00:05.71 | Mem:146.62M, Peak:146.62M | Scene, AuxOutputs | Updating Lights | Computing distribution\n",
      "Fra:23 Mem:191.94M (Peak 573.39M) | Time:00:05.71 | Mem:148.15M, Peak:148.15M | Scene, AuxOutputs | Updating Lights | Importance map\n"
     ]
    },
    {
     "name": "stderr",
     "output_type": "stream",
     "text": [
      "INFO:kubric.renderer.blender:Rendered frame '/tmp/tmp82v1zpil/images/frame_0023.png'\n"
     ]
    },
    {
     "name": "stdout",
     "output_type": "stream",
     "text": [
      "Fra:23 Mem:255.97M (Peak 573.39M) | Time:00:06.45 | Mem:212.20M, Peak:404.17M | Scene, AuxOutputs | Updating Integrator\n",
      "Fra:23 Mem:257.24M (Peak 573.39M) | Time:00:06.46 | Mem:213.47M, Peak:404.17M | Scene, AuxOutputs | Updating Film\n",
      "Fra:23 Mem:257.25M (Peak 573.39M) | Time:00:06.46 | Mem:213.22M, Peak:404.17M | Scene, AuxOutputs | Updating Lookup Tables\n",
      "Fra:23 Mem:257.25M (Peak 573.39M) | Time:00:06.46 | Mem:213.48M, Peak:404.17M | Scene, AuxOutputs | Updating Baking\n",
      "Fra:23 Mem:257.25M (Peak 573.39M) | Time:00:06.46 | Mem:213.48M, Peak:404.17M | Scene, AuxOutputs | Updating Device | Writing constant memory\n",
      "Fra:23 Mem:257.25M (Peak 573.39M) | Time:00:06.46 | Mem:213.48M, Peak:404.17M | Scene, AuxOutputs | Updating Device | Writing constant memory | Compiling render kernels\n",
      "Fra:23 Mem:257.25M (Peak 573.39M) | Time:00:06.46 | Mem:213.48M, Peak:404.17M | Scene, AuxOutputs | Updating Device | Writing constant memory\n",
      "Fra:23 Mem:257.25M (Peak 573.39M) | Time:00:06.46 | Mem:213.48M, Peak:404.17M | Scene, AuxOutputs | Rendered 0/16 Tiles\n",
      "Fra:23 Mem:261.87M (Peak 573.39M) | Time:00:06.47 | Remaining:00:00.01 | Mem:216.56M, Peak:404.17M | Scene, AuxOutputs | Rendered 1/16 Tiles\n",
      "Fra:23 Mem:261.87M (Peak 573.39M) | Time:00:06.47 | Remaining:00:00.01 | Mem:216.56M, Peak:404.17M | Scene, AuxOutputs | Rendered 2/16 Tiles\n",
      "Fra:23 Mem:261.65M (Peak 573.39M) | Time:00:06.47 | Remaining:00:00.01 | Mem:216.56M, Peak:404.17M | Scene, AuxOutputs | Rendered 3/16 Tiles\n",
      "Fra:23 Mem:261.43M (Peak 573.39M) | Time:00:06.47 | Remaining:00:00.01 | Mem:216.56M, Peak:404.17M | Scene, AuxOutputs | Rendered 4/16 Tiles\n",
      "Fra:23 Mem:261.21M (Peak 573.39M) | Time:00:06.47 | Remaining:00:00.01 | Mem:216.56M, Peak:404.17M | Scene, AuxOutputs | Rendered 5/16 Tiles\n",
      "Fra:23 Mem:261.43M (Peak 573.39M) | Time:00:06.47 | Remaining:00:00.01 | Mem:216.56M, Peak:404.17M | Scene, AuxOutputs | Rendered 6/16 Tiles\n",
      "Fra:23 Mem:261.43M (Peak 573.39M) | Time:00:06.47 | Remaining:00:00.01 | Mem:216.56M, Peak:404.17M | Scene, AuxOutputs | Rendered 7/16 Tiles\n",
      "Fra:23 Mem:261.43M (Peak 573.39M) | Time:00:06.47 | Remaining:00:00.01 | Mem:216.56M, Peak:404.17M | Scene, AuxOutputs | Rendered 8/16 Tiles\n",
      "Fra:23 Mem:261.87M (Peak 573.39M) | Time:00:06.48 | Remaining:00:00.00 | Mem:216.56M, Peak:404.17M | Scene, AuxOutputs | Rendered 9/16 Tiles\n",
      "Fra:23 Mem:261.21M (Peak 573.39M) | Time:00:06.48 | Mem:216.12M, Peak:404.17M | Scene, AuxOutputs | Rendered 10/16 Tiles\n",
      "Fra:23 Mem:260.11M (Peak 573.39M) | Time:00:06.48 | Mem:215.68M, Peak:404.17M | Scene, AuxOutputs | Rendered 11/16 Tiles\n",
      "Fra:23 Mem:259.67M (Peak 573.39M) | Time:00:06.48 | Mem:215.24M, Peak:404.17M | Scene, AuxOutputs | Rendered 12/16 Tiles\n",
      "Fra:23 Mem:259.01M (Peak 573.39M) | Time:00:06.48 | Mem:214.80M, Peak:404.17M | Scene, AuxOutputs | Rendered 13/16 Tiles\n",
      "Fra:23 Mem:258.13M (Peak 573.39M) | Time:00:06.48 | Mem:214.36M, Peak:404.17M | Scene, AuxOutputs | Rendered 14/16 Tiles\n",
      "Fra:23 Mem:257.69M (Peak 573.39M) | Time:00:06.48 | Mem:213.92M, Peak:404.17M | Scene, AuxOutputs | Rendered 15/16 Tiles, Sample 1/1\n",
      "Fra:23 Mem:257.25M (Peak 573.39M) | Time:00:06.48 | Mem:213.48M, Peak:404.17M | Scene, AuxOutputs | Rendered 16/16 Tiles\n",
      "Fra:23 Mem:257.25M (Peak 573.39M) | Time:00:06.48 | Mem:213.48M, Peak:404.17M | Scene, AuxOutputs | Finished\n",
      "Fra:23 Mem:41.10M (Peak 573.39M) | Time:00:06.48 | Compositing\n",
      "Fra:23 Mem:41.10M (Peak 573.39M) | Time:00:06.48 | Compositing | Determining resolution\n",
      "Fra:23 Mem:41.10M (Peak 573.39M) | Time:00:06.48 | Compositing | Initializing execution\n",
      "Fra:23 Mem:46.92M (Peak 573.39M) | Time:00:06.49 | Compositing | Tile 1-1\n",
      "Fra:23 Mem:46.85M (Peak 573.39M) | Time:00:06.49 | Compositing | De-initializing execution\n",
      "Saved: '/tmp/tmp82v1zpil/images/frame_0023.png'\n",
      " Time: 00:06.54 (Saving: 00:00.01)\n",
      "\n",
      "Fra:24 Mem:48.02M (Peak 48.02M) | Time:00:00.00 | Mem:0.00M, Peak:0.00M | Scene, View Layer | Synchronizing object | FileBasedObject.005\n",
      "Fra:24 Mem:48.12M (Peak 48.12M) | Time:00:00.00 | Mem:0.00M, Peak:0.00M | Scene, View Layer | Synchronizing object | FileBasedObject.003\n",
      "Fra:24 Mem:55.91M (Peak 57.40M) | Time:00:00.02 | Mem:0.00M, Peak:0.00M | Scene, View Layer | Initializing\n",
      "Fra:24 Mem:45.45M (Peak 57.40M) | Time:00:00.02 | Mem:0.00M, Peak:0.00M | Scene, View Layer | Waiting for render to start\n",
      "Fra:24 Mem:45.45M (Peak 57.40M) | Time:00:00.02 | Mem:0.00M, Peak:0.00M | Scene, View Layer | Loading render kernels (may take a few minutes the first time)\n",
      "Fra:24 Mem:45.45M (Peak 57.40M) | Time:00:00.02 | Mem:0.00M, Peak:0.00M | Scene, View Layer | Updating Scene\n",
      "Fra:24 Mem:45.45M (Peak 57.40M) | Time:00:00.02 | Mem:0.00M, Peak:0.00M | Scene, View Layer | Updating Shaders\n",
      "Fra:24 Mem:45.70M (Peak 57.40M) | Time:00:00.02 | Mem:0.00M, Peak:0.00M | Scene, View Layer | Updating Procedurals\n",
      "Fra:24 Mem:45.70M (Peak 57.40M) | Time:00:00.02 | Mem:0.00M, Peak:0.00M | Scene, View Layer | Updating Background\n",
      "Fra:24 Mem:45.70M (Peak 57.40M) | Time:00:00.02 | Mem:0.00M, Peak:0.00M | Scene, View Layer | Updating Camera\n",
      "Fra:24 Mem:45.70M (Peak 57.40M) | Time:00:00.02 | Mem:0.00M, Peak:0.00M | Scene, View Layer | Updating Meshes Flags\n",
      "Fra:24 Mem:45.70M (Peak 57.40M) | Time:00:00.02 | Mem:0.00M, Peak:0.00M | Scene, View Layer | Updating Objects\n",
      "Fra:24 Mem:45.70M (Peak 57.40M) | Time:00:00.02 | Mem:0.00M, Peak:0.00M | Scene, View Layer | Updating Objects | Copying Transformations to device\n",
      "Fra:24 Mem:45.70M (Peak 57.40M) | Time:00:00.02 | Mem:0.00M, Peak:0.00M | Scene, View Layer | Updating Objects | Applying Static Transformations\n",
      "Fra:24 Mem:45.70M (Peak 57.40M) | Time:00:00.02 | Mem:0.00M, Peak:0.00M | Scene, View Layer | Updating Particle Systems\n",
      "Fra:24 Mem:45.70M (Peak 57.40M) | Time:00:00.02 | Mem:0.00M, Peak:0.00M | Scene, View Layer | Updating Particle Systems | Copying Particles to device\n",
      "Fra:24 Mem:45.70M (Peak 57.40M) | Time:00:00.02 | Mem:0.00M, Peak:0.00M | Scene, View Layer | Updating Meshes\n",
      "Fra:24 Mem:47.24M (Peak 57.40M) | Time:00:00.03 | Mem:0.00M, Peak:0.00M | Scene, View Layer | Updating Mesh | Computing attributes\n",
      "Fra:24 Mem:50.35M (Peak 57.40M) | Time:00:00.03 | Mem:0.00M, Peak:0.00M | Scene, View Layer | Updating Mesh | Copying Attributes to device\n",
      "Fra:24 Mem:50.35M (Peak 57.40M) | Time:00:00.03 | Mem:3.11M, Peak:3.11M | Scene, View Layer | Updating Scene BVH | Building\n",
      "Fra:24 Mem:50.35M (Peak 57.40M) | Time:00:00.03 | Mem:3.11M, Peak:3.11M | Scene, View Layer | Updating Scene BVH | Building BVH\n",
      "Fra:24 Mem:50.35M (Peak 57.40M) | Time:00:00.03 | Mem:8.87M, Peak:8.87M | Scene, View Layer | Updating Scene BVH | Building BVH 0%\n",
      "Fra:24 Mem:50.35M (Peak 57.40M) | Time:00:00.04 | Mem:8.34M, Peak:12.34M | Scene, View Layer | Updating Scene BVH | Packing BVH primitives\n",
      "Fra:24 Mem:56.87M (Peak 57.40M) | Time:00:00.04 | Mem:8.34M, Peak:12.34M | Scene, View Layer | Updating Scene BVH | Copying BVH to device\n",
      "Fra:24 Mem:57.26M (Peak 57.40M) | Time:00:00.04 | Mem:14.86M, Peak:14.86M | Scene, View Layer | Updating Mesh | Computing normals\n",
      "Fra:24 Mem:60.77M (Peak 60.77M) | Time:00:00.04 | Mem:14.86M, Peak:14.86M | Scene, View Layer | Updating Mesh | Copying Mesh to device\n",
      "Fra:24 Mem:60.38M (Peak 60.77M) | Time:00:00.04 | Mem:18.37M, Peak:18.37M | Scene, View Layer | Updating Objects Flags\n",
      "Fra:24 Mem:60.38M (Peak 60.77M) | Time:00:00.04 | Mem:18.37M, Peak:18.37M | Scene, View Layer | Updating Images\n",
      "Fra:24 Mem:60.38M (Peak 60.77M) | Time:00:00.04 | Mem:18.37M, Peak:18.37M | Scene, View Layer | Updating Images | Loading environment_4k.hdr\n",
      "Fra:24 Mem:188.38M (Peak 188.38M) | Time:00:00.04 | Mem:18.37M, Peak:18.37M | Scene, View Layer | Updating Images | Loading texture.png\n",
      "Fra:24 Mem:316.40M (Peak 316.40M) | Time:00:00.39 | Mem:274.37M, Peak:274.37M | Scene, View Layer | Updating Camera Volume\n",
      "Fra:24 Mem:316.40M (Peak 316.40M) | Time:00:00.39 | Mem:274.37M, Peak:274.37M | Scene, View Layer | Updating Lookup Tables\n",
      "Fra:24 Mem:316.40M (Peak 316.40M) | Time:00:00.39 | Mem:274.62M, Peak:274.62M | Scene, View Layer | Updating Lights\n",
      "Fra:24 Mem:316.40M (Peak 316.40M) | Time:00:00.39 | Mem:274.62M, Peak:274.62M | Scene, View Layer | Updating Lights | Computing distribution\n",
      "Fra:24 Mem:317.39M (Peak 317.39M) | Time:00:00.39 | Mem:275.61M, Peak:275.61M | Scene, View Layer | Updating Lights | Importance map\n",
      "Fra:24 Mem:381.42M (Peak 573.39M) | Time:00:01.17 | Mem:339.66M, Peak:531.63M | Scene, View Layer | Updating Integrator\n",
      "Fra:24 Mem:382.69M (Peak 573.39M) | Time:00:01.17 | Mem:340.93M, Peak:531.63M | Scene, View Layer | Updating Film\n",
      "Fra:24 Mem:382.70M (Peak 573.39M) | Time:00:01.17 | Mem:340.68M, Peak:531.63M | Scene, View Layer | Updating Lookup Tables\n",
      "Fra:24 Mem:382.70M (Peak 573.39M) | Time:00:01.17 | Mem:340.93M, Peak:531.63M | Scene, View Layer | Updating Baking\n",
      "Fra:24 Mem:382.70M (Peak 573.39M) | Time:00:01.17 | Mem:340.93M, Peak:531.63M | Scene, View Layer | Updating Device | Writing constant memory\n",
      "Fra:24 Mem:382.70M (Peak 573.39M) | Time:00:01.17 | Mem:340.93M, Peak:531.63M | Scene, View Layer | Updating Device | Writing constant memory | Compiling render kernels\n",
      "Fra:24 Mem:382.70M (Peak 573.39M) | Time:00:01.17 | Mem:340.93M, Peak:531.63M | Scene, View Layer | Updating Device | Writing constant memory\n",
      "Fra:24 Mem:382.70M (Peak 573.39M) | Time:00:01.17 | Mem:340.93M, Peak:531.63M | Scene, View Layer | Rendered 0/16 Tiles, Denoised 0 tiles\n",
      "Fra:24 Mem:386.72M (Peak 573.39M) | Time:00:02.88 | Remaining:00:01.89 | Mem:344.95M, Peak:531.63M | Scene, View Layer | Rendered 1/16 Tiles, Denoised 0 tiles\n",
      "Fra:24 Mem:387.22M (Peak 573.39M) | Time:00:02.91 | Remaining:00:01.86 | Mem:345.45M, Peak:531.63M | Scene, View Layer | Rendered 2/16 Tiles, Denoised 0 tiles\n",
      "Fra:24 Mem:387.72M (Peak 573.39M) | Time:00:02.92 | Remaining:00:01.86 | Mem:345.95M, Peak:531.63M | Scene, View Layer | Rendered 3/16 Tiles, Denoised 0 tiles\n",
      "Fra:24 Mem:388.22M (Peak 573.39M) | Time:00:02.93 | Remaining:00:01.86 | Mem:346.45M, Peak:531.63M | Scene, View Layer | Rendered 4/16 Tiles, Denoised 0 tiles\n",
      "Fra:24 Mem:388.72M (Peak 573.39M) | Time:00:02.93 | Remaining:00:01.84 | Mem:346.95M, Peak:531.63M | Scene, View Layer | Rendered 5/16 Tiles, Denoised 0 tiles\n",
      "Fra:24 Mem:389.22M (Peak 573.39M) | Time:00:02.96 | Remaining:00:01.81 | Mem:347.45M, Peak:531.63M | Scene, View Layer | Rendered 6/16 Tiles, Denoised 0 tiles\n",
      "Fra:24 Mem:389.72M (Peak 573.39M) | Time:00:02.97 | Remaining:00:01.81 | Mem:347.95M, Peak:531.63M | Scene, View Layer | Rendered 7/16 Tiles, Denoised 0 tiles\n",
      "Fra:24 Mem:390.06M (Peak 573.39M) | Time:00:02.98 | Remaining:00:01.79 | Mem:348.29M, Peak:531.63M | Scene, View Layer | Rendered 8/16 Tiles, Denoised 0 tiles\n",
      "Fra:24 Mem:398.14M (Peak 573.39M) | Time:00:03.38 | Remaining:00:01.50 | Mem:356.38M, Peak:531.63M | Scene, View Layer | Rendered 8/16 Tiles, Denoised 1 tiles\n",
      "Fra:24 Mem:398.18M (Peak 573.39M) | Time:00:03.39 | Remaining:00:01.49 | Mem:356.41M, Peak:531.63M | Scene, View Layer | Rendered 8/16 Tiles, Denoised 2 tiles\n",
      "Fra:24 Mem:398.22M (Peak 573.39M) | Time:00:03.80 | Remaining:00:01.17 | Mem:356.45M, Peak:531.63M | Scene, View Layer | Rendered 8/16 Tiles, Denoised 3 tiles\n",
      "Fra:24 Mem:398.72M (Peak 573.39M) | Time:00:03.82 | Remaining:00:01.14 | Mem:356.95M, Peak:531.63M | Scene, View Layer | Rendered 8/16 Tiles, Denoised 4 tiles\n",
      "Fra:24 Mem:399.22M (Peak 573.39M) | Time:00:04.16 | Remaining:00:00.71 | Mem:357.45M, Peak:531.63M | Scene, View Layer | Rendered 9/16 Tiles, Denoised 4 tiles\n",
      "Fra:24 Mem:399.22M (Peak 573.39M) | Time:00:04.20 | Remaining:00:00.66 | Mem:357.45M, Peak:531.63M | Scene, View Layer | Rendered 10/16 Tiles, Denoised 4 tiles\n",
      "Fra:24 Mem:399.22M (Peak 573.39M) | Time:00:04.65 | Remaining:00:00.27 | Mem:357.45M, Peak:531.63M | Scene, View Layer | Rendered 11/16 Tiles, Denoised 4 tiles\n",
      "Fra:24 Mem:399.22M (Peak 573.39M) | Time:00:04.70 | Remaining:00:00.22 | Mem:357.45M, Peak:531.63M | Scene, View Layer | Rendered 12/16 Tiles, Denoised 4 tiles\n",
      "Fra:24 Mem:406.02M (Peak 573.39M) | Time:00:04.80 | Remaining:00:00.16 | Mem:364.25M, Peak:531.63M | Scene, View Layer | Rendered 13/16 Tiles, Denoised 4 tiles\n",
      "Fra:24 Mem:406.02M (Peak 573.39M) | Time:00:04.85 | Remaining:00:00.13 | Mem:364.25M, Peak:531.63M | Scene, View Layer | Rendered 14/16 Tiles, Denoised 4 tiles\n",
      "Fra:24 Mem:418.85M (Peak 573.39M) | Time:00:05.01 | Remaining:00:00.07 | Mem:377.08M, Peak:531.63M | Scene, View Layer | Rendered 14/16 Tiles, Denoised 5 tiles\n",
      "Fra:24 Mem:424.76M (Peak 573.39M) | Time:00:05.07 | Remaining:00:00.05 | Mem:382.99M, Peak:531.63M | Scene, View Layer | Rendered 15/16 Tiles, Sample 64/64, Denoised 5 tiles\n",
      "Fra:24 Mem:424.84M (Peak 573.39M) | Time:00:05.08 | Remaining:00:00.04 | Mem:383.07M, Peak:531.63M | Scene, View Layer | Rendered 15/16 Tiles, Sample 64/64, Denoised 6 tiles\n",
      "Fra:24 Mem:424.84M (Peak 573.39M) | Time:00:05.11 | Remaining:00:00.03 | Mem:383.07M, Peak:531.63M | Scene, View Layer | Rendered 16/16 Tiles, Denoised 6 tiles\n",
      "Fra:24 Mem:424.88M (Peak 573.39M) | Time:00:05.12 | Remaining:00:00.03 | Mem:383.11M, Peak:531.63M | Scene, View Layer | Rendered 16/16 Tiles, Denoised 7 tiles\n",
      "Fra:24 Mem:424.88M (Peak 573.39M) | Time:00:05.28 | Remaining:00:00.03 | Mem:383.11M, Peak:531.63M | Scene, View Layer | Rendered 16/16 Tiles, Denoised 8 tiles\n",
      "Fra:24 Mem:424.37M (Peak 573.39M) | Time:00:05.30 | Remaining:00:00.02 | Mem:382.60M, Peak:531.63M | Scene, View Layer | Rendered 16/16 Tiles, Denoised 9 tiles\n",
      "Fra:24 Mem:422.87M (Peak 573.39M) | Time:00:05.31 | Remaining:00:00.02 | Mem:381.10M, Peak:531.63M | Scene, View Layer | Rendered 16/16 Tiles, Denoised 10 tiles\n",
      "Fra:24 Mem:422.87M (Peak 573.39M) | Time:00:05.33 | Remaining:00:00.02 | Mem:381.10M, Peak:531.63M | Scene, View Layer | Rendered 16/16 Tiles, Denoised 11 tiles\n",
      "Fra:24 Mem:422.87M (Peak 573.39M) | Time:00:05.38 | Remaining:00:00.01 | Mem:381.10M, Peak:531.63M | Scene, View Layer | Rendered 16/16 Tiles, Denoised 12 tiles\n",
      "Fra:24 Mem:422.87M (Peak 573.39M) | Time:00:05.47 | Remaining:00:00.01 | Mem:381.10M, Peak:531.63M | Scene, View Layer | Rendered 16/16 Tiles, Denoised 13 tiles\n",
      "Fra:24 Mem:422.87M (Peak 573.39M) | Time:00:05.49 | Remaining:00:00.00 | Mem:381.10M, Peak:531.63M | Scene, View Layer | Rendered 16/16 Tiles, Denoised 14 tiles\n",
      "Fra:24 Mem:421.37M (Peak 573.39M) | Time:00:05.51 | Remaining:00:00.00 | Mem:379.60M, Peak:531.63M | Scene, View Layer | Rendered 16/16 Tiles, Denoised 15 tiles\n",
      "Fra:24 Mem:416.87M (Peak 573.39M) | Time:00:05.53 | Mem:375.10M, Peak:531.63M | Scene, View Layer | Rendered 16/16 Tiles, Denoised 16 tiles\n",
      "Fra:24 Mem:382.70M (Peak 573.39M) | Time:00:05.53 | Mem:340.93M, Peak:531.63M | Scene, View Layer | Finished\n",
      "Fra:24 Mem:50.05M (Peak 573.39M) | Time:00:05.54 | Mem:0.00M, Peak:0.00M | Scene, AuxOutputs | Synchronizing object | dome.001\n",
      "Fra:24 Mem:51.04M (Peak 573.39M) | Time:00:05.54 | Mem:0.00M, Peak:0.00M | Scene, AuxOutputs | Synchronizing object | FileBasedObject.004\n",
      "Fra:24 Mem:57.93M (Peak 573.39M) | Time:00:05.56 | Mem:0.00M, Peak:0.00M | Scene, AuxOutputs | Initializing\n",
      "Fra:24 Mem:47.46M (Peak 573.39M) | Time:00:05.56 | Mem:0.00M, Peak:0.00M | Scene, AuxOutputs | Waiting for render to start\n",
      "Fra:24 Mem:47.46M (Peak 573.39M) | Time:00:05.56 | Mem:0.00M, Peak:0.00M | Scene, AuxOutputs | Loading render kernels (may take a few minutes the first time)\n",
      "Fra:24 Mem:47.46M (Peak 573.39M) | Time:00:05.56 | Mem:0.00M, Peak:0.00M | Scene, AuxOutputs | Updating Scene\n",
      "Fra:24 Mem:47.46M (Peak 573.39M) | Time:00:05.56 | Mem:0.00M, Peak:0.00M | Scene, AuxOutputs | Updating Shaders\n",
      "Fra:24 Mem:47.71M (Peak 573.39M) | Time:00:05.57 | Mem:0.00M, Peak:0.00M | Scene, AuxOutputs | Updating Procedurals\n",
      "Fra:24 Mem:47.71M (Peak 573.39M) | Time:00:05.57 | Mem:0.00M, Peak:0.00M | Scene, AuxOutputs | Updating Background\n",
      "Fra:24 Mem:47.71M (Peak 573.39M) | Time:00:05.57 | Mem:0.00M, Peak:0.00M | Scene, AuxOutputs | Updating Camera\n",
      "Fra:24 Mem:47.71M (Peak 573.39M) | Time:00:05.57 | Mem:0.00M, Peak:0.00M | Scene, AuxOutputs | Updating Meshes Flags\n",
      "Fra:24 Mem:47.71M (Peak 573.39M) | Time:00:05.57 | Mem:0.00M, Peak:0.00M | Scene, AuxOutputs | Updating Objects\n",
      "Fra:24 Mem:47.71M (Peak 573.39M) | Time:00:05.57 | Mem:0.00M, Peak:0.00M | Scene, AuxOutputs | Updating Objects | Copying Transformations to device\n",
      "Fra:24 Mem:47.71M (Peak 573.39M) | Time:00:05.57 | Mem:0.00M, Peak:0.00M | Scene, AuxOutputs | Updating Objects | Applying Static Transformations\n",
      "Fra:24 Mem:47.71M (Peak 573.39M) | Time:00:05.57 | Mem:0.00M, Peak:0.00M | Scene, AuxOutputs | Updating Particle Systems\n",
      "Fra:24 Mem:47.71M (Peak 573.39M) | Time:00:05.57 | Mem:0.00M, Peak:0.00M | Scene, AuxOutputs | Updating Particle Systems | Copying Particles to device\n",
      "Fra:24 Mem:47.71M (Peak 573.39M) | Time:00:05.57 | Mem:0.00M, Peak:0.00M | Scene, AuxOutputs | Updating Meshes\n",
      "Fra:24 Mem:49.25M (Peak 573.39M) | Time:00:05.57 | Mem:0.00M, Peak:0.00M | Scene, AuxOutputs | Updating Mesh | Computing attributes\n",
      "Fra:24 Mem:52.36M (Peak 573.39M) | Time:00:05.57 | Mem:0.00M, Peak:0.00M | Scene, AuxOutputs | Updating Mesh | Copying Attributes to device\n",
      "Fra:24 Mem:52.36M (Peak 573.39M) | Time:00:05.57 | Mem:3.11M, Peak:3.11M | Scene, AuxOutputs | Updating Scene BVH | Building\n",
      "Fra:24 Mem:52.36M (Peak 573.39M) | Time:00:05.57 | Mem:3.11M, Peak:3.11M | Scene, AuxOutputs | Updating Scene BVH | Building BVH\n",
      "Fra:24 Mem:52.36M (Peak 573.39M) | Time:00:05.57 | Mem:8.87M, Peak:8.87M | Scene, AuxOutputs | Updating Scene BVH | Building BVH 0%\n",
      "Fra:24 Mem:52.36M (Peak 573.39M) | Time:00:05.58 | Mem:8.33M, Peak:12.33M | Scene, AuxOutputs | Updating Scene BVH | Packing BVH primitives\n",
      "Fra:24 Mem:58.88M (Peak 573.39M) | Time:00:05.58 | Mem:8.33M, Peak:12.33M | Scene, AuxOutputs | Updating Scene BVH | Copying BVH to device\n",
      "Fra:24 Mem:59.27M (Peak 573.39M) | Time:00:05.58 | Mem:14.86M, Peak:14.86M | Scene, AuxOutputs | Updating Mesh | Computing normals\n",
      "Fra:24 Mem:62.78M (Peak 573.39M) | Time:00:05.58 | Mem:14.86M, Peak:14.86M | Scene, AuxOutputs | Updating Mesh | Copying Mesh to device\n",
      "Fra:24 Mem:62.39M (Peak 573.39M) | Time:00:05.58 | Mem:18.37M, Peak:18.37M | Scene, AuxOutputs | Updating Objects Flags\n",
      "Fra:24 Mem:62.39M (Peak 573.39M) | Time:00:05.58 | Mem:18.37M, Peak:18.37M | Scene, AuxOutputs | Updating Images\n",
      "Fra:24 Mem:62.39M (Peak 573.39M) | Time:00:05.58 | Mem:18.37M, Peak:18.37M | Scene, AuxOutputs | Updating Images | Loading environment_4k.hdr\n",
      "Fra:24 Mem:190.40M (Peak 573.39M) | Time:00:05.81 | Mem:146.37M, Peak:146.37M | Scene, AuxOutputs | Updating Camera Volume\n",
      "Fra:24 Mem:190.40M (Peak 573.39M) | Time:00:05.81 | Mem:146.37M, Peak:146.37M | Scene, AuxOutputs | Updating Lookup Tables\n",
      "Fra:24 Mem:190.40M (Peak 573.39M) | Time:00:05.81 | Mem:146.62M, Peak:146.62M | Scene, AuxOutputs | Updating Lights\n",
      "Fra:24 Mem:190.40M (Peak 573.39M) | Time:00:05.81 | Mem:146.62M, Peak:146.62M | Scene, AuxOutputs | Updating Lights | Computing distribution\n",
      "Fra:24 Mem:191.94M (Peak 573.39M) | Time:00:05.81 | Mem:148.15M, Peak:148.15M | Scene, AuxOutputs | Updating Lights | Importance map\n"
     ]
    },
    {
     "name": "stderr",
     "output_type": "stream",
     "text": [
      "INFO:kubric.renderer.blender:Rendered frame '/tmp/tmp82v1zpil/images/frame_0024.png'\n"
     ]
    },
    {
     "name": "stdout",
     "output_type": "stream",
     "text": [
      "Fra:24 Mem:255.97M (Peak 573.39M) | Time:00:06.57 | Mem:212.20M, Peak:404.17M | Scene, AuxOutputs | Updating Integrator\n",
      "Fra:24 Mem:257.24M (Peak 573.39M) | Time:00:06.57 | Mem:213.47M, Peak:404.17M | Scene, AuxOutputs | Updating Film\n",
      "Fra:24 Mem:257.25M (Peak 573.39M) | Time:00:06.57 | Mem:213.22M, Peak:404.17M | Scene, AuxOutputs | Updating Lookup Tables\n",
      "Fra:24 Mem:257.25M (Peak 573.39M) | Time:00:06.57 | Mem:213.48M, Peak:404.17M | Scene, AuxOutputs | Updating Baking\n",
      "Fra:24 Mem:257.25M (Peak 573.39M) | Time:00:06.57 | Mem:213.48M, Peak:404.17M | Scene, AuxOutputs | Updating Device | Writing constant memory\n",
      "Fra:24 Mem:257.25M (Peak 573.39M) | Time:00:06.57 | Mem:213.48M, Peak:404.17M | Scene, AuxOutputs | Updating Device | Writing constant memory | Compiling render kernels\n",
      "Fra:24 Mem:257.25M (Peak 573.39M) | Time:00:06.57 | Mem:213.48M, Peak:404.17M | Scene, AuxOutputs | Updating Device | Writing constant memory\n",
      "Fra:24 Mem:257.25M (Peak 573.39M) | Time:00:06.57 | Mem:213.48M, Peak:404.17M | Scene, AuxOutputs | Rendered 0/16 Tiles\n",
      "Fra:24 Mem:261.87M (Peak 573.39M) | Time:00:06.58 | Remaining:00:00.01 | Mem:216.56M, Peak:404.17M | Scene, AuxOutputs | Rendered 1/16 Tiles\n",
      "Fra:24 Mem:261.65M (Peak 573.39M) | Time:00:06.58 | Remaining:00:00.01 | Mem:216.56M, Peak:404.17M | Scene, AuxOutputs | Rendered 2/16 Tiles\n",
      "Fra:24 Mem:261.43M (Peak 573.39M) | Time:00:06.58 | Remaining:00:00.01 | Mem:216.56M, Peak:404.17M | Scene, AuxOutputs | Rendered 3/16 Tiles\n",
      "Fra:24 Mem:260.77M (Peak 573.39M) | Time:00:06.58 | Remaining:00:00.01 | Mem:216.56M, Peak:404.17M | Scene, AuxOutputs | Rendered 4/16 Tiles\n",
      "Fra:24 Mem:260.77M (Peak 573.39M) | Time:00:06.58 | Remaining:00:00.01 | Mem:216.56M, Peak:404.17M | Scene, AuxOutputs | Rendered 5/16 Tiles\n",
      "Fra:24 Mem:260.99M (Peak 573.39M) | Time:00:06.58 | Remaining:00:00.01 | Mem:216.56M, Peak:404.17M | Scene, AuxOutputs | Rendered 6/16 Tiles\n",
      "Fra:24 Mem:260.99M (Peak 573.39M) | Time:00:06.58 | Remaining:00:00.01 | Mem:216.56M, Peak:404.17M | Scene, AuxOutputs | Rendered 7/16 Tiles\n",
      "Fra:24 Mem:260.99M (Peak 573.39M) | Time:00:06.58 | Remaining:00:00.01 | Mem:216.56M, Peak:404.17M | Scene, AuxOutputs | Rendered 8/16 Tiles\n",
      "Fra:24 Mem:261.87M (Peak 573.39M) | Time:00:06.59 | Remaining:00:00.01 | Mem:216.56M, Peak:404.17M | Scene, AuxOutputs | Rendered 9/16 Tiles\n",
      "Fra:24 Mem:260.99M (Peak 573.39M) | Time:00:06.59 | Remaining:00:00.00 | Mem:216.12M, Peak:404.17M | Scene, AuxOutputs | Rendered 10/16 Tiles\n",
      "Fra:24 Mem:260.55M (Peak 573.39M) | Time:00:06.59 | Remaining:00:00.00 | Mem:215.68M, Peak:404.17M | Scene, AuxOutputs | Rendered 11/16 Tiles\n",
      "Fra:24 Mem:259.89M (Peak 573.39M) | Time:00:06.59 | Mem:215.24M, Peak:404.17M | Scene, AuxOutputs | Rendered 12/16 Tiles\n",
      "Fra:24 Mem:258.79M (Peak 573.39M) | Time:00:06.59 | Mem:214.80M, Peak:404.17M | Scene, AuxOutputs | Rendered 13/16 Tiles\n",
      "Fra:24 Mem:258.13M (Peak 573.39M) | Time:00:06.59 | Mem:214.36M, Peak:404.17M | Scene, AuxOutputs | Rendered 14/16 Tiles\n",
      "Fra:24 Mem:257.69M (Peak 573.39M) | Time:00:06.59 | Mem:213.92M, Peak:404.17M | Scene, AuxOutputs | Rendered 15/16 Tiles, Sample 1/1\n",
      "Fra:24 Mem:257.25M (Peak 573.39M) | Time:00:06.59 | Mem:213.48M, Peak:404.17M | Scene, AuxOutputs | Rendered 16/16 Tiles\n",
      "Fra:24 Mem:257.25M (Peak 573.39M) | Time:00:06.59 | Mem:213.48M, Peak:404.17M | Scene, AuxOutputs | Finished\n",
      "Fra:24 Mem:41.10M (Peak 573.39M) | Time:00:06.60 | Compositing\n",
      "Fra:24 Mem:41.10M (Peak 573.39M) | Time:00:06.60 | Compositing | Determining resolution\n",
      "Fra:24 Mem:41.10M (Peak 573.39M) | Time:00:06.60 | Compositing | Initializing execution\n",
      "Fra:24 Mem:46.92M (Peak 573.39M) | Time:00:06.60 | Compositing | Tile 1-1\n",
      "Fra:24 Mem:46.85M (Peak 573.39M) | Time:00:06.60 | Compositing | De-initializing execution\n",
      "Saved: '/tmp/tmp82v1zpil/images/frame_0024.png'\n",
      " Time: 00:06.65 (Saving: 00:00.01)\n",
      "\n"
     ]
    },
    {
     "name": "stderr",
     "output_type": "stream",
     "text": [
      "INFO:root:Writing to 'output/rgba_00002.png'\n",
      "INFO:root:Writing to 'output/rgba_00000.png'\n",
      "INFO:root:Writing to 'output/rgba_00001.png'\n",
      "INFO:root:Writing to 'output/rgba_00003.png'\n",
      "INFO:root:Writing to 'output/rgba_00004.png'\n",
      "INFO:root:Writing to 'output/backward_flow_00000.png'\n",
      "INFO:root:Writing to 'output/backward_flow_00004.png'\n",
      "INFO:root:Writing to 'output/backward_flow_00001.png'\n",
      "INFO:root:Writing to 'output/backward_flow_00002.png'\n",
      "INFO:root:Writing to 'output/backward_flow_00003.png'\n",
      "INFO:root:Writing to 'output/data_ranges.json'\n",
      "INFO:root:Writing to 'output/forward_flow_00001.png'\n",
      "INFO:root:Writing to 'output/forward_flow_00000.png'\n",
      "INFO:root:Writing to 'output/forward_flow_00004.png'\n",
      "INFO:root:Writing to 'output/forward_flow_00002.png'\n",
      "INFO:root:Writing to 'output/forward_flow_00003.png'\n",
      "INFO:root:Writing to 'output/data_ranges.json'\n",
      "INFO:root:Writing to 'output/normal_00001.png'\n",
      "INFO:root:Writing to 'output/normal_00002.png'\n",
      "INFO:root:Writing to 'output/normal_00000.png'\n",
      "INFO:root:Writing to 'output/normal_00004.png'\n",
      "INFO:root:Writing to 'output/normal_00003.png'\n",
      "INFO:root:Writing to 'output/object_coordinates_00000.png'\n",
      "INFO:root:Writing to 'output/object_coordinates_00001.png'\n",
      "INFO:root:Writing to 'output/object_coordinates_00003.png'\n",
      "INFO:root:Writing to 'output/object_coordinates_00002.png'\n",
      "INFO:root:Writing to 'output/object_coordinates_00004.png'\n",
      "INFO:root:Writing to 'output/segmentation_00001.png'\n",
      "INFO:root:Writing to 'output/segmentation_00002.png'\n",
      "INFO:root:Writing to 'output/segmentation_00003.png'\n",
      "INFO:root:Writing to 'output/segmentation_00004.png'\n",
      "INFO:root:Writing to 'output/segmentation_00000.png'\n",
      "INFO:root:Collecting and storing metadata for each object.\n",
      "INFO:root:Writing to 'output/metadata.json'\n",
      "INFO:root:Writing to 'output/events.json'\n",
      "INFO:root:Done!\n"
     ]
    }
   ],
   "source": [
    "# --- Rendering\n",
    "if FLAGS.save_state:\n",
    "  logging.info(\"Saving the renderer state to '%s' \",\n",
    "               output_dir / \"scene.blend\")\n",
    "  renderer.save_state(output_dir / \"scene.blend\")\n",
    "\n",
    "\n",
    "logging.info(\"Rendering the scene ...\")\n",
    "data_stack = renderer.render()\n",
    "\n",
    "# --- Postprocessing\n",
    "kb.compute_visibility(data_stack[\"segmentation\"], scene.assets)\n",
    "visible_foreground_assets = [asset for asset in scene.foreground_assets\n",
    "                             if np.max(asset.metadata[\"visibility\"]) > 0]\n",
    "visible_foreground_assets = sorted(  # sort assets by their visibility\n",
    "    visible_foreground_assets,\n",
    "    key=lambda asset: np.sum(asset.metadata[\"visibility\"]),\n",
    "    reverse=True)\n",
    "\n",
    "data_stack[\"segmentation\"] = kb.adjust_segmentation_idxs(\n",
    "    data_stack[\"segmentation\"],\n",
    "    scene.assets,\n",
    "    visible_foreground_assets)\n",
    "scene.metadata[\"num_instances\"] = len(visible_foreground_assets)\n",
    "\n",
    "# Save to image files\n",
    "kb.write_image_dict(data_stack, output_dir)\n",
    "kb.post_processing.compute_bboxes(data_stack[\"segmentation\"],\n",
    "                                  visible_foreground_assets)\n",
    "\n",
    "# --- Metadata\n",
    "logging.info(\"Collecting and storing metadata for each object.\")\n",
    "metadata = {\n",
    "    \"flags\": vars(FLAGS),\n",
    "    \"metadata\": kb.get_scene_metadata(scene),\n",
    "    \"camera\": kb.get_camera_info(scene.camera),\n",
    "    \"instances\": kb.get_instance_info(scene, visible_foreground_assets),\n",
    "}\n",
    "kb.write_json(filename=output_dir / \"metadata.json\", data=metadata)\n",
    "kb.write_json(filename=output_dir / \"events.json\", data={\n",
    "    \"collisions\":  kb.process_collisions(\n",
    "        collisions, scene, assets_subset=visible_foreground_assets),\n",
    "})\n",
    "\n",
    "kb.done()\n"
   ]
  },
  {
   "cell_type": "code",
   "execution_count": 83,
   "metadata": {},
   "outputs": [
    {
     "name": "stdout",
     "output_type": "stream",
     "text": [
      "dict_keys(['flags', 'metadata', 'camera', 'instances'])\n",
      "dict_keys(['rgba', 'backward_flow', 'forward_flow', 'depth', 'normal', 'object_coordinates', 'segmentation'])\n"
     ]
    },
    {
     "data": {
      "text/plain": [
       "((256, 256, 1),\n",
       " (256, 256, 3),\n",
       " {'focal_length': 35.0,\n",
       "  'sensor_width': 32.0,\n",
       "  'field_of_view': 0.8575560548920328,\n",
       "  'positions': array([[ 7.699464 , -3.2271369,  2.7192445],\n",
       "         [ 7.699464 , -3.2271369,  2.7192445],\n",
       "         [ 7.699464 , -3.2271369,  2.7192445],\n",
       "         [ 7.699464 , -3.2271369,  2.7192445],\n",
       "         [ 7.699464 , -3.2271369,  2.7192445]], dtype=float32),\n",
       "  'quaternions': array([[0.67379147, 0.48916593, 0.3253679 , 0.44817126],\n",
       "         [0.67379147, 0.48916593, 0.3253679 , 0.44817126],\n",
       "         [0.67379147, 0.48916593, 0.3253679 , 0.44817126],\n",
       "         [0.67379147, 0.48916593, 0.3253679 , 0.44817126],\n",
       "         [0.67379147, 0.48916593, 0.3253679 , 0.44817126]], dtype=float32),\n",
       "  'K': array([[ 1.09375,  0.     , -0.5    ],\n",
       "         [ 0.     , -1.09375, -0.5    ],\n",
       "         [ 0.     ,  0.     , -1.     ]]),\n",
       "  'R': array([[ 3.86556507e-01, -2.85630159e-01,  8.76920452e-01,\n",
       "           7.69946384e+00],\n",
       "         [ 9.22265725e-01,  1.19718426e-01, -3.67550584e-01,\n",
       "          -3.22713685e+00],\n",
       "         [-4.87206719e-09,  9.50832746e-01,  3.09704842e-01,\n",
       "           2.71924448e+00],\n",
       "         [ 0.00000000e+00,  0.00000000e+00,  0.00000000e+00,\n",
       "           1.00000000e+00]])})"
      ]
     },
     "execution_count": 83,
     "metadata": {},
     "output_type": "execute_result"
    }
   ],
   "source": [
    "print(metadata.keys())\n",
    "print(data_stack.keys())\n",
    "\n",
    "(\n",
    "data_stack[\"depth\"][0].shape,\n",
    "data_stack[\"normal\"][0].shape,\n",
    "metadata[\"camera\"],\n",
    ")"
   ]
  },
  {
   "cell_type": "code",
   "execution_count": 84,
   "metadata": {},
   "outputs": [
    {
     "data": {
      "text/plain": [
       "<matplotlib.colorbar.Colorbar at 0x7f329a4557c0>"
      ]
     },
     "execution_count": 84,
     "metadata": {},
     "output_type": "execute_result"
    },
    {
     "data": {
      "image/png": "[encoded data removed]",
      "text/plain": [
       "<Figure size 640x480 with 2 Axes>"
      ]
     },
     "metadata": {},
     "output_type": "display_data"
    }
   ],
   "source": [
    "import matplotlib.pyplot as plt\n",
    "\n",
    "t = 0\n",
    "plt.imshow(data_stack[\"depth\"][t][...,0], vmin=7, vmax=12.)\n",
    "# plt.imshow(data_stack[\"depth\"][0][...,0])\n",
    "plt.colorbar()"
   ]
  },
  {
   "cell_type": "code",
   "execution_count": 85,
   "metadata": {},
   "outputs": [
    {
     "data": {
      "text/plain": [
       "(5, 256, 256, 1)"
      ]
     },
     "execution_count": 85,
     "metadata": {},
     "output_type": "execute_result"
    }
   ],
   "source": [
    "data_stack[\"depth\"].shape"
   ]
  },
  {
   "cell_type": "code",
   "execution_count": 86,
   "metadata": {},
   "outputs": [
    {
     "data": {
      "text/plain": [
       "dict_keys(['focal_length', 'sensor_width', 'field_of_view', 'positions', 'quaternions', 'K', 'R'])"
      ]
     },
     "execution_count": 86,
     "metadata": {},
     "output_type": "execute_result"
    }
   ],
   "source": [
    "metadata[\"camera\"].keys()"
   ]
  },
  {
   "cell_type": "code",
   "execution_count": 87,
   "metadata": {},
   "outputs": [
    {
     "data": {
      "text/plain": [
       "35.0"
      ]
     },
     "execution_count": 87,
     "metadata": {},
     "output_type": "execute_result"
    }
   ],
   "source": [
    "metadata['camera']['focal_length']"
   ]
  },
  {
   "cell_type": "code",
   "execution_count": 88,
   "metadata": {},
   "outputs": [
    {
     "data": {
      "text/plain": [
       "8.0"
      ]
     },
     "execution_count": 88,
     "metadata": {},
     "output_type": "execute_result"
    }
   ],
   "source": [
    "256/32"
   ]
  },
  {
   "cell_type": "code",
   "execution_count": 89,
   "metadata": {},
   "outputs": [
    {
     "data": {
      "text/plain": [
       "array([[ 1.09375,  0.     , -0.5    ],\n",
       "       [ 0.     , -1.09375, -0.5    ],\n",
       "       [ 0.     ,  0.     , -1.     ]])"
      ]
     },
     "execution_count": 89,
     "metadata": {},
     "output_type": "execute_result"
    }
   ],
   "source": [
    "K = metadata[\"camera\"][\"K\"]\n",
    "K\n"
   ]
  },
  {
   "cell_type": "code",
   "execution_count": 90,
   "metadata": {},
   "outputs": [
    {
     "data": {
      "text/plain": [
       "(array([[ 1.09375,  0.     , -0.5    ],\n",
       "        [ 0.     , -1.09375, -0.5    ],\n",
       "        [ 0.     ,  0.     , -1.     ]]),\n",
       " array([[ 0.91428571,  0.        , -0.45714286],\n",
       "        [-0.        , -0.91428571,  0.45714286],\n",
       "        [-0.        , -0.        , -1.        ]]),\n",
       " array([[ True,  True,  True],\n",
       "        [ True,  True,  True],\n",
       "        [ True,  True,  True]]))"
      ]
     },
     "execution_count": 90,
     "metadata": {},
     "output_type": "execute_result"
    }
   ],
   "source": [
    "K, np.linalg.inv(K),np.linalg.inv(K.T)==np.linalg.inv(K).T"
   ]
  },
  {
   "cell_type": "code",
   "execution_count": 91,
   "metadata": {},
   "outputs": [],
   "source": [
    "def unproject_depth(depth, intrinsics):\n",
    "    \"\"\"Unprojects a depth image into a point cloud.\n",
    "    \n",
    "    Args:\n",
    "        depth (jnp.ndarray): The depth image. Shape (H, W)\n",
    "        intrinsics (b.camera.Intrinsics): The camera intrinsics.\n",
    "    Returns:\n",
    "        jnp.ndarray: The point cloud. Shape (H, W, 3)\n",
    "    \"\"\"\n",
    "    mask = (depth < intrinsics.far) * (depth > intrinsics.near)\n",
    "    depth = depth * mask + intrinsics.far * (1.0 - mask)\n",
    "    y, x = np.mgrid[: depth.shape[0], : depth.shape[1]]\n",
    "    x = (x - intrinsics.cx) / intrinsics.fx\n",
    "    y = (y - intrinsics.cy) / intrinsics.fy\n",
    "    point_cloud_image = np.stack([x, y, np.ones_like(x)], axis=-1) * depth[:, :, None]\n",
    "    return point_cloud_image"
   ]
  },
  {
   "cell_type": "code",
   "execution_count": 92,
   "metadata": {},
   "outputs": [],
   "source": [
    "# unproject_depth(data_stack[\"depth\"][t], intrinsics)"
   ]
  },
  {
   "cell_type": "code",
   "execution_count": 127,
   "metadata": {},
   "outputs": [
    {
     "data": {
      "text/plain": [
       "(4, 3, 2)"
      ]
     },
     "execution_count": 127,
     "metadata": {},
     "output_type": "execute_result"
    }
   ],
   "source": [
    "np.ones((2,3,4)).T.shape"
   ]
  },
  {
   "cell_type": "code",
   "execution_count": 163,
   "metadata": {},
   "outputs": [
    {
     "data": {
      "text/plain": [
       "<matplotlib.colorbar.Colorbar at 0x7f3299f8a280>"
      ]
     },
     "execution_count": 163,
     "metadata": {},
     "output_type": "execute_result"
    },
    {
     "data": {
      "image/png": "[encoded data removed]",
      "text/plain": [
       "<Figure size 480x480 with 1 Axes>"
      ]
     },
     "metadata": {},
     "output_type": "display_data"
    },
    {
     "data": {
      "image/png": "[encoded data removed]",
      "text/plain": [
       "<Figure size 480x480 with 2 Axes>"
      ]
     },
     "metadata": {},
     "output_type": "display_data"
    }
   ],
   "source": [
    "t = 0\n",
    "n = 256\n",
    "\n",
    "# Kubric works with \"normalized\" image coordinates $u,v \\in [0,1]$\n",
    "# The intrinsic matrix is given by\n",
    "# ```\n",
    "#       K =[[f/W   0  -0.5 ]\n",
    "#           [ 0  -f/H -0.5 ]\n",
    "#           [ 0    0  -1.0 ]]\n",
    "# ```\n",
    "# where W,H are the sensor width and height and f is the focal length. \n",
    "# Image coordinates (u,v) and Camera coordinates (x,y,z) are related as follows:\n",
    "# ```\n",
    "#       -z  * (u,v,1)^T =  K * (x,y,z)^T\n",
    "# ```\n",
    "# ...\n",
    "# > https://github.com/google-research/kubric/blob/main/kubric/core/cameras.py#L23\n",
    "def z_to_xyz(z, img_shape, K):\n",
    "    h, w, _ = z.shape[-3:] \n",
    "    uv  = np.stack(np.meshgrid(np.linspace(1,0, w), np.linspace(0,1, h), indexing=\"ij\"), axis=0)\n",
    "    uv1 = np.concatenate([uv, np.ones((1,w,h))], axis=0)\n",
    "    z   = data_stack[\"depth\"][t].T\n",
    "    xyz = np.linalg.inv(K)@(-z*uv1).reshape(3,-1)\n",
    "    return xyz.reshape(3,w,h).T\n",
    "\n",
    "# uv  = 1.*np.stack(np.meshgrid(np.linspace(0,1, n), np.linspace(0, 1, n)), axis=-1).reshape(-1,2)\n",
    "# uv1 = np.concatenate([uv, np.ones((n**2,1))], axis=-1)\n",
    "# z   = data_stack[\"depth\"][t].reshape(-1,1)\n",
    "# xyz = (-z*uv1)@(np.linalg.inv(K).T)\n",
    "# xyz = xyz.reshape(n,n,3) \n",
    "\n",
    "\n",
    "\n",
    "im = z_to_xyz(data_stack[\"depth\"][t], (n,n), K)\n",
    "plt.matshow(im[...,2])\n",
    "plt.matshow(data_stack[\"depth\"][t])\n",
    "plt.colorbar()"
   ]
  },
  {
   "cell_type": "code",
   "execution_count": 162,
   "metadata": {},
   "outputs": [
    {
     "data": {
      "image/png": "[encoded data removed]",
      "text/plain": [
       "<Figure size 640x480 with 1 Axes>"
      ]
     },
     "metadata": {},
     "output_type": "display_data"
    }
   ],
   "source": [
    "plt.gca().set_aspect(1)\n",
    "plt.ylim(6,15)\n",
    "plt.xlim(-8,8)\n",
    "for i in np.arange(0,150, step=1):\n",
    "    plt.scatter(im[i,:,1], im[i,:,2], s= 1, alpha=0.2, c=\"r\")\n",
    "\n",
    "for i in np.arange(150,256, step=1):\n",
    "    plt.scatter(im[i,:,1], im[i,:,2], s= 1, alpha=0.2, c=\"b\")"
   ]
  },
  {
   "cell_type": "code",
   "execution_count": null,
   "metadata": {},
   "outputs": [],
   "source": []
  }
 ],
 "metadata": {
  "kernelspec": {
   "display_name": "Python 3",
   "language": "python",
   "name": "python3"
  },
  "language_info": {
   "codemirror_mode": {
    "name": "ipython",
    "version": 3
   },
   "file_extension": ".py",
   "mimetype": "text/x-python",
   "name": "python",
   "nbconvert_exporter": "python",
   "pygments_lexer": "ipython3",
   "version": "3.9.5"
  }
 },
 "nbformat": 4,
 "nbformat_minor": 2
}
