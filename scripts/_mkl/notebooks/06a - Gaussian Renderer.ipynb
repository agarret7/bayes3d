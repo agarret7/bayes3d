{
 "cells": [
  {
   "cell_type": "code",
   "execution_count": 1,
   "metadata": {},
   "outputs": [],
   "source": [
    "%load_ext autoreload\n",
    "%autoreload 2"
   ]
  },
  {
   "cell_type": "code",
   "execution_count": 266,
   "metadata": {},
   "outputs": [],
   "source": [
    "import bayes3d as b3d\n",
    "import trimesh\n",
    "import os\n",
    "from bayes3d._mkl.utils import *\n",
    "import matplotlib.pyplot as plt\n",
    "import numpy as np\n",
    "import jax\n",
    "from jax import jit, vmap\n",
    "import jax.numpy as jnp\n",
    "from functools import partial\n",
    "from bayes3d.camera import Intrinsics, K_from_intrinsics, camera_rays_from_intrinsics\n",
    "from bayes3d.transforms_3d import transform_from_pos_target_up, add_homogenous_ones, unproject_depth\n",
    "\n",
    "key = jax.random.PRNGKey(0)"
   ]
  },
  {
   "cell_type": "code",
   "execution_count": 267,
   "metadata": {},
   "outputs": [],
   "source": [
    "import traceviz.client\n",
    "from traceviz.proto import  viz_pb2\n",
    "import json"
   ]
  },
  {
   "cell_type": "code",
   "execution_count": 268,
   "metadata": {},
   "outputs": [],
   "source": [
    "from typing import Any, NamedTuple\n",
    "import jaxlib\n",
    "\n",
    "Array = np.ndarray | jax.Array\n",
    "Shape = int | tuple[int, ...]\n",
    "FaceIndex = int\n",
    "FaceIndices = Array\n",
    "ArrayN      = Array\n",
    "Array3      = Array\n",
    "Array2      = Array\n",
    "ArrayNx2    = Array\n",
    "ArrayNx3    = Array\n",
    "Matrix      = jaxlib.xla_extension.ArrayImpl\n",
    "PrecisionMatrix  = Matrix\n",
    "CovarianceMatrix = Matrix\n",
    "SquareMatrix     = Matrix\n",
    "Vector = Array\n",
    "Direction = Vector\n",
    "BaseVector = Vector\n"
   ]
  },
  {
   "cell_type": "code",
   "execution_count": 274,
   "metadata": {},
   "outputs": [],
   "source": [
    "def bilinear(x:Array, y:Array, A:SquareMatrix):\n",
    "    return x.T @ A @ y\n",
    "\n",
    "\n",
    "def log_gaussian(x, mu, omega:PrecisionMatrix):\n",
    "    \"\"\"Evaluate an unnormalized gaussian at the given point.\"\"\"\n",
    "    return -0.5 * bilinear(x-mu, x-mu, omega)\n",
    "\n",
    "\n",
    "def gaussian(x, mu, omega:PrecisionMatrix):\n",
    "    \"\"\"Evaluate an unnormalized gaussian at the given point.\"\"\"\n",
    "    return jnp.exp(-0.5 * bilinear(x-mu, x-mu, omega))\n",
    "\n",
    "\n",
    "inv = jnp.linalg.inv"
   ]
  },
  {
   "cell_type": "code",
   "execution_count": 275,
   "metadata": {},
   "outputs": [],
   "source": [
    "THRESH_99 = gaussian(jnp.array([4,0,0]), jnp.zeros(3), jnp.eye(3))\n",
    "THRESH_97 = gaussian(jnp.array([3,0,0]), jnp.zeros(3), jnp.eye(3))\n",
    "THRESH_73 = gaussian(jnp.array([2,0,0]), jnp.zeros(3), jnp.eye(3))"
   ]
  },
  {
   "cell_type": "code",
   "execution_count": 276,
   "metadata": {},
   "outputs": [],
   "source": [
    "def ellipsoid_embedding(cov:CovarianceMatrix):\n",
    "    \"\"\"Returns A with cov = A@A.T\"\"\"\n",
    "    sigma, U = jnp.linalg.eigh(cov)\n",
    "    D = jnp.diag(jnp.sqrt(sigma))\n",
    "    return U @ D @ jnp.linalg.inv(U)"
   ]
  },
  {
   "cell_type": "code",
   "execution_count": 8,
   "metadata": {},
   "outputs": [],
   "source": [
    "normal_cdf    = jax.scipy.stats.norm.cdf\n",
    "normal_pdf    = jax.scipy.stats.norm.pdf\n",
    "normal_logpdf = jax.scipy.stats.norm.logpdf\n"
   ]
  },
  {
   "cell_type": "code",
   "execution_count": 277,
   "metadata": {},
   "outputs": [],
   "source": [
    "def normal_transmittance(t, mu, sig, w=1.0):\n",
    "    \"\"\"Evaluate the transmittance of a ray through a gaussian blob.\"\"\"\n",
    "    return jnp.exp( - w*normal_cdf( t, loc=mu, scale=sig) + w*normal_cdf(0, loc=mu, scale=sig))"
   ]
  },
  {
   "cell_type": "code",
   "execution_count": 278,
   "metadata": {},
   "outputs": [],
   "source": [
    "def gaussian_transmittance(t, mu, sig, alpha=1.0):\n",
    "    \"\"\"Evaluate the transmittance of a ray through a gaussian blob.\"\"\"\n",
    "    N = alpha*(sig*jnp.sqrt(2*jnp.pi))\n",
    "    return jnp.exp( - N*normal_cdf( t, loc=mu, scale=sig) + N*normal_cdf(0, loc=mu, scale=sig))"
   ]
  },
  {
   "cell_type": "code",
   "execution_count": 279,
   "metadata": {},
   "outputs": [
    {
     "data": {
      "text/plain": [
       "[<matplotlib.lines.Line2D at 0x7f9877446fd0>]"
      ]
     },
     "execution_count": 279,
     "metadata": {},
     "output_type": "execute_result"
    },
    {
     "data": {
      "image/png": "[encoded data removed]",
      "text/plain": [
       "<Figure size 800x100 with 1 Axes>"
      ]
     },
     "metadata": {},
     "output_type": "display_data"
    }
   ],
   "source": [
    "mu  = 6.0\n",
    "sig = 1.3\n",
    "ts  = jnp.linspace(0, 10, 1_000)\n",
    "\n",
    "# Normalization constant\n",
    "N = sig*jnp.sqrt(2*jnp.pi)\n",
    "\n",
    "# =========================\n",
    "plt.figure(figsize=(8, 1))\n",
    "plt.plot(ts, N*normal_pdf(ts, mu, sig))\n",
    "plt.plot(ts, N*normal_pdf(ts, mu, sig)*gaussian_transmittance(ts, mu, sig))"
   ]
  },
  {
   "cell_type": "code",
   "execution_count": 282,
   "metadata": {},
   "outputs": [],
   "source": [
    "def fuzzy_intersection(mu:Vector, omega:PrecisionMatrix, x:Vector, v:Direction):\n",
    "    \"\"\"\n",
    "    Returns the \"intersection\" of a ray with a gaussian which we define as\n",
    "    the mode of the gaussian restricted to the ray.\n",
    "    \"\"\"\n",
    "    t = bilinear(mu - x, v, omega)/bilinear(v, v, omega)\n",
    "    return t"
   ]
  },
  {
   "cell_type": "code",
   "execution_count": 335,
   "metadata": {},
   "outputs": [],
   "source": [
    "def _cast_ray(v, mus, precisions, colors, zmax=2., bg_color=jnp.array([1.,1.,1.,1.0])):\n",
    "    # TODO: Deal with negative intersections behind the camera\n",
    "    # TODO: Maybe switch to log probs?\n",
    "\n",
    "    # Compute fuzy intersections `xs` with Gaussians and \n",
    "    # their function values `sigmas`\n",
    "    ts     = vmap(fuzzy_intersection, (0,0,None,None))(mus, precisions, jnp.zeros(3), v)\n",
    "    order  = jnp.argsort(ts)\n",
    "    ts     = ts[order]\n",
    "    xs     = ts[:,None]*v[None,:]\n",
    "    sigmas = vmap(gaussian)(xs, mus[order], precisions[order])\n",
    "\n",
    "    # Alternatively we can set \n",
    "    #   `alphas = sigmas` or \n",
    "    #   `alphas = (1 - jnp.exp(-sigmas*1.0))`\n",
    "    alphas = sigmas\n",
    "    transmittances = jnp.concatenate([jnp.array([1.0]), jnp.cumprod(1-alphas[:-1])])\n",
    "    ws = alphas*transmittances # Ordered mixture weights\n",
    "\n",
    "    mean_depth = jnp.sum(ws*xs[:,2])\n",
    "    mean_color = jnp.sum(ws[:,None]*colors[order], axis=0)\n",
    "    \n",
    "    op = jnp.sum(ws) # Opacity\n",
    "    mean_depth = mean_depth + (1 - op)*zmax\n",
    "    mean_color = mean_color + (1 - op)*bg_color\n",
    "    mean_color = mean_color.at[-1].set(op)\n",
    "    \n",
    "    return mean_depth, mean_color, op\n",
    "\n",
    "cast_rays = jit(vmap(_cast_ray, (0,None,None,None)))"
   ]
  },
  {
   "cell_type": "code",
   "execution_count": 336,
   "metadata": {},
   "outputs": [],
   "source": [
    "data = jnp.load(\"data/gaussians_banana_150.npz\")\n",
    "# data = jnp.load(\"data/gaussians_scissors_550.npz\")\n",
    "\n",
    "nums  = data[\"nums\"]\n",
    "valid = nums>0\n",
    "mus   = data[\"mus\"][valid]\n",
    "covs  = data[\"covs\"][valid]\n",
    "mean_colors = data[\"mean_colors\"][valid]\n",
    "\n",
    "covs = vmap(lambda cov: cam_pose[:3,:3].T @ cov @ cam_pose[:3,:3])(covs) \n",
    "mus  = (mus - cam_pose[:3,3]) @ cam_pose[:3,:3]\n",
    "precisions = vmap(inv)(2.0**2*covs)"
   ]
  },
  {
   "cell_type": "code",
   "execution_count": 337,
   "metadata": {},
   "outputs": [],
   "source": [
    "w = 100\n",
    "h = 100\n",
    "f = 300\n",
    "intr = Intrinsics(width = w, height = h,fx = f, fy = f,\n",
    "            cx = w/2 - 0.5, cy = h/2 - 0.5, near = 1e-6, far = 5.0)\n",
    "\n",
    "\n",
    "cam_pose = transform_from_pos_target_up(0.7*jnp.array([1.,0,0.5]), jnp.array([0,0,0]), jnp.array([0,1,0]))\n",
    "cam_K = K_from_intrinsics(intr)\n",
    "rays  = camera_rays_from_intrinsics(intr)"
   ]
  },
  {
   "cell_type": "code",
   "execution_count": 338,
   "metadata": {},
   "outputs": [
    {
     "name": "stderr",
     "output_type": "stream",
     "text": [
      "Clipping input data to the valid range for imshow with RGB data ([0..1] for floats or [0..255] for integers).\n"
     ]
    },
    {
     "data": {
      "image/png": "[encoded data removed]",
      "text/plain": [
       "<Figure size 600x300 with 2 Axes>"
      ]
     },
     "metadata": {},
     "output_type": "display_data"
    }
   ],
   "source": [
    "zs, cs, _ = cast_rays(rays.reshape(-1,3), mus, precisions, mean_colors)\n",
    "zs = zs.reshape(intr.height, intr.width)\n",
    "cs = cs.reshape(intr.height, intr.width, -1)\n",
    "\n",
    "fig, axs = plt.subplots(1,2, figsize=(6,3))\n",
    "axs[0].set_title(\"RGB\")\n",
    "axs[0].imshow(cs)\n",
    "axs[1].set_title(\"Z-Depth\")\n",
    "axs[1].imshow(zs, cmap=\"binary_r\", vmax=0.9)\n",
    "fig.tight_layout()"
   ]
  },
  {
   "cell_type": "code",
   "execution_count": 329,
   "metadata": {},
   "outputs": [],
   "source": [
    "cloud = unproject_depth(zs[::-1,::-1], intr).reshape(-1,3)"
   ]
  },
  {
   "cell_type": "code",
   "execution_count": 330,
   "metadata": {},
   "outputs": [
    {
     "name": "stdout",
     "output_type": "stream",
     "text": [
      "response:  listener_identifiers: \"2023-11-21T18:26:31.031586 :: ipv4:127.0.0.1:49052\"\n",
      "\n",
      "response:  listener_identifiers: \"2023-11-21T18:26:31.031586 :: ipv4:127.0.0.1:49052\"\n",
      "\n"
     ]
    }
   ],
   "source": [
    "msg = viz_pb2.Message()\n",
    "msg.payload.json = json.dumps({\"type\": \"setup\"})\n",
    "msg.payload.data.MergeFrom(traceviz.client.to_pytree_msg([]))\n",
    "stub = traceviz.client.connect()\n",
    "print('response: ', stub.Broadcast(msg))\n",
    "\n",
    "\n",
    "msg = viz_pb2.Message()\n",
    "msg.payload.json = json.dumps({\"type\": \"Spheres\"})\n",
    "msg.payload.data.MergeFrom(\n",
    "    traceviz.client.to_pytree_msg({\n",
    "        'centers': np.array(cloud), \n",
    "        'colors': np.array(cs[::-1,::-1].reshape(-1,4)), \n",
    "        \"scales\": 0.002*np.ones(len(cloud))\n",
    "    })\n",
    ")\n",
    "    \n",
    "\n",
    "stub = traceviz.client.connect()\n",
    "print('response: ', stub.Broadcast(msg))\n"
   ]
  },
  {
   "cell_type": "code",
   "execution_count": null,
   "metadata": {},
   "outputs": [],
   "source": []
  }
 ],
 "metadata": {
  "kernelspec": {
   "display_name": "dcolmap",
   "language": "python",
   "name": "python3"
  },
  "language_info": {
   "codemirror_mode": {
    "name": "ipython",
    "version": 3
   },
   "file_extension": ".py",
   "mimetype": "text/x-python",
   "name": "python",
   "nbconvert_exporter": "python",
   "pygments_lexer": "ipython3",
   "version": "3.11.6"
  }
 },
 "nbformat": 4,
 "nbformat_minor": 2
}
