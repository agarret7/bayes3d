{
 "cells": [
  {
   "cell_type": "code",
   "execution_count": 1,
   "metadata": {},
   "outputs": [],
   "source": [
    "%load_ext autoreload\n",
    "%autoreload 2"
   ]
  },
  {
   "cell_type": "code",
   "execution_count": 2,
   "metadata": {},
   "outputs": [],
   "source": [
    "import bayes3d as b3d\n",
    "import trimesh\n",
    "import os\n",
    "from bayes3d._mkl.utils import *\n",
    "import matplotlib.pyplot as plt\n",
    "import numpy as np\n",
    "import jax\n",
    "from jax import jit, vmap\n",
    "import jax.numpy as jnp\n",
    "\n",
    "\n",
    "key = jax.random.PRNGKey(0)"
   ]
  },
  {
   "cell_type": "code",
   "execution_count": 3,
   "metadata": {},
   "outputs": [],
   "source": [
    "import traceviz.client\n",
    "import numpy as np\n",
    "from traceviz.proto import  viz_pb2"
   ]
  },
  {
   "cell_type": "code",
   "execution_count": 4,
   "metadata": {},
   "outputs": [],
   "source": [
    "from typing import Any, NamedTuple\n",
    "\n",
    "\n",
    "Array = np.ndarray | jax.Array\n",
    "Shape = int | tuple[int, ...]\n",
    "FaceIndex = int\n",
    "Array3 = np.ndarray\n",
    "Array2 = np.ndarray\n",
    "ArrayNx2 = Array\n",
    "ArrayNx3 = Array"
   ]
  },
  {
   "cell_type": "code",
   "execution_count": 5,
   "metadata": {},
   "outputs": [],
   "source": [
    "def barycentric_to_mesh(p:Array3, i:FaceIndex, vertices:ArrayNx3, faces:ArrayNx3):\n",
    "    x = jnp.sum(p[:,None]*vertices[faces[i]], axis=0)\n",
    "    return x\n",
    "\n",
    "\n",
    "def area_of_triangle(a:Array3, b:Array3, c:Array3=jnp.zeros(3)):\n",
    "\n",
    "    v = a-c\n",
    "    w = b-c\n",
    "\n",
    "    l = jnp.linalg.norm(w)\n",
    "    h = jnp.linalg.norm(v - jnp.dot(v, w)/l**2*w)\n",
    "    area = l*h\n",
    "\n",
    "    return area/2\n",
    "\n",
    "\n",
    "def _compute_area_and_normal(f, vertices):\n",
    "    a = vertices[f[1]] - vertices[f[0]]\n",
    "    b = vertices[f[2]] - vertices[f[0]]\n",
    "    area = area_of_triangle(a, b)\n",
    "    normal = jnp.cross(a,b)\n",
    "    return area, normal\n",
    "\n",
    "\n",
    "compute_area_and_normals = jit(vmap(_compute_area_and_normal, (0,None)))"
   ]
  },
  {
   "cell_type": "code",
   "execution_count": 6,
   "metadata": {},
   "outputs": [],
   "source": [
    "def patch_trimesh(mesh:trimesh.base.Trimesh):\n",
    "    \"\"\"\n",
    "    Return a patched copy of a trimesh object, and \n",
    "    ensure it to have a texture and the following attributes:\n",
    "    - `mesh.visual.uv`\n",
    "    - `copy.visual.material.to_color`\n",
    "    \"\"\"\n",
    "    patched_mesh = mesh.copy()\n",
    "    if isinstance(mesh.visual, trimesh.visual.color.ColorVisuals):\n",
    "        patched_mesh.visual = mesh.visual.to_texture()\n",
    "    elif isinstance(mesh.visual, trimesh.visual.texture.TextureVisuals):\n",
    "        pass\n",
    "\n",
    "    return patched_mesh\n",
    "\n",
    "\n",
    "def texture_uv_basis(face_idx:Array, mesh):\n",
    "    return mesh.visual.uv[mesh.faces[face_idx]]\n",
    "\n",
    "\n",
    "def uv_to_color(uv:ArrayNx2, mesh):\n",
    "    return mesh.visual.material.to_color(uv)"
   ]
  },
  {
   "cell_type": "code",
   "execution_count": 27,
   "metadata": {},
   "outputs": [],
   "source": [
    "def uniformly_sample_from_mesh(key, n, mesh, with_color=True):\n",
    "    \"\"\"Uniformly sample `n` points and their color on the surface from a mesh.\"\"\"\n",
    "    key, keys = keysplit(key,1,2)\n",
    "\n",
    "    areas, _ = compute_area_and_normals(mesh.faces, mesh.vertices)\n",
    "\n",
    "    # First sample face indices, then sample barycentric coordinates, and\n",
    "    # finally compute the positions of the points.\n",
    "    fs = jax.random.categorical(keys[0], jnp.log(areas), shape=(n,))\n",
    "    ps = jax.random.dirichlet(keys[1], jnp.ones(3), (n,)).reshape((n,3,1))\n",
    "    xs = jnp.sum(ps*mesh.vertices[mesh.faces[fs]], axis=1)\n",
    "\n",
    "    if with_color:\n",
    "        uvs = jnp.sum(ps* texture_uv_basis(fs, mesh), axis=1)\n",
    "        cs  = uv_to_color(uvs, mesh)/255\n",
    "    else:\n",
    "        cs = jnp.full((n,3), 0.5)\n",
    "\n",
    "    return xs, cs, {\"barycentric\": ps, \"face_idx\": fs}"
   ]
  },
  {
   "cell_type": "code",
   "execution_count": 13,
   "metadata": {},
   "outputs": [],
   "source": [
    "import numpy as np\n",
    "import trimesh\n",
    "\n",
    "def covariance_decomposition(Cov):\n",
    "    \"\"\"Returns scales and rotation matrix for a covariance matrix.\"\"\"\n",
    "    lambdas, Q = jnp.linalg.eig(Cov)\n",
    "    return jnp.sqrt(lambdas), Q\n"
   ]
  },
  {
   "cell_type": "code",
   "execution_count": 169,
   "metadata": {},
   "outputs": [],
   "source": [
    "# def uniformly_sample_from_mesh(key, n, faces, vertices, texture_uv=None, uv_to_color=None):\n",
    "#     \"\"\"Uniformly sample points on the surface from a mesh.\"\"\"\n",
    "\n",
    "#     key, keys = keysplit(key,1,2)\n",
    "\n",
    "#     areas, _ = compute_area_and_normals(faces, vertices)\n",
    "\n",
    "#     fs = jax.random.categorical(keys[0], jnp.log(areas), shape=(n,))\n",
    "#     ps = jax.random.dirichlet(keys[1], jnp.ones(3), (n,))\n",
    "#     xs = jnp.sum(ps[:,:,None]*vertices[faces[fs]], axis=1)\n",
    "\n",
    "#     if uv_to_color is not None:\n",
    "#         us = jnp.sum(ps[:,:,None]*texture_uv[faces[fs]], axis=1)\n",
    "#         cs = uv_to_color(us)/255\n",
    "#     else:\n",
    "#         cs = None\n",
    "\n",
    "#     return xs, cs, {\"barycentric\": ps, \"face_idx\": fs}"
   ]
  },
  {
   "cell_type": "markdown",
   "metadata": {},
   "source": [
    "https://sketchfab.com/search?features=animated&q=tree&type=models\n",
    "https://sketchfab.com/3d-models/rigged-animated-cinematic-quality-tree-4-544329bb254d4e45b5eae96ccc5bacf6"
   ]
  },
  {
   "cell_type": "code",
   "execution_count": 170,
   "metadata": {},
   "outputs": [
    {
     "name": "stdout",
     "output_type": "stream",
     "text": [
      "E1114 15:38:06.379257753  706942 backup_poller.cc:127]                 Run client channel backup poller: UNKNOWN:pollset_work {created_time:\"2023-11-14T15:38:06.37898082+00:00\", children:[UNKNOWN:Bad file descriptor {syscall:\"epoll_wait\", os_error:\"Bad file descriptor\", errno:9, created_time:\"2023-11-14T15:38:06.378896903+00:00\"}]}\n",
      "/home/mirko/workspace/bayes3d/scripts/_mkl/notebooks\n"
     ]
    }
   ],
   "source": [
    "!pwd"
   ]
  },
  {
   "cell_type": "markdown",
   "metadata": {},
   "source": [
    "## Load Mesh"
   ]
  },
  {
   "cell_type": "code",
   "execution_count": 14,
   "metadata": {},
   "outputs": [],
   "source": [
    "t=0\n",
    "mesh = trimesh.load(f\"data/flag_objs/flag_t_{t}.obj\")"
   ]
  },
  {
   "cell_type": "code",
   "execution_count": 15,
   "metadata": {},
   "outputs": [],
   "source": [
    "_scaling  = 1e-3\n",
    "model_dir = os.path.join(b3d.utils.get_assets_dir(),\"bop/ycbv/models\")\n",
    "\n",
    "_meshes = []\n",
    "for idx in range(1,22):\n",
    "    mesh_path = os.path.join(model_dir,\"obj_\" + \"{}\".format(idx).rjust(6, '0') + \".ply\")\n",
    "    mesh = trimesh.load(mesh_path)\n",
    "    mesh.vertices *= _scaling \n",
    "    _meshes.append(mesh)\n",
    "\n",
    "\n",
    "mesh_path = os.path.join(b3d.utils.get_assets_dir(), \"sample_objs/cube.obj\")\n",
    "mesh = trimesh.load(mesh_path)\n",
    "mesh.vertices *= 1e-1\n",
    "_meshes.append(mesh)\n"
   ]
  },
  {
   "cell_type": "code",
   "execution_count": 21,
   "metadata": {},
   "outputs": [],
   "source": [
    "mesh = _meshes[16] # banana 9, scissors 16"
   ]
  },
  {
   "cell_type": "markdown",
   "metadata": {},
   "source": [
    "## Vis"
   ]
  },
  {
   "cell_type": "code",
   "execution_count": 22,
   "metadata": {},
   "outputs": [
    {
     "data": {
      "text/plain": [
       "((8628, 3), (15728, 3), (8628, 2), (2, 3, 2))"
      ]
     },
     "execution_count": 22,
     "metadata": {},
     "output_type": "execute_result"
    }
   ],
   "source": [
    "mesh = patch_trimesh(mesh)\n",
    "\n",
    "mesh.vertices.shape, mesh.faces.shape, mesh.visual.uv.shape, mesh.visual.uv[mesh.faces[:2]].shape"
   ]
  },
  {
   "cell_type": "code",
   "execution_count": 18,
   "metadata": {},
   "outputs": [
    {
     "name": "stdout",
     "output_type": "stream",
     "text": [
      "\n",
      "    mean  area: 1.05e-06\n",
      "    std   area: 3.23e-07\n",
      "    total area: 0.0165\n",
      "    \n",
      "\n"
     ]
    }
   ],
   "source": [
    "areas, normals = compute_area_and_normals(mesh.faces, mesh.vertices)\n",
    "areas = jnp.where(jnp.isnan(areas), 0.0, areas)\n",
    "print(f\"\"\"\n",
    "    mean  area: {areas.mean():0.2e}\n",
    "    std   area: {areas.std():0.2e}\n",
    "    total area: {areas.sum():0.4f}\n",
    "    \n",
    "\"\"\")"
   ]
  },
  {
   "cell_type": "code",
   "execution_count": 201,
   "metadata": {},
   "outputs": [],
   "source": [
    "# us_ = texvis.uv\n",
    "# cs_ = texvis.material.to_color(us_)/255\n",
    "\n",
    "\n",
    "# # ================================\n",
    "# fig, axs = plt.subplots(1,3, figsize=(16,8))\n",
    "# for ax in axs: ax.set_aspect(1)\n",
    "# axs[0].scatter(*us_.T, c=\"b\", s=1)\n",
    "# axs[1].scatter(*us.T, c=cs, s=1)\n",
    "# axs[2].scatter(*us_.T, c=cs_, s=1)"
   ]
  },
  {
   "cell_type": "code",
   "execution_count": 203,
   "metadata": {},
   "outputs": [],
   "source": [
    "# import numpy as np\n",
    "# import trimesh\n",
    "\n",
    "# def create_ellipsoid_trimesh(covariance_matrix, num_points=10, scale=0.02):\n",
    "#     # Create a sphere\n",
    "#     u = np.linspace(0, 2 * np.pi, num_points)\n",
    "#     v = np.linspace(0, np.pi, num_points)\n",
    "#     x = np.outer(np.cos(u), np.sin(v))\n",
    "#     y = np.outer(np.sin(u), np.sin(v))\n",
    "#     z = np.outer(np.ones(np.size(u)), np.cos(v))\n",
    "\n",
    "#     # Transform the sphere to the ellipsoid\n",
    "#     sigma, U = np.linalg.eig(covariance_matrix)\n",
    "#     D = np.diag(np.sqrt(sigma))\n",
    "#     ellipsoid = U @ D @ np.linalg.inv(U) @ np.vstack([x.flatten(), y.flatten(), z.flatten()])\n",
    "\n",
    "#     # Reshape the ellipsoid to match the shape of the original sphere vertices\n",
    "#     ellipsoid = ellipsoid.T.reshape(num_points, num_points, 3)\n",
    "\n",
    "#     # Create mesh data\n",
    "#     mesh_vertices = scale*ellipsoid.reshape(-1, 3)\n",
    "#     mesh_faces = []\n",
    "#     for i in range(num_points - 1):\n",
    "#         for j in range(num_points - 1):\n",
    "#             v1 = i * num_points + j\n",
    "#             v2 = v1 + 1\n",
    "#             v3 = (i + 1) * num_points + j\n",
    "#             v4 = v3 + 1\n",
    "#             mesh_faces.append([v1, v2, v3])\n",
    "#             mesh_faces.append([v2, v4, v3])\n",
    "\n",
    "#     mesh_faces = np.array(mesh_faces)\n",
    "\n",
    "#     # Create a trimesh object\n",
    "#     trimesh_mesh = trimesh.Trimesh(vertices=mesh_vertices, faces=mesh_faces)\n",
    "\n",
    "#     return trimesh_mesh\n"
   ]
  },
  {
   "cell_type": "code",
   "execution_count": 28,
   "metadata": {},
   "outputs": [
    {
     "name": "stdout",
     "output_type": "stream",
     "text": [
      "(20000, 3, 1) (20000, 3, 2)\n"
     ]
    },
    {
     "ename": "ValueError",
     "evalue": "Incompatible shapes for broadcasting: shapes=[(20000, 3, 1, 1), (20000, 3, 2)]",
     "output_type": "error",
     "traceback": [
      "\u001b[0;31m---------------------------------------------------------------------------\u001b[0m",
      "\u001b[0;31mValueError\u001b[0m                                Traceback (most recent call last)",
      "    \u001b[0;31m[... skipping hidden 1 frame]\u001b[0m\n",
      "File \u001b[0;32m/opt/conda/envs/dcolmap/lib/python3.11/site-packages/jax/_src/util.py:284\u001b[0m, in \u001b[0;36mcache.<locals>.wrap.<locals>.wrapper\u001b[0;34m(*args, **kwargs)\u001b[0m\n\u001b[1;32m    283\u001b[0m \u001b[39melse\u001b[39;00m:\n\u001b[0;32m--> 284\u001b[0m   \u001b[39mreturn\u001b[39;00m cached(config\u001b[39m.\u001b[39mconfig\u001b[39m.\u001b[39m_trace_context(), \u001b[39m*\u001b[39margs, \u001b[39m*\u001b[39m\u001b[39m*\u001b[39mkwargs)\n",
      "File \u001b[0;32m/opt/conda/envs/dcolmap/lib/python3.11/site-packages/jax/_src/util.py:277\u001b[0m, in \u001b[0;36mcache.<locals>.wrap.<locals>.cached\u001b[0;34m(_, *args, **kwargs)\u001b[0m\n\u001b[1;32m    275\u001b[0m \u001b[39m@functools\u001b[39m\u001b[39m.\u001b[39mlru_cache(max_size)\n\u001b[1;32m    276\u001b[0m \u001b[39mdef\u001b[39;00m \u001b[39mcached\u001b[39m(_, \u001b[39m*\u001b[39margs, \u001b[39m*\u001b[39m\u001b[39m*\u001b[39mkwargs):\n\u001b[0;32m--> 277\u001b[0m   \u001b[39mreturn\u001b[39;00m f(\u001b[39m*\u001b[39margs, \u001b[39m*\u001b[39m\u001b[39m*\u001b[39mkwargs)\n",
      "File \u001b[0;32m/opt/conda/envs/dcolmap/lib/python3.11/site-packages/jax/_src/lax/lax.py:152\u001b[0m, in \u001b[0;36m_broadcast_shapes_cached\u001b[0;34m(*shapes)\u001b[0m\n\u001b[1;32m    150\u001b[0m \u001b[39m@cache\u001b[39m()\n\u001b[1;32m    151\u001b[0m \u001b[39mdef\u001b[39;00m \u001b[39m_broadcast_shapes_cached\u001b[39m(\u001b[39m*\u001b[39mshapes: \u001b[39mtuple\u001b[39m[\u001b[39mint\u001b[39m, \u001b[39m.\u001b[39m\u001b[39m.\u001b[39m\u001b[39m.\u001b[39m]) \u001b[39m-\u001b[39m\u001b[39m>\u001b[39m \u001b[39mtuple\u001b[39m[\u001b[39mint\u001b[39m, \u001b[39m.\u001b[39m\u001b[39m.\u001b[39m\u001b[39m.\u001b[39m]:\n\u001b[0;32m--> 152\u001b[0m   \u001b[39mreturn\u001b[39;00m _broadcast_shapes_uncached(\u001b[39m*\u001b[39mshapes)\n",
      "File \u001b[0;32m/opt/conda/envs/dcolmap/lib/python3.11/site-packages/jax/_src/lax/lax.py:168\u001b[0m, in \u001b[0;36m_broadcast_shapes_uncached\u001b[0;34m(*shapes)\u001b[0m\n\u001b[1;32m    167\u001b[0m \u001b[39mif\u001b[39;00m result_shape \u001b[39mis\u001b[39;00m \u001b[39mNone\u001b[39;00m:\n\u001b[0;32m--> 168\u001b[0m   \u001b[39mraise\u001b[39;00m \u001b[39mValueError\u001b[39;00m(\u001b[39mf\u001b[39m\u001b[39m\"\u001b[39m\u001b[39mIncompatible shapes for broadcasting: shapes=\u001b[39m\u001b[39m{\u001b[39;00m\u001b[39mlist\u001b[39m(shapes)\u001b[39m}\u001b[39;00m\u001b[39m\"\u001b[39m)\n\u001b[1;32m    169\u001b[0m \u001b[39mreturn\u001b[39;00m result_shape\n",
      "\u001b[0;31mValueError\u001b[0m: Incompatible shapes for broadcasting: shapes=[(20000, 3, 1, 1), (20000, 3, 2)]",
      "\nDuring handling of the above exception, another exception occurred:\n",
      "\u001b[0;31mValueError\u001b[0m                                Traceback (most recent call last)",
      "\u001b[1;32m/home/mirko/workspace/bayes3d/scripts/_mkl/notebooks/04 - Trimesh to Gaussians.ipynb Cell 21\u001b[0m line \u001b[0;36m3\n\u001b[1;32m      <a href='vscode-notebook-cell://ssh-remote%2Bchi-sight-instance-1.us-west1-b.chi-sight-mkl/home/mirko/workspace/bayes3d/scripts/_mkl/notebooks/04%20-%20Trimesh%20to%20Gaussians.ipynb#X25sdnNjb2RlLXJlbW90ZQ%3D%3D?line=0'>1</a>\u001b[0m key \u001b[39m=\u001b[39m keysplit(key)\n\u001b[1;32m      <a href='vscode-notebook-cell://ssh-remote%2Bchi-sight-instance-1.us-west1-b.chi-sight-mkl/home/mirko/workspace/bayes3d/scripts/_mkl/notebooks/04%20-%20Trimesh%20to%20Gaussians.ipynb#X25sdnNjb2RlLXJlbW90ZQ%3D%3D?line=1'>2</a>\u001b[0m n \u001b[39m=\u001b[39m \u001b[39m20_000\u001b[39m\n\u001b[0;32m----> <a href='vscode-notebook-cell://ssh-remote%2Bchi-sight-instance-1.us-west1-b.chi-sight-mkl/home/mirko/workspace/bayes3d/scripts/_mkl/notebooks/04%20-%20Trimesh%20to%20Gaussians.ipynb#X25sdnNjb2RlLXJlbW90ZQ%3D%3D?line=2'>3</a>\u001b[0m xs, cs, _ \u001b[39m=\u001b[39m uniformly_sample_from_mesh(key, n, mesh, with_color\u001b[39m=\u001b[39m\u001b[39mTrue\u001b[39;00m)\n",
      "\u001b[1;32m/home/mirko/workspace/bayes3d/scripts/_mkl/notebooks/04 - Trimesh to Gaussians.ipynb Cell 21\u001b[0m line \u001b[0;36m1\n\u001b[1;32m     <a href='vscode-notebook-cell://ssh-remote%2Bchi-sight-instance-1.us-west1-b.chi-sight-mkl/home/mirko/workspace/bayes3d/scripts/_mkl/notebooks/04%20-%20Trimesh%20to%20Gaussians.ipynb#X25sdnNjb2RlLXJlbW90ZQ%3D%3D?line=12'>13</a>\u001b[0m \u001b[39mif\u001b[39;00m with_color:\n\u001b[1;32m     <a href='vscode-notebook-cell://ssh-remote%2Bchi-sight-instance-1.us-west1-b.chi-sight-mkl/home/mirko/workspace/bayes3d/scripts/_mkl/notebooks/04%20-%20Trimesh%20to%20Gaussians.ipynb#X25sdnNjb2RlLXJlbW90ZQ%3D%3D?line=13'>14</a>\u001b[0m     \u001b[39mprint\u001b[39m(ps\u001b[39m.\u001b[39mshape,  texture_uv_basis(fs, mesh)\u001b[39m.\u001b[39mshape)\n\u001b[0;32m---> <a href='vscode-notebook-cell://ssh-remote%2Bchi-sight-instance-1.us-west1-b.chi-sight-mkl/home/mirko/workspace/bayes3d/scripts/_mkl/notebooks/04%20-%20Trimesh%20to%20Gaussians.ipynb#X25sdnNjb2RlLXJlbW90ZQ%3D%3D?line=14'>15</a>\u001b[0m     uvs \u001b[39m=\u001b[39m jnp\u001b[39m.\u001b[39msum(ps[:,:,\u001b[39mNone\u001b[39;00m]\u001b[39m*\u001b[39m texture_uv_basis(fs, mesh), axis\u001b[39m=\u001b[39m\u001b[39m1\u001b[39m)\n\u001b[1;32m     <a href='vscode-notebook-cell://ssh-remote%2Bchi-sight-instance-1.us-west1-b.chi-sight-mkl/home/mirko/workspace/bayes3d/scripts/_mkl/notebooks/04%20-%20Trimesh%20to%20Gaussians.ipynb#X25sdnNjb2RlLXJlbW90ZQ%3D%3D?line=15'>16</a>\u001b[0m     cs  \u001b[39m=\u001b[39m uv_to_color(uvs, mesh)\u001b[39m/\u001b[39m\u001b[39m255\u001b[39m\n\u001b[1;32m     <a href='vscode-notebook-cell://ssh-remote%2Bchi-sight-instance-1.us-west1-b.chi-sight-mkl/home/mirko/workspace/bayes3d/scripts/_mkl/notebooks/04%20-%20Trimesh%20to%20Gaussians.ipynb#X25sdnNjb2RlLXJlbW90ZQ%3D%3D?line=16'>17</a>\u001b[0m \u001b[39melse\u001b[39;00m:\n",
      "File \u001b[0;32m/opt/conda/envs/dcolmap/lib/python3.11/site-packages/jax/_src/numpy/array_methods.py:256\u001b[0m, in \u001b[0;36m_defer_to_unrecognized_arg.<locals>.deferring_binary_op\u001b[0;34m(self, other)\u001b[0m\n\u001b[1;32m    254\u001b[0m args \u001b[39m=\u001b[39m (other, \u001b[39mself\u001b[39m) \u001b[39mif\u001b[39;00m swap \u001b[39melse\u001b[39;00m (\u001b[39mself\u001b[39m, other)\n\u001b[1;32m    255\u001b[0m \u001b[39mif\u001b[39;00m \u001b[39misinstance\u001b[39m(other, _accepted_binop_types):\n\u001b[0;32m--> 256\u001b[0m   \u001b[39mreturn\u001b[39;00m binary_op(\u001b[39m*\u001b[39margs)\n\u001b[1;32m    257\u001b[0m \u001b[39m# Note: don't use isinstance here, because we don't want to raise for\u001b[39;00m\n\u001b[1;32m    258\u001b[0m \u001b[39m# subclasses, e.g. NamedTuple objects that may override operators.\u001b[39;00m\n\u001b[1;32m    259\u001b[0m \u001b[39mif\u001b[39;00m \u001b[39mtype\u001b[39m(other) \u001b[39min\u001b[39;00m _rejected_binop_types:\n",
      "    \u001b[0;31m[... skipping hidden 12 frame]\u001b[0m\n",
      "File \u001b[0;32m/opt/conda/envs/dcolmap/lib/python3.11/site-packages/jax/_src/numpy/ufuncs.py:96\u001b[0m, in \u001b[0;36m_maybe_bool_binop.<locals>.fn\u001b[0;34m(x1, x2)\u001b[0m\n\u001b[1;32m     95\u001b[0m \u001b[39mdef\u001b[39;00m \u001b[39mfn\u001b[39m(x1, x2, \u001b[39m/\u001b[39m):\n\u001b[0;32m---> 96\u001b[0m   x1, x2 \u001b[39m=\u001b[39m promote_args(numpy_fn\u001b[39m.\u001b[39m\u001b[39m__name__\u001b[39m, x1, x2)\n\u001b[1;32m     97\u001b[0m   \u001b[39mreturn\u001b[39;00m lax_fn(x1, x2) \u001b[39mif\u001b[39;00m x1\u001b[39m.\u001b[39mdtype \u001b[39m!=\u001b[39m np\u001b[39m.\u001b[39mbool_ \u001b[39melse\u001b[39;00m bool_lax_fn(x1, x2)\n",
      "File \u001b[0;32m/opt/conda/envs/dcolmap/lib/python3.11/site-packages/jax/_src/numpy/util.py:363\u001b[0m, in \u001b[0;36mpromote_args\u001b[0;34m(fun_name, *args)\u001b[0m\n\u001b[1;32m    361\u001b[0m check_arraylike(fun_name, \u001b[39m*\u001b[39margs)\n\u001b[1;32m    362\u001b[0m _check_no_float0s(fun_name, \u001b[39m*\u001b[39margs)\n\u001b[0;32m--> 363\u001b[0m \u001b[39mreturn\u001b[39;00m promote_shapes(fun_name, \u001b[39m*\u001b[39mpromote_dtypes(\u001b[39m*\u001b[39margs))\n",
      "File \u001b[0;32m/opt/conda/envs/dcolmap/lib/python3.11/site-packages/jax/_src/numpy/util.py:248\u001b[0m, in \u001b[0;36mpromote_shapes\u001b[0;34m(fun_name, *args)\u001b[0m\n\u001b[1;32m    246\u001b[0m \u001b[39mif\u001b[39;00m config\u001b[39m.\u001b[39mnumpy_rank_promotion\u001b[39m.\u001b[39mvalue \u001b[39m!=\u001b[39m \u001b[39m\"\u001b[39m\u001b[39mallow\u001b[39m\u001b[39m\"\u001b[39m:\n\u001b[1;32m    247\u001b[0m   _rank_promotion_warning_or_error(fun_name, shapes)\n\u001b[0;32m--> 248\u001b[0m result_rank \u001b[39m=\u001b[39m \u001b[39mlen\u001b[39m(lax\u001b[39m.\u001b[39mbroadcast_shapes(\u001b[39m*\u001b[39mshapes))\n\u001b[1;32m    249\u001b[0m \u001b[39mreturn\u001b[39;00m [_broadcast_to(arg, (\u001b[39m1\u001b[39m,) \u001b[39m*\u001b[39m (result_rank \u001b[39m-\u001b[39m \u001b[39mlen\u001b[39m(shp)) \u001b[39m+\u001b[39m shp)\n\u001b[1;32m    250\u001b[0m         \u001b[39mfor\u001b[39;00m arg, shp \u001b[39min\u001b[39;00m \u001b[39mzip\u001b[39m(args, shapes)]\n",
      "    \u001b[0;31m[... skipping hidden 1 frame]\u001b[0m\n",
      "File \u001b[0;32m/opt/conda/envs/dcolmap/lib/python3.11/site-packages/jax/_src/lax/lax.py:168\u001b[0m, in \u001b[0;36m_broadcast_shapes_uncached\u001b[0;34m(*shapes)\u001b[0m\n\u001b[1;32m    166\u001b[0m result_shape \u001b[39m=\u001b[39m _try_broadcast_shapes(shape_list)\n\u001b[1;32m    167\u001b[0m \u001b[39mif\u001b[39;00m result_shape \u001b[39mis\u001b[39;00m \u001b[39mNone\u001b[39;00m:\n\u001b[0;32m--> 168\u001b[0m   \u001b[39mraise\u001b[39;00m \u001b[39mValueError\u001b[39;00m(\u001b[39mf\u001b[39m\u001b[39m\"\u001b[39m\u001b[39mIncompatible shapes for broadcasting: shapes=\u001b[39m\u001b[39m{\u001b[39;00m\u001b[39mlist\u001b[39m(shapes)\u001b[39m}\u001b[39;00m\u001b[39m\"\u001b[39m)\n\u001b[1;32m    169\u001b[0m \u001b[39mreturn\u001b[39;00m result_shape\n",
      "\u001b[0;31mValueError\u001b[0m: Incompatible shapes for broadcasting: shapes=[(20000, 3, 1, 1), (20000, 3, 2)]"
     ]
    }
   ],
   "source": [
    "key = keysplit(key)\n",
    "n = 20_000\n",
    "xs, cs, _ = uniformly_sample_from_mesh(key, n, mesh, with_color=True)\n",
    "\n",
    "# xs = np.array(xs)\n",
    "# cs = np.array(cs)\n",
    "# np.min(xs, axis=0), np.max(xs, axis=0)"
   ]
  },
  {
   "cell_type": "code",
   "execution_count": null,
   "metadata": {},
   "outputs": [
    {
     "data": {
      "text/plain": [
       "(array([-1.5116627 , -1.315575  , -0.48758227], dtype=float32),\n",
       " array([1.2810575 , 0.99864995, 0.3267756 ], dtype=float32))"
      ]
     },
     "execution_count": 44,
     "metadata": {},
     "output_type": "execute_result"
    }
   ],
   "source": [
    "# key = keysplit(key)\n",
    "# xs, cs, _ = uniformly_sample_from_mesh(key, 30_000, mesh.faces, mesh.vertices, \n",
    "#                 texture_uv=texvis.uv, uv_to_color=texvis.material.to_color)\n",
    "\n",
    "# xs = np.array(xs)\n",
    "# cs = np.array(cs)\n",
    "# np.min(xs, axis=0), np.max(xs, axis=0)"
   ]
  },
  {
   "cell_type": "code",
   "execution_count": 207,
   "metadata": {},
   "outputs": [
    {
     "data": {
      "text/plain": [
       "True"
      ]
     },
     "execution_count": 207,
     "metadata": {},
     "output_type": "execute_result"
    }
   ],
   "source": [
    " import numpy as np\n",
    "from sklearn.mixture import GaussianMixture\n",
    "\n",
    "key = keysplit(key)\n",
    "# sig = 0.0; \n",
    "n_components = 50\n",
    "means_init = np.array(uniformly_sample_from_mesh(key, n_components, mesh, with_color=False)[0]);\n",
    "sig = 2*1e-2;\n",
    "X = xs + np.random.randn(*xs.shape)*sig\n",
    "# gm = GaussianMixture(n_components=n_components, tol=1e-3, max_iter=100, covariance_type=\"spherical\").fit(X)\n",
    "gm = GaussianMixture(n_components=n_components, tol=1e-3, max_iter=100, covariance_type=\"full\", means_init=means_init).fit(X)\n",
    "gm.means_.shape\n",
    "vs = gm.score_samples(X)\n",
    "\n",
    "gm.converged_"
   ]
  },
  {
   "cell_type": "code",
   "execution_count": 208,
   "metadata": {},
   "outputs": [],
   "source": [
    "def get_mean_colors(xs, cs, labels):\n",
    "    mean_colors = []\n",
    "    for label in np.unique(labels):\n",
    "        idx = labels == label\n",
    "        mean_colors.append(np.mean(cs[idx], axis=0))\n",
    "    return np.array(mean_colors)\n",
    "    "
   ]
  },
  {
   "cell_type": "code",
   "execution_count": 209,
   "metadata": {},
   "outputs": [],
   "source": [
    "mean_colors = get_mean_colors(xs, cs, gm.predict(X))"
   ]
  },
  {
   "cell_type": "code",
   "execution_count": 210,
   "metadata": {},
   "outputs": [
    {
     "data": {
      "text/plain": [
       "((50, 4), 50)"
      ]
     },
     "execution_count": 210,
     "metadata": {},
     "output_type": "execute_result"
    }
   ],
   "source": [
    "labels = gm.predict(X)\n",
    "mus  = gm.means_\n",
    "covs = gm.covariances_\n",
    "cols = []\n",
    "nums = []\n",
    "for i in range(len(mus)):\n",
    "    num = np.sum(labels==i)\n",
    "    nums.append(num)\n",
    "    cols.append(\n",
    "        np.mean(cs[labels==i], axis=0) if num > 0 else np.array([0,0,0,0])\n",
    "        # cs[labels==i][np.random.randint(0, len(cs[labels==i]))] if num > 0 else np.array([0,0,0,0])\n",
    "    )\n",
    "cols = np.array(cols)\n",
    "nums = np.array(nums) > 0 \n",
    "cols.shape, np.sum(nums)"
   ]
  },
  {
   "cell_type": "code",
   "execution_count": 211,
   "metadata": {},
   "outputs": [],
   "source": [
    "def gaussian_mesh(mu=np.zeros(3), cov=np.eye(3), scale=2.0, num_points=20, color=None):\n",
    "    if len(cov.shape) == 0: cov =  cov*jnp.eye(3)\n",
    "    mesh = create_ellipsoid_trimesh(cov, num_points, scale)\n",
    "    mesh.vertices += mu\n",
    "    if color is not None: mesh.visual.face_colors = col\n",
    "    return mesh\n"
   ]
  },
  {
   "cell_type": "code",
   "execution_count": 212,
   "metadata": {},
   "outputs": [
    {
     "name": "stdout",
     "output_type": "stream",
     "text": [
      "49\r"
     ]
    }
   ],
   "source": [
    "gm.covariances_.shape\n",
    "cov_meshes = []\n",
    "for i, (mu, cov, col) in enumerate(zip(mus[nums], covs[nums], cols[nums])):\n",
    "    print(i, end=\"\\r\")\n",
    "    cov_meshes.append(gaussian_mesh(mu,cov, scale=2., num_points=20, color=col))\n",
    "\n",
    "len(cov_meshes), cols.shape\n",
    "cols = cols[nums]"
   ]
  },
  {
   "cell_type": "code",
   "execution_count": 213,
   "metadata": {},
   "outputs": [],
   "source": [
    "# scene = trimesh.Scene(cov_meshes, lights=[ trimesh.scene.lighting.DirectionalLight(color=np.array([0.5,0.1,0.1]), intensity=50.0, radius=100)])\n",
    "# scene.show()\n"
   ]
  },
  {
   "cell_type": "code",
   "execution_count": 214,
   "metadata": {},
   "outputs": [],
   "source": [
    "def split_into_vfc(cov_meshes, cols, alpha=1.0):\n",
    "    vv = []\n",
    "    cc = []\n",
    "    ff = []\n",
    "    for m,c in zip(cov_meshes, cols):\n",
    "        vv.append(np.array(m.vertices))\n",
    "        ff.append(np.array(m.faces)[:])\n",
    "        cc.append(np.array([*c[:3], alpha]))\n",
    "\n",
    "    vv = np.array(vv)\n",
    "    cc = np.array(cc)\n",
    "    ff = np.array(ff, dtype=np.int32)\n",
    "    return vv, ff, cc"
   ]
  },
  {
   "cell_type": "code",
   "execution_count": 215,
   "metadata": {},
   "outputs": [],
   "source": [
    "# vv = []\n",
    "# cc = []\n",
    "# ff = []\n",
    "# for m,c in zip(cov_meshes, cols):\n",
    "#     vv.append(np.array(m.vertices))\n",
    "#     ff.append(np.array(m.faces)[:])\n",
    "#     cc.append(np.array([*c[:3], 1.]))\n",
    "\n",
    "# vv = np.array(vv)\n",
    "# cc = np.array(cc)\n",
    "# ff = np.array(ff, dtype=np.int32)\n",
    "# vv.shape, cc.shape, ff.shape\n",
    "\n"
   ]
  },
  {
   "cell_type": "code",
   "execution_count": null,
   "metadata": {},
   "outputs": [],
   "source": []
  },
  {
   "cell_type": "code",
   "execution_count": 216,
   "metadata": {},
   "outputs": [],
   "source": [
    "import json"
   ]
  },
  {
   "cell_type": "code",
   "execution_count": 217,
   "metadata": {},
   "outputs": [
    {
     "name": "stdout",
     "output_type": "stream",
     "text": [
      "response:  \n"
     ]
    }
   ],
   "source": [
    "msg = viz_pb2.Message()\n",
    "msg.payload.json = json.dumps({\"type\": \"setup\"})\n",
    "msg.payload.data.MergeFrom(traceviz.client.to_pytree_msg([]))\n",
    "stub = traceviz.client.connect()\n",
    "print('response: ', stub.Broadcast(msg))\n"
   ]
  },
  {
   "cell_type": "code",
   "execution_count": 218,
   "metadata": {},
   "outputs": [],
   "source": [
    "vv, ff, cc = split_into_vfc(cov_meshes, cols, alpha=1.)"
   ]
  },
  {
   "cell_type": "code",
   "execution_count": 219,
   "metadata": {},
   "outputs": [
    {
     "name": "stdout",
     "output_type": "stream",
     "text": [
      "response:  listener_identifiers: \"2023-11-14T16:38:00.635109 :: ipv4:127.0.0.1:48962\"\n",
      "\n"
     ]
    }
   ],
   "source": [
    "msg = viz_pb2.Message()\n",
    "msg.payload.json = json.dumps({\"type\": \"Gaussians\"})\n",
    "msg.payload.data.MergeFrom(\n",
    "    traceviz.client.to_pytree_msg({'vertices': vv, 'colors': cc, \"faces\": ff})\n",
    ")\n",
    "    \n",
    "    # , 'faces': mesh.faces, 'colors': cs}))\n",
    "\n",
    "stub = traceviz.client.connect()\n",
    "print('response: ', stub.Broadcast(msg))\n"
   ]
  },
  {
   "cell_type": "code",
   "execution_count": 61,
   "metadata": {},
   "outputs": [
    {
     "name": "stdout",
     "output_type": "stream",
     "text": [
      "response:  listener_identifiers: \"2023-11-14T12:34:12.732706 :: ipv4:127.0.0.1:60350\"\n",
      "\n"
     ]
    }
   ],
   "source": [
    "msg = viz_pb2.Message()\n",
    "msg.payload.json = json.dumps({\"type\": \"setup\"})\n",
    "msg.payload.data.MergeFrom(traceviz.client.to_pytree_msg([]))\n",
    "stub = traceviz.client.connect()\n",
    "print('response: ', stub.Broadcast(msg))\n"
   ]
  },
  {
   "cell_type": "code",
   "execution_count": 58,
   "metadata": {},
   "outputs": [
    {
     "data": {
      "image/png": "[encoded data removed]",
      "text/html": [
       "<div style=\"vertical-align: middle;\"><strong>cool</strong> </div><div class=\"cmap\"><img alt=\"cool colormap\" title=\"cool\" style=\"border: 1px solid #555;\" src=\"data:image/png;base64,iVBORw0KGgoAAAANSUhEUgAAAgAAAABACAYAAABsv8+/AAAAE3RFWHRUaXRsZQBjb29sIGNvbG9ybWFwN9+MxQAAABl0RVh0RGVzY3JpcHRpb24AY29vbCBjb2xvcm1hcLxtHF0AAAAwdEVYdEF1dGhvcgBNYXRwbG90bGliIHYzLjguMSwgaHR0cHM6Ly9tYXRwbG90bGliLm9yZzr4aEEAAAAydEVYdFNvZnR3YXJlAE1hdHBsb3RsaWIgdjMuOC4xLCBodHRwczovL21hdHBsb3RsaWIub3JnFF73ZgAAAWBJREFUeJzt1rEKg0AURcGn///NbhorKwWFwJlplhB2LyTN2WatNTOzrZnyOee5v/X9cZ7z0fsv79/duf07Xvbf+h/sf7v/+nvH5fPD+/b/bP/pO9d7D+/b/3Z/HwAgRwAAQJAAAIAgAQAAQQIAAIIEAAAECQAACBIAABAkAAAgSAAAQJAAAIAgAQAAQQIAAIIEAAAECQAACBIAABAkAAAgSAAAQJAAAIAgAQAAQQIAAIIEAAAECQAACBIAABAkAAAgSAAAQJAAAIAgAQAAQQIAAIIEAAAECQAACBIAABAkAAAgSAAAQJAAAIAgAQAAQQIAAIIEAAAECQAACBIAABAkAAAgSAAAQJAAAIAgAQAAQQIAAIIEAAAECQAACBIAABAkAAAgSAAAQJAAAIAgAQAAQQIAAIIEAAAECQAACBIAABAkAAAgSAAAQJAAAIAgAQAAQQIAAIIEAAAECQAACPoBsqPsfeghrZ0AAAAASUVORK5CYII=\"></div><div style=\"vertical-align: middle; max-width: 514px; display: flex; justify-content: space-between;\"><div style=\"float: left;\"><div title=\"#00ffffff\" style=\"display: inline-block; width: 1em; height: 1em; margin: 0; vertical-align: middle; border: 1px solid #555; background-color: #00ffffff;\"></div> under</div><div style=\"margin: 0 auto; display: inline-block;\">bad <div title=\"#00000000\" style=\"display: inline-block; width: 1em; height: 1em; margin: 0; vertical-align: middle; border: 1px solid #555; background-color: #00000000;\"></div></div><div style=\"float: right;\">over <div title=\"#ff00ffff\" style=\"display: inline-block; width: 1em; height: 1em; margin: 0; vertical-align: middle; border: 1px solid #555; background-color: #ff00ffff;\"></div></div>"
      ],
      "text/plain": [
       "<matplotlib.colors.LinearSegmentedColormap at 0x7f3685afdbd0>"
      ]
     },
     "execution_count": 58,
     "metadata": {},
     "output_type": "execute_result"
    }
   ],
   "source": [
    "\n",
    "\n",
    "cm  = getattr(plt.cm, \"cool\")\n",
    "# cs  = cm(plt.Normalize()(vs_))\n",
    "cm"
   ]
  },
  {
   "cell_type": "code",
   "execution_count": 59,
   "metadata": {},
   "outputs": [],
   "source": [
    "key = keysplit(key)\n",
    "xs_, cs_, _ = uniformly_sample_from_mesh(key, 15_000, mesh.faces, mesh.vertices, \n",
    "                texture_uv=texvis.uv, uv_to_color=texvis.material.to_color)\n",
    "\n",
    "# labels_ = gm.predict(xs_)\n",
    "# cols_ = mean_colors[labels_]\n",
    "# cs_.shape, cols_.shape\n",
    "\n",
    "\n",
    "\n",
    "# distances = np.linalg.norm(cs_ - cols_, axis=1)\n",
    "# print(distances.shape)\n",
    "# print(np.min(distances), np.max(distances))\n",
    "# cs_  = cm(plt.Normalize()(distances))\n",
    "# cs_.shape"
   ]
  },
  {
   "cell_type": "code",
   "execution_count": 60,
   "metadata": {},
   "outputs": [
    {
     "name": "stdout",
     "output_type": "stream",
     "text": [
      "(15000, 3) (15000, 4)\n",
      "response:  listener_identifiers: \"2023-11-14T12:34:12.732706 :: ipv4:127.0.0.1:60350\"\n",
      "\n"
     ]
    }
   ],
   "source": [
    "\n",
    "\n",
    "print(xs_.shape, cs_.shape)\n",
    "\n",
    "\n",
    "msg = viz_pb2.Message()\n",
    "msg.payload.json = json.dumps({\"type\": \"Spheres\"})\n",
    "msg.payload.data.MergeFrom(\n",
    "    traceviz.client.to_pytree_msg({\n",
    "        'centers': np.array(xs_), \n",
    "        'colors': np.array(cs_), \n",
    "        \"scales\": 0.025*np.ones(len(xs_))\n",
    "    })\n",
    ")\n",
    "    \n",
    "\n",
    "stub = traceviz.client.connect()\n",
    "print('response: ', stub.Broadcast(msg))\n"
   ]
  },
  {
   "cell_type": "markdown",
   "metadata": {},
   "source": [
    "\n"
   ]
  }
 ],
 "metadata": {
  "kernelspec": {
   "display_name": "bayes3d",
   "language": "python",
   "name": "python3"
  },
  "language_info": {
   "codemirror_mode": {
    "name": "ipython",
    "version": 3
   },
   "file_extension": ".py",
   "mimetype": "text/x-python",
   "name": "python",
   "nbconvert_exporter": "python",
   "pygments_lexer": "ipython3",
   "version": "3.11.6"
  },
  "orig_nbformat": 4
 },
 "nbformat": 4,
 "nbformat_minor": 2
}
