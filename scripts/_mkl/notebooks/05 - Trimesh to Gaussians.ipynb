{
 "cells": [
  {
   "cell_type": "code",
   "execution_count": 1,
   "metadata": {},
   "outputs": [],
   "source": [
    "%load_ext autoreload\n",
    "%autoreload 2"
   ]
  },
  {
   "cell_type": "code",
   "execution_count": 2,
   "metadata": {},
   "outputs": [],
   "source": [
    "import bayes3d as b3d\n",
    "import trimesh\n",
    "import os\n",
    "from bayes3d._mkl.utils import *\n",
    "import matplotlib.pyplot as plt\n",
    "import numpy as np\n",
    "import jax\n",
    "from jax import jit, vmap\n",
    "import jax.numpy as jnp\n",
    "\n",
    "\n",
    "key = jax.random.PRNGKey(0)"
   ]
  },
  {
   "cell_type": "code",
   "execution_count": 3,
   "metadata": {},
   "outputs": [],
   "source": [
    "import traceviz.client\n",
    "import numpy as np\n",
    "from traceviz.proto import  viz_pb2"
   ]
  },
  {
   "cell_type": "code",
   "execution_count": 4,
   "metadata": {},
   "outputs": [],
   "source": [
    "from typing import Any, NamedTuple\n",
    "\n",
    "\n",
    "Array = np.ndarray | jax.Array\n",
    "Shape = int | tuple[int, ...]\n",
    "FaceIndex = int\n",
    "FaceIndices = Array\n",
    "Array3      = Array\n",
    "Array2      = Array\n",
    "ArrayNx2    = Array\n",
    "ArrayNx3    = Array"
   ]
  },
  {
   "cell_type": "code",
   "execution_count": 5,
   "metadata": {},
   "outputs": [],
   "source": [
    "def area_of_triangle(a:Array3, b:Array3, c:Array3=jnp.zeros(3)):\n",
    "\n",
    "    v = a-c\n",
    "    w = b-c\n",
    "\n",
    "    l = jnp.linalg.norm(w)\n",
    "    h = jnp.linalg.norm(v - jnp.dot(v, w)/l**2*w)\n",
    "    area = l*h\n",
    "\n",
    "    return area/2\n",
    "\n",
    "\n",
    "def _compute_area_and_normal(f:FaceIndex, vertices):\n",
    "    a = vertices[f[1]] - vertices[f[0]]\n",
    "    b = vertices[f[2]] - vertices[f[0]]\n",
    "    area = area_of_triangle(a, b)\n",
    "    normal = jnp.cross(a,b)\n",
    "    return area, normal\n",
    "\n",
    "\n",
    "compute_area_and_normals = jit(vmap(_compute_area_and_normal, (0,None)))"
   ]
  },
  {
   "cell_type": "code",
   "execution_count": 6,
   "metadata": {},
   "outputs": [],
   "source": [
    "def patch_trimesh(mesh:trimesh.base.Trimesh):\n",
    "    \"\"\"\n",
    "    Return a patched copy of a trimesh object, and \n",
    "    ensure it to have a texture and the following attributes:\n",
    "    - `mesh.visual.uv`\n",
    "    - `copy.visual.material.to_color`\n",
    "    \"\"\"\n",
    "    patched_mesh = mesh.copy()\n",
    "    if isinstance(mesh.visual, trimesh.visual.color.ColorVisuals):\n",
    "        patched_mesh.visual = mesh.visual.to_texture()\n",
    "    elif isinstance(mesh.visual, trimesh.visual.texture.TextureVisuals):\n",
    "        pass\n",
    "\n",
    "    return patched_mesh\n",
    "\n",
    "\n",
    "def texture_uv_basis(face_idx:Array, mesh):\n",
    "    return mesh.visual.uv[mesh.faces[face_idx]]\n",
    "\n",
    "\n",
    "def uv_to_color(uv:ArrayNx2, mesh):\n",
    "    return mesh.visual.material.to_color(uv)"
   ]
  },
  {
   "cell_type": "code",
   "execution_count": 7,
   "metadata": {},
   "outputs": [],
   "source": [
    "def barycentric_to_mesh(p:Array3, i:FaceIndex, mesh):\n",
    "    x = jnp.sum(p[:,None]*mesh.vertices[mesh.faces[i]], axis=0)\n",
    "    return x\n",
    "\n",
    "\n",
    "def sample_from_face(key, n, i, mesh):\n",
    "    _, key = keysplit(key,1,1)\n",
    "    ps = jax.random.dirichlet(key, jnp.ones(3), (n,)).reshape((n,3,1))\n",
    "    xs = jnp.sum(ps*mesh.vertices[mesh.faces[i]], axis=1)\n",
    "    return xs, ps\n",
    "\n",
    "\n",
    "def sample_from_mesh(key, n, mesh):\n",
    "    \"\"\"Returns random points, barycentric coordinates, and face indices from a mesh.\"\"\"\n",
    "    key, keys = keysplit(key,1,2)\n",
    "    areas, _ = compute_area_and_normals(mesh.faces, mesh.vertices)\n",
    "    fs = jax.random.categorical(keys[0], jnp.log(areas), shape=(n,))\n",
    "    ps = jax.random.dirichlet(keys[1], jnp.ones(3), (n,)).reshape((n,3,1))\n",
    "    xs = jnp.sum(ps*mesh.vertices[mesh.faces[fs]], axis=1)\n",
    "    return xs, ps, fs\n",
    "    \n",
    "\n",
    "def get_colors_from_mesh(ps:ArrayNx3, fs:FaceIndices, mesh):\n",
    "    uvs = jnp.sum(ps * texture_uv_basis(fs, mesh), axis=1)\n",
    "    cs  = uv_to_color(uvs, mesh)/255\n",
    "    return cs"
   ]
  },
  {
   "cell_type": "code",
   "execution_count": 8,
   "metadata": {},
   "outputs": [
    {
     "name": "stdout",
     "output_type": "stream",
     "text": [
      "Help on function sample_from_mesh in module __main__:\n",
      "\n",
      "sample_from_mesh(key, n, mesh)\n",
      "    Returns random points, barycentric coordinates, and face indices from a mesh.\n",
      "\n"
     ]
    }
   ],
   "source": [
    "help(sample_from_mesh)"
   ]
  },
  {
   "cell_type": "code",
   "execution_count": 9,
   "metadata": {},
   "outputs": [],
   "source": [
    "def uniformly_sample_from_mesh(key, n, mesh, with_color=True):\n",
    "    \"\"\"Uniformly sample `n` points and optionally their color on the surface from a mesh.\"\"\"\n",
    "    key, keys = keysplit(key,1,2)\n",
    "\n",
    "    areas, _ = compute_area_and_normals(mesh.faces, mesh.vertices)\n",
    "\n",
    "    # First sample face indices, then sample barycentric coordinates, and\n",
    "    # finally compute the positions of the points.\n",
    "    fs = jax.random.categorical(keys[0], jnp.log(areas), shape=(n,))\n",
    "    ps = jax.random.dirichlet(keys[1], jnp.ones(3), (n,)).reshape((n,3,1))\n",
    "    xs = jnp.sum(ps*mesh.vertices[mesh.faces[fs]], axis=1)\n",
    "\n",
    "    if with_color:\n",
    "        uvs = jnp.sum(ps* texture_uv_basis(fs, mesh), axis=1)\n",
    "        cs  = uv_to_color(uvs, mesh)/255\n",
    "    else:\n",
    "        cs = jnp.full((n,3), 0.5)\n",
    "\n",
    "    return xs, cs, {\"barycentric\": ps, \"face_idx\": fs}"
   ]
  },
  {
   "cell_type": "code",
   "execution_count": 10,
   "metadata": {},
   "outputs": [],
   "source": [
    "import numpy as np\n",
    "import trimesh\n",
    "from jax.scipy.spatial.transform import Rotation as Rot\n",
    "\n",
    "def covariance_sq_decomposition(Cov):\n",
    "    \"\"\"Returns scales and quaternion from covariance matrix.\"\"\"\n",
    "    lambdas, Q = jnp.linalg.eig(Cov)\n",
    "    return jnp.sqrt(lambdas), Rot.from_matrix(Q).as_quat()\n"
   ]
  },
  {
   "cell_type": "code",
   "execution_count": 11,
   "metadata": {},
   "outputs": [],
   "source": [
    "# def uniformly_sample_from_mesh(key, n, faces, vertices, texture_uv=None, uv_to_color=None):\n",
    "#     \"\"\"Uniformly sample points on the surface from a mesh.\"\"\"\n",
    "\n",
    "#     key, keys = keysplit(key,1,2)\n",
    "\n",
    "#     areas, _ = compute_area_and_normals(faces, vertices)\n",
    "\n",
    "#     fs = jax.random.categorical(keys[0], jnp.log(areas), shape=(n,))\n",
    "#     ps = jax.random.dirichlet(keys[1], jnp.ones(3), (n,))\n",
    "#     xs = jnp.sum(ps[:,:,None]*vertices[faces[fs]], axis=1)\n",
    "\n",
    "#     if uv_to_color is not None:\n",
    "#         us = jnp.sum(ps[:,:,None]*texture_uv[faces[fs]], axis=1)\n",
    "#         cs = uv_to_color(us)/255\n",
    "#     else:\n",
    "#         cs = None\n",
    "\n",
    "#     return xs, cs, {\"barycentric\": ps, \"face_idx\": fs}"
   ]
  },
  {
   "cell_type": "markdown",
   "metadata": {},
   "source": [
    "https://sketchfab.com/search?features=animated&q=tree&type=models\n",
    "https://sketchfab.com/3d-models/rigged-animated-cinematic-quality-tree-4-544329bb254d4e45b5eae96ccc5bacf6"
   ]
  },
  {
   "cell_type": "code",
   "execution_count": 12,
   "metadata": {},
   "outputs": [
    {
     "name": "stdout",
     "output_type": "stream",
     "text": [
      "/home/mirko/workspace/bayes3d/scripts/_mkl/notebooks\n"
     ]
    }
   ],
   "source": [
    "!pwd"
   ]
  },
  {
   "cell_type": "markdown",
   "metadata": {},
   "source": [
    "## Load Mesh"
   ]
  },
  {
   "cell_type": "code",
   "execution_count": 116,
   "metadata": {},
   "outputs": [],
   "source": [
    "t=0\n",
    "mesh = trimesh.load(f\"data/flag_objs/flag_t_{t}.obj\")"
   ]
  },
  {
   "cell_type": "code",
   "execution_count": 13,
   "metadata": {},
   "outputs": [],
   "source": [
    "_scaling  = 1e-3\n",
    "model_dir = os.path.join(b3d.utils.get_assets_dir(),\"bop/ycbv/models\")\n",
    "\n",
    "_meshes = []\n",
    "for idx in range(1,22):\n",
    "    mesh_path = os.path.join(model_dir,\"obj_\" + \"{}\".format(idx).rjust(6, '0') + \".ply\")\n",
    "    mesh = trimesh.load(mesh_path)\n",
    "    mesh.vertices *= _scaling \n",
    "    _meshes.append(mesh)\n",
    "\n",
    "\n",
    "mesh_path = os.path.join(b3d.utils.get_assets_dir(), \"sample_objs/cube.obj\")\n",
    "mesh = trimesh.load(mesh_path)\n",
    "mesh.vertices *= 1e-1\n",
    "_meshes.append(mesh)\n"
   ]
  },
  {
   "cell_type": "code",
   "execution_count": 14,
   "metadata": {},
   "outputs": [],
   "source": [
    "mesh = _meshes[9] # banana 9, scissors 16"
   ]
  },
  {
   "cell_type": "markdown",
   "metadata": {},
   "source": [
    "## Fit GMM"
   ]
  },
  {
   "cell_type": "code",
   "execution_count": 15,
   "metadata": {},
   "outputs": [
    {
     "name": "stdout",
     "output_type": "stream",
     "text": [
      "\n",
      " mesh.vertices: (10710, 3)\n",
      "    mesh.faces: (15728, 3)\n",
      "       mesh.uv: (10710, 2)\n",
      "\n"
     ]
    }
   ],
   "source": [
    "mesh = patch_trimesh(mesh)\n",
    "\n",
    "\n",
    "print(f\"\"\"\n",
    " mesh.vertices: {mesh.vertices.shape}\n",
    "    mesh.faces: {mesh.faces.shape}\n",
    "       mesh.uv: {mesh.visual.uv.shape}\n",
    "\"\"\")"
   ]
  },
  {
   "cell_type": "code",
   "execution_count": 16,
   "metadata": {},
   "outputs": [
    {
     "name": "stderr",
     "output_type": "stream",
     "text": [
      "2023-11-21 15:12:24.255167: W external/tsl/tsl/framework/bfc_allocator.cc:485] Allocator (GPU_0_bfc) ran out of memory trying to allocate 2.93GiB (rounded to 3145600256)requested by op \n",
      "2023-11-21 15:12:24.255314: W external/tsl/tsl/framework/bfc_allocator.cc:497] ********************************************________________________________________________________\n",
      "2023-11-21 15:12:24.255466: E external/xla/xla/pjrt/pjrt_stream_executor_client.cc:2716] Execution of replica 0 failed: RESOURCE_EXHAUSTED: Out of memory while trying to allocate 3145600256 bytes.\n",
      "BufferAssignment OOM Debugging.\n",
      "BufferAssignment stats:\n",
      "             parameter allocation:         8B\n",
      "              constant allocation:         0B\n",
      "        maybe_live_out allocation:    1.17GiB\n",
      "     preallocated temp allocation:    2.93GiB\n",
      "  preallocated temp fragmentation:         0B (0.00%)\n",
      "                 total allocation:    4.10GiB\n",
      "              total fragmentation:  599.98MiB (14.29%)\n",
      "Peak buffers:\n",
      "\tBuffer 1:\n",
      "\t\tSize: 1.17GiB\n",
      "\t\tOperator: op_name=\"jit(_gumbel)/jit(main)/neg\" source_file=\"/var/tmp/ipykernel_2510908/1262146475.py\" source_line=9\n",
      "\t\tXLA Label: fusion\n",
      "\t\tShape: f32[314560000]\n",
      "\t\t==========================\n",
      "\n",
      "\tBuffer 2:\n",
      "\t\tSize: 599.98MiB\n",
      "\t\tOperator: op_name=\"jit(_gumbel)/jit(main)/jit(_uniform)/threefry2x32\" source_file=\"/var/tmp/ipykernel_2510908/1262146475.py\" source_line=9\n",
      "\t\tXLA Label: custom-call\n",
      "\t\tShape: u32[157280000]\n",
      "\t\t==========================\n",
      "\n",
      "\tBuffer 3:\n",
      "\t\tSize: 599.98MiB\n",
      "\t\tOperator: op_name=\"jit(_gumbel)/jit(main)/jit(_uniform)/threefry2x32\" source_file=\"/var/tmp/ipykernel_2510908/1262146475.py\" source_line=9\n",
      "\t\tXLA Label: custom-call\n",
      "\t\tShape: u32[157280000]\n",
      "\t\t==========================\n",
      "\n",
      "\tBuffer 4:\n",
      "\t\tSize: 599.98MiB\n",
      "\t\tOperator: op_name=\"jit(_gumbel)/jit(main)/jit(_uniform)/slice[start_indices=(157280000,) limit_indices=(314560000,) strides=None]\" source_file=\"/var/tmp/ipykernel_2510908/1262146475.py\" source_line=9\n",
      "\t\tXLA Label: fusion\n",
      "\t\tShape: u32[157280000]\n",
      "\t\t==========================\n",
      "\n",
      "\tBuffer 5:\n",
      "\t\tSize: 599.98MiB\n",
      "\t\tOperator: op_name=\"jit(_gumbel)/jit(main)/jit(_uniform)/slice[start_indices=(0,) limit_indices=(157280000,) strides=None]\" source_file=\"/var/tmp/ipykernel_2510908/1262146475.py\" source_line=9\n",
      "\t\tXLA Label: fusion\n",
      "\t\tShape: u32[157280000]\n",
      "\t\t==========================\n",
      "\n",
      "\tBuffer 6:\n",
      "\t\tSize: 599.98MiB\n",
      "\t\tOperator: op_name=\"jit(_gumbel)/jit(main)/jit(_uniform)/threefry2x32\" source_file=\"/var/tmp/ipykernel_2510908/1262146475.py\" source_line=9\n",
      "\t\tXLA Label: fusion\n",
      "\t\tShape: u32[157280000]\n",
      "\t\t==========================\n",
      "\n",
      "\tBuffer 7:\n",
      "\t\tSize: 16B\n",
      "\t\tOperator: op_name=\"jit(_gumbel)/jit(main)/jit(_uniform)/threefry2x32\" source_file=\"/var/tmp/ipykernel_2510908/1262146475.py\" source_line=9\n",
      "\t\tXLA Label: fusion\n",
      "\t\tShape: (u32[157280000], u32[157280000])\n",
      "\t\t==========================\n",
      "\n",
      "\tBuffer 8:\n",
      "\t\tSize: 16B\n",
      "\t\tOperator: op_name=\"jit(_gumbel)/jit(main)/jit(_uniform)/threefry2x32\" source_file=\"/var/tmp/ipykernel_2510908/1262146475.py\" source_line=9\n",
      "\t\tXLA Label: custom-call\n",
      "\t\tShape: (u32[157280000], u32[157280000])\n",
      "\t\t==========================\n",
      "\n",
      "\tBuffer 9:\n",
      "\t\tSize: 8B\n",
      "\t\tEntry Parameter Subshape: u32[2]\n",
      "\t\t==========================\n",
      "\n",
      "\n"
     ]
    },
    {
     "ename": "XlaRuntimeError",
     "evalue": "RESOURCE_EXHAUSTED: Out of memory while trying to allocate 3145600256 bytes.\nBufferAssignment OOM Debugging.\nBufferAssignment stats:\n             parameter allocation:         8B\n              constant allocation:         0B\n        maybe_live_out allocation:    1.17GiB\n     preallocated temp allocation:    2.93GiB\n  preallocated temp fragmentation:         0B (0.00%)\n                 total allocation:    4.10GiB\n              total fragmentation:  599.98MiB (14.29%)\nPeak buffers:\n\tBuffer 1:\n\t\tSize: 1.17GiB\n\t\tOperator: op_name=\"jit(_gumbel)/jit(main)/neg\" source_file=\"/var/tmp/ipykernel_2510908/1262146475.py\" source_line=9\n\t\tXLA Label: fusion\n\t\tShape: f32[314560000]\n\t\t==========================\n\n\tBuffer 2:\n\t\tSize: 599.98MiB\n\t\tOperator: op_name=\"jit(_gumbel)/jit(main)/jit(_uniform)/threefry2x32\" source_file=\"/var/tmp/ipykernel_2510908/1262146475.py\" source_line=9\n\t\tXLA Label: custom-call\n\t\tShape: u32[157280000]\n\t\t==========================\n\n\tBuffer 3:\n\t\tSize: 599.98MiB\n\t\tOperator: op_name=\"jit(_gumbel)/jit(main)/jit(_uniform)/threefry2x32\" source_file=\"/var/tmp/ipykernel_2510908/1262146475.py\" source_line=9\n\t\tXLA Label: custom-call\n\t\tShape: u32[157280000]\n\t\t==========================\n\n\tBuffer 4:\n\t\tSize: 599.98MiB\n\t\tOperator: op_name=\"jit(_gumbel)/jit(main)/jit(_uniform)/slice[start_indices=(157280000,) limit_indices=(314560000,) strides=None]\" source_file=\"/var/tmp/ipykernel_2510908/1262146475.py\" source_line=9\n\t\tXLA Label: fusion\n\t\tShape: u32[157280000]\n\t\t==========================\n\n\tBuffer 5:\n\t\tSize: 599.98MiB\n\t\tOperator: op_name=\"jit(_gumbel)/jit(main)/jit(_uniform)/slice[start_indices=(0,) limit_indices=(157280000,) strides=None]\" source_file=\"/var/tmp/ipykernel_2510908/1262146475.py\" source_line=9\n\t\tXLA Label: fusion\n\t\tShape: u32[157280000]\n\t\t==========================\n\n\tBuffer 6:\n\t\tSize: 599.98MiB\n\t\tOperator: op_name=\"jit(_gumbel)/jit(main)/jit(_uniform)/threefry2x32\" source_file=\"/var/tmp/ipykernel_2510908/1262146475.py\" source_line=9\n\t\tXLA Label: fusion\n\t\tShape: u32[157280000]\n\t\t==========================\n\n\tBuffer 7:\n\t\tSize: 16B\n\t\tOperator: op_name=\"jit(_gumbel)/jit(main)/jit(_uniform)/threefry2x32\" source_file=\"/var/tmp/ipykernel_2510908/1262146475.py\" source_line=9\n\t\tXLA Label: fusion\n\t\tShape: (u32[157280000], u32[157280000])\n\t\t==========================\n\n\tBuffer 8:\n\t\tSize: 16B\n\t\tOperator: op_name=\"jit(_gumbel)/jit(main)/jit(_uniform)/threefry2x32\" source_file=\"/var/tmp/ipykernel_2510908/1262146475.py\" source_line=9\n\t\tXLA Label: custom-call\n\t\tShape: (u32[157280000], u32[157280000])\n\t\t==========================\n\n\tBuffer 9:\n\t\tSize: 8B\n\t\tEntry Parameter Subshape: u32[2]\n\t\t==========================\n\n",
     "output_type": "error",
     "traceback": [
      "\u001b[0;31m---------------------------------------------------------------------------\u001b[0m",
      "\u001b[0;31mXlaRuntimeError\u001b[0m                           Traceback (most recent call last)",
      "\u001b[1;32m/home/mirko/workspace/bayes3d/scripts/_mkl/notebooks/05 - Trimesh to Gaussians.ipynb Cell 20\u001b[0m line \u001b[0;36m3\n\u001b[1;32m      <a href='vscode-notebook-cell://ssh-remote%2Bchi-sight-instance-1.us-west1-b.chi-sight-mkl/home/mirko/workspace/bayes3d/scripts/_mkl/notebooks/05%20-%20Trimesh%20to%20Gaussians.ipynb#X25sdnNjb2RlLXJlbW90ZQ%3D%3D?line=0'>1</a>\u001b[0m key \u001b[39m=\u001b[39m keysplit(key)\n\u001b[1;32m      <a href='vscode-notebook-cell://ssh-remote%2Bchi-sight-instance-1.us-west1-b.chi-sight-mkl/home/mirko/workspace/bayes3d/scripts/_mkl/notebooks/05%20-%20Trimesh%20to%20Gaussians.ipynb#X25sdnNjb2RlLXJlbW90ZQ%3D%3D?line=1'>2</a>\u001b[0m n \u001b[39m=\u001b[39m \u001b[39m20_000\u001b[39m\n\u001b[0;32m----> <a href='vscode-notebook-cell://ssh-remote%2Bchi-sight-instance-1.us-west1-b.chi-sight-mkl/home/mirko/workspace/bayes3d/scripts/_mkl/notebooks/05%20-%20Trimesh%20to%20Gaussians.ipynb#X25sdnNjb2RlLXJlbW90ZQ%3D%3D?line=2'>3</a>\u001b[0m xs, cs, _ \u001b[39m=\u001b[39m uniformly_sample_from_mesh(key, n, mesh, with_color\u001b[39m=\u001b[39m\u001b[39mTrue\u001b[39;00m)\n",
      "\u001b[1;32m/home/mirko/workspace/bayes3d/scripts/_mkl/notebooks/05 - Trimesh to Gaussians.ipynb Cell 20\u001b[0m line \u001b[0;36m9\n\u001b[1;32m      <a href='vscode-notebook-cell://ssh-remote%2Bchi-sight-instance-1.us-west1-b.chi-sight-mkl/home/mirko/workspace/bayes3d/scripts/_mkl/notebooks/05%20-%20Trimesh%20to%20Gaussians.ipynb#X25sdnNjb2RlLXJlbW90ZQ%3D%3D?line=4'>5</a>\u001b[0m areas, _ \u001b[39m=\u001b[39m compute_area_and_normals(mesh\u001b[39m.\u001b[39mfaces, mesh\u001b[39m.\u001b[39mvertices)\n\u001b[1;32m      <a href='vscode-notebook-cell://ssh-remote%2Bchi-sight-instance-1.us-west1-b.chi-sight-mkl/home/mirko/workspace/bayes3d/scripts/_mkl/notebooks/05%20-%20Trimesh%20to%20Gaussians.ipynb#X25sdnNjb2RlLXJlbW90ZQ%3D%3D?line=6'>7</a>\u001b[0m \u001b[39m# First sample face indices, then sample barycentric coordinates, and\u001b[39;00m\n\u001b[1;32m      <a href='vscode-notebook-cell://ssh-remote%2Bchi-sight-instance-1.us-west1-b.chi-sight-mkl/home/mirko/workspace/bayes3d/scripts/_mkl/notebooks/05%20-%20Trimesh%20to%20Gaussians.ipynb#X25sdnNjb2RlLXJlbW90ZQ%3D%3D?line=7'>8</a>\u001b[0m \u001b[39m# finally compute the positions of the points.\u001b[39;00m\n\u001b[0;32m----> <a href='vscode-notebook-cell://ssh-remote%2Bchi-sight-instance-1.us-west1-b.chi-sight-mkl/home/mirko/workspace/bayes3d/scripts/_mkl/notebooks/05%20-%20Trimesh%20to%20Gaussians.ipynb#X25sdnNjb2RlLXJlbW90ZQ%3D%3D?line=8'>9</a>\u001b[0m fs \u001b[39m=\u001b[39m jax\u001b[39m.\u001b[39mrandom\u001b[39m.\u001b[39mcategorical(keys[\u001b[39m0\u001b[39m], jnp\u001b[39m.\u001b[39mlog(areas), shape\u001b[39m=\u001b[39m(n,))\n\u001b[1;32m     <a href='vscode-notebook-cell://ssh-remote%2Bchi-sight-instance-1.us-west1-b.chi-sight-mkl/home/mirko/workspace/bayes3d/scripts/_mkl/notebooks/05%20-%20Trimesh%20to%20Gaussians.ipynb#X25sdnNjb2RlLXJlbW90ZQ%3D%3D?line=9'>10</a>\u001b[0m ps \u001b[39m=\u001b[39m jax\u001b[39m.\u001b[39mrandom\u001b[39m.\u001b[39mdirichlet(keys[\u001b[39m1\u001b[39m], jnp\u001b[39m.\u001b[39mones(\u001b[39m3\u001b[39m), (n,))\u001b[39m.\u001b[39mreshape((n,\u001b[39m3\u001b[39m,\u001b[39m1\u001b[39m))\n\u001b[1;32m     <a href='vscode-notebook-cell://ssh-remote%2Bchi-sight-instance-1.us-west1-b.chi-sight-mkl/home/mirko/workspace/bayes3d/scripts/_mkl/notebooks/05%20-%20Trimesh%20to%20Gaussians.ipynb#X25sdnNjb2RlLXJlbW90ZQ%3D%3D?line=10'>11</a>\u001b[0m xs \u001b[39m=\u001b[39m jnp\u001b[39m.\u001b[39msum(ps\u001b[39m*\u001b[39mmesh\u001b[39m.\u001b[39mvertices[mesh\u001b[39m.\u001b[39mfaces[fs]], axis\u001b[39m=\u001b[39m\u001b[39m1\u001b[39m)\n",
      "File \u001b[0;32m/opt/conda/envs/dcolmap/lib/python3.11/site-packages/jax/_src/random.py:1597\u001b[0m, in \u001b[0;36mcategorical\u001b[0;34m(key, logits, axis, shape)\u001b[0m\n\u001b[1;32m   1594\u001b[0m logits_shape \u001b[39m=\u001b[39m \u001b[39mlist\u001b[39m(shape[\u001b[39mlen\u001b[39m(shape) \u001b[39m-\u001b[39m \u001b[39mlen\u001b[39m(batch_shape):])\n\u001b[1;32m   1595\u001b[0m logits_shape\u001b[39m.\u001b[39minsert(axis \u001b[39m%\u001b[39m \u001b[39mlen\u001b[39m(logits_arr\u001b[39m.\u001b[39mshape), logits_arr\u001b[39m.\u001b[39mshape[axis])\n\u001b[1;32m   1596\u001b[0m \u001b[39mreturn\u001b[39;00m jnp\u001b[39m.\u001b[39margmax(\n\u001b[0;32m-> 1597\u001b[0m     gumbel(key, (\u001b[39m*\u001b[39mshape_prefix, \u001b[39m*\u001b[39mlogits_shape), logits_arr\u001b[39m.\u001b[39mdtype) \u001b[39m+\u001b[39m\n\u001b[1;32m   1598\u001b[0m     lax\u001b[39m.\u001b[39mexpand_dims(logits_arr, \u001b[39mtuple\u001b[39m(\u001b[39mrange\u001b[39m(\u001b[39mlen\u001b[39m(shape_prefix)))),\n\u001b[1;32m   1599\u001b[0m     axis\u001b[39m=\u001b[39maxis)\n",
      "File \u001b[0;32m/opt/conda/envs/dcolmap/lib/python3.11/site-packages/jax/_src/random.py:1551\u001b[0m, in \u001b[0;36mgumbel\u001b[0;34m(key, shape, dtype)\u001b[0m\n\u001b[1;32m   1549\u001b[0m dtype \u001b[39m=\u001b[39m dtypes\u001b[39m.\u001b[39mcanonicalize_dtype(dtype)\n\u001b[1;32m   1550\u001b[0m shape \u001b[39m=\u001b[39m core\u001b[39m.\u001b[39mcanonicalize_shape(shape)\n\u001b[0;32m-> 1551\u001b[0m \u001b[39mreturn\u001b[39;00m _gumbel(key, shape, dtype)\n",
      "    \u001b[0;31m[... skipping hidden 10 frame]\u001b[0m\n",
      "File \u001b[0;32m/opt/conda/envs/dcolmap/lib/python3.11/site-packages/jax/_src/interpreters/pxla.py:1152\u001b[0m, in \u001b[0;36mExecuteReplicated.__call__\u001b[0;34m(self, *args)\u001b[0m\n\u001b[1;32m   1150\u001b[0m   \u001b[39mself\u001b[39m\u001b[39m.\u001b[39m_handle_token_bufs(result_token_bufs, sharded_runtime_token)\n\u001b[1;32m   1151\u001b[0m \u001b[39melse\u001b[39;00m:\n\u001b[0;32m-> 1152\u001b[0m   results \u001b[39m=\u001b[39m \u001b[39mself\u001b[39m\u001b[39m.\u001b[39mxla_executable\u001b[39m.\u001b[39mexecute_sharded(input_bufs)\n\u001b[1;32m   1153\u001b[0m \u001b[39mif\u001b[39;00m dispatch\u001b[39m.\u001b[39mneeds_check_special():\n\u001b[1;32m   1154\u001b[0m   out_arrays \u001b[39m=\u001b[39m results\u001b[39m.\u001b[39mdisassemble_into_single_device_arrays()\n",
      "\u001b[0;31mXlaRuntimeError\u001b[0m: RESOURCE_EXHAUSTED: Out of memory while trying to allocate 3145600256 bytes.\nBufferAssignment OOM Debugging.\nBufferAssignment stats:\n             parameter allocation:         8B\n              constant allocation:         0B\n        maybe_live_out allocation:    1.17GiB\n     preallocated temp allocation:    2.93GiB\n  preallocated temp fragmentation:         0B (0.00%)\n                 total allocation:    4.10GiB\n              total fragmentation:  599.98MiB (14.29%)\nPeak buffers:\n\tBuffer 1:\n\t\tSize: 1.17GiB\n\t\tOperator: op_name=\"jit(_gumbel)/jit(main)/neg\" source_file=\"/var/tmp/ipykernel_2510908/1262146475.py\" source_line=9\n\t\tXLA Label: fusion\n\t\tShape: f32[314560000]\n\t\t==========================\n\n\tBuffer 2:\n\t\tSize: 599.98MiB\n\t\tOperator: op_name=\"jit(_gumbel)/jit(main)/jit(_uniform)/threefry2x32\" source_file=\"/var/tmp/ipykernel_2510908/1262146475.py\" source_line=9\n\t\tXLA Label: custom-call\n\t\tShape: u32[157280000]\n\t\t==========================\n\n\tBuffer 3:\n\t\tSize: 599.98MiB\n\t\tOperator: op_name=\"jit(_gumbel)/jit(main)/jit(_uniform)/threefry2x32\" source_file=\"/var/tmp/ipykernel_2510908/1262146475.py\" source_line=9\n\t\tXLA Label: custom-call\n\t\tShape: u32[157280000]\n\t\t==========================\n\n\tBuffer 4:\n\t\tSize: 599.98MiB\n\t\tOperator: op_name=\"jit(_gumbel)/jit(main)/jit(_uniform)/slice[start_indices=(157280000,) limit_indices=(314560000,) strides=None]\" source_file=\"/var/tmp/ipykernel_2510908/1262146475.py\" source_line=9\n\t\tXLA Label: fusion\n\t\tShape: u32[157280000]\n\t\t==========================\n\n\tBuffer 5:\n\t\tSize: 599.98MiB\n\t\tOperator: op_name=\"jit(_gumbel)/jit(main)/jit(_uniform)/slice[start_indices=(0,) limit_indices=(157280000,) strides=None]\" source_file=\"/var/tmp/ipykernel_2510908/1262146475.py\" source_line=9\n\t\tXLA Label: fusion\n\t\tShape: u32[157280000]\n\t\t==========================\n\n\tBuffer 6:\n\t\tSize: 599.98MiB\n\t\tOperator: op_name=\"jit(_gumbel)/jit(main)/jit(_uniform)/threefry2x32\" source_file=\"/var/tmp/ipykernel_2510908/1262146475.py\" source_line=9\n\t\tXLA Label: fusion\n\t\tShape: u32[157280000]\n\t\t==========================\n\n\tBuffer 7:\n\t\tSize: 16B\n\t\tOperator: op_name=\"jit(_gumbel)/jit(main)/jit(_uniform)/threefry2x32\" source_file=\"/var/tmp/ipykernel_2510908/1262146475.py\" source_line=9\n\t\tXLA Label: fusion\n\t\tShape: (u32[157280000], u32[157280000])\n\t\t==========================\n\n\tBuffer 8:\n\t\tSize: 16B\n\t\tOperator: op_name=\"jit(_gumbel)/jit(main)/jit(_uniform)/threefry2x32\" source_file=\"/var/tmp/ipykernel_2510908/1262146475.py\" source_line=9\n\t\tXLA Label: custom-call\n\t\tShape: (u32[157280000], u32[157280000])\n\t\t==========================\n\n\tBuffer 9:\n\t\tSize: 8B\n\t\tEntry Parameter Subshape: u32[2]\n\t\t==========================\n\n"
     ]
    }
   ],
   "source": [
    "key = keysplit(key)\n",
    "n = 20_000\n",
    "xs, cs, _ = uniformly_sample_from_mesh(key, n, mesh, with_color=True)"
   ]
  },
  {
   "cell_type": "code",
   "execution_count": null,
   "metadata": {},
   "outputs": [
    {
     "data": {
      "text/plain": [
       "Array([0.10881377, 0.17832696, 0.0365523 ], dtype=float32)"
      ]
     },
     "execution_count": 15,
     "metadata": {},
     "output_type": "execute_result"
    }
   ],
   "source": [
    "jnp.max(xs, axis=0) - jnp.min(xs, axis=0)"
   ]
  },
  {
   "cell_type": "code",
   "execution_count": null,
   "metadata": {},
   "outputs": [
    {
     "data": {
      "text/plain": [
       "True"
      ]
     },
     "execution_count": 41,
     "metadata": {},
     "output_type": "execute_result"
    }
   ],
   "source": [
    " import numpy as np\n",
    "from sklearn.mixture import GaussianMixture\n",
    "\n",
    "key = keysplit(key)\n",
    "sig = 0.0; \n",
    "# sig = 2*1e-3;\n",
    "n_components = 50\n",
    "means_init = np.array(uniformly_sample_from_mesh(key, n_components, mesh, with_color=False)[0]);\n",
    "X = xs + np.random.randn(*xs.shape)*sig\n",
    "# gm = GaussianMixture(n_components=n_components, tol=1e-3, max_iter=100, covariance_type=\"spherical\").fit(X)\n",
    "gm = GaussianMixture(n_components=n_components, tol=1e-3, max_iter=100, covariance_type=\"full\", means_init=means_init).fit(X)\n",
    "gm.means_.shape\n",
    "vs = gm.score_samples(X)\n",
    "\n",
    "gm.converged_"
   ]
  },
  {
   "cell_type": "code",
   "execution_count": 42,
   "metadata": {},
   "outputs": [
    {
     "data": {
      "text/plain": [
       "50"
      ]
     },
     "execution_count": 42,
     "metadata": {},
     "output_type": "execute_result"
    }
   ],
   "source": [
    "gm.n_components"
   ]
  },
  {
   "cell_type": "code",
   "execution_count": 43,
   "metadata": {},
   "outputs": [],
   "source": [
    "def get_cluster_counts(n, labels):\n",
    "    nums = []\n",
    "    for label in range(n):\n",
    "        idx = labels == label\n",
    "        nums.append(np.sum(idx))\n",
    "    return np.array(nums)"
   ]
  },
  {
   "cell_type": "code",
   "execution_count": 44,
   "metadata": {},
   "outputs": [],
   "source": [
    "def get_colors(xs, cs, n, labels):\n",
    "    colors = []\n",
    "    nums   = []\n",
    "    for label in range(n):\n",
    "        idx = labels == label\n",
    "        nums.append(np.sum(idx))\n",
    "        colors.append(cs[idx])\n",
    "    return colors, np.array(nums)"
   ]
  },
  {
   "cell_type": "code",
   "execution_count": 45,
   "metadata": {},
   "outputs": [],
   "source": [
    "def get_mean_colors(xs, cs, n, labels):\n",
    "    mean_colors = []\n",
    "    nums        = []\n",
    "    for label in range(n):\n",
    "        idx = labels == label\n",
    "        nums.append(np.sum(idx))\n",
    "        if np.sum(idx) == 0: \n",
    "            mean_colors.append(np.array([0.5,0.5,0.5, 0.0]))\n",
    "        else:                \n",
    "            mean_colors.append(np.mean(cs[idx], axis=0))\n",
    "    return np.array(mean_colors), np.array(nums)\n",
    "    "
   ]
  },
  {
   "cell_type": "markdown",
   "metadata": {},
   "source": [
    "## Visualize"
   ]
  },
  {
   "cell_type": "code",
   "execution_count": 46,
   "metadata": {},
   "outputs": [],
   "source": [
    "import json"
   ]
  },
  {
   "cell_type": "code",
   "execution_count": 47,
   "metadata": {},
   "outputs": [
    {
     "name": "stdout",
     "output_type": "stream",
     "text": [
      "response:  listener_identifiers: \"2023-11-21T12:57:37.975145 :: ipv4:127.0.0.1:55110\"\n",
      "\n"
     ]
    }
   ],
   "source": [
    "msg = viz_pb2.Message()\n",
    "msg.payload.json = json.dumps({\"type\": \"setup\"})\n",
    "msg.payload.data.MergeFrom(traceviz.client.to_pytree_msg([]))\n",
    "stub = traceviz.client.connect()\n",
    "print('response: ', stub.Broadcast(msg))\n"
   ]
  },
  {
   "cell_type": "code",
   "execution_count": 48,
   "metadata": {},
   "outputs": [],
   "source": [
    "def covariance_sq_decomposition(Cov):\n",
    "    \"\"\"Returns scales and quaternion from covariance matrix.\"\"\"\n",
    "    lambdas, Q = jnp.linalg.eigh(Cov)\n",
    "    return jnp.sqrt(lambdas), Rot.from_matrix(Q).as_quat()\n",
    "\n",
    "\n",
    "def ellipsoid_embedding(Cov):\n",
    "    \"\"\"Returns A with cov = A@A.T\"\"\"\n",
    "    sigma, U = jnp.linalg.eigh(Cov)\n",
    "    D = jnp.diag(jnp.sqrt(sigma))\n",
    "    return U @ D @ jnp.linalg.inv(U)\n"
   ]
  },
  {
   "cell_type": "code",
   "execution_count": 49,
   "metadata": {},
   "outputs": [
    {
     "data": {
      "text/plain": [
       "((50, 4), (50,))"
      ]
     },
     "execution_count": 49,
     "metadata": {},
     "output_type": "execute_result"
    }
   ],
   "source": [
    "mus  = gm.means_\n",
    "covs = gm.covariances_\n",
    "choleskys = vmap(ellipsoid_embedding)(gm.covariances_)\n",
    "\n",
    "mean_colors, nums = get_mean_colors(X, cs, gm.n_components, gm.predict(X))\n",
    "mean_colors.shape, nums.shape"
   ]
  },
  {
   "cell_type": "code",
   "execution_count": 50,
   "metadata": {},
   "outputs": [
    {
     "data": {
      "text/plain": [
       "Array([[ 9.9999982e-01,  4.4703484e-08, -1.2805685e-09],\n",
       "       [ 4.4703484e-08,  1.0000001e+00,  1.8626451e-09],\n",
       "       [-1.2805685e-09,  1.8626451e-09,  1.0000000e+00]], dtype=float32)"
      ]
     },
     "execution_count": 50,
     "metadata": {},
     "output_type": "execute_result"
    }
   ],
   "source": [
    "lambdas, Q = jnp.linalg.eigh(covs[0])\n",
    "Q@Q.T"
   ]
  },
  {
   "cell_type": "code",
   "execution_count": 51,
   "metadata": {},
   "outputs": [],
   "source": [
    "def pack_transform(x, A, scale=1.0):\n",
    "    B = scale*A\n",
    "    return jnp.array([\n",
    "        [B[0,0], B[0,1], B[0,2], x[0]], \n",
    "        [B[1,0], B[1,1], B[1,2], x[1]],\n",
    "        [B[2,0], B[2,1], B[2,2], x[2]],\n",
    "        [0.0, 0.0, 0.0, 1.0]\n",
    "    ]).T\n",
    "\n",
    "transforms = vmap(pack_transform, (0,0,None))(mus, choleskys, 2.0)"
   ]
  },
  {
   "cell_type": "code",
   "execution_count": null,
   "metadata": {},
   "outputs": [],
   "source": []
  },
  {
   "cell_type": "code",
   "execution_count": null,
   "metadata": {},
   "outputs": [],
   "source": [
    "jnp.savez(\"data/gaussians_banana.npz\", mus=mus, covs=covs, choleskys=choleskys, mean_colors=mean_colors, nums=nums)"
   ]
  },
  {
   "cell_type": "code",
   "execution_count": 1,
   "metadata": {},
   "outputs": [
    {
     "ename": "NameError",
     "evalue": "name 'viz_pb2' is not defined",
     "output_type": "error",
     "traceback": [
      "\u001b[0;31m---------------------------------------------------------------------------\u001b[0m",
      "\u001b[0;31mNameError\u001b[0m                                 Traceback (most recent call last)",
      "\u001b[1;32m/home/mirko/workspace/bayes3d/scripts/_mkl/notebooks/05 - Trimesh to Gaussians.ipynb Cell 36\u001b[0m line \u001b[0;36m1\n\u001b[0;32m----> <a href='vscode-notebook-cell://ssh-remote%2Bchi-sight-instance-1.us-west1-b.chi-sight-mkl/home/mirko/workspace/bayes3d/scripts/_mkl/notebooks/05%20-%20Trimesh%20to%20Gaussians.ipynb#X50sdnNjb2RlLXJlbW90ZQ%3D%3D?line=0'>1</a>\u001b[0m msg \u001b[39m=\u001b[39m viz_pb2\u001b[39m.\u001b[39mMessage()\n\u001b[1;32m      <a href='vscode-notebook-cell://ssh-remote%2Bchi-sight-instance-1.us-west1-b.chi-sight-mkl/home/mirko/workspace/bayes3d/scripts/_mkl/notebooks/05%20-%20Trimesh%20to%20Gaussians.ipynb#X50sdnNjb2RlLXJlbW90ZQ%3D%3D?line=1'>2</a>\u001b[0m msg\u001b[39m.\u001b[39mpayload\u001b[39m.\u001b[39mjson \u001b[39m=\u001b[39m json\u001b[39m.\u001b[39mdumps({\u001b[39m\"\u001b[39m\u001b[39mtype\u001b[39m\u001b[39m\"\u001b[39m: \u001b[39m\"\u001b[39m\u001b[39msetup\u001b[39m\u001b[39m\"\u001b[39m})\n\u001b[1;32m      <a href='vscode-notebook-cell://ssh-remote%2Bchi-sight-instance-1.us-west1-b.chi-sight-mkl/home/mirko/workspace/bayes3d/scripts/_mkl/notebooks/05%20-%20Trimesh%20to%20Gaussians.ipynb#X50sdnNjb2RlLXJlbW90ZQ%3D%3D?line=2'>3</a>\u001b[0m msg\u001b[39m.\u001b[39mpayload\u001b[39m.\u001b[39mdata\u001b[39m.\u001b[39mMergeFrom(traceviz\u001b[39m.\u001b[39mclient\u001b[39m.\u001b[39mto_pytree_msg([]))\n",
      "\u001b[0;31mNameError\u001b[0m: name 'viz_pb2' is not defined"
     ]
    }
   ],
   "source": [
    "msg = viz_pb2.Message()\n",
    "msg.payload.json = json.dumps({\"type\": \"setup\"})\n",
    "msg.payload.data.MergeFrom(traceviz.client.to_pytree_msg([]))\n",
    "stub = traceviz.client.connect()\n",
    "print('response: ', stub.Broadcast(msg))\n",
    "\n",
    "\n",
    "msg = viz_pb2.Message()\n",
    "msg.payload.json = json.dumps({\"type\": \"Gaussians2\"})\n",
    "msg.payload.data.MergeFrom(\n",
    "    traceviz.client.to_pytree_msg({\n",
    "        'transforms': np.array(transforms )[nums>0], \n",
    "        'colors':     np.array(mean_colors)[nums>0]  \n",
    "    })\n",
    ")\n",
    "    \n",
    "stub = traceviz.client.connect()\n",
    "print('response: ', stub.Broadcast(msg))\n"
   ]
  },
  {
   "cell_type": "code",
   "execution_count": 232,
   "metadata": {},
   "outputs": [
    {
     "name": "stdout",
     "output_type": "stream",
     "text": [
      "response:  listener_identifiers: \"2023-11-15T14:39:07.745000 :: ipv4:127.0.0.1:48652\"\n",
      "\n"
     ]
    }
   ],
   "source": [
    "msg = viz_pb2.Message()\n",
    "msg.payload.json = json.dumps({\"type\": \"setup\"})\n",
    "msg.payload.data.MergeFrom(traceviz.client.to_pytree_msg([]))\n",
    "stub = traceviz.client.connect()\n",
    "print('response: ', stub.Broadcast(msg))\n"
   ]
  },
  {
   "cell_type": "code",
   "execution_count": 233,
   "metadata": {},
   "outputs": [
    {
     "data": {
      "image/png": "[encoded data removed]",
      "text/html": [
       "<div style=\"vertical-align: middle;\"><strong>cool</strong> </div><div class=\"cmap\"><img alt=\"cool colormap\" title=\"cool\" style=\"border: 1px solid #555;\" src=\"data:image/png;base64,iVBORw0KGgoAAAANSUhEUgAAAgAAAABACAYAAABsv8+/AAAAE3RFWHRUaXRsZQBjb29sIGNvbG9ybWFwN9+MxQAAABl0RVh0RGVzY3JpcHRpb24AY29vbCBjb2xvcm1hcLxtHF0AAAAwdEVYdEF1dGhvcgBNYXRwbG90bGliIHYzLjguMSwgaHR0cHM6Ly9tYXRwbG90bGliLm9yZzr4aEEAAAAydEVYdFNvZnR3YXJlAE1hdHBsb3RsaWIgdjMuOC4xLCBodHRwczovL21hdHBsb3RsaWIub3JnFF73ZgAAAWBJREFUeJzt1rEKg0AURcGn///NbhorKwWFwJlplhB2LyTN2WatNTOzrZnyOee5v/X9cZ7z0fsv79/duf07Xvbf+h/sf7v/+nvH5fPD+/b/bP/pO9d7D+/b/3Z/HwAgRwAAQJAAAIAgAQAAQQIAAIIEAAAECQAACBIAABAkAAAgSAAAQJAAAIAgAQAAQQIAAIIEAAAECQAACBIAABAkAAAgSAAAQJAAAIAgAQAAQQIAAIIEAAAECQAACBIAABAkAAAgSAAAQJAAAIAgAQAAQQIAAIIEAAAECQAACBIAABAkAAAgSAAAQJAAAIAgAQAAQQIAAIIEAAAECQAACBIAABAkAAAgSAAAQJAAAIAgAQAAQQIAAIIEAAAECQAACBIAABAkAAAgSAAAQJAAAIAgAQAAQQIAAIIEAAAECQAACBIAABAkAAAgSAAAQJAAAIAgAQAAQQIAAIIEAAAECQAACPoBsqPsfeghrZ0AAAAASUVORK5CYII=\"></div><div style=\"vertical-align: middle; max-width: 514px; display: flex; justify-content: space-between;\"><div style=\"float: left;\"><div title=\"#00ffffff\" style=\"display: inline-block; width: 1em; height: 1em; margin: 0; vertical-align: middle; border: 1px solid #555; background-color: #00ffffff;\"></div> under</div><div style=\"margin: 0 auto; display: inline-block;\">bad <div title=\"#00000000\" style=\"display: inline-block; width: 1em; height: 1em; margin: 0; vertical-align: middle; border: 1px solid #555; background-color: #00000000;\"></div></div><div style=\"float: right;\">over <div title=\"#ff00ffff\" style=\"display: inline-block; width: 1em; height: 1em; margin: 0; vertical-align: middle; border: 1px solid #555; background-color: #ff00ffff;\"></div></div>"
      ],
      "text/plain": [
       "<matplotlib.colors.LinearSegmentedColormap at 0x7fbf52349bd0>"
      ]
     },
     "execution_count": 233,
     "metadata": {},
     "output_type": "execute_result"
    }
   ],
   "source": [
    "\n",
    "\n",
    "cm  = getattr(plt.cm, \"cool\")\n",
    "# cs  = cm(plt.Normalize()(vs_))\n",
    "cm"
   ]
  },
  {
   "cell_type": "code",
   "execution_count": 171,
   "metadata": {},
   "outputs": [
    {
     "ename": "NameError",
     "evalue": "name 'texvis' is not defined",
     "output_type": "error",
     "traceback": [
      "\u001b[0;31m---------------------------------------------------------------------------\u001b[0m",
      "\u001b[0;31mNameError\u001b[0m                                 Traceback (most recent call last)",
      "\u001b[1;32m/home/mirko/workspace/bayes3d/scripts/_mkl/notebooks/05 - Trimesh to Gaussians.ipynb Cell 30\u001b[0m line \u001b[0;36m3\n\u001b[1;32m      <a href='vscode-notebook-cell://ssh-remote%2Bchi-sight-instance-1.us-west1-b.chi-sight-mkl/home/mirko/workspace/bayes3d/scripts/_mkl/notebooks/05%20-%20Trimesh%20to%20Gaussians.ipynb#X54sdnNjb2RlLXJlbW90ZQ%3D%3D?line=0'>1</a>\u001b[0m key \u001b[39m=\u001b[39m keysplit(key)\n\u001b[1;32m      <a href='vscode-notebook-cell://ssh-remote%2Bchi-sight-instance-1.us-west1-b.chi-sight-mkl/home/mirko/workspace/bayes3d/scripts/_mkl/notebooks/05%20-%20Trimesh%20to%20Gaussians.ipynb#X54sdnNjb2RlLXJlbW90ZQ%3D%3D?line=1'>2</a>\u001b[0m xs_, cs_, _ \u001b[39m=\u001b[39m uniformly_sample_from_mesh(key, \u001b[39m15_000\u001b[39m, mesh\u001b[39m.\u001b[39mfaces, mesh\u001b[39m.\u001b[39mvertices, \n\u001b[0;32m----> <a href='vscode-notebook-cell://ssh-remote%2Bchi-sight-instance-1.us-west1-b.chi-sight-mkl/home/mirko/workspace/bayes3d/scripts/_mkl/notebooks/05%20-%20Trimesh%20to%20Gaussians.ipynb#X54sdnNjb2RlLXJlbW90ZQ%3D%3D?line=2'>3</a>\u001b[0m                 texture_uv\u001b[39m=\u001b[39mtexvis\u001b[39m.\u001b[39muv, uv_to_color\u001b[39m=\u001b[39mtexvis\u001b[39m.\u001b[39mmaterial\u001b[39m.\u001b[39mto_color)\n",
      "\u001b[0;31mNameError\u001b[0m: name 'texvis' is not defined"
     ]
    }
   ],
   "source": [
    "key = keysplit(key)\n",
    "xs_, cs_, _ = uniformly_sample_from_mesh(key, 15_000, mesh.faces, mesh.vertices, \n",
    "                texture_uv=texvis.uv, uv_to_color=texvis.material.to_color)\n",
    "\n",
    "# labels_ = gm.predict(xs_)\n",
    "# cols_ = mean_colors[labels_]\n",
    "# cs_.shape, cols_.shape\n",
    "\n",
    "\n",
    "\n",
    "# distances = np.linalg.norm(cs_ - cols_, axis=1)\n",
    "# print(distances.shape)\n",
    "# print(np.min(distances), np.max(distances))\n",
    "# cs_  = cm(plt.Normalize()(distances))\n",
    "# cs_.shape"
   ]
  },
  {
   "cell_type": "code",
   "execution_count": 148,
   "metadata": {},
   "outputs": [
    {
     "ename": "NameError",
     "evalue": "name 'xs_' is not defined",
     "output_type": "error",
     "traceback": [
      "\u001b[0;31m---------------------------------------------------------------------------\u001b[0m",
      "\u001b[0;31mNameError\u001b[0m                                 Traceback (most recent call last)",
      "\u001b[1;32m/home/mirko/workspace/bayes3d/scripts/_mkl/notebooks/05 - Trimesh to Gaussians.ipynb Cell 31\u001b[0m line \u001b[0;36m1\n\u001b[0;32m----> <a href='vscode-notebook-cell://ssh-remote%2Bchi-sight-instance-1.us-west1-b.chi-sight-mkl/home/mirko/workspace/bayes3d/scripts/_mkl/notebooks/05%20-%20Trimesh%20to%20Gaussians.ipynb#X55sdnNjb2RlLXJlbW90ZQ%3D%3D?line=0'>1</a>\u001b[0m \u001b[39mprint\u001b[39m(xs_\u001b[39m.\u001b[39mshape, cs_\u001b[39m.\u001b[39mshape)\n\u001b[1;32m      <a href='vscode-notebook-cell://ssh-remote%2Bchi-sight-instance-1.us-west1-b.chi-sight-mkl/home/mirko/workspace/bayes3d/scripts/_mkl/notebooks/05%20-%20Trimesh%20to%20Gaussians.ipynb#X55sdnNjb2RlLXJlbW90ZQ%3D%3D?line=3'>4</a>\u001b[0m msg \u001b[39m=\u001b[39m viz_pb2\u001b[39m.\u001b[39mMessage()\n\u001b[1;32m      <a href='vscode-notebook-cell://ssh-remote%2Bchi-sight-instance-1.us-west1-b.chi-sight-mkl/home/mirko/workspace/bayes3d/scripts/_mkl/notebooks/05%20-%20Trimesh%20to%20Gaussians.ipynb#X55sdnNjb2RlLXJlbW90ZQ%3D%3D?line=4'>5</a>\u001b[0m msg\u001b[39m.\u001b[39mpayload\u001b[39m.\u001b[39mjson \u001b[39m=\u001b[39m json\u001b[39m.\u001b[39mdumps({\u001b[39m\"\u001b[39m\u001b[39mtype\u001b[39m\u001b[39m\"\u001b[39m: \u001b[39m\"\u001b[39m\u001b[39mSpheres\u001b[39m\u001b[39m\"\u001b[39m})\n",
      "\u001b[0;31mNameError\u001b[0m: name 'xs_' is not defined"
     ]
    }
   ],
   "source": [
    "\n",
    "\n",
    "print(xs_.shape, cs_.shape)\n",
    "\n",
    "\n",
    "msg = viz_pb2.Message()\n",
    "msg.payload.json = json.dumps({\"type\": \"Spheres\"})\n",
    "msg.payload.data.MergeFrom(\n",
    "    traceviz.client.to_pytree_msg({\n",
    "        'centers': np.array(xs_), \n",
    "        'colors': np.array(cs_), \n",
    "        \"scales\": 0.025*np.ones(len(xs_))\n",
    "    })\n",
    ")\n",
    "    \n",
    "\n",
    "stub = traceviz.client.connect()\n",
    "print('response: ', stub.Broadcast(msg))\n"
   ]
  },
  {
   "cell_type": "markdown",
   "metadata": {},
   "source": [
    "\n"
   ]
  }
 ],
 "metadata": {
  "kernelspec": {
   "display_name": "bayes3d",
   "language": "python",
   "name": "python3"
  },
  "language_info": {
   "codemirror_mode": {
    "name": "ipython",
    "version": 3
   },
   "file_extension": ".py",
   "mimetype": "text/x-python",
   "name": "python",
   "nbconvert_exporter": "python",
   "pygments_lexer": "ipython3",
   "version": "3.11.6"
  },
  "orig_nbformat": 4
 },
 "nbformat": 4,
 "nbformat_minor": 2
}
